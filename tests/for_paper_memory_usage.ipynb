{
 "cells": [
  {
   "cell_type": "markdown",
   "metadata": {
    "pycharm": {
     "name": "#%% md\n"
    }
   },
   "source": [
    "# For paper compare memory usage lx1, lx2"
   ]
  },
  {
   "cell_type": "code",
   "execution_count": 10,
   "metadata": {
    "pycharm": {
     "name": "#%%\n"
    }
   },
   "outputs": [],
   "source": [
    "import shutil\n",
    "from pathlib import Path\n",
    "from utils import (\n",
    "    expected_ms_path,\n",
    "    expected_lx2ms_path,\n",
    "    make_masterscan,\n",
    "    proy_path,\n",
    "    read_options,\n",
    ")\n",
    "from LX2_masterscan import *"
   ]
  },
  {
   "cell_type": "code",
   "execution_count": 3,
   "metadata": {
    "pycharm": {
     "name": "#%%\n"
    }
   },
   "outputs": [],
   "source": [
    "# as in https://jakevdp.github.io/PythonDataScienceHandbook/01.07-timing-and-profiling.html\n",
    "%load_ext memory_profiler"
   ]
  },
  {
   "cell_type": "code",
   "execution_count": 4,
   "metadata": {
    "pycharm": {
     "name": "#%%\n"
    }
   },
   "outputs": [
    {
     "name": "stdout",
     "output_type": "stream",
     "text": [
      "sameple number vs time chart\n"
     ]
    }
   ],
   "source": [
    "print(\"sameple number vs time chart\")\n",
    "left_sc_path = r\"D:\\fork\\lipidxplorer-evaluation\\190731_benchmark_data_files_infos\\190731_mzML_no_zlib\\for_paper_lipidxplorer128.lxp\"\n",
    "options = read_options(left_sc_path)\n",
    "options[\n",
    "    \"importDir\"\n",
    "] = r\"D:\\fork\\lipidxplorer-evaluation\\190731_benchmark_data_files_infos\\perf_test\"\n",
    "\n",
    "options['MSfilter'] = 0.7\n",
    "options['MSMSfilter'] = 0.7\n",
    "p = Path(options[\"importDir\"])"
   ]
  },
  {
   "cell_type": "code",
   "execution_count": 5,
   "metadata": {
    "pycharm": {
     "name": "#%%\n"
    }
   },
   "outputs": [
    {
     "data": {
      "text/plain": [
       "{'setting': 1.0, 'selectionWindow': 0.4, 'MStolerance': 2.00 ppm, 'MSMStolerance': 2.00 ppm, 'MSresolution': 5.00 ppm, 'MSMSresolution': 11.11 ppm, 'MSresolutionDelta': -100.0, 'MSMSresolutionDelta': -90.0, 'MSthreshold': 0.0001, 'MSMSthreshold': 0.0001, 'MSminOccupation': 0.5, 'MSMSminOccupation': 0.5, 'precursorMassShift': 0.0, 'precursorMassShiftOrbi': 0.0, 'MSfilter': 0.7, 'MSMSfilter': 0.7, 'loopNr': 3, 'importMSMS': True, 'pisSpectra': False, 'isotopicCorrection_MSMS': False, 'removeIsotopes': True, 'isotopesInMasterScan': False, 'monoisotopicCorrection': False, 'relativeIntensity': False, 'logMemory': False, 'intensityCorrection': False, 'masterScanInSQL': False, 'sumFattyAcids': False, 'isotopicCorrectionMS': True, 'isotopicCorrectionMSMS': True, 'complementMasterScan': False, 'noHead': False, 'compress': False, 'tabLimited': False, 'dumpMasterScan': False, 'statistics': False, 'noPermutations': True, 'settingsPrefix': False, 'timerange': (33.0, 1080.0), 'MScalibration': [680.4802], 'MSmassrange': (360.0, 1000.0), 'MSMSmassrange': (150.0, 1000.0), 'MStoleranceType': 'ppm', 'MSMStoleranceType': 'ppm', 'alignmentMethodMS': 'linear', 'alignmentMethodMSMS': 'linear', 'scanAveragingMethod': 'linear', 'masterScanFileImport': 'D:\\\\fork\\\\lipidxplorer-evaluation\\\\190731_benchmark_data_files_infos\\\\190731_mzML_no_zlib\\\\for_paper.sc', 'masterScanFileRun': 'D:\\\\fork\\\\lipidxplorer-evaluation\\\\190731_benchmark_data_files_infos\\\\190731_mzML_no_zlib\\\\190731_mzML_no_zlib.sc', 'dumpMasterScanFile': 'D:\\\\fork\\\\lipidxplorer-evaluation\\\\190731_benchmark_data_files_infos\\\\190731_mzML_no_zlib\\\\190731_mzML_no_zlib-dump.csv', 'complementMasterScanFile': 'D:\\\\fork\\\\lipidxplorer-evaluation\\\\190731_benchmark_data_files_infos\\\\190731_mzML_no_zlib\\\\190731_mzML_no_zlib-complement.csv', 'importDir': 'D:\\\\fork\\\\lipidxplorer-evaluation\\\\190731_benchmark_data_files_infos\\\\perf_test', 'masterScanRun': 'D:\\\\fork\\\\lipidxplorer-evaluation\\\\190731_benchmark_data_files_infos\\\\190731_mzML_no_zlib\\\\190731_mzML_no_zlib.sc', 'masterScanImport': 'D:\\\\fork\\\\lipidxplorer-evaluation\\\\190731_benchmark_data_files_infos\\\\190731_mzML_no_zlib\\\\for_paper.sc', 'dataType': 'mzML', 'ini': 'D:\\\\fork\\\\lipidxplorer-evaluation\\\\190731_benchmark_data_files_infos\\\\lpdxImportSettings_benchmark.ini', 'MSMScalibration': '', 'MSthresholdType': 'relative', 'MSMSthresholdType': 'relative', 'intensityCorrectionPrecursor': '', 'intensityCorrectionFragment': '', 'resultFile': 'D:\\\\fork\\\\lipidxplorer-evaluation\\\\190731_benchmark_data_files_infos\\\\190731_mzML_no_zlib\\\\190731_mzML_no_zlib-out.csv', 'optionalMStolerance': '', 'optionalMSMStolerance': '', 'optionalMStoleranceType': '', 'optionalMSMStoleranceType': '', 'optionalMSthreshold': 'None', 'optionalMSMSthreshold': 'None', 'optionalMSthresholdType': 'None', 'optionalMSMSthresholdType': 'None', 'mzXML': 'None', 'spectraFormat': 'mzML'}"
      ]
     },
     "execution_count": 5,
     "metadata": {},
     "output_type": "execute_result"
    }
   ],
   "source": [
    "options"
   ]
  },
  {
   "cell_type": "code",
   "execution_count": null,
   "metadata": {
    "pycharm": {
     "name": "#%%\n"
    }
   },
   "outputs": [],
   "source": [
    "%memit make_lx2_masterscan(options)"
   ]
  },
  {
   "cell_type": "code",
   "execution_count": null,
   "metadata": {
    "pycharm": {
     "name": "#%%\n"
    }
   },
   "outputs": [],
   "source": [
    "%memit make_masterscan(options)"
   ]
  },
  {
   "cell_type": "code",
   "execution_count": null,
   "metadata": {
    "pycharm": {
     "name": "#%%\n"
    }
   },
   "outputs": [],
   "source": [
    "# make 5 more files\n",
    "mzmls = list(p.glob(\"*.mzml\"))\n",
    "for idx, f in enumerate(mzmls[:5]):\n",
    "    counter = len(mzmls) + idx\n",
    "    newname = \"duplicate_file\" + str(counter) + \".mzML\"\n",
    "    shutil.copy(f, f.with_name(newname))\n",
    "print(len(mzmls))"
   ]
  },
  {
   "cell_type": "code",
   "execution_count": 6,
   "metadata": {
    "pycharm": {
     "name": "#%%\n"
    }
   },
   "outputs": [],
   "source": [
    "def opts2kwargs(options):\n",
    "    time_range = options[\"timerange\"]\n",
    "    ms1_mass_range = options[\"MSmassrange\"]\n",
    "    ms2_mass_range = options[\"MSMSmassrange\"]\n",
    "    return (*time_range, *ms1_mass_range, *ms2_mass_range)"
   ]
  },
  {
   "cell_type": "code",
   "execution_count": 13,
   "metadata": {
    "pycharm": {
     "name": "#%%\n"
    }
   },
   "outputs": [],
   "source": [
    "mzml = mzml_paths(options)[0]"
   ]
  },
  {
   "cell_type": "code",
   "execution_count": 15,
   "metadata": {
    "pycharm": {
     "name": "#%%\n"
    }
   },
   "outputs": [
    {
     "name": "stdout",
     "output_type": "stream",
     "text": [
      "[15:38:50] {ms_deisotope.data_source.scan.loader:376} INFO - Disposing of MzMLLoader('D:\\\\fork\\\\lipidxplorer-evaluation\\\\190731_benchmark_data_files_infos\\\\perf_test\\\\190321_Serum_Lipidextract_368723_01.mzML') with 2 extant scans attached to it.\n",
      "[15:38:51] {LX2_masterscan:240} INFO - spectra 190321_Serum_Lipidextract_368723_01, size: (408517, 7)\n"
     ]
    }
   ],
   "source": [
    "df = path2df(mzml, *opts2kwargs(options))"
   ]
  },
  {
   "cell_type": "code",
   "execution_count": 16,
   "metadata": {
    "pycharm": {
     "name": "#%%\n"
    }
   },
   "outputs": [
    {
     "data": {
      "text/html": [
       "<div>\n",
       "<style scoped>\n",
       "    .dataframe tbody tr th:only-of-type {\n",
       "        vertical-align: middle;\n",
       "    }\n",
       "\n",
       "    .dataframe tbody tr th {\n",
       "        vertical-align: top;\n",
       "    }\n",
       "\n",
       "    .dataframe thead th {\n",
       "        text-align: right;\n",
       "    }\n",
       "</style>\n",
       "<table border=\"1\" class=\"dataframe\">\n",
       "  <thead>\n",
       "    <tr style=\"text-align: right;\">\n",
       "      <th></th>\n",
       "      <th>mz</th>\n",
       "      <th>inty</th>\n",
       "      <th>stem</th>\n",
       "      <th>scan_id</th>\n",
       "      <th>filter_string</th>\n",
       "      <th>precursor_id</th>\n",
       "      <th>precursor_mz</th>\n",
       "    </tr>\n",
       "  </thead>\n",
       "  <tbody>\n",
       "    <tr>\n",
       "      <th>272</th>\n",
       "      <td>360.181366</td>\n",
       "      <td>58195.660156</td>\n",
       "      <td>190321_Serum_Lipidextract_368723_01</td>\n",
       "      <td>controllerType=0 controllerNumber=1 scan=30</td>\n",
       "      <td>FTMS + p NSI Full ms [350.0000-1200.0000]</td>\n",
       "      <td>None</td>\n",
       "      <td>0.000000</td>\n",
       "    </tr>\n",
       "    <tr>\n",
       "      <th>279</th>\n",
       "      <td>360.232422</td>\n",
       "      <td>52769.242188</td>\n",
       "      <td>190321_Serum_Lipidextract_368723_01</td>\n",
       "      <td>controllerType=0 controllerNumber=1 scan=30</td>\n",
       "      <td>FTMS + p NSI Full ms [350.0000-1200.0000]</td>\n",
       "      <td>None</td>\n",
       "      <td>0.000000</td>\n",
       "    </tr>\n",
       "    <tr>\n",
       "      <th>286</th>\n",
       "      <td>360.253906</td>\n",
       "      <td>191489.125000</td>\n",
       "      <td>190321_Serum_Lipidextract_368723_01</td>\n",
       "      <td>controllerType=0 controllerNumber=1 scan=30</td>\n",
       "      <td>FTMS + p NSI Full ms [350.0000-1200.0000]</td>\n",
       "      <td>None</td>\n",
       "      <td>0.000000</td>\n",
       "    </tr>\n",
       "    <tr>\n",
       "      <th>293</th>\n",
       "      <td>360.321228</td>\n",
       "      <td>54923.062500</td>\n",
       "      <td>190321_Serum_Lipidextract_368723_01</td>\n",
       "      <td>controllerType=0 controllerNumber=1 scan=30</td>\n",
       "      <td>FTMS + p NSI Full ms [350.0000-1200.0000]</td>\n",
       "      <td>None</td>\n",
       "      <td>0.000000</td>\n",
       "    </tr>\n",
       "    <tr>\n",
       "      <th>294</th>\n",
       "      <td>360.324036</td>\n",
       "      <td>919011.000000</td>\n",
       "      <td>190321_Serum_Lipidextract_368723_01</td>\n",
       "      <td>controllerType=0 controllerNumber=1 scan=30</td>\n",
       "      <td>FTMS + p NSI Full ms [350.0000-1200.0000]</td>\n",
       "      <td>None</td>\n",
       "      <td>0.000000</td>\n",
       "    </tr>\n",
       "    <tr>\n",
       "      <th>...</th>\n",
       "      <td>...</td>\n",
       "      <td>...</td>\n",
       "      <td>...</td>\n",
       "      <td>...</td>\n",
       "      <td>...</td>\n",
       "      <td>...</td>\n",
       "      <td>...</td>\n",
       "    </tr>\n",
       "    <tr>\n",
       "      <th>790</th>\n",
       "      <td>686.437256</td>\n",
       "      <td>12311.453125</td>\n",
       "      <td>190321_Serum_Lipidextract_368723_01</td>\n",
       "      <td>controllerType=0 controllerNumber=1 scan=3070</td>\n",
       "      <td>FTMS + p NSI Full ms2 1042.8920@hcd30.00 [180....</td>\n",
       "      <td>controllerType=0 controllerNumber=1 scan=3060</td>\n",
       "      <td>1042.891968</td>\n",
       "    </tr>\n",
       "    <tr>\n",
       "      <th>797</th>\n",
       "      <td>705.502319</td>\n",
       "      <td>1621.440552</td>\n",
       "      <td>190321_Serum_Lipidextract_368723_01</td>\n",
       "      <td>controllerType=0 controllerNumber=1 scan=3070</td>\n",
       "      <td>FTMS + p NSI Full ms2 1042.8920@hcd30.00 [180....</td>\n",
       "      <td>controllerType=0 controllerNumber=1 scan=3060</td>\n",
       "      <td>1042.891968</td>\n",
       "    </tr>\n",
       "    <tr>\n",
       "      <th>804</th>\n",
       "      <td>749.507812</td>\n",
       "      <td>1349.754272</td>\n",
       "      <td>190321_Serum_Lipidextract_368723_01</td>\n",
       "      <td>controllerType=0 controllerNumber=1 scan=3070</td>\n",
       "      <td>FTMS + p NSI Full ms2 1042.8920@hcd30.00 [180....</td>\n",
       "      <td>controllerType=0 controllerNumber=1 scan=3060</td>\n",
       "      <td>1042.891968</td>\n",
       "    </tr>\n",
       "    <tr>\n",
       "      <th>811</th>\n",
       "      <td>823.701904</td>\n",
       "      <td>833.465759</td>\n",
       "      <td>190321_Serum_Lipidextract_368723_01</td>\n",
       "      <td>controllerType=0 controllerNumber=1 scan=3070</td>\n",
       "      <td>FTMS + p NSI Full ms2 1042.8920@hcd30.00 [180....</td>\n",
       "      <td>controllerType=0 controllerNumber=1 scan=3060</td>\n",
       "      <td>1042.891968</td>\n",
       "    </tr>\n",
       "    <tr>\n",
       "      <th>818</th>\n",
       "      <td>934.165161</td>\n",
       "      <td>997.902344</td>\n",
       "      <td>190321_Serum_Lipidextract_368723_01</td>\n",
       "      <td>controllerType=0 controllerNumber=1 scan=3070</td>\n",
       "      <td>FTMS + p NSI Full ms2 1042.8920@hcd30.00 [180....</td>\n",
       "      <td>controllerType=0 controllerNumber=1 scan=3060</td>\n",
       "      <td>1042.891968</td>\n",
       "    </tr>\n",
       "  </tbody>\n",
       "</table>\n",
       "<p>408517 rows × 7 columns</p>\n",
       "</div>"
      ],
      "text/plain": [
       "             mz           inty                                 stem  \\\n",
       "272  360.181366   58195.660156  190321_Serum_Lipidextract_368723_01   \n",
       "279  360.232422   52769.242188  190321_Serum_Lipidextract_368723_01   \n",
       "286  360.253906  191489.125000  190321_Serum_Lipidextract_368723_01   \n",
       "293  360.321228   54923.062500  190321_Serum_Lipidextract_368723_01   \n",
       "294  360.324036  919011.000000  190321_Serum_Lipidextract_368723_01   \n",
       "..          ...            ...                                  ...   \n",
       "790  686.437256   12311.453125  190321_Serum_Lipidextract_368723_01   \n",
       "797  705.502319    1621.440552  190321_Serum_Lipidextract_368723_01   \n",
       "804  749.507812    1349.754272  190321_Serum_Lipidextract_368723_01   \n",
       "811  823.701904     833.465759  190321_Serum_Lipidextract_368723_01   \n",
       "818  934.165161     997.902344  190321_Serum_Lipidextract_368723_01   \n",
       "\n",
       "                                           scan_id  \\\n",
       "272    controllerType=0 controllerNumber=1 scan=30   \n",
       "279    controllerType=0 controllerNumber=1 scan=30   \n",
       "286    controllerType=0 controllerNumber=1 scan=30   \n",
       "293    controllerType=0 controllerNumber=1 scan=30   \n",
       "294    controllerType=0 controllerNumber=1 scan=30   \n",
       "..                                             ...   \n",
       "790  controllerType=0 controllerNumber=1 scan=3070   \n",
       "797  controllerType=0 controllerNumber=1 scan=3070   \n",
       "804  controllerType=0 controllerNumber=1 scan=3070   \n",
       "811  controllerType=0 controllerNumber=1 scan=3070   \n",
       "818  controllerType=0 controllerNumber=1 scan=3070   \n",
       "\n",
       "                                         filter_string  \\\n",
       "272          FTMS + p NSI Full ms [350.0000-1200.0000]   \n",
       "279          FTMS + p NSI Full ms [350.0000-1200.0000]   \n",
       "286          FTMS + p NSI Full ms [350.0000-1200.0000]   \n",
       "293          FTMS + p NSI Full ms [350.0000-1200.0000]   \n",
       "294          FTMS + p NSI Full ms [350.0000-1200.0000]   \n",
       "..                                                 ...   \n",
       "790  FTMS + p NSI Full ms2 1042.8920@hcd30.00 [180....   \n",
       "797  FTMS + p NSI Full ms2 1042.8920@hcd30.00 [180....   \n",
       "804  FTMS + p NSI Full ms2 1042.8920@hcd30.00 [180....   \n",
       "811  FTMS + p NSI Full ms2 1042.8920@hcd30.00 [180....   \n",
       "818  FTMS + p NSI Full ms2 1042.8920@hcd30.00 [180....   \n",
       "\n",
       "                                      precursor_id  precursor_mz  \n",
       "272                                           None      0.000000  \n",
       "279                                           None      0.000000  \n",
       "286                                           None      0.000000  \n",
       "293                                           None      0.000000  \n",
       "294                                           None      0.000000  \n",
       "..                                             ...           ...  \n",
       "790  controllerType=0 controllerNumber=1 scan=3060   1042.891968  \n",
       "797  controllerType=0 controllerNumber=1 scan=3060   1042.891968  \n",
       "804  controllerType=0 controllerNumber=1 scan=3060   1042.891968  \n",
       "811  controllerType=0 controllerNumber=1 scan=3060   1042.891968  \n",
       "818  controllerType=0 controllerNumber=1 scan=3060   1042.891968  \n",
       "\n",
       "[408517 rows x 7 columns]"
      ]
     },
     "execution_count": 16,
     "metadata": {},
     "output_type": "execute_result"
    }
   ],
   "source": [
    "df"
   ]
  },
  {
   "cell_type": "code",
   "execution_count": 22,
   "metadata": {
    "pycharm": {
     "name": "#%%\n"
    }
   },
   "outputs": [
    {
     "data": {
      "text/plain": [
       "[680.4802]"
      ]
     },
     "execution_count": 22,
     "metadata": {},
     "output_type": "execute_result"
    }
   ],
   "source": [
    "ms2_calibration.groupby()"
   ]
  }
 ],
 "metadata": {
  "interpreter": {
   "hash": "dd2dc0883e3e52ae9befafd21e38d2af5267660941e4535445d12b41bacc5e12"
  },
  "kernelspec": {
   "display_name": "Python 3.7.5 ('lx128_p3_dev')",
   "language": "python",
   "name": "python3"
  },
  "language_info": {
   "codemirror_mode": {
    "name": "ipython",
    "version": 3
   },
   "file_extension": ".py",
   "mimetype": "text/x-python",
   "name": "python",
   "nbconvert_exporter": "python",
   "pygments_lexer": "ipython3",
   "version": "3.7.5"
  },
  "orig_nbformat": 4
 },
 "nbformat": 4,
 "nbformat_minor": 2
}