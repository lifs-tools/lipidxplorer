{
 "cells": [
  {
   "cell_type": "markdown",
   "metadata": {
    "pycharm": {
     "name": "#%% md\n"
    }
   },
   "source": [
    "# performance improvement lx2_masterscan"
   ]
  },
  {
   "cell_type": "code",
   "execution_count": 1,
   "metadata": {
    "pycharm": {
     "name": "#%%\n"
    }
   },
   "outputs": [
    {
     "name": "stdout",
     "output_type": "stream",
     "text": [
      "run\n"
     ]
    }
   ],
   "source": [
    "print('run')"
   ]
  },
  {
   "cell_type": "code",
   "execution_count": 18,
   "metadata": {
    "pycharm": {
     "name": "#%%\n"
    }
   },
   "outputs": [],
   "source": [
    "from LX2_masterscan import *\n",
    "from utils import read_options\n",
    "import hdbscan"
   ]
  },
  {
   "cell_type": "code",
   "execution_count": 3,
   "metadata": {
    "pycharm": {
     "name": "#%%\n"
    }
   },
   "outputs": [],
   "source": [
    "left_sc_path = r\"D:\\fork\\lipidxplorer-evaluation\\190731_benchmark_data_files_infos\\190731_mzML_no_zlib\\for_paper_lipidxplorer128.lxp\"\n",
    "options = read_options(left_sc_path)\n",
    "# options[\n",
    "#     \"importDir\"\n",
    "# ] = r\"D:\\fork\\lipidxplorer-evaluation\\190731_benchmark_data_files_infos\\perf_test\""
   ]
  },
  {
   "cell_type": "code",
   "execution_count": null,
   "metadata": {
    "pycharm": {
     "name": "#%%\n"
    }
   },
   "outputs": [],
   "source": [
    "make_lx_masterscan(options, lx_version =2)"
   ]
  },
  {
   "cell_type": "code",
   "execution_count": 5,
   "metadata": {
    "pycharm": {
     "name": "#%%\n"
    }
   },
   "outputs": [],
   "source": [
    "mzmls = mzml_paths(options)"
   ]
  },
  {
   "cell_type": "code",
   "execution_count": 6,
   "metadata": {
    "pycharm": {
     "name": "#%%\n"
    }
   },
   "outputs": [],
   "source": [
    "time_range = options[\"timerange\"]\n",
    "ms1_mass_range = options[\"MSmassrange\"]\n",
    "ms2_mass_range = options[\"MSMSmassrange\"]\n",
    "mzml = mzmls[0]"
   ]
  },
  {
   "cell_type": "code",
   "execution_count": 7,
   "metadata": {
    "pycharm": {
     "name": "#%%\n"
    }
   },
   "outputs": [
    {
     "name": "stdout",
     "output_type": "stream",
     "text": [
      "[14:34:08] {ms_deisotope.data_source.scan.loader:376} INFO - Disposing of MzMLLoader('D:\\\\fork\\\\lipidxplorer-evaluation\\\\190731_benchmark_data_files_infos\\\\190731_mzML_no_zlib\\\\190321_Serum_Lipidextract_368723_01.mzML') with 2 extant scans attached to it.\n",
      "[14:34:09] {LX2_masterscan:239} INFO - spectra 190321_Serum_Lipidextract_368723_01, size: (408517, 7)\n"
     ]
    }
   ],
   "source": [
    "df =path2df(mzml, *time_range, *ms1_mass_range, *ms2_mass_range)"
   ]
  },
  {
   "cell_type": "code",
   "execution_count": 8,
   "metadata": {
    "pycharm": {
     "name": "#%%\n"
    }
   },
   "outputs": [
    {
     "data": {
      "text/html": [
       "<div>\n",
       "<style scoped>\n",
       "    .dataframe tbody tr th:only-of-type {\n",
       "        vertical-align: middle;\n",
       "    }\n",
       "\n",
       "    .dataframe tbody tr th {\n",
       "        vertical-align: top;\n",
       "    }\n",
       "\n",
       "    .dataframe thead th {\n",
       "        text-align: right;\n",
       "    }\n",
       "</style>\n",
       "<table border=\"1\" class=\"dataframe\">\n",
       "  <thead>\n",
       "    <tr style=\"text-align: right;\">\n",
       "      <th></th>\n",
       "      <th>mz</th>\n",
       "      <th>inty</th>\n",
       "      <th>stem</th>\n",
       "      <th>scan_id</th>\n",
       "      <th>filter_string</th>\n",
       "      <th>precursor_id</th>\n",
       "      <th>precursor_mz</th>\n",
       "    </tr>\n",
       "  </thead>\n",
       "  <tbody>\n",
       "    <tr>\n",
       "      <th>272</th>\n",
       "      <td>360.181366</td>\n",
       "      <td>58195.660156</td>\n",
       "      <td>190321_Serum_Lipidextract_368723_01</td>\n",
       "      <td>controllerType=0 controllerNumber=1 scan=30</td>\n",
       "      <td>FTMS + p NSI Full ms [350.0000-1200.0000]</td>\n",
       "      <td>None</td>\n",
       "      <td>0.000000</td>\n",
       "    </tr>\n",
       "    <tr>\n",
       "      <th>279</th>\n",
       "      <td>360.232422</td>\n",
       "      <td>52769.242188</td>\n",
       "      <td>190321_Serum_Lipidextract_368723_01</td>\n",
       "      <td>controllerType=0 controllerNumber=1 scan=30</td>\n",
       "      <td>FTMS + p NSI Full ms [350.0000-1200.0000]</td>\n",
       "      <td>None</td>\n",
       "      <td>0.000000</td>\n",
       "    </tr>\n",
       "    <tr>\n",
       "      <th>286</th>\n",
       "      <td>360.253906</td>\n",
       "      <td>191489.125000</td>\n",
       "      <td>190321_Serum_Lipidextract_368723_01</td>\n",
       "      <td>controllerType=0 controllerNumber=1 scan=30</td>\n",
       "      <td>FTMS + p NSI Full ms [350.0000-1200.0000]</td>\n",
       "      <td>None</td>\n",
       "      <td>0.000000</td>\n",
       "    </tr>\n",
       "    <tr>\n",
       "      <th>293</th>\n",
       "      <td>360.321228</td>\n",
       "      <td>54923.062500</td>\n",
       "      <td>190321_Serum_Lipidextract_368723_01</td>\n",
       "      <td>controllerType=0 controllerNumber=1 scan=30</td>\n",
       "      <td>FTMS + p NSI Full ms [350.0000-1200.0000]</td>\n",
       "      <td>None</td>\n",
       "      <td>0.000000</td>\n",
       "    </tr>\n",
       "    <tr>\n",
       "      <th>294</th>\n",
       "      <td>360.324036</td>\n",
       "      <td>919011.000000</td>\n",
       "      <td>190321_Serum_Lipidextract_368723_01</td>\n",
       "      <td>controllerType=0 controllerNumber=1 scan=30</td>\n",
       "      <td>FTMS + p NSI Full ms [350.0000-1200.0000]</td>\n",
       "      <td>None</td>\n",
       "      <td>0.000000</td>\n",
       "    </tr>\n",
       "    <tr>\n",
       "      <th>...</th>\n",
       "      <td>...</td>\n",
       "      <td>...</td>\n",
       "      <td>...</td>\n",
       "      <td>...</td>\n",
       "      <td>...</td>\n",
       "      <td>...</td>\n",
       "      <td>...</td>\n",
       "    </tr>\n",
       "    <tr>\n",
       "      <th>790</th>\n",
       "      <td>686.437256</td>\n",
       "      <td>12311.453125</td>\n",
       "      <td>190321_Serum_Lipidextract_368723_01</td>\n",
       "      <td>controllerType=0 controllerNumber=1 scan=3070</td>\n",
       "      <td>FTMS + p NSI Full ms2 1042.8920@hcd30.00 [180....</td>\n",
       "      <td>controllerType=0 controllerNumber=1 scan=3060</td>\n",
       "      <td>1042.891968</td>\n",
       "    </tr>\n",
       "    <tr>\n",
       "      <th>797</th>\n",
       "      <td>705.502319</td>\n",
       "      <td>1621.440552</td>\n",
       "      <td>190321_Serum_Lipidextract_368723_01</td>\n",
       "      <td>controllerType=0 controllerNumber=1 scan=3070</td>\n",
       "      <td>FTMS + p NSI Full ms2 1042.8920@hcd30.00 [180....</td>\n",
       "      <td>controllerType=0 controllerNumber=1 scan=3060</td>\n",
       "      <td>1042.891968</td>\n",
       "    </tr>\n",
       "    <tr>\n",
       "      <th>804</th>\n",
       "      <td>749.507812</td>\n",
       "      <td>1349.754272</td>\n",
       "      <td>190321_Serum_Lipidextract_368723_01</td>\n",
       "      <td>controllerType=0 controllerNumber=1 scan=3070</td>\n",
       "      <td>FTMS + p NSI Full ms2 1042.8920@hcd30.00 [180....</td>\n",
       "      <td>controllerType=0 controllerNumber=1 scan=3060</td>\n",
       "      <td>1042.891968</td>\n",
       "    </tr>\n",
       "    <tr>\n",
       "      <th>811</th>\n",
       "      <td>823.701904</td>\n",
       "      <td>833.465759</td>\n",
       "      <td>190321_Serum_Lipidextract_368723_01</td>\n",
       "      <td>controllerType=0 controllerNumber=1 scan=3070</td>\n",
       "      <td>FTMS + p NSI Full ms2 1042.8920@hcd30.00 [180....</td>\n",
       "      <td>controllerType=0 controllerNumber=1 scan=3060</td>\n",
       "      <td>1042.891968</td>\n",
       "    </tr>\n",
       "    <tr>\n",
       "      <th>818</th>\n",
       "      <td>934.165161</td>\n",
       "      <td>997.902344</td>\n",
       "      <td>190321_Serum_Lipidextract_368723_01</td>\n",
       "      <td>controllerType=0 controllerNumber=1 scan=3070</td>\n",
       "      <td>FTMS + p NSI Full ms2 1042.8920@hcd30.00 [180....</td>\n",
       "      <td>controllerType=0 controllerNumber=1 scan=3060</td>\n",
       "      <td>1042.891968</td>\n",
       "    </tr>\n",
       "  </tbody>\n",
       "</table>\n",
       "<p>408517 rows × 7 columns</p>\n",
       "</div>"
      ],
      "text/plain": [
       "             mz           inty                                 stem  \\\n",
       "272  360.181366   58195.660156  190321_Serum_Lipidextract_368723_01   \n",
       "279  360.232422   52769.242188  190321_Serum_Lipidextract_368723_01   \n",
       "286  360.253906  191489.125000  190321_Serum_Lipidextract_368723_01   \n",
       "293  360.321228   54923.062500  190321_Serum_Lipidextract_368723_01   \n",
       "294  360.324036  919011.000000  190321_Serum_Lipidextract_368723_01   \n",
       "..          ...            ...                                  ...   \n",
       "790  686.437256   12311.453125  190321_Serum_Lipidextract_368723_01   \n",
       "797  705.502319    1621.440552  190321_Serum_Lipidextract_368723_01   \n",
       "804  749.507812    1349.754272  190321_Serum_Lipidextract_368723_01   \n",
       "811  823.701904     833.465759  190321_Serum_Lipidextract_368723_01   \n",
       "818  934.165161     997.902344  190321_Serum_Lipidextract_368723_01   \n",
       "\n",
       "                                           scan_id  \\\n",
       "272    controllerType=0 controllerNumber=1 scan=30   \n",
       "279    controllerType=0 controllerNumber=1 scan=30   \n",
       "286    controllerType=0 controllerNumber=1 scan=30   \n",
       "293    controllerType=0 controllerNumber=1 scan=30   \n",
       "294    controllerType=0 controllerNumber=1 scan=30   \n",
       "..                                             ...   \n",
       "790  controllerType=0 controllerNumber=1 scan=3070   \n",
       "797  controllerType=0 controllerNumber=1 scan=3070   \n",
       "804  controllerType=0 controllerNumber=1 scan=3070   \n",
       "811  controllerType=0 controllerNumber=1 scan=3070   \n",
       "818  controllerType=0 controllerNumber=1 scan=3070   \n",
       "\n",
       "                                         filter_string  \\\n",
       "272          FTMS + p NSI Full ms [350.0000-1200.0000]   \n",
       "279          FTMS + p NSI Full ms [350.0000-1200.0000]   \n",
       "286          FTMS + p NSI Full ms [350.0000-1200.0000]   \n",
       "293          FTMS + p NSI Full ms [350.0000-1200.0000]   \n",
       "294          FTMS + p NSI Full ms [350.0000-1200.0000]   \n",
       "..                                                 ...   \n",
       "790  FTMS + p NSI Full ms2 1042.8920@hcd30.00 [180....   \n",
       "797  FTMS + p NSI Full ms2 1042.8920@hcd30.00 [180....   \n",
       "804  FTMS + p NSI Full ms2 1042.8920@hcd30.00 [180....   \n",
       "811  FTMS + p NSI Full ms2 1042.8920@hcd30.00 [180....   \n",
       "818  FTMS + p NSI Full ms2 1042.8920@hcd30.00 [180....   \n",
       "\n",
       "                                      precursor_id  precursor_mz  \n",
       "272                                           None      0.000000  \n",
       "279                                           None      0.000000  \n",
       "286                                           None      0.000000  \n",
       "293                                           None      0.000000  \n",
       "294                                           None      0.000000  \n",
       "..                                             ...           ...  \n",
       "790  controllerType=0 controllerNumber=1 scan=3060   1042.891968  \n",
       "797  controllerType=0 controllerNumber=1 scan=3060   1042.891968  \n",
       "804  controllerType=0 controllerNumber=1 scan=3060   1042.891968  \n",
       "811  controllerType=0 controllerNumber=1 scan=3060   1042.891968  \n",
       "818  controllerType=0 controllerNumber=1 scan=3060   1042.891968  \n",
       "\n",
       "[408517 rows x 7 columns]"
      ]
     },
     "execution_count": 8,
     "metadata": {},
     "output_type": "execute_result"
    }
   ],
   "source": [
    "df"
   ]
  },
  {
   "cell_type": "code",
   "execution_count": 9,
   "metadata": {
    "pycharm": {
     "name": "#%%\n"
    }
   },
   "outputs": [
    {
     "data": {
      "text/plain": [
       "<pandas.core.groupby.generic.DataFrameGroupBy object at 0x00000148FF298B88>"
      ]
     },
     "execution_count": 9,
     "metadata": {},
     "output_type": "execute_result"
    }
   ],
   "source": [
    "gruped_df = df.groupby('precursor_mz')\n",
    "gruped_df"
   ]
  },
  {
   "cell_type": "code",
   "execution_count": 10,
   "metadata": {
    "pycharm": {
     "name": "#%%\n"
    }
   },
   "outputs": [],
   "source": [
    "test_df = gruped_df.get_group(0)"
   ]
  },
  {
   "cell_type": "code",
   "execution_count": 12,
   "metadata": {
    "pycharm": {
     "name": "#%%\n"
    }
   },
   "outputs": [],
   "source": [
    "test_df1= test_df.copy()\n",
    "test_df2= test_df.copy()\n"
   ]
  },
  {
   "cell_type": "code",
   "execution_count": 14,
   "metadata": {
    "pycharm": {
     "name": "#%%\n"
    }
   },
   "outputs": [],
   "source": [
    "add_group_no(test_df1)"
   ]
  },
  {
   "cell_type": "code",
   "execution_count": 15,
   "metadata": {
    "pycharm": {
     "name": "#%%\n"
    }
   },
   "outputs": [
    {
     "data": {
      "text/html": [
       "<div>\n",
       "<style scoped>\n",
       "    .dataframe tbody tr th:only-of-type {\n",
       "        vertical-align: middle;\n",
       "    }\n",
       "\n",
       "    .dataframe tbody tr th {\n",
       "        vertical-align: top;\n",
       "    }\n",
       "\n",
       "    .dataframe thead th {\n",
       "        text-align: right;\n",
       "    }\n",
       "</style>\n",
       "<table border=\"1\" class=\"dataframe\">\n",
       "  <thead>\n",
       "    <tr style=\"text-align: right;\">\n",
       "      <th></th>\n",
       "      <th>scan_id</th>\n",
       "      <th>mz</th>\n",
       "      <th>inty</th>\n",
       "      <th>stem</th>\n",
       "      <th>filter_string</th>\n",
       "      <th>precursor_id</th>\n",
       "      <th>precursor_mz</th>\n",
       "      <th>group_no</th>\n",
       "    </tr>\n",
       "  </thead>\n",
       "  <tbody>\n",
       "    <tr>\n",
       "      <th>14410</th>\n",
       "      <td>controllerType=0 controllerNumber=1 scan=1040</td>\n",
       "      <td>988.945862</td>\n",
       "      <td>63842.843750</td>\n",
       "      <td>190321_Serum_Lipidextract_368723_01</td>\n",
       "      <td>FTMS + p NSI Full ms [350.0000-1200.0000]</td>\n",
       "      <td>None</td>\n",
       "      <td>0.0</td>\n",
       "      <td>19.0</td>\n",
       "    </tr>\n",
       "    <tr>\n",
       "      <th>15091</th>\n",
       "      <td>controllerType=0 controllerNumber=1 scan=1949</td>\n",
       "      <td>988.945862</td>\n",
       "      <td>33043.640625</td>\n",
       "      <td>190321_Serum_Lipidextract_368723_01</td>\n",
       "      <td>FTMS + p NSI Full ms [350.0000-1200.0000]</td>\n",
       "      <td>None</td>\n",
       "      <td>0.0</td>\n",
       "      <td>19.0</td>\n",
       "    </tr>\n",
       "    <tr>\n",
       "      <th>16293</th>\n",
       "      <td>controllerType=0 controllerNumber=1 scan=2353</td>\n",
       "      <td>988.945801</td>\n",
       "      <td>39587.097656</td>\n",
       "      <td>190321_Serum_Lipidextract_368723_01</td>\n",
       "      <td>FTMS + p NSI Full ms [350.0000-1200.0000]</td>\n",
       "      <td>None</td>\n",
       "      <td>0.0</td>\n",
       "      <td>19.0</td>\n",
       "    </tr>\n",
       "    <tr>\n",
       "      <th>16092</th>\n",
       "      <td>controllerType=0 controllerNumber=1 scan=2151</td>\n",
       "      <td>988.945801</td>\n",
       "      <td>45084.238281</td>\n",
       "      <td>190321_Serum_Lipidextract_368723_01</td>\n",
       "      <td>FTMS + p NSI Full ms [350.0000-1200.0000]</td>\n",
       "      <td>None</td>\n",
       "      <td>0.0</td>\n",
       "      <td>19.0</td>\n",
       "    </tr>\n",
       "    <tr>\n",
       "      <th>13772</th>\n",
       "      <td>controllerType=0 controllerNumber=1 scan=131</td>\n",
       "      <td>988.944031</td>\n",
       "      <td>32941.046875</td>\n",
       "      <td>190321_Serum_Lipidextract_368723_01</td>\n",
       "      <td>FTMS + p NSI Full ms [350.0000-1200.0000]</td>\n",
       "      <td>None</td>\n",
       "      <td>0.0</td>\n",
       "      <td>19.0</td>\n",
       "    </tr>\n",
       "    <tr>\n",
       "      <th>...</th>\n",
       "      <td>...</td>\n",
       "      <td>...</td>\n",
       "      <td>...</td>\n",
       "      <td>...</td>\n",
       "      <td>...</td>\n",
       "      <td>...</td>\n",
       "      <td>...</td>\n",
       "      <td>...</td>\n",
       "    </tr>\n",
       "    <tr>\n",
       "      <th>450</th>\n",
       "      <td>controllerType=0 controllerNumber=1 scan=2656</td>\n",
       "      <td>360.253723</td>\n",
       "      <td>220933.328125</td>\n",
       "      <td>190321_Serum_Lipidextract_368723_01</td>\n",
       "      <td>FTMS + p NSI Full ms [350.0000-1200.0000]</td>\n",
       "      <td>None</td>\n",
       "      <td>0.0</td>\n",
       "      <td>12373.0</td>\n",
       "    </tr>\n",
       "    <tr>\n",
       "      <th>405</th>\n",
       "      <td>controllerType=0 controllerNumber=1 scan=2858</td>\n",
       "      <td>360.253723</td>\n",
       "      <td>136636.187500</td>\n",
       "      <td>190321_Serum_Lipidextract_368723_01</td>\n",
       "      <td>FTMS + p NSI Full ms [350.0000-1200.0000]</td>\n",
       "      <td>None</td>\n",
       "      <td>0.0</td>\n",
       "      <td>12373.0</td>\n",
       "    </tr>\n",
       "    <tr>\n",
       "      <th>374</th>\n",
       "      <td>controllerType=0 controllerNumber=1 scan=2050</td>\n",
       "      <td>360.253723</td>\n",
       "      <td>124094.468750</td>\n",
       "      <td>190321_Serum_Lipidextract_368723_01</td>\n",
       "      <td>FTMS + p NSI Full ms [350.0000-1200.0000]</td>\n",
       "      <td>None</td>\n",
       "      <td>0.0</td>\n",
       "      <td>12373.0</td>\n",
       "    </tr>\n",
       "    <tr>\n",
       "      <th>407</th>\n",
       "      <td>controllerType=0 controllerNumber=1 scan=2959</td>\n",
       "      <td>360.253662</td>\n",
       "      <td>120612.257812</td>\n",
       "      <td>190321_Serum_Lipidextract_368723_01</td>\n",
       "      <td>FTMS + p NSI Full ms [350.0000-1200.0000]</td>\n",
       "      <td>None</td>\n",
       "      <td>0.0</td>\n",
       "      <td>12373.0</td>\n",
       "    </tr>\n",
       "    <tr>\n",
       "      <th>395</th>\n",
       "      <td>controllerType=0 controllerNumber=1 scan=333</td>\n",
       "      <td>360.253632</td>\n",
       "      <td>169077.484375</td>\n",
       "      <td>190321_Serum_Lipidextract_368723_01</td>\n",
       "      <td>FTMS + p NSI Full ms [350.0000-1200.0000]</td>\n",
       "      <td>None</td>\n",
       "      <td>0.0</td>\n",
       "      <td>12373.0</td>\n",
       "    </tr>\n",
       "  </tbody>\n",
       "</table>\n",
       "<p>10977 rows × 8 columns</p>\n",
       "</div>"
      ],
      "text/plain": [
       "                                             scan_id          mz  \\\n",
       "14410  controllerType=0 controllerNumber=1 scan=1040  988.945862   \n",
       "15091  controllerType=0 controllerNumber=1 scan=1949  988.945862   \n",
       "16293  controllerType=0 controllerNumber=1 scan=2353  988.945801   \n",
       "16092  controllerType=0 controllerNumber=1 scan=2151  988.945801   \n",
       "13772   controllerType=0 controllerNumber=1 scan=131  988.944031   \n",
       "...                                              ...         ...   \n",
       "450    controllerType=0 controllerNumber=1 scan=2656  360.253723   \n",
       "405    controllerType=0 controllerNumber=1 scan=2858  360.253723   \n",
       "374    controllerType=0 controllerNumber=1 scan=2050  360.253723   \n",
       "407    controllerType=0 controllerNumber=1 scan=2959  360.253662   \n",
       "395     controllerType=0 controllerNumber=1 scan=333  360.253632   \n",
       "\n",
       "                inty                                 stem  \\\n",
       "14410   63842.843750  190321_Serum_Lipidextract_368723_01   \n",
       "15091   33043.640625  190321_Serum_Lipidextract_368723_01   \n",
       "16293   39587.097656  190321_Serum_Lipidextract_368723_01   \n",
       "16092   45084.238281  190321_Serum_Lipidextract_368723_01   \n",
       "13772   32941.046875  190321_Serum_Lipidextract_368723_01   \n",
       "...              ...                                  ...   \n",
       "450    220933.328125  190321_Serum_Lipidextract_368723_01   \n",
       "405    136636.187500  190321_Serum_Lipidextract_368723_01   \n",
       "374    124094.468750  190321_Serum_Lipidextract_368723_01   \n",
       "407    120612.257812  190321_Serum_Lipidextract_368723_01   \n",
       "395    169077.484375  190321_Serum_Lipidextract_368723_01   \n",
       "\n",
       "                                   filter_string precursor_id  precursor_mz  \\\n",
       "14410  FTMS + p NSI Full ms [350.0000-1200.0000]         None           0.0   \n",
       "15091  FTMS + p NSI Full ms [350.0000-1200.0000]         None           0.0   \n",
       "16293  FTMS + p NSI Full ms [350.0000-1200.0000]         None           0.0   \n",
       "16092  FTMS + p NSI Full ms [350.0000-1200.0000]         None           0.0   \n",
       "13772  FTMS + p NSI Full ms [350.0000-1200.0000]         None           0.0   \n",
       "...                                          ...          ...           ...   \n",
       "450    FTMS + p NSI Full ms [350.0000-1200.0000]         None           0.0   \n",
       "405    FTMS + p NSI Full ms [350.0000-1200.0000]         None           0.0   \n",
       "374    FTMS + p NSI Full ms [350.0000-1200.0000]         None           0.0   \n",
       "407    FTMS + p NSI Full ms [350.0000-1200.0000]         None           0.0   \n",
       "395    FTMS + p NSI Full ms [350.0000-1200.0000]         None           0.0   \n",
       "\n",
       "       group_no  \n",
       "14410      19.0  \n",
       "15091      19.0  \n",
       "16293      19.0  \n",
       "16092      19.0  \n",
       "13772      19.0  \n",
       "...         ...  \n",
       "450     12373.0  \n",
       "405     12373.0  \n",
       "374     12373.0  \n",
       "407     12373.0  \n",
       "395     12373.0  \n",
       "\n",
       "[10977 rows x 8 columns]"
      ]
     },
     "execution_count": 15,
     "metadata": {},
     "output_type": "execute_result"
    }
   ],
   "source": [
    "test_df1"
   ]
  },
  {
   "cell_type": "code",
   "execution_count": 23,
   "metadata": {
    "pycharm": {
     "name": "#%%\n"
    }
   },
   "outputs": [],
   "source": [
    "def add_group_no_hdbscan(ms1_peaks, occupancy=0.75, cleanup_cols=True, factor=100):\n",
    "    window_size = test_df.scan_id.unique().shape[0]\n",
    "    \n",
    "    ms1_peaks['n_mz'] = (ms1_peaks['mz'] - ms1_peaks['mz'].min()) / (ms1_peaks['mz'].max() - ms1_peaks['mz'].min())\n",
    "    x_unit = ms1_peaks.sort_values('n_mz')['n_mz'].diff().replace(0,np.NAN).quantile(0.5)\n",
    "    l_inty = np.log(ms1_peaks['inty'])\n",
    "    y_unit = l_inty.sort_values().diff().replace(0,np.NAN).quantile(0.5)\n",
    "    ms1_peaks['n_inty'] = l_inty*x_unit/y_unit\n",
    "    ms1_peaks['n_mz'] = ms1_peaks['n_mz'] * factor\n",
    "\n",
    "    occup = max(int(window_size * occupancy), 2) # min samples to make a clusterer\n",
    "    X = ms1_peaks[['n_mz', 'n_inty']].to_numpy()\n",
    "    \n",
    "    clusterer = hdbscan.hdbscan(X,occup)\n",
    "    \n",
    "    ms1_peaks['group_no'] = clusterer[0]\n",
    "    ms1_peaks['group_prob'] = clusterer[1]\n",
    "    # cleanup\n",
    "    ms1_peaks.loc[ms1_peaks['group_prob'] < 0.85, 'group_no'] = -1 # these are the cluster outliers we prefer not to have them\n",
    "    # test_df['hdbs'].replace(-1, np.NAN).value_counts().max()\n",
    "    if cleanup_cols:\n",
    "        ms1_peaks.drop(\"n_mz n_inty group_prob\".split(), axis=1, inplace=True)\n",
    "    return None \n"
   ]
  },
  {
   "cell_type": "code",
   "execution_count": 25,
   "metadata": {
    "pycharm": {
     "name": "#%%\n"
    }
   },
   "outputs": [],
   "source": [
    "add_group_no_hdbscan(test_df2)"
   ]
  },
  {
   "cell_type": "code",
   "execution_count": 237,
   "metadata": {
    "pycharm": {
     "name": "#%%\n"
    }
   },
   "outputs": [
    {
     "data": {
      "text/plain": [
       "1"
      ]
     },
     "execution_count": 237,
     "metadata": {},
     "output_type": "execute_result"
    }
   ],
   "source": [
    "\n",
    "clusterer = hdbscan.hdbscan(X,occup)"
   ]
  },
  {
   "cell_type": "code",
   "execution_count": 26,
   "metadata": {
    "pycharm": {
     "name": "#%%\n"
    }
   },
   "outputs": [
    {
     "data": {
      "text/html": [
       "<div>\n",
       "<style scoped>\n",
       "    .dataframe tbody tr th:only-of-type {\n",
       "        vertical-align: middle;\n",
       "    }\n",
       "\n",
       "    .dataframe tbody tr th {\n",
       "        vertical-align: top;\n",
       "    }\n",
       "\n",
       "    .dataframe thead th {\n",
       "        text-align: right;\n",
       "    }\n",
       "</style>\n",
       "<table border=\"1\" class=\"dataframe\">\n",
       "  <thead>\n",
       "    <tr style=\"text-align: right;\">\n",
       "      <th></th>\n",
       "      <th>mz</th>\n",
       "      <th>inty</th>\n",
       "      <th>stem</th>\n",
       "      <th>scan_id</th>\n",
       "      <th>filter_string</th>\n",
       "      <th>precursor_id</th>\n",
       "      <th>precursor_mz</th>\n",
       "      <th>group_no</th>\n",
       "    </tr>\n",
       "  </thead>\n",
       "  <tbody>\n",
       "    <tr>\n",
       "      <th>272</th>\n",
       "      <td>360.181366</td>\n",
       "      <td>58195.660156</td>\n",
       "      <td>190321_Serum_Lipidextract_368723_01</td>\n",
       "      <td>controllerType=0 controllerNumber=1 scan=30</td>\n",
       "      <td>FTMS + p NSI Full ms [350.0000-1200.0000]</td>\n",
       "      <td>None</td>\n",
       "      <td>0.0</td>\n",
       "      <td>404</td>\n",
       "    </tr>\n",
       "    <tr>\n",
       "      <th>279</th>\n",
       "      <td>360.232422</td>\n",
       "      <td>52769.242188</td>\n",
       "      <td>190321_Serum_Lipidextract_368723_01</td>\n",
       "      <td>controllerType=0 controllerNumber=1 scan=30</td>\n",
       "      <td>FTMS + p NSI Full ms [350.0000-1200.0000]</td>\n",
       "      <td>None</td>\n",
       "      <td>0.0</td>\n",
       "      <td>404</td>\n",
       "    </tr>\n",
       "    <tr>\n",
       "      <th>286</th>\n",
       "      <td>360.253906</td>\n",
       "      <td>191489.125000</td>\n",
       "      <td>190321_Serum_Lipidextract_368723_01</td>\n",
       "      <td>controllerType=0 controllerNumber=1 scan=30</td>\n",
       "      <td>FTMS + p NSI Full ms [350.0000-1200.0000]</td>\n",
       "      <td>None</td>\n",
       "      <td>0.0</td>\n",
       "      <td>404</td>\n",
       "    </tr>\n",
       "    <tr>\n",
       "      <th>293</th>\n",
       "      <td>360.321228</td>\n",
       "      <td>54923.062500</td>\n",
       "      <td>190321_Serum_Lipidextract_368723_01</td>\n",
       "      <td>controllerType=0 controllerNumber=1 scan=30</td>\n",
       "      <td>FTMS + p NSI Full ms [350.0000-1200.0000]</td>\n",
       "      <td>None</td>\n",
       "      <td>0.0</td>\n",
       "      <td>-1</td>\n",
       "    </tr>\n",
       "    <tr>\n",
       "      <th>294</th>\n",
       "      <td>360.324036</td>\n",
       "      <td>919011.000000</td>\n",
       "      <td>190321_Serum_Lipidextract_368723_01</td>\n",
       "      <td>controllerType=0 controllerNumber=1 scan=30</td>\n",
       "      <td>FTMS + p NSI Full ms [350.0000-1200.0000]</td>\n",
       "      <td>None</td>\n",
       "      <td>0.0</td>\n",
       "      <td>182</td>\n",
       "    </tr>\n",
       "    <tr>\n",
       "      <th>...</th>\n",
       "      <td>...</td>\n",
       "      <td>...</td>\n",
       "      <td>...</td>\n",
       "      <td>...</td>\n",
       "      <td>...</td>\n",
       "      <td>...</td>\n",
       "      <td>...</td>\n",
       "      <td>...</td>\n",
       "    </tr>\n",
       "    <tr>\n",
       "      <th>17107</th>\n",
       "      <td>988.825928</td>\n",
       "      <td>75649.304688</td>\n",
       "      <td>190321_Serum_Lipidextract_368723_01</td>\n",
       "      <td>controllerType=0 controllerNumber=1 scan=3060</td>\n",
       "      <td>FTMS + p NSI Full ms [350.0000-1200.0000]</td>\n",
       "      <td>None</td>\n",
       "      <td>0.0</td>\n",
       "      <td>6</td>\n",
       "    </tr>\n",
       "    <tr>\n",
       "      <th>17114</th>\n",
       "      <td>988.943909</td>\n",
       "      <td>26814.880859</td>\n",
       "      <td>190321_Serum_Lipidextract_368723_01</td>\n",
       "      <td>controllerType=0 controllerNumber=1 scan=3060</td>\n",
       "      <td>FTMS + p NSI Full ms [350.0000-1200.0000]</td>\n",
       "      <td>None</td>\n",
       "      <td>0.0</td>\n",
       "      <td>7</td>\n",
       "    </tr>\n",
       "    <tr>\n",
       "      <th>17121</th>\n",
       "      <td>989.947754</td>\n",
       "      <td>24031.822266</td>\n",
       "      <td>190321_Serum_Lipidextract_368723_01</td>\n",
       "      <td>controllerType=0 controllerNumber=1 scan=3060</td>\n",
       "      <td>FTMS + p NSI Full ms [350.0000-1200.0000]</td>\n",
       "      <td>None</td>\n",
       "      <td>0.0</td>\n",
       "      <td>2</td>\n",
       "    </tr>\n",
       "    <tr>\n",
       "      <th>17128</th>\n",
       "      <td>991.672913</td>\n",
       "      <td>29525.884766</td>\n",
       "      <td>190321_Serum_Lipidextract_368723_01</td>\n",
       "      <td>controllerType=0 controllerNumber=1 scan=3060</td>\n",
       "      <td>FTMS + p NSI Full ms [350.0000-1200.0000]</td>\n",
       "      <td>None</td>\n",
       "      <td>0.0</td>\n",
       "      <td>-1</td>\n",
       "    </tr>\n",
       "    <tr>\n",
       "      <th>17135</th>\n",
       "      <td>994.842773</td>\n",
       "      <td>25269.730469</td>\n",
       "      <td>190321_Serum_Lipidextract_368723_01</td>\n",
       "      <td>controllerType=0 controllerNumber=1 scan=3060</td>\n",
       "      <td>FTMS + p NSI Full ms [350.0000-1200.0000]</td>\n",
       "      <td>None</td>\n",
       "      <td>0.0</td>\n",
       "      <td>0</td>\n",
       "    </tr>\n",
       "  </tbody>\n",
       "</table>\n",
       "<p>66014 rows × 8 columns</p>\n",
       "</div>"
      ],
      "text/plain": [
       "               mz           inty                                 stem  \\\n",
       "272    360.181366   58195.660156  190321_Serum_Lipidextract_368723_01   \n",
       "279    360.232422   52769.242188  190321_Serum_Lipidextract_368723_01   \n",
       "286    360.253906  191489.125000  190321_Serum_Lipidextract_368723_01   \n",
       "293    360.321228   54923.062500  190321_Serum_Lipidextract_368723_01   \n",
       "294    360.324036  919011.000000  190321_Serum_Lipidextract_368723_01   \n",
       "...           ...            ...                                  ...   \n",
       "17107  988.825928   75649.304688  190321_Serum_Lipidextract_368723_01   \n",
       "17114  988.943909   26814.880859  190321_Serum_Lipidextract_368723_01   \n",
       "17121  989.947754   24031.822266  190321_Serum_Lipidextract_368723_01   \n",
       "17128  991.672913   29525.884766  190321_Serum_Lipidextract_368723_01   \n",
       "17135  994.842773   25269.730469  190321_Serum_Lipidextract_368723_01   \n",
       "\n",
       "                                             scan_id  \\\n",
       "272      controllerType=0 controllerNumber=1 scan=30   \n",
       "279      controllerType=0 controllerNumber=1 scan=30   \n",
       "286      controllerType=0 controllerNumber=1 scan=30   \n",
       "293      controllerType=0 controllerNumber=1 scan=30   \n",
       "294      controllerType=0 controllerNumber=1 scan=30   \n",
       "...                                              ...   \n",
       "17107  controllerType=0 controllerNumber=1 scan=3060   \n",
       "17114  controllerType=0 controllerNumber=1 scan=3060   \n",
       "17121  controllerType=0 controllerNumber=1 scan=3060   \n",
       "17128  controllerType=0 controllerNumber=1 scan=3060   \n",
       "17135  controllerType=0 controllerNumber=1 scan=3060   \n",
       "\n",
       "                                   filter_string precursor_id  precursor_mz  \\\n",
       "272    FTMS + p NSI Full ms [350.0000-1200.0000]         None           0.0   \n",
       "279    FTMS + p NSI Full ms [350.0000-1200.0000]         None           0.0   \n",
       "286    FTMS + p NSI Full ms [350.0000-1200.0000]         None           0.0   \n",
       "293    FTMS + p NSI Full ms [350.0000-1200.0000]         None           0.0   \n",
       "294    FTMS + p NSI Full ms [350.0000-1200.0000]         None           0.0   \n",
       "...                                          ...          ...           ...   \n",
       "17107  FTMS + p NSI Full ms [350.0000-1200.0000]         None           0.0   \n",
       "17114  FTMS + p NSI Full ms [350.0000-1200.0000]         None           0.0   \n",
       "17121  FTMS + p NSI Full ms [350.0000-1200.0000]         None           0.0   \n",
       "17128  FTMS + p NSI Full ms [350.0000-1200.0000]         None           0.0   \n",
       "17135  FTMS + p NSI Full ms [350.0000-1200.0000]         None           0.0   \n",
       "\n",
       "       group_no  \n",
       "272         404  \n",
       "279         404  \n",
       "286         404  \n",
       "293          -1  \n",
       "294         182  \n",
       "...         ...  \n",
       "17107         6  \n",
       "17114         7  \n",
       "17121         2  \n",
       "17128        -1  \n",
       "17135         0  \n",
       "\n",
       "[66014 rows x 8 columns]"
      ]
     },
     "execution_count": 26,
     "metadata": {},
     "output_type": "execute_result"
    }
   ],
   "source": [
    "test_df2"
   ]
  },
  {
   "cell_type": "code",
   "execution_count": 220,
   "metadata": {
    "pycharm": {
     "name": "#%%\n"
    }
   },
   "outputs": [
    {
     "name": "stderr",
     "output_type": "stream",
     "text": [
      "C:\\Users\\mirandaa\\Anaconda3\\envs\\lx128_p3_dev\\lib\\site-packages\\ipykernel_launcher.py:2: SettingWithCopyWarning: \n",
      "A value is trying to be set on a copy of a slice from a DataFrame.\n",
      "Try using .loc[row_indexer,col_indexer] = value instead\n",
      "\n",
      "See the caveats in the documentation: http://pandas.pydata.org/pandas-docs/stable/user_guide/indexing.html#returning-a-view-versus-a-copy\n",
      "  \n",
      "C:\\Users\\mirandaa\\Anaconda3\\envs\\lx128_p3_dev\\lib\\site-packages\\ipykernel_launcher.py:6: SettingWithCopyWarning: \n",
      "A value is trying to be set on a copy of a slice from a DataFrame.\n",
      "Try using .loc[row_indexer,col_indexer] = value instead\n",
      "\n",
      "See the caveats in the documentation: http://pandas.pydata.org/pandas-docs/stable/user_guide/indexing.html#returning-a-view-versus-a-copy\n",
      "  \n",
      "C:\\Users\\mirandaa\\Anaconda3\\envs\\lx128_p3_dev\\lib\\site-packages\\ipykernel_launcher.py:7: SettingWithCopyWarning: \n",
      "A value is trying to be set on a copy of a slice from a DataFrame.\n",
      "Try using .loc[row_indexer,col_indexer] = value instead\n",
      "\n",
      "See the caveats in the documentation: http://pandas.pydata.org/pandas-docs/stable/user_guide/indexing.html#returning-a-view-versus-a-copy\n",
      "  import sys\n"
     ]
    }
   ],
   "source": [
    "factor= 100 # to aproach enforcing .001 proximity\n",
    "test_df['n_mz'] = (test_df.mz - test_df.mz.min()) / (test_df.mz.max() - test_df.mz.min())\n",
    "x_unit = test_df.sort_values('n_mz')['n_mz'].diff().replace(0,np.NAN).quantile(0.5)\n",
    "l_inty = np.log(test_df.inty)\n",
    "y_unit = l_inty.sort_values().diff().replace(0,np.NAN).quantile(0.5)\n",
    "test_df['n_inty'] = l_inty*x_unit/y_unit\n",
    "test_df['n_mz'] = test_df['n_mz'] * factor\n",
    "\n",
    "X = test_df[['n_mz', 'n_inty']].to_numpy()\n",
    "\n",
    "\n"
   ]
  },
  {
   "cell_type": "code",
   "execution_count": 221,
   "metadata": {
    "pycharm": {
     "name": "#%%\n"
    }
   },
   "outputs": [
    {
     "data": {
      "text/plain": [
       "4"
      ]
     },
     "execution_count": 221,
     "metadata": {},
     "output_type": "execute_result"
    }
   ],
   "source": [
    "X = test_df[['n_mz', 'n_inty']].to_numpy()\n",
    "test_df.scan_id.unique().shape[0]"
   ]
  },
  {
   "cell_type": "code",
   "execution_count": 222,
   "metadata": {
    "pycharm": {
     "name": "#%%\n"
    }
   },
   "outputs": [],
   "source": [
    "clusterer = hdbscan.hdbscan(X,3,2)"
   ]
  },
  {
   "cell_type": "code",
   "execution_count": 223,
   "metadata": {
    "pycharm": {
     "name": "#%%\n"
    }
   },
   "outputs": [
    {
     "name": "stderr",
     "output_type": "stream",
     "text": [
      "C:\\Users\\mirandaa\\Anaconda3\\envs\\lx128_p3_dev\\lib\\site-packages\\ipykernel_launcher.py:1: SettingWithCopyWarning: \n",
      "A value is trying to be set on a copy of a slice from a DataFrame.\n",
      "Try using .loc[row_indexer,col_indexer] = value instead\n",
      "\n",
      "See the caveats in the documentation: http://pandas.pydata.org/pandas-docs/stable/user_guide/indexing.html#returning-a-view-versus-a-copy\n",
      "  \"\"\"Entry point for launching an IPython kernel.\n",
      "C:\\Users\\mirandaa\\Anaconda3\\envs\\lx128_p3_dev\\lib\\site-packages\\ipykernel_launcher.py:2: SettingWithCopyWarning: \n",
      "A value is trying to be set on a copy of a slice from a DataFrame.\n",
      "Try using .loc[row_indexer,col_indexer] = value instead\n",
      "\n",
      "See the caveats in the documentation: http://pandas.pydata.org/pandas-docs/stable/user_guide/indexing.html#returning-a-view-versus-a-copy\n",
      "  \n",
      "C:\\Users\\mirandaa\\Anaconda3\\envs\\lx128_p3_dev\\lib\\site-packages\\pandas\\core\\indexing.py:494: SettingWithCopyWarning: \n",
      "A value is trying to be set on a copy of a slice from a DataFrame.\n",
      "Try using .loc[row_indexer,col_indexer] = value instead\n",
      "\n",
      "See the caveats in the documentation: http://pandas.pydata.org/pandas-docs/stable/user_guide/indexing.html#returning-a-view-versus-a-copy\n",
      "  self.obj[item] = s\n"
     ]
    }
   ],
   "source": [
    "test_df['hdbs'] = clusterer[0]\n",
    "test_df['hdbs_prob'] = clusterer[1]\n",
    "# cleanup\n",
    "test_df.loc[test_df.hdbs_prob < 0.85, 'hdbs'] = -1 # these are the cluster outliers we prefer not to have them\n"
   ]
  },
  {
   "cell_type": "code",
   "execution_count": 228,
   "metadata": {
    "pycharm": {
     "name": "#%%\n"
    }
   },
   "outputs": [
    {
     "data": {
      "text/plain": [
       "4"
      ]
     },
     "execution_count": 228,
     "metadata": {},
     "output_type": "execute_result"
    }
   ],
   "source": [
    "test_df['hdbs'].replace(-1, np.NAN).value_counts().max() #if this is higher than expected number then make fator higher and re"
   ]
  },
  {
   "cell_type": "code",
   "execution_count": 219,
   "metadata": {
    "pycharm": {
     "name": "#%%\n"
    }
   },
   "outputs": [],
   "source": [
    "test_df.to_clipboard()"
   ]
  },
  {
   "cell_type": "code",
   "execution_count": 61,
   "metadata": {
    "pycharm": {
     "name": "#%%\n"
    }
   },
   "outputs": [
    {
     "data": {
      "text/html": [
       "<div>\n",
       "<style scoped>\n",
       "    .dataframe tbody tr th:only-of-type {\n",
       "        vertical-align: middle;\n",
       "    }\n",
       "\n",
       "    .dataframe tbody tr th {\n",
       "        vertical-align: top;\n",
       "    }\n",
       "\n",
       "    .dataframe thead th {\n",
       "        text-align: right;\n",
       "    }\n",
       "</style>\n",
       "<table border=\"1\" class=\"dataframe\">\n",
       "  <thead>\n",
       "    <tr style=\"text-align: right;\">\n",
       "      <th></th>\n",
       "      <th>mz</th>\n",
       "      <th>inty</th>\n",
       "      <th>stem</th>\n",
       "      <th>scan_id</th>\n",
       "      <th>filter_string</th>\n",
       "      <th>precursor_id</th>\n",
       "      <th>precursor_mz</th>\n",
       "    </tr>\n",
       "  </thead>\n",
       "  <tbody>\n",
       "    <tr>\n",
       "      <th>272</th>\n",
       "      <td>360.181366</td>\n",
       "      <td>58195.660156</td>\n",
       "      <td>190321_Serum_Lipidextract_368723_01</td>\n",
       "      <td>controllerType=0 controllerNumber=1 scan=30</td>\n",
       "      <td>FTMS + p NSI Full ms [350.0000-1200.0000]</td>\n",
       "      <td>None</td>\n",
       "      <td>0.0</td>\n",
       "    </tr>\n",
       "    <tr>\n",
       "      <th>279</th>\n",
       "      <td>360.232422</td>\n",
       "      <td>52769.242188</td>\n",
       "      <td>190321_Serum_Lipidextract_368723_01</td>\n",
       "      <td>controllerType=0 controllerNumber=1 scan=30</td>\n",
       "      <td>FTMS + p NSI Full ms [350.0000-1200.0000]</td>\n",
       "      <td>None</td>\n",
       "      <td>0.0</td>\n",
       "    </tr>\n",
       "    <tr>\n",
       "      <th>286</th>\n",
       "      <td>360.253906</td>\n",
       "      <td>191489.125000</td>\n",
       "      <td>190321_Serum_Lipidextract_368723_01</td>\n",
       "      <td>controllerType=0 controllerNumber=1 scan=30</td>\n",
       "      <td>FTMS + p NSI Full ms [350.0000-1200.0000]</td>\n",
       "      <td>None</td>\n",
       "      <td>0.0</td>\n",
       "    </tr>\n",
       "    <tr>\n",
       "      <th>293</th>\n",
       "      <td>360.321228</td>\n",
       "      <td>54923.062500</td>\n",
       "      <td>190321_Serum_Lipidextract_368723_01</td>\n",
       "      <td>controllerType=0 controllerNumber=1 scan=30</td>\n",
       "      <td>FTMS + p NSI Full ms [350.0000-1200.0000]</td>\n",
       "      <td>None</td>\n",
       "      <td>0.0</td>\n",
       "    </tr>\n",
       "    <tr>\n",
       "      <th>294</th>\n",
       "      <td>360.324036</td>\n",
       "      <td>919011.000000</td>\n",
       "      <td>190321_Serum_Lipidextract_368723_01</td>\n",
       "      <td>controllerType=0 controllerNumber=1 scan=30</td>\n",
       "      <td>FTMS + p NSI Full ms [350.0000-1200.0000]</td>\n",
       "      <td>None</td>\n",
       "      <td>0.0</td>\n",
       "    </tr>\n",
       "    <tr>\n",
       "      <th>...</th>\n",
       "      <td>...</td>\n",
       "      <td>...</td>\n",
       "      <td>...</td>\n",
       "      <td>...</td>\n",
       "      <td>...</td>\n",
       "      <td>...</td>\n",
       "      <td>...</td>\n",
       "    </tr>\n",
       "    <tr>\n",
       "      <th>17107</th>\n",
       "      <td>988.825928</td>\n",
       "      <td>75649.304688</td>\n",
       "      <td>190321_Serum_Lipidextract_368723_01</td>\n",
       "      <td>controllerType=0 controllerNumber=1 scan=3060</td>\n",
       "      <td>FTMS + p NSI Full ms [350.0000-1200.0000]</td>\n",
       "      <td>None</td>\n",
       "      <td>0.0</td>\n",
       "    </tr>\n",
       "    <tr>\n",
       "      <th>17114</th>\n",
       "      <td>988.943909</td>\n",
       "      <td>26814.880859</td>\n",
       "      <td>190321_Serum_Lipidextract_368723_01</td>\n",
       "      <td>controllerType=0 controllerNumber=1 scan=3060</td>\n",
       "      <td>FTMS + p NSI Full ms [350.0000-1200.0000]</td>\n",
       "      <td>None</td>\n",
       "      <td>0.0</td>\n",
       "    </tr>\n",
       "    <tr>\n",
       "      <th>17121</th>\n",
       "      <td>989.947754</td>\n",
       "      <td>24031.822266</td>\n",
       "      <td>190321_Serum_Lipidextract_368723_01</td>\n",
       "      <td>controllerType=0 controllerNumber=1 scan=3060</td>\n",
       "      <td>FTMS + p NSI Full ms [350.0000-1200.0000]</td>\n",
       "      <td>None</td>\n",
       "      <td>0.0</td>\n",
       "    </tr>\n",
       "    <tr>\n",
       "      <th>17128</th>\n",
       "      <td>991.672913</td>\n",
       "      <td>29525.884766</td>\n",
       "      <td>190321_Serum_Lipidextract_368723_01</td>\n",
       "      <td>controllerType=0 controllerNumber=1 scan=3060</td>\n",
       "      <td>FTMS + p NSI Full ms [350.0000-1200.0000]</td>\n",
       "      <td>None</td>\n",
       "      <td>0.0</td>\n",
       "    </tr>\n",
       "    <tr>\n",
       "      <th>17135</th>\n",
       "      <td>994.842773</td>\n",
       "      <td>25269.730469</td>\n",
       "      <td>190321_Serum_Lipidextract_368723_01</td>\n",
       "      <td>controllerType=0 controllerNumber=1 scan=3060</td>\n",
       "      <td>FTMS + p NSI Full ms [350.0000-1200.0000]</td>\n",
       "      <td>None</td>\n",
       "      <td>0.0</td>\n",
       "    </tr>\n",
       "  </tbody>\n",
       "</table>\n",
       "<p>66014 rows × 7 columns</p>\n",
       "</div>"
      ],
      "text/plain": [
       "               mz           inty                                 stem  \\\n",
       "272    360.181366   58195.660156  190321_Serum_Lipidextract_368723_01   \n",
       "279    360.232422   52769.242188  190321_Serum_Lipidextract_368723_01   \n",
       "286    360.253906  191489.125000  190321_Serum_Lipidextract_368723_01   \n",
       "293    360.321228   54923.062500  190321_Serum_Lipidextract_368723_01   \n",
       "294    360.324036  919011.000000  190321_Serum_Lipidextract_368723_01   \n",
       "...           ...            ...                                  ...   \n",
       "17107  988.825928   75649.304688  190321_Serum_Lipidextract_368723_01   \n",
       "17114  988.943909   26814.880859  190321_Serum_Lipidextract_368723_01   \n",
       "17121  989.947754   24031.822266  190321_Serum_Lipidextract_368723_01   \n",
       "17128  991.672913   29525.884766  190321_Serum_Lipidextract_368723_01   \n",
       "17135  994.842773   25269.730469  190321_Serum_Lipidextract_368723_01   \n",
       "\n",
       "                                             scan_id  \\\n",
       "272      controllerType=0 controllerNumber=1 scan=30   \n",
       "279      controllerType=0 controllerNumber=1 scan=30   \n",
       "286      controllerType=0 controllerNumber=1 scan=30   \n",
       "293      controllerType=0 controllerNumber=1 scan=30   \n",
       "294      controllerType=0 controllerNumber=1 scan=30   \n",
       "...                                              ...   \n",
       "17107  controllerType=0 controllerNumber=1 scan=3060   \n",
       "17114  controllerType=0 controllerNumber=1 scan=3060   \n",
       "17121  controllerType=0 controllerNumber=1 scan=3060   \n",
       "17128  controllerType=0 controllerNumber=1 scan=3060   \n",
       "17135  controllerType=0 controllerNumber=1 scan=3060   \n",
       "\n",
       "                                   filter_string precursor_id  precursor_mz  \n",
       "272    FTMS + p NSI Full ms [350.0000-1200.0000]         None           0.0  \n",
       "279    FTMS + p NSI Full ms [350.0000-1200.0000]         None           0.0  \n",
       "286    FTMS + p NSI Full ms [350.0000-1200.0000]         None           0.0  \n",
       "293    FTMS + p NSI Full ms [350.0000-1200.0000]         None           0.0  \n",
       "294    FTMS + p NSI Full ms [350.0000-1200.0000]         None           0.0  \n",
       "...                                          ...          ...           ...  \n",
       "17107  FTMS + p NSI Full ms [350.0000-1200.0000]         None           0.0  \n",
       "17114  FTMS + p NSI Full ms [350.0000-1200.0000]         None           0.0  \n",
       "17121  FTMS + p NSI Full ms [350.0000-1200.0000]         None           0.0  \n",
       "17128  FTMS + p NSI Full ms [350.0000-1200.0000]         None           0.0  \n",
       "17135  FTMS + p NSI Full ms [350.0000-1200.0000]         None           0.0  \n",
       "\n",
       "[66014 rows x 7 columns]"
      ]
     },
     "execution_count": 61,
     "metadata": {},
     "output_type": "execute_result"
    }
   ],
   "source": [
    "gruped_df.get_group(0)"
   ]
  },
  {
   "cell_type": "code",
   "execution_count": 62,
   "metadata": {
    "pycharm": {
     "name": "#%%\n"
    }
   },
   "outputs": [
    {
     "name": "stdout",
     "output_type": "stream",
     "text": [
      "[14:56:30] {ms_deisotope.data_source.scan.loader:376} INFO - Disposing of MzMLLoader('D:\\\\fork\\\\lipidxplorer-evaluation\\\\190731_benchmark_data_files_infos\\\\perf_test\\\\190321_Serum_Lipidextract_368723_01.mzML') with 405 extant scans attached to it.\n"
     ]
    },
    {
     "ename": "KeyboardInterrupt",
     "evalue": "",
     "output_type": "error",
     "traceback": [
      "\u001b[1;31m---------------------------------------------------------------------------\u001b[0m",
      "\u001b[1;31mKeyboardInterrupt\u001b[0m                         Traceback (most recent call last)",
      "\u001b[1;32m~\\AppData\\Local\\Temp/ipykernel_6396/3612335652.py\u001b[0m in \u001b[0;36m<module>\u001b[1;34m\u001b[0m\n\u001b[1;32m----> 1\u001b[1;33m \u001b[0mspectra_dfs\u001b[0m \u001b[1;33m=\u001b[0m \u001b[0mspectra_2_df\u001b[0m\u001b[1;33m(\u001b[0m\u001b[0moptions\u001b[0m\u001b[1;33m)\u001b[0m\u001b[1;33m\u001b[0m\u001b[1;33m\u001b[0m\u001b[0m\n\u001b[0m",
      "\u001b[1;32md:\\fork\\isas_lipidxplorer\\LX2_masterscan.py\u001b[0m in \u001b[0;36mspectra_2_df\u001b[1;34m(options)\u001b[0m\n\u001b[0;32m     86\u001b[0m     \u001b[1;31m# generaste ms1 data\u001b[0m\u001b[1;33m\u001b[0m\u001b[1;33m\u001b[0m\u001b[1;33m\u001b[0m\u001b[0m\n\u001b[0;32m     87\u001b[0m     spectra_dfs = [\n\u001b[1;32m---> 88\u001b[1;33m         \u001b[0mpath2df\u001b[0m\u001b[1;33m(\u001b[0m\u001b[0mmzml\u001b[0m\u001b[1;33m,\u001b[0m \u001b[1;33m*\u001b[0m\u001b[0mtime_range\u001b[0m\u001b[1;33m,\u001b[0m \u001b[1;33m*\u001b[0m\u001b[0mms1_mass_range\u001b[0m\u001b[1;33m,\u001b[0m \u001b[1;33m*\u001b[0m\u001b[0mms2_mass_range\u001b[0m\u001b[1;33m)\u001b[0m \u001b[1;32mfor\u001b[0m \u001b[0mmzml\u001b[0m \u001b[1;32min\u001b[0m \u001b[0mmzmls\u001b[0m\u001b[1;33m\u001b[0m\u001b[1;33m\u001b[0m\u001b[0m\n\u001b[0m\u001b[0;32m     89\u001b[0m     ]\n\u001b[0;32m     90\u001b[0m \u001b[1;33m\u001b[0m\u001b[0m\n",
      "\u001b[1;32md:\\fork\\isas_lipidxplorer\\LX2_masterscan.py\u001b[0m in \u001b[0;36m<listcomp>\u001b[1;34m(.0)\u001b[0m\n\u001b[0;32m     86\u001b[0m     \u001b[1;31m# generaste ms1 data\u001b[0m\u001b[1;33m\u001b[0m\u001b[1;33m\u001b[0m\u001b[1;33m\u001b[0m\u001b[0m\n\u001b[0;32m     87\u001b[0m     spectra_dfs = [\n\u001b[1;32m---> 88\u001b[1;33m         \u001b[0mpath2df\u001b[0m\u001b[1;33m(\u001b[0m\u001b[0mmzml\u001b[0m\u001b[1;33m,\u001b[0m \u001b[1;33m*\u001b[0m\u001b[0mtime_range\u001b[0m\u001b[1;33m,\u001b[0m \u001b[1;33m*\u001b[0m\u001b[0mms1_mass_range\u001b[0m\u001b[1;33m,\u001b[0m \u001b[1;33m*\u001b[0m\u001b[0mms2_mass_range\u001b[0m\u001b[1;33m)\u001b[0m \u001b[1;32mfor\u001b[0m \u001b[0mmzml\u001b[0m \u001b[1;32min\u001b[0m \u001b[0mmzmls\u001b[0m\u001b[1;33m\u001b[0m\u001b[1;33m\u001b[0m\u001b[0m\n\u001b[0m\u001b[0;32m     89\u001b[0m     ]\n\u001b[0;32m     90\u001b[0m \u001b[1;33m\u001b[0m\u001b[0m\n",
      "\u001b[1;32md:\\fork\\isas_lipidxplorer\\LX2_masterscan.py\u001b[0m in \u001b[0;36mpath2df\u001b[1;34m(path, time_start, time_end, ms1_start, ms1_end, ms2_start, ms2_end)\u001b[0m\n\u001b[0;32m    231\u001b[0m                     }\n\u001b[0;32m    232\u001b[0m                 )\n\u001b[1;32m--> 233\u001b[1;33m                 \u001b[0mdf\u001b[0m \u001b[1;33m=\u001b[0m \u001b[0mdf\u001b[0m\u001b[1;33m[\u001b[0m\u001b[1;33m(\u001b[0m\u001b[0mdf\u001b[0m\u001b[1;33m.\u001b[0m\u001b[0mmz\u001b[0m\u001b[1;33m.\u001b[0m\u001b[0mbetween\u001b[0m\u001b[1;33m(\u001b[0m\u001b[0mms2_start\u001b[0m\u001b[1;33m,\u001b[0m \u001b[0mms2_end\u001b[0m\u001b[1;33m)\u001b[0m\u001b[1;33m)\u001b[0m \u001b[1;33m&\u001b[0m \u001b[0mdf\u001b[0m\u001b[1;33m.\u001b[0m\u001b[0minty\u001b[0m \u001b[1;33m>\u001b[0m \u001b[1;36m0\u001b[0m\u001b[1;33m]\u001b[0m\u001b[1;33m\u001b[0m\u001b[1;33m\u001b[0m\u001b[0m\n\u001b[0m\u001b[0;32m    234\u001b[0m                 \u001b[1;31m# df[\"scan_id\"] = p.scan_id  # TODO  make them categoriacal?\u001b[0m\u001b[1;33m\u001b[0m\u001b[1;33m\u001b[0m\u001b[1;33m\u001b[0m\u001b[0m\n\u001b[0;32m    235\u001b[0m                 \u001b[1;31m# df[\"filter_string\"] = p.annotations[\"filter string\"]\u001b[0m\u001b[1;33m\u001b[0m\u001b[1;33m\u001b[0m\u001b[1;33m\u001b[0m\u001b[0m\n",
      "\u001b[1;32m~\\Anaconda3\\envs\\lx128_p3_dev\\lib\\site-packages\\pandas\\core\\ops\\__init__.py\u001b[0m in \u001b[0;36mwrapper\u001b[1;34m(self, other)\u001b[0m\n\u001b[0;32m   1299\u001b[0m         \u001b[1;32melif\u001b[0m \u001b[0misinstance\u001b[0m\u001b[1;33m(\u001b[0m\u001b[0mother\u001b[0m\u001b[1;33m,\u001b[0m \u001b[1;33m(\u001b[0m\u001b[0mABCSeries\u001b[0m\u001b[1;33m,\u001b[0m \u001b[0mABCIndexClass\u001b[0m\u001b[1;33m)\u001b[0m\u001b[1;33m)\u001b[0m\u001b[1;33m:\u001b[0m\u001b[1;33m\u001b[0m\u001b[1;33m\u001b[0m\u001b[0m\n\u001b[0;32m   1300\u001b[0m             \u001b[0mis_other_int_dtype\u001b[0m \u001b[1;33m=\u001b[0m \u001b[0mis_integer_dtype\u001b[0m\u001b[1;33m(\u001b[0m\u001b[0mother\u001b[0m\u001b[1;33m.\u001b[0m\u001b[0mdtype\u001b[0m\u001b[1;33m)\u001b[0m\u001b[1;33m\u001b[0m\u001b[1;33m\u001b[0m\u001b[0m\n\u001b[1;32m-> 1301\u001b[1;33m             \u001b[0mother\u001b[0m \u001b[1;33m=\u001b[0m \u001b[0mfill_int\u001b[0m\u001b[1;33m(\u001b[0m\u001b[0mother\u001b[0m\u001b[1;33m)\u001b[0m \u001b[1;32mif\u001b[0m \u001b[0mis_other_int_dtype\u001b[0m \u001b[1;32melse\u001b[0m \u001b[0mfill_bool\u001b[0m\u001b[1;33m(\u001b[0m\u001b[0mother\u001b[0m\u001b[1;33m)\u001b[0m\u001b[1;33m\u001b[0m\u001b[1;33m\u001b[0m\u001b[0m\n\u001b[0m\u001b[0;32m   1302\u001b[0m \u001b[1;33m\u001b[0m\u001b[0m\n\u001b[0;32m   1303\u001b[0m             \u001b[0movalues\u001b[0m \u001b[1;33m=\u001b[0m \u001b[0mother\u001b[0m\u001b[1;33m.\u001b[0m\u001b[0mvalues\u001b[0m\u001b[1;33m\u001b[0m\u001b[1;33m\u001b[0m\u001b[0m\n",
      "\u001b[1;32m~\\Anaconda3\\envs\\lx128_p3_dev\\lib\\site-packages\\pandas\\core\\ops\\__init__.py\u001b[0m in \u001b[0;36m<lambda>\u001b[1;34m(x)\u001b[0m\n\u001b[0;32m   1285\u001b[0m \u001b[1;33m\u001b[0m\u001b[0m\n\u001b[0;32m   1286\u001b[0m     \u001b[0mfill_int\u001b[0m \u001b[1;33m=\u001b[0m \u001b[1;32mlambda\u001b[0m \u001b[0mx\u001b[0m\u001b[1;33m:\u001b[0m \u001b[0mx\u001b[0m\u001b[1;33m.\u001b[0m\u001b[0mfillna\u001b[0m\u001b[1;33m(\u001b[0m\u001b[1;36m0\u001b[0m\u001b[1;33m)\u001b[0m\u001b[1;33m\u001b[0m\u001b[1;33m\u001b[0m\u001b[0m\n\u001b[1;32m-> 1287\u001b[1;33m     \u001b[0mfill_bool\u001b[0m \u001b[1;33m=\u001b[0m \u001b[1;32mlambda\u001b[0m \u001b[0mx\u001b[0m\u001b[1;33m:\u001b[0m \u001b[0mx\u001b[0m\u001b[1;33m.\u001b[0m\u001b[0mfillna\u001b[0m\u001b[1;33m(\u001b[0m\u001b[1;32mFalse\u001b[0m\u001b[1;33m)\u001b[0m\u001b[1;33m.\u001b[0m\u001b[0mastype\u001b[0m\u001b[1;33m(\u001b[0m\u001b[0mbool\u001b[0m\u001b[1;33m)\u001b[0m\u001b[1;33m\u001b[0m\u001b[1;33m\u001b[0m\u001b[0m\n\u001b[0m\u001b[0;32m   1288\u001b[0m \u001b[1;33m\u001b[0m\u001b[0m\n\u001b[0;32m   1289\u001b[0m     \u001b[1;32mdef\u001b[0m \u001b[0mwrapper\u001b[0m\u001b[1;33m(\u001b[0m\u001b[0mself\u001b[0m\u001b[1;33m,\u001b[0m \u001b[0mother\u001b[0m\u001b[1;33m)\u001b[0m\u001b[1;33m:\u001b[0m\u001b[1;33m\u001b[0m\u001b[1;33m\u001b[0m\u001b[0m\n",
      "\u001b[1;32m~\\Anaconda3\\envs\\lx128_p3_dev\\lib\\site-packages\\pandas\\core\\series.py\u001b[0m in \u001b[0;36mfillna\u001b[1;34m(self, value, method, axis, inplace, limit, downcast, **kwargs)\u001b[0m\n\u001b[0;32m   4346\u001b[0m             \u001b[0mlimit\u001b[0m\u001b[1;33m=\u001b[0m\u001b[0mlimit\u001b[0m\u001b[1;33m,\u001b[0m\u001b[1;33m\u001b[0m\u001b[1;33m\u001b[0m\u001b[0m\n\u001b[0;32m   4347\u001b[0m             \u001b[0mdowncast\u001b[0m\u001b[1;33m=\u001b[0m\u001b[0mdowncast\u001b[0m\u001b[1;33m,\u001b[0m\u001b[1;33m\u001b[0m\u001b[1;33m\u001b[0m\u001b[0m\n\u001b[1;32m-> 4348\u001b[1;33m             \u001b[1;33m**\u001b[0m\u001b[0mkwargs\u001b[0m\u001b[1;33m\u001b[0m\u001b[1;33m\u001b[0m\u001b[0m\n\u001b[0m\u001b[0;32m   4349\u001b[0m         )\n\u001b[0;32m   4350\u001b[0m \u001b[1;33m\u001b[0m\u001b[0m\n",
      "\u001b[1;32m~\\Anaconda3\\envs\\lx128_p3_dev\\lib\\site-packages\\pandas\\core\\generic.py\u001b[0m in \u001b[0;36mfillna\u001b[1;34m(self, value, method, axis, inplace, limit, downcast)\u001b[0m\n\u001b[0;32m   6256\u001b[0m \u001b[1;33m\u001b[0m\u001b[0m\n\u001b[0;32m   6257\u001b[0m                 new_data = self._data.fillna(\n\u001b[1;32m-> 6258\u001b[1;33m                     \u001b[0mvalue\u001b[0m\u001b[1;33m=\u001b[0m\u001b[0mvalue\u001b[0m\u001b[1;33m,\u001b[0m \u001b[0mlimit\u001b[0m\u001b[1;33m=\u001b[0m\u001b[0mlimit\u001b[0m\u001b[1;33m,\u001b[0m \u001b[0minplace\u001b[0m\u001b[1;33m=\u001b[0m\u001b[0minplace\u001b[0m\u001b[1;33m,\u001b[0m \u001b[0mdowncast\u001b[0m\u001b[1;33m=\u001b[0m\u001b[0mdowncast\u001b[0m\u001b[1;33m\u001b[0m\u001b[1;33m\u001b[0m\u001b[0m\n\u001b[0m\u001b[0;32m   6259\u001b[0m                 )\n\u001b[0;32m   6260\u001b[0m \u001b[1;33m\u001b[0m\u001b[0m\n",
      "\u001b[1;32m~\\Anaconda3\\envs\\lx128_p3_dev\\lib\\site-packages\\pandas\\core\\internals\\managers.py\u001b[0m in \u001b[0;36mfillna\u001b[1;34m(self, **kwargs)\u001b[0m\n\u001b[0;32m    573\u001b[0m \u001b[1;33m\u001b[0m\u001b[0m\n\u001b[0;32m    574\u001b[0m     \u001b[1;32mdef\u001b[0m \u001b[0mfillna\u001b[0m\u001b[1;33m(\u001b[0m\u001b[0mself\u001b[0m\u001b[1;33m,\u001b[0m \u001b[1;33m**\u001b[0m\u001b[0mkwargs\u001b[0m\u001b[1;33m)\u001b[0m\u001b[1;33m:\u001b[0m\u001b[1;33m\u001b[0m\u001b[1;33m\u001b[0m\u001b[0m\n\u001b[1;32m--> 575\u001b[1;33m         \u001b[1;32mreturn\u001b[0m \u001b[0mself\u001b[0m\u001b[1;33m.\u001b[0m\u001b[0mapply\u001b[0m\u001b[1;33m(\u001b[0m\u001b[1;34m\"fillna\"\u001b[0m\u001b[1;33m,\u001b[0m \u001b[1;33m**\u001b[0m\u001b[0mkwargs\u001b[0m\u001b[1;33m)\u001b[0m\u001b[1;33m\u001b[0m\u001b[1;33m\u001b[0m\u001b[0m\n\u001b[0m\u001b[0;32m    576\u001b[0m \u001b[1;33m\u001b[0m\u001b[0m\n\u001b[0;32m    577\u001b[0m     \u001b[1;32mdef\u001b[0m \u001b[0mdowncast\u001b[0m\u001b[1;33m(\u001b[0m\u001b[0mself\u001b[0m\u001b[1;33m,\u001b[0m \u001b[1;33m**\u001b[0m\u001b[0mkwargs\u001b[0m\u001b[1;33m)\u001b[0m\u001b[1;33m:\u001b[0m\u001b[1;33m\u001b[0m\u001b[1;33m\u001b[0m\u001b[0m\n",
      "\u001b[1;32m~\\Anaconda3\\envs\\lx128_p3_dev\\lib\\site-packages\\pandas\\core\\internals\\managers.py\u001b[0m in \u001b[0;36mapply\u001b[1;34m(self, f, axes, filter, do_integrity_check, consolidate, **kwargs)\u001b[0m\n\u001b[0;32m    436\u001b[0m                     \u001b[0mkwargs\u001b[0m\u001b[1;33m[\u001b[0m\u001b[0mk\u001b[0m\u001b[1;33m]\u001b[0m \u001b[1;33m=\u001b[0m \u001b[0mobj\u001b[0m\u001b[1;33m.\u001b[0m\u001b[0mreindex\u001b[0m\u001b[1;33m(\u001b[0m\u001b[0mb_items\u001b[0m\u001b[1;33m,\u001b[0m \u001b[0maxis\u001b[0m\u001b[1;33m=\u001b[0m\u001b[0maxis\u001b[0m\u001b[1;33m,\u001b[0m \u001b[0mcopy\u001b[0m\u001b[1;33m=\u001b[0m\u001b[0malign_copy\u001b[0m\u001b[1;33m)\u001b[0m\u001b[1;33m\u001b[0m\u001b[1;33m\u001b[0m\u001b[0m\n\u001b[0;32m    437\u001b[0m \u001b[1;33m\u001b[0m\u001b[0m\n\u001b[1;32m--> 438\u001b[1;33m             \u001b[0mapplied\u001b[0m \u001b[1;33m=\u001b[0m \u001b[0mgetattr\u001b[0m\u001b[1;33m(\u001b[0m\u001b[0mb\u001b[0m\u001b[1;33m,\u001b[0m \u001b[0mf\u001b[0m\u001b[1;33m)\u001b[0m\u001b[1;33m(\u001b[0m\u001b[1;33m**\u001b[0m\u001b[0mkwargs\u001b[0m\u001b[1;33m)\u001b[0m\u001b[1;33m\u001b[0m\u001b[1;33m\u001b[0m\u001b[0m\n\u001b[0m\u001b[0;32m    439\u001b[0m             \u001b[0mresult_blocks\u001b[0m \u001b[1;33m=\u001b[0m \u001b[0m_extend_blocks\u001b[0m\u001b[1;33m(\u001b[0m\u001b[0mapplied\u001b[0m\u001b[1;33m,\u001b[0m \u001b[0mresult_blocks\u001b[0m\u001b[1;33m)\u001b[0m\u001b[1;33m\u001b[0m\u001b[1;33m\u001b[0m\u001b[0m\n\u001b[0;32m    440\u001b[0m \u001b[1;33m\u001b[0m\u001b[0m\n",
      "\u001b[1;32m~\\Anaconda3\\envs\\lx128_p3_dev\\lib\\site-packages\\pandas\\core\\internals\\blocks.py\u001b[0m in \u001b[0;36mfillna\u001b[1;34m(self, value, limit, inplace, downcast)\u001b[0m\n\u001b[0;32m    428\u001b[0m         \u001b[1;31m# we can't process the value, but nothing to do\u001b[0m\u001b[1;33m\u001b[0m\u001b[1;33m\u001b[0m\u001b[1;33m\u001b[0m\u001b[0m\n\u001b[0;32m    429\u001b[0m         \u001b[1;32mif\u001b[0m \u001b[1;32mnot\u001b[0m \u001b[0mmask\u001b[0m\u001b[1;33m.\u001b[0m\u001b[0many\u001b[0m\u001b[1;33m(\u001b[0m\u001b[1;33m)\u001b[0m\u001b[1;33m:\u001b[0m\u001b[1;33m\u001b[0m\u001b[1;33m\u001b[0m\u001b[0m\n\u001b[1;32m--> 430\u001b[1;33m             \u001b[1;32mreturn\u001b[0m \u001b[0mself\u001b[0m \u001b[1;32mif\u001b[0m \u001b[0minplace\u001b[0m \u001b[1;32melse\u001b[0m \u001b[0mself\u001b[0m\u001b[1;33m.\u001b[0m\u001b[0mcopy\u001b[0m\u001b[1;33m(\u001b[0m\u001b[1;33m)\u001b[0m\u001b[1;33m\u001b[0m\u001b[1;33m\u001b[0m\u001b[0m\n\u001b[0m\u001b[0;32m    431\u001b[0m \u001b[1;33m\u001b[0m\u001b[0m\n\u001b[0;32m    432\u001b[0m         \u001b[1;31m# operate column-by-column\u001b[0m\u001b[1;33m\u001b[0m\u001b[1;33m\u001b[0m\u001b[1;33m\u001b[0m\u001b[0m\n",
      "\u001b[1;32m~\\Anaconda3\\envs\\lx128_p3_dev\\lib\\site-packages\\pandas\\core\\internals\\blocks.py\u001b[0m in \u001b[0;36mcopy\u001b[1;34m(self, deep)\u001b[0m\n\u001b[0;32m    769\u001b[0m         \u001b[0mvalues\u001b[0m \u001b[1;33m=\u001b[0m \u001b[0mself\u001b[0m\u001b[1;33m.\u001b[0m\u001b[0mvalues\u001b[0m\u001b[1;33m\u001b[0m\u001b[1;33m\u001b[0m\u001b[0m\n\u001b[0;32m    770\u001b[0m         \u001b[1;32mif\u001b[0m \u001b[0mdeep\u001b[0m\u001b[1;33m:\u001b[0m\u001b[1;33m\u001b[0m\u001b[1;33m\u001b[0m\u001b[0m\n\u001b[1;32m--> 771\u001b[1;33m             \u001b[0mvalues\u001b[0m \u001b[1;33m=\u001b[0m \u001b[0mvalues\u001b[0m\u001b[1;33m.\u001b[0m\u001b[0mcopy\u001b[0m\u001b[1;33m(\u001b[0m\u001b[1;33m)\u001b[0m\u001b[1;33m\u001b[0m\u001b[1;33m\u001b[0m\u001b[0m\n\u001b[0m\u001b[0;32m    772\u001b[0m         \u001b[1;32mreturn\u001b[0m \u001b[0mself\u001b[0m\u001b[1;33m.\u001b[0m\u001b[0mmake_block_same_class\u001b[0m\u001b[1;33m(\u001b[0m\u001b[0mvalues\u001b[0m\u001b[1;33m,\u001b[0m \u001b[0mndim\u001b[0m\u001b[1;33m=\u001b[0m\u001b[0mself\u001b[0m\u001b[1;33m.\u001b[0m\u001b[0mndim\u001b[0m\u001b[1;33m)\u001b[0m\u001b[1;33m\u001b[0m\u001b[1;33m\u001b[0m\u001b[0m\n\u001b[0;32m    773\u001b[0m \u001b[1;33m\u001b[0m\u001b[0m\n",
      "\u001b[1;31mKeyboardInterrupt\u001b[0m: "
     ]
    }
   ],
   "source": [
    "spectra_dfs = spectra_2_df(options)"
   ]
  },
  {
   "cell_type": "code",
   "execution_count": null,
   "metadata": {
    "pycharm": {
     "name": "#%%\n"
    }
   },
   "outputs": [],
   "source": [
    "ms1_calibration = options._data.get(\n",
    "    \"MScalibration\"\n",
    ")  # from _data otherwise missing value error\n",
    "ms2_calibration = options._data.get(\"MSMScalibration\")"
   ]
  },
  {
   "cell_type": "code",
   "execution_count": null,
   "metadata": {
    "pycharm": {
     "name": "#%%\n"
    }
   },
   "outputs": [],
   "source": [
    "samples = [p.stem for p in mzmls]"
   ]
  },
  {
   "cell_type": "code",
   "execution_count": null,
   "metadata": {
    "pycharm": {
     "name": "#%%\n"
    }
   },
   "outputs": [
    {
     "name": "stdout",
     "output_type": "stream",
     "text": [
      "[09:22:17] {LX2_masterscan:2} WARNING - Using MS1 calibration on MS2 also\n"
     ]
    }
   ],
   "source": [
    "if ms1_calibration and not ms2_calibration:\n",
    "        log.warning(\"Using MS1 calibration on MS2 also\")\n",
    "        ms2_calibration = ms1_calibration\n"
   ]
  },
  {
   "cell_type": "code",
   "execution_count": null,
   "metadata": {
    "pycharm": {
     "name": "#%%\n"
    }
   },
   "outputs": [],
   "source": [
    "occup_between_scans = options[\"MSfilter\"]"
   ]
  },
  {
   "cell_type": "code",
   "execution_count": null,
   "metadata": {
    "pycharm": {
     "name": "#%%\n"
    }
   },
   "outputs": [
    {
     "name": "stderr",
     "output_type": "stream",
     "text": [
      "d:\\fork\\isas_lipidxplorer\\LX2_masterscan.py:250: SettingWithCopyWarning: \n",
      "A value is trying to be set on a copy of a slice from a DataFrame\n",
      "\n",
      "See the caveats in the documentation: http://pandas.pydata.org/pandas-docs/stable/user_guide/indexing.html#returning-a-view-versus-a-copy\n",
      "  \"mz\", ascending=False, inplace=True\n",
      "d:\\fork\\isas_lipidxplorer\\LX2_masterscan.py:252: SettingWithCopyWarning: \n",
      "A value is trying to be set on a copy of a slice from a DataFrame.\n",
      "Try using .loc[row_indexer,col_indexer] = value instead\n",
      "\n",
      "See the caveats in the documentation: http://pandas.pydata.org/pandas-docs/stable/user_guide/indexing.html#returning-a-view-versus-a-copy\n",
      "  ms1_peaks[\"mz_diff\"] = ms1_peaks.sort_values(\"mz\", ascending=False)[\"mz\"].diff(-1)\n",
      "d:\\fork\\isas_lipidxplorer\\LX2_masterscan.py:258: SettingWithCopyWarning: \n",
      "A value is trying to be set on a copy of a slice from a DataFrame.\n",
      "Try using .loc[row_indexer,col_indexer] = value instead\n",
      "\n",
      "See the caveats in the documentation: http://pandas.pydata.org/pandas-docs/stable/user_guide/indexing.html#returning-a-view-versus-a-copy\n",
      "  .shift(-window_size)\n",
      "C:\\Users\\mirandaa\\Anaconda3\\envs\\lx128_p3_dev\\lib\\site-packages\\pandas\\core\\generic.py:6287: SettingWithCopyWarning: \n",
      "A value is trying to be set on a copy of a slice from a DataFrame\n",
      "\n",
      "See the caveats in the documentation: http://pandas.pydata.org/pandas-docs/stable/user_guide/indexing.html#returning-a-view-versus-a-copy\n",
      "  self._update_inplace(new_data)\n",
      "d:\\fork\\isas_lipidxplorer\\LX2_masterscan.py:262: SettingWithCopyWarning: \n",
      "A value is trying to be set on a copy of a slice from a DataFrame.\n",
      "Try using .loc[row_indexer,col_indexer] = value instead\n",
      "\n",
      "See the caveats in the documentation: http://pandas.pydata.org/pandas-docs/stable/user_guide/indexing.html#returning-a-view-versus-a-copy\n",
      "  ms1_peaks[\"with_next\"] = ms1_peaks[\"mz_diff\"] <= ms1_peaks[\"cummin\"]\n",
      "d:\\fork\\isas_lipidxplorer\\LX2_masterscan.py:264: SettingWithCopyWarning: \n",
      "A value is trying to be set on a copy of a slice from a DataFrame.\n",
      "Try using .loc[row_indexer,col_indexer] = value instead\n",
      "\n",
      "See the caveats in the documentation: http://pandas.pydata.org/pandas-docs/stable/user_guide/indexing.html#returning-a-view-versus-a-copy\n",
      "  ms1_peaks.with_next != ms1_peaks.with_next.shift()\n",
      "C:\\Users\\mirandaa\\Anaconda3\\envs\\lx128_p3_dev\\lib\\site-packages\\pandas\\core\\indexing.py:494: SettingWithCopyWarning: \n",
      "A value is trying to be set on a copy of a slice from a DataFrame.\n",
      "Try using .loc[row_indexer,col_indexer] = value instead\n",
      "\n",
      "See the caveats in the documentation: http://pandas.pydata.org/pandas-docs/stable/user_guide/indexing.html#returning-a-view-versus-a-copy\n",
      "  self.obj[item] = s\n",
      "C:\\Users\\mirandaa\\Anaconda3\\envs\\lx128_p3_dev\\lib\\site-packages\\pandas\\core\\frame.py:4117: SettingWithCopyWarning: \n",
      "A value is trying to be set on a copy of a slice from a DataFrame\n",
      "\n",
      "See the caveats in the documentation: http://pandas.pydata.org/pandas-docs/stable/user_guide/indexing.html#returning-a-view-versus-a-copy\n",
      "  errors=errors,\n"
     ]
    }
   ],
   "source": [
    "ms1_df = pd.concat(\n",
    "        (\n",
    "            agg_ms1_spectra_df(\n",
    "                df, occupancy=occup_between_scans, calibration=ms1_calibration\n",
    "            )\n",
    "            for df in spectra_dfs\n",
    "        )\n",
    "    )\n"
   ]
  },
  {
   "cell_type": "code",
   "execution_count": null,
   "metadata": {
    "pycharm": {
     "name": "#%%\n"
    }
   },
   "outputs": [],
   "source": [
    "occup_between_spectra = options[\"MSminOccupation\"]"
   ]
  },
  {
   "cell_type": "code",
   "execution_count": null,
   "metadata": {
    "pycharm": {
     "name": "#%%\n"
    }
   },
   "outputs": [],
   "source": [
    "occup_between_spectra = options[\"MSminOccupation\"]\n",
    "listSurveyEntry = [\n",
    "    se_factory(msmass, dictIntensity, samples)\n",
    "    for msmass, dictIntensity in mass_inty_generator_ms1(\n",
    "        ms1_df, occupancy=occup_between_spectra\n",
    "    )\n",
    "]"
   ]
  },
  {
   "cell_type": "code",
   "execution_count": null,
   "metadata": {
    "pycharm": {
     "name": "#%%\n"
    }
   },
   "outputs": [],
   "source": [
    "occup_between_ms2_scans = options[\"MSMSfilter\"]\n",
    "ms2_df = pd.concat(\n",
    "    (\n",
    "        agg_ms2_spectra_df(\n",
    "            df, occupancy=occup_between_ms2_scans, calibration=ms2_calibration\n",
    "        )\n",
    "        for df in spectra_dfs\n",
    "    )\n",
    ")"
   ]
  },
  {
   "cell_type": "code",
   "execution_count": null,
   "metadata": {
    "pycharm": {
     "name": "#%%\n"
    }
   },
   "outputs": [
    {
     "ename": "ValueError",
     "evalue": "too many values to unpack (expected 2)",
     "output_type": "error",
     "traceback": [
      "\u001b[1;31m---------------------------------------------------------------------------\u001b[0m",
      "\u001b[1;31mValueError\u001b[0m                                Traceback (most recent call last)",
      "\u001b[1;32m~\\AppData\\Local\\Temp/ipykernel_2732/3861714940.py\u001b[0m in \u001b[0;36m<module>\u001b[1;34m\u001b[0m\n\u001b[0;32m      1\u001b[0m \u001b[0moccup_between_ms2_spectra\u001b[0m \u001b[1;33m=\u001b[0m \u001b[0moptions\u001b[0m\u001b[1;33m[\u001b[0m\u001b[1;34m\"MSMSminOccupation\"\u001b[0m\u001b[1;33m]\u001b[0m\u001b[1;33m\u001b[0m\u001b[1;33m\u001b[0m\u001b[0m\n\u001b[0;32m      2\u001b[0m precurs, msmslists = precur_msmslists_from(\n\u001b[1;32m----> 3\u001b[1;33m     \u001b[0mms2_df\u001b[0m\u001b[1;33m,\u001b[0m \u001b[0msamples\u001b[0m\u001b[1;33m,\u001b[0m \u001b[0moccup_between_ms2_spectra\u001b[0m\u001b[1;33m\u001b[0m\u001b[1;33m\u001b[0m\u001b[0m\n\u001b[0m\u001b[0;32m      4\u001b[0m )\n",
      "\u001b[1;31mValueError\u001b[0m: too many values to unpack (expected 2)"
     ]
    }
   ],
   "source": [
    "occup_between_ms2_spectra = options[\"MSMSminOccupation\"]\n",
    "precurs, msmslists = precur_msmslists_from(\n",
    "    ms2_df, samples, occup_between_ms2_spectra\n",
    ")"
   ]
  },
  {
   "cell_type": "code",
   "execution_count": null,
   "metadata": {
    "pycharm": {
     "name": "#%%\n"
    }
   },
   "outputs": [],
   "source": [
    "add_group_no_ms2_df(ms2_df, occupancy=occup_between_ms2_scans)"
   ]
  },
  {
   "cell_type": "code",
   "execution_count": null,
   "metadata": {
    "pycharm": {
     "name": "#%%\n"
    }
   },
   "outputs": [
    {
     "name": "stderr",
     "output_type": "stream",
     "text": [
      "C:\\Users\\mirandaa\\Anaconda3\\envs\\lx128_p3_dev\\lib\\site-packages\\pandas\\io\\clipboards.py:117: FutureWarning: The signature of `Series.to_csv` was aligned to that of `DataFrame.to_csv`, and argument 'header' will change its default value from False to True: please pass an explicit value to suppress this warning.\n",
      "  obj.to_csv(buf, sep=sep, encoding=\"utf-8\", **kwargs)\n"
     ]
    }
   ],
   "source": [
    "ms2_df.index.get_level_values(0).unique()"
   ]
  },
  {
   "cell_type": "code",
   "execution_count": null,
   "metadata": {
    "pycharm": {
     "name": "#%%\n"
    }
   },
   "outputs": [],
   "source": [
    "def precur_msmslists_from(ms2_df, samples, occupancy=1):\n",
    "    # TODO Wes McKinney (pandas' author) in Python for Data Analysis, https://stackoverflow.com/questions/14734533/how-to-access-pandas-groupby-dataframe-by-key\n",
    "    precurs = []\n",
    "    msmslists = []\n",
    "\n",
    "    add_group_no_ms2_df(ms2_df, occupancy=occupancy)\n",
    "    for idx, g_df in ms2_df.groupby(level=0):\n",
    "        precurs.append(idx)\n",
    "        msms_list = [\n",
    "            ms2entry_factory(*e, samples) for e in mass_inty_generator_prec_ms2(g_df)\n",
    "        ]\n",
    "        msmslists.append(msms_list)\n",
    "\n",
    "\n",
    "    return [precurs, msmslists]\n"
   ]
  },
  {
   "cell_type": "code",
   "execution_count": null,
   "metadata": {
    "pycharm": {
     "name": "#%%\n"
    }
   },
   "outputs": [],
   "source": [
    "ms2_df.loc[999.85].to_clipboard()"
   ]
  }
 ],
 "metadata": {
  "interpreter": {
   "hash": "dd2dc0883e3e52ae9befafd21e38d2af5267660941e4535445d12b41bacc5e12"
  },
  "kernelspec": {
   "display_name": "Python 3.7.5 ('lx128_p3_dev')",
   "language": "python",
   "name": "python3"
  },
  "language_info": {
   "codemirror_mode": {
    "name": "ipython",
    "version": 3
   },
   "file_extension": ".py",
   "mimetype": "text/x-python",
   "name": "python",
   "nbconvert_exporter": "python",
   "pygments_lexer": "ipython3",
   "version": "3.7.5"
  },
  "orig_nbformat": 4
 },
 "nbformat": 4,
 "nbformat_minor": 2
}
