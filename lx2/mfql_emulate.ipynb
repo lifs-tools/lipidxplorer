{
 "nbformat": 4,
 "nbformat_minor": 2,
 "metadata": {
  "language_info": {
   "name": "python",
   "codemirror_mode": {
    "name": "ipython",
    "version": 3
   },
   "version": "3.7.5-final"
  },
  "orig_nbformat": 2,
  "file_extension": ".py",
  "mimetype": "text/x-python",
  "name": "python",
  "npconvert_exporter": "python",
  "pygments_lexer": "ipython3",
  "version": 3,
  "kernelspec": {
   "name": "python37564bitlx128p3conda4d81a18c83ee4d05a10bc59b4a5bf844",
   "display_name": "Python 3.7.5 64-bit ('lx128_p3': conda)"
  }
 },
 "cells": [
  {
   "cell_type": "markdown",
   "metadata": {},
   "outputs": [],
   "source": [
    "```\n",
    "QUERYNAME = CholesterolMSMS;\n",
    "DEFINE PR = 'C[41..49] H[30..200] O[2] N[1]' WITH DBR = (4.5,10.5), CHG = +1;\n",
    "DEFINE FR ='C[27] H[45]' WITH DBR = (1,8), CHG = +1;\n",
    "\n",
    "IDENTIFY\n",
    "\n",
    "\tPR IN MS1+ AND\n",
    "\tFR in MS2+\n",
    "\n",
    "SUCHTHAT\n",
    "\t(avg(FR.intensity)/avg(PR.intensity) >=0.1 AND avg(FR.intensity)/avg(PR.intensity) <=10) AND\n",
    "\tPR.chemsc[C]/PR.chemsc[db] >= 4.6\n",
    "\n",
    "REPORT \n",
    "\n",
    "\tSPECIE = \"CE %d:%d\" % \"((PR.chemsc)[C] - 27, (PR.chemsc)[db] - 4.5)\";  \n",
    "\tCLASS = \"CE\";\n",
    "\tMASS = PR.mass;\n",
    "\tISOBARIC = PR.isobaric;\n",
    "\tCHEMSC = PR.chemsc;\n",
    "\tERRppm = \"%2.2f\" % \"(PR.errppm)\";\n",
    "\tFRERRppm = \"%2.2f\" % \"(FR.errppm)\";\n",
    "\tINT = FR.intensity;\n",
    "\tQUALA = PR.intensity;\n",
    "```"
   ]
  },
  {
   "cell_type": "code",
   "execution_count": 1,
   "metadata": {},
   "outputs": [],
   "source": [
    "from targets import MFQL_util\n",
    "from MS_reader import SpectraUtil"
   ]
  },
  {
   "cell_type": "code",
   "execution_count": 2,
   "metadata": {},
   "outputs": [],
   "source": [
    "QUERYNAME = 'CholesterolMSMS'"
   ]
  },
  {
   "cell_type": "code",
   "execution_count": 3,
   "metadata": {},
   "outputs": [],
   "source": [
    "elements = {'C':(41,49),'H':(30,200),'O':(2,2),'N':(1,1),'P':(1,1) }      \n",
    "PR = MFQL_util(elements)\n",
    "PR.set_dbr(4.5,10.5)"
   ]
  },
  {
   "cell_type": "code",
   "execution_count": 4,
   "metadata": {},
   "outputs": [],
   "source": [
    "elements = {'C':(27,27),'H':(45,45) }      \n",
    "FR = MFQL_util(elements)\n",
    "FR.set_dbr(1,8)"
   ]
  },
  {
   "cell_type": "code",
   "execution_count": 5,
   "metadata": {},
   "outputs": [
    {
     "data": {
      "text/plain": "0    C27 H45\nName: chem, dtype: object"
     },
     "execution_count": 5,
     "metadata": {},
     "output_type": "execute_result"
    }
   ],
   "source": [
    "FR._df.chem"
   ]
  },
  {
   "cell_type": "code",
   "execution_count": 6,
   "metadata": {},
   "outputs": [],
   "source": [
    "filename = '..\\\\test_resources\\\\small_test\\\\190321_Serum_Lipidextract_368723_01.mzML'\n",
    "spectraUtil = SpectraUtil.fromFile(filename, test_sample=True)"
   ]
  },
  {
   "cell_type": "code",
   "execution_count": 7,
   "metadata": {},
   "outputs": [
    {
     "name": "stdout",
     "output_type": "stream",
     "text": "a copy of the original with nothing set... sorry no undo\nset mode to positive : True, (false means negative) \nset ms level to  : 1\nset mode to positive : True, (false means negative) \nset ms level to  : 2\n"
    }
   ],
   "source": [
    "MS1 = spectraUtil\n",
    "MS2 = spectraUtil.get_reset_copy()\n",
    "MS1.set_mode()\n",
    "MS1.set_ms_level()\n",
    "MS2.set_mode()\n",
    "MS2.set_ms_level(2)\n"
   ]
  },
  {
   "cell_type": "code",
   "execution_count": 8,
   "metadata": {},
   "outputs": [
    {
     "name": "stdout",
     "output_type": "stream",
     "text": "find the nearest Peaks to the target_peaks with a tolerance of 0.01\nfind the nearest Peaks to the target_peaks with a tolerance of 0.01\n"
    }
   ],
   "source": [
    "MS1_match = MS1.get_nearest(PR._df)\n",
    "MS2_match = MS2.get_nearest(FR._df)"
   ]
  },
  {
   "cell_type": "markdown",
   "metadata": {},
   "outputs": [],
   "source": [
    "## get only the nearest peak in each scan"
   ]
  },
  {
   "cell_type": "code",
   "execution_count": 9,
   "metadata": {},
   "outputs": [
    {
     "data": {
      "text/plain": "(302, 12)"
     },
     "execution_count": 9,
     "metadata": {},
     "output_type": "execute_result"
    }
   ],
   "source": [
    "MS1_match.shape"
   ]
  },
  {
   "cell_type": "code",
   "execution_count": 10,
   "metadata": {},
   "outputs": [
    {
     "name": "stderr",
     "output_type": "stream",
     "text": "C:\\Users\\mirandaa\\Anaconda3\\envs\\lx128_p3\\lib\\site-packages\\pandas\\core\\frame.py:4117: SettingWithCopyWarning: \nA value is trying to be set on a copy of a slice from a DataFrame\n\nSee the caveats in the documentation: http://pandas.pydata.org/pandas-docs/stable/user_guide/indexing.html#returning-a-view-versus-a-copy\n  errors=errors,\n"
    }
   ],
   "source": [
    "MS1_match = MFQL_util.keepMinErrorPeaks(MS1_match)\n",
    "MS2_match = MFQL_util.keepMinErrorPeaks(MS2_match)"
   ]
  },
  {
   "cell_type": "code",
   "execution_count": 11,
   "metadata": {},
   "outputs": [
    {
     "data": {
      "text/plain": "(296, 13)"
     },
     "execution_count": 11,
     "metadata": {},
     "output_type": "execute_result"
    }
   ],
   "source": [
    "MS1_match.shape"
   ]
  },
  {
   "cell_type": "code",
   "execution_count": 12,
   "metadata": {},
   "outputs": [],
   "source": [
    "all_match = MFQL_util.makeAllCombo(MS1_match, MS2_match)"
   ]
  },
  {
   "cell_type": "code",
   "execution_count": 13,
   "metadata": {},
   "outputs": [
    {
     "data": {
      "text/plain": "Index(['PR_id', 'PR_m', 'PR_i', 'PR_index', 'PR_C', 'PR_H', 'PR_O', 'PR_N',\n       'PR_P', 'PR_dbr', 'PR_chem', 'PR_target', 'PR_err', 'FR_id', 'FR_m',\n       'FR_i', 'FR_index', 'FR_C', 'FR_H', 'FR_dbr', 'FR_chem', 'FR_target',\n       'FR_err'],\n      dtype='object')"
     },
     "execution_count": 13,
     "metadata": {},
     "output_type": "execute_result"
    }
   ],
   "source": [
    "all_match.columns"
   ]
  },
  {
   "cell_type": "code",
   "execution_count": 18,
   "metadata": {},
   "outputs": [],
   "source": [
    "# # (avg(FR.intensity)/avg(PR.intensity) >=0.1 AND avg(FR.intensity)/avg(PR.intensity) <=10) AND\n",
    "# \tPR.chemsc[C]/PR.chemsc[db] >= 4.6\n",
    "\n",
    "ST = all_match.query('FR_i/PR_i >= 0.1 and FR_i/PR_i <= 10 and PR_C/PR_dbr >= 4.6')"
   ]
  },
  {
   "cell_type": "markdown",
   "metadata": {},
   "outputs": [],
   "source": [
    "# make it a summary like the current lx, \n",
    "# one entry one line\n"
   ]
  },
  {
   "cell_type": "code",
   "execution_count": 19,
   "metadata": {},
   "outputs": [
    {
     "name": "stderr",
     "output_type": "stream",
     "text": "c:\\Users\\mirandaa\\Desktop\\lx128_p3\\lipidxplorer\\lx2\\targets.py:81: SettingWithCopyWarning: \nA value is trying to be set on a copy of a slice from a DataFrame\n\nSee the caveats in the documentation: http://pandas.pydata.org/pandas-docs/stable/user_guide/indexing.html#returning-a-view-versus-a-copy\n  all_df.sort_values(['PR_err', 'FR_err'], inplace = True)\n"
    }
   ],
   "source": [
    "pr_df, fr_df = MFQL_util.devideAddCombo(ST)"
   ]
  },
  {
   "cell_type": "code",
   "execution_count": 20,
   "metadata": {},
   "outputs": [
    {
     "data": {
      "text/html": "<div>\n<style scoped>\n    .dataframe tbody tr th:only-of-type {\n        vertical-align: middle;\n    }\n\n    .dataframe tbody tr th {\n        vertical-align: top;\n    }\n\n    .dataframe thead th {\n        text-align: right;\n    }\n</style>\n<table border=\"1\" class=\"dataframe\">\n  <thead>\n    <tr style=\"text-align: right;\">\n      <th></th>\n      <th>PR_id</th>\n      <th>PR_m</th>\n      <th>PR_i</th>\n      <th>PR_index</th>\n      <th>PR_C</th>\n      <th>PR_H</th>\n      <th>PR_O</th>\n      <th>PR_N</th>\n      <th>PR_P</th>\n      <th>PR_dbr</th>\n      <th>PR_chem</th>\n      <th>PR_target</th>\n      <th>PR_err</th>\n    </tr>\n  </thead>\n  <tbody>\n    <tr>\n      <th>784</th>\n      <td>controllerType=0 controllerNumber=1 scan=8</td>\n      <td>645.561218</td>\n      <td>84917.601562</td>\n      <td>46.0</td>\n      <td>41.0</td>\n      <td>76.0</td>\n      <td>2.0</td>\n      <td>1.0</td>\n      <td>1.0</td>\n      <td>4.5</td>\n      <td>C41 H76 O2 N1 P1</td>\n      <td>645.56134</td>\n      <td>0.000122</td>\n    </tr>\n    <tr>\n      <th>757</th>\n      <td>controllerType=0 controllerNumber=1 scan=17</td>\n      <td>645.559509</td>\n      <td>255222.156250</td>\n      <td>46.0</td>\n      <td>41.0</td>\n      <td>76.0</td>\n      <td>2.0</td>\n      <td>1.0</td>\n      <td>1.0</td>\n      <td>4.5</td>\n      <td>C41 H76 O2 N1 P1</td>\n      <td>645.56134</td>\n      <td>0.001831</td>\n    </tr>\n    <tr>\n      <th>730</th>\n      <td>controllerType=0 controllerNumber=1 scan=21</td>\n      <td>645.559509</td>\n      <td>153122.875000</td>\n      <td>46.0</td>\n      <td>41.0</td>\n      <td>76.0</td>\n      <td>2.0</td>\n      <td>1.0</td>\n      <td>1.0</td>\n      <td>4.5</td>\n      <td>C41 H76 O2 N1 P1</td>\n      <td>645.56134</td>\n      <td>0.001831</td>\n    </tr>\n    <tr>\n      <th>703</th>\n      <td>controllerType=0 controllerNumber=1 scan=22</td>\n      <td>645.559509</td>\n      <td>154247.328125</td>\n      <td>46.0</td>\n      <td>41.0</td>\n      <td>76.0</td>\n      <td>2.0</td>\n      <td>1.0</td>\n      <td>1.0</td>\n      <td>4.5</td>\n      <td>C41 H76 O2 N1 P1</td>\n      <td>645.56134</td>\n      <td>0.001831</td>\n    </tr>\n    <tr>\n      <th>676</th>\n      <td>controllerType=0 controllerNumber=1 scan=14</td>\n      <td>645.559387</td>\n      <td>237835.984375</td>\n      <td>46.0</td>\n      <td>41.0</td>\n      <td>76.0</td>\n      <td>2.0</td>\n      <td>1.0</td>\n      <td>1.0</td>\n      <td>4.5</td>\n      <td>C41 H76 O2 N1 P1</td>\n      <td>645.56134</td>\n      <td>0.001953</td>\n    </tr>\n    <tr>\n      <th>650</th>\n      <td>controllerType=0 controllerNumber=1 scan=20</td>\n      <td>645.559326</td>\n      <td>468750.468750</td>\n      <td>46.0</td>\n      <td>41.0</td>\n      <td>76.0</td>\n      <td>2.0</td>\n      <td>1.0</td>\n      <td>1.0</td>\n      <td>4.5</td>\n      <td>C41 H76 O2 N1 P1</td>\n      <td>645.56134</td>\n      <td>0.002014</td>\n    </tr>\n    <tr>\n      <th>622</th>\n      <td>controllerType=0 controllerNumber=1 scan=13</td>\n      <td>645.559265</td>\n      <td>627203.062500</td>\n      <td>46.0</td>\n      <td>41.0</td>\n      <td>76.0</td>\n      <td>2.0</td>\n      <td>1.0</td>\n      <td>1.0</td>\n      <td>4.5</td>\n      <td>C41 H76 O2 N1 P1</td>\n      <td>645.56134</td>\n      <td>0.002075</td>\n    </tr>\n    <tr>\n      <th>595</th>\n      <td>controllerType=0 controllerNumber=1 scan=11</td>\n      <td>645.559204</td>\n      <td>516790.125000</td>\n      <td>46.0</td>\n      <td>41.0</td>\n      <td>76.0</td>\n      <td>2.0</td>\n      <td>1.0</td>\n      <td>1.0</td>\n      <td>4.5</td>\n      <td>C41 H76 O2 N1 P1</td>\n      <td>645.56134</td>\n      <td>0.002136</td>\n    </tr>\n    <tr>\n      <th>569</th>\n      <td>controllerType=0 controllerNumber=1 scan=24</td>\n      <td>645.559143</td>\n      <td>408192.218750</td>\n      <td>46.0</td>\n      <td>41.0</td>\n      <td>76.0</td>\n      <td>2.0</td>\n      <td>1.0</td>\n      <td>1.0</td>\n      <td>4.5</td>\n      <td>C41 H76 O2 N1 P1</td>\n      <td>645.56134</td>\n      <td>0.002197</td>\n    </tr>\n    <tr>\n      <th>541</th>\n      <td>controllerType=0 controllerNumber=1 scan=23</td>\n      <td>645.559082</td>\n      <td>777978.062500</td>\n      <td>46.0</td>\n      <td>41.0</td>\n      <td>76.0</td>\n      <td>2.0</td>\n      <td>1.0</td>\n      <td>1.0</td>\n      <td>4.5</td>\n      <td>C41 H76 O2 N1 P1</td>\n      <td>645.56134</td>\n      <td>0.002258</td>\n    </tr>\n    <tr>\n      <th>514</th>\n      <td>controllerType=0 controllerNumber=1 scan=29</td>\n      <td>645.559082</td>\n      <td>558763.312500</td>\n      <td>46.0</td>\n      <td>41.0</td>\n      <td>76.0</td>\n      <td>2.0</td>\n      <td>1.0</td>\n      <td>1.0</td>\n      <td>4.5</td>\n      <td>C41 H76 O2 N1 P1</td>\n      <td>645.56134</td>\n      <td>0.002258</td>\n    </tr>\n    <tr>\n      <th>487</th>\n      <td>controllerType=0 controllerNumber=1 scan=30</td>\n      <td>645.559021</td>\n      <td>271163.031250</td>\n      <td>46.0</td>\n      <td>41.0</td>\n      <td>76.0</td>\n      <td>2.0</td>\n      <td>1.0</td>\n      <td>1.0</td>\n      <td>4.5</td>\n      <td>C41 H76 O2 N1 P1</td>\n      <td>645.56134</td>\n      <td>0.002319</td>\n    </tr>\n    <tr>\n      <th>461</th>\n      <td>controllerType=0 controllerNumber=1 scan=28</td>\n      <td>645.558960</td>\n      <td>491129.250000</td>\n      <td>46.0</td>\n      <td>41.0</td>\n      <td>76.0</td>\n      <td>2.0</td>\n      <td>1.0</td>\n      <td>1.0</td>\n      <td>4.5</td>\n      <td>C41 H76 O2 N1 P1</td>\n      <td>645.56134</td>\n      <td>0.002380</td>\n    </tr>\n    <tr>\n      <th>433</th>\n      <td>controllerType=0 controllerNumber=1 scan=25</td>\n      <td>645.558899</td>\n      <td>125685.617188</td>\n      <td>46.0</td>\n      <td>41.0</td>\n      <td>76.0</td>\n      <td>2.0</td>\n      <td>1.0</td>\n      <td>1.0</td>\n      <td>4.5</td>\n      <td>C41 H76 O2 N1 P1</td>\n      <td>645.56134</td>\n      <td>0.002441</td>\n    </tr>\n    <tr>\n      <th>406</th>\n      <td>controllerType=0 controllerNumber=1 scan=12</td>\n      <td>645.558899</td>\n      <td>467641.750000</td>\n      <td>46.0</td>\n      <td>41.0</td>\n      <td>76.0</td>\n      <td>2.0</td>\n      <td>1.0</td>\n      <td>1.0</td>\n      <td>4.5</td>\n      <td>C41 H76 O2 N1 P1</td>\n      <td>645.56134</td>\n      <td>0.002441</td>\n    </tr>\n    <tr>\n      <th>379</th>\n      <td>controllerType=0 controllerNumber=1 scan=9</td>\n      <td>645.558777</td>\n      <td>118809.257812</td>\n      <td>46.0</td>\n      <td>41.0</td>\n      <td>76.0</td>\n      <td>2.0</td>\n      <td>1.0</td>\n      <td>1.0</td>\n      <td>4.5</td>\n      <td>C41 H76 O2 N1 P1</td>\n      <td>645.56134</td>\n      <td>0.002563</td>\n    </tr>\n    <tr>\n      <th>352</th>\n      <td>controllerType=0 controllerNumber=1 scan=26</td>\n      <td>645.558777</td>\n      <td>663011.687500</td>\n      <td>46.0</td>\n      <td>41.0</td>\n      <td>76.0</td>\n      <td>2.0</td>\n      <td>1.0</td>\n      <td>1.0</td>\n      <td>4.5</td>\n      <td>C41 H76 O2 N1 P1</td>\n      <td>645.56134</td>\n      <td>0.002563</td>\n    </tr>\n    <tr>\n      <th>325</th>\n      <td>controllerType=0 controllerNumber=1 scan=15</td>\n      <td>645.558716</td>\n      <td>285562.750000</td>\n      <td>46.0</td>\n      <td>41.0</td>\n      <td>76.0</td>\n      <td>2.0</td>\n      <td>1.0</td>\n      <td>1.0</td>\n      <td>4.5</td>\n      <td>C41 H76 O2 N1 P1</td>\n      <td>645.56134</td>\n      <td>0.002625</td>\n    </tr>\n    <tr>\n      <th>298</th>\n      <td>controllerType=0 controllerNumber=1 scan=27</td>\n      <td>645.558533</td>\n      <td>192730.390625</td>\n      <td>46.0</td>\n      <td>41.0</td>\n      <td>76.0</td>\n      <td>2.0</td>\n      <td>1.0</td>\n      <td>1.0</td>\n      <td>4.5</td>\n      <td>C41 H76 O2 N1 P1</td>\n      <td>645.56134</td>\n      <td>0.002808</td>\n    </tr>\n    <tr>\n      <th>271</th>\n      <td>controllerType=0 controllerNumber=1 scan=19</td>\n      <td>645.558411</td>\n      <td>154079.125000</td>\n      <td>46.0</td>\n      <td>41.0</td>\n      <td>76.0</td>\n      <td>2.0</td>\n      <td>1.0</td>\n      <td>1.0</td>\n      <td>4.5</td>\n      <td>C41 H76 O2 N1 P1</td>\n      <td>645.56134</td>\n      <td>0.002930</td>\n    </tr>\n    <tr>\n      <th>244</th>\n      <td>controllerType=0 controllerNumber=1 scan=10</td>\n      <td>645.558167</td>\n      <td>119778.851562</td>\n      <td>46.0</td>\n      <td>41.0</td>\n      <td>76.0</td>\n      <td>2.0</td>\n      <td>1.0</td>\n      <td>1.0</td>\n      <td>4.5</td>\n      <td>C41 H76 O2 N1 P1</td>\n      <td>645.56134</td>\n      <td>0.003174</td>\n    </tr>\n  </tbody>\n</table>\n</div>",
      "text/plain": "                                           PR_id        PR_m           PR_i  \\\n784   controllerType=0 controllerNumber=1 scan=8  645.561218   84917.601562   \n757  controllerType=0 controllerNumber=1 scan=17  645.559509  255222.156250   \n730  controllerType=0 controllerNumber=1 scan=21  645.559509  153122.875000   \n703  controllerType=0 controllerNumber=1 scan=22  645.559509  154247.328125   \n676  controllerType=0 controllerNumber=1 scan=14  645.559387  237835.984375   \n650  controllerType=0 controllerNumber=1 scan=20  645.559326  468750.468750   \n622  controllerType=0 controllerNumber=1 scan=13  645.559265  627203.062500   \n595  controllerType=0 controllerNumber=1 scan=11  645.559204  516790.125000   \n569  controllerType=0 controllerNumber=1 scan=24  645.559143  408192.218750   \n541  controllerType=0 controllerNumber=1 scan=23  645.559082  777978.062500   \n514  controllerType=0 controllerNumber=1 scan=29  645.559082  558763.312500   \n487  controllerType=0 controllerNumber=1 scan=30  645.559021  271163.031250   \n461  controllerType=0 controllerNumber=1 scan=28  645.558960  491129.250000   \n433  controllerType=0 controllerNumber=1 scan=25  645.558899  125685.617188   \n406  controllerType=0 controllerNumber=1 scan=12  645.558899  467641.750000   \n379   controllerType=0 controllerNumber=1 scan=9  645.558777  118809.257812   \n352  controllerType=0 controllerNumber=1 scan=26  645.558777  663011.687500   \n325  controllerType=0 controllerNumber=1 scan=15  645.558716  285562.750000   \n298  controllerType=0 controllerNumber=1 scan=27  645.558533  192730.390625   \n271  controllerType=0 controllerNumber=1 scan=19  645.558411  154079.125000   \n244  controllerType=0 controllerNumber=1 scan=10  645.558167  119778.851562   \n\n     PR_index  PR_C  PR_H  PR_O  PR_N  PR_P  PR_dbr           PR_chem  \\\n784      46.0  41.0  76.0   2.0   1.0   1.0     4.5  C41 H76 O2 N1 P1   \n757      46.0  41.0  76.0   2.0   1.0   1.0     4.5  C41 H76 O2 N1 P1   \n730      46.0  41.0  76.0   2.0   1.0   1.0     4.5  C41 H76 O2 N1 P1   \n703      46.0  41.0  76.0   2.0   1.0   1.0     4.5  C41 H76 O2 N1 P1   \n676      46.0  41.0  76.0   2.0   1.0   1.0     4.5  C41 H76 O2 N1 P1   \n650      46.0  41.0  76.0   2.0   1.0   1.0     4.5  C41 H76 O2 N1 P1   \n622      46.0  41.0  76.0   2.0   1.0   1.0     4.5  C41 H76 O2 N1 P1   \n595      46.0  41.0  76.0   2.0   1.0   1.0     4.5  C41 H76 O2 N1 P1   \n569      46.0  41.0  76.0   2.0   1.0   1.0     4.5  C41 H76 O2 N1 P1   \n541      46.0  41.0  76.0   2.0   1.0   1.0     4.5  C41 H76 O2 N1 P1   \n514      46.0  41.0  76.0   2.0   1.0   1.0     4.5  C41 H76 O2 N1 P1   \n487      46.0  41.0  76.0   2.0   1.0   1.0     4.5  C41 H76 O2 N1 P1   \n461      46.0  41.0  76.0   2.0   1.0   1.0     4.5  C41 H76 O2 N1 P1   \n433      46.0  41.0  76.0   2.0   1.0   1.0     4.5  C41 H76 O2 N1 P1   \n406      46.0  41.0  76.0   2.0   1.0   1.0     4.5  C41 H76 O2 N1 P1   \n379      46.0  41.0  76.0   2.0   1.0   1.0     4.5  C41 H76 O2 N1 P1   \n352      46.0  41.0  76.0   2.0   1.0   1.0     4.5  C41 H76 O2 N1 P1   \n325      46.0  41.0  76.0   2.0   1.0   1.0     4.5  C41 H76 O2 N1 P1   \n298      46.0  41.0  76.0   2.0   1.0   1.0     4.5  C41 H76 O2 N1 P1   \n271      46.0  41.0  76.0   2.0   1.0   1.0     4.5  C41 H76 O2 N1 P1   \n244      46.0  41.0  76.0   2.0   1.0   1.0     4.5  C41 H76 O2 N1 P1   \n\n     PR_target    PR_err  \n784  645.56134  0.000122  \n757  645.56134  0.001831  \n730  645.56134  0.001831  \n703  645.56134  0.001831  \n676  645.56134  0.001953  \n650  645.56134  0.002014  \n622  645.56134  0.002075  \n595  645.56134  0.002136  \n569  645.56134  0.002197  \n541  645.56134  0.002258  \n514  645.56134  0.002258  \n487  645.56134  0.002319  \n461  645.56134  0.002380  \n433  645.56134  0.002441  \n406  645.56134  0.002441  \n379  645.56134  0.002563  \n352  645.56134  0.002563  \n325  645.56134  0.002625  \n298  645.56134  0.002808  \n271  645.56134  0.002930  \n244  645.56134  0.003174  "
     },
     "execution_count": 20,
     "metadata": {},
     "output_type": "execute_result"
    }
   ],
   "source": [
    "pr_df[pr_df.PR_chem== 'C41 H76 O2 N1 P1']"
   ]
  },
  {
   "cell_type": "code",
   "execution_count": 21,
   "metadata": {},
   "outputs": [
    {
     "data": {
      "text/html": "<div>\n<style scoped>\n    .dataframe tbody tr th:only-of-type {\n        vertical-align: middle;\n    }\n\n    .dataframe tbody tr th {\n        vertical-align: top;\n    }\n\n    .dataframe thead th {\n        text-align: right;\n    }\n</style>\n<table border=\"1\" class=\"dataframe\">\n  <thead>\n    <tr style=\"text-align: right;\">\n      <th></th>\n      <th>PR_chem</th>\n      <th>PR_m_mean</th>\n      <th>PR_m_std</th>\n      <th>PR_ppm_mean</th>\n      <th>PR_i_mean</th>\n      <th>PR_i_std</th>\n      <th>PR_count</th>\n    </tr>\n  </thead>\n  <tbody>\n    <tr>\n      <th>34</th>\n      <td>C49 H85 O2 N1 P1</td>\n      <td>750.640686</td>\n      <td>0.000642</td>\n      <td>11.925718</td>\n      <td>95714.500000</td>\n      <td>40528.929688</td>\n      <td>3</td>\n    </tr>\n    <tr>\n      <th>3</th>\n      <td>C42 H69 O2 N1 P1</td>\n      <td>650.498413</td>\n      <td>NaN</td>\n      <td>12.572833</td>\n      <td>134658.078125</td>\n      <td>NaN</td>\n      <td>1</td>\n    </tr>\n    <tr>\n      <th>35</th>\n      <td>C49 H88 O2 N1 P1</td>\n      <td>753.664856</td>\n      <td>NaN</td>\n      <td>12.714725</td>\n      <td>55418.605469</td>\n      <td>NaN</td>\n      <td>1</td>\n    </tr>\n    <tr>\n      <th>26</th>\n      <td>C47 H84 O2 N1 P1</td>\n      <td>725.633789</td>\n      <td>0.000122</td>\n      <td>13.584416</td>\n      <td>150926.343750</td>\n      <td>16780.466797</td>\n      <td>4</td>\n    </tr>\n  </tbody>\n</table>\n</div>",
      "text/plain": "             PR_chem   PR_m_mean  PR_m_std  PR_ppm_mean      PR_i_mean  \\\n34  C49 H85 O2 N1 P1  750.640686  0.000642    11.925718   95714.500000   \n3   C42 H69 O2 N1 P1  650.498413       NaN    12.572833  134658.078125   \n35  C49 H88 O2 N1 P1  753.664856       NaN    12.714725   55418.605469   \n26  C47 H84 O2 N1 P1  725.633789  0.000122    13.584416  150926.343750   \n\n        PR_i_std  PR_count  \n34  40528.929688         3  \n3            NaN         1  \n35           NaN         1  \n26  16780.466797         4  "
     },
     "execution_count": 21,
     "metadata": {},
     "output_type": "execute_result"
    }
   ],
   "source": [
    "sum_df = MFQL_util.summaryDF(pr_df)\n",
    "sum_df"
   ]
  },
  {
   "cell_type": "code",
   "execution_count": null,
   "metadata": {},
   "outputs": [],
   "source": []
  }
 ]
}