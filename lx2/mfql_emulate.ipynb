{
 "nbformat": 4,
 "nbformat_minor": 2,
 "metadata": {
  "language_info": {
   "name": "python",
   "codemirror_mode": {
    "name": "ipython",
    "version": 3
   },
   "version": "3.7.5-final"
  },
  "orig_nbformat": 2,
  "file_extension": ".py",
  "mimetype": "text/x-python",
  "name": "python",
  "npconvert_exporter": "python",
  "pygments_lexer": "ipython3",
  "version": 3,
  "kernelspec": {
   "name": "python37564bitlx128p3conda4d81a18c83ee4d05a10bc59b4a5bf844",
   "display_name": "Python 3.7.5 64-bit ('lx128_p3': conda)"
  }
 },
 "cells": [
  {
   "cell_type": "markdown",
   "metadata": {},
   "outputs": [],
   "source": [
    "```\n",
    "QUERYNAME = CholesterolMSMS;\n",
    "DEFINE PR = 'C[41..49] H[30..200] O[2] N[1]' WITH DBR = (4.5,10.5), CHG = +1;\n",
    "DEFINE FR ='C[27] H[45]' WITH DBR = (1,8), CHG = +1;\n",
    "\n",
    "IDENTIFY\n",
    "\n",
    "\tPR IN MS1+ AND\n",
    "\tFR in MS2+\n",
    "\n",
    "SUCHTHAT\n",
    "\t(avg(FR.intensity)/avg(PR.intensity) >=0.1 AND avg(FR.intensity)/avg(PR.intensity) <=10) AND\n",
    "\tPR.chemsc[C]/PR.chemsc[db] >= 4.6\n",
    "\n",
    "REPORT \n",
    "\n",
    "\tSPECIE = \"CE %d:%d\" % \"((PR.chemsc)[C] - 27, (PR.chemsc)[db] - 4.5)\";  \n",
    "\tCLASS = \"CE\";\n",
    "\tMASS = PR.mass;\n",
    "\tISOBARIC = PR.isobaric;\n",
    "\tCHEMSC = PR.chemsc;\n",
    "\tERRppm = \"%2.2f\" % \"(PR.errppm)\";\n",
    "\tFRERRppm = \"%2.2f\" % \"(FR.errppm)\";\n",
    "\tINT = FR.intensity;\n",
    "\tQUALA = PR.intensity;\n",
    "```"
   ]
  },
  {
   "cell_type": "code",
   "execution_count": 23,
   "metadata": {},
   "outputs": [],
   "source": [
    "from targets import Targets_util\n",
    "from MS_reader import SpectraUtil\n",
    "from mfql_Parser import fromFile "
   ]
  },
  {
   "cell_type": "code",
   "execution_count": 24,
   "metadata": {},
   "outputs": [],
   "source": [
    "from chemParser import txt2dict"
   ]
  },
  {
   "cell_type": "code",
   "execution_count": 25,
   "metadata": {},
   "outputs": [],
   "source": [
    "filename = '..\\\\test_resources\\\\small_test\\\\170213_CE_pos_MSMS.mfql'\n",
    "mfql_dict = fromFile(filename)"
   ]
  },
  {
   "cell_type": "code",
   "execution_count": 26,
   "metadata": {},
   "outputs": [
    {
     "data": {
      "text/plain": "{'scriptname': 'CholesterolMSMS',\n 'variables': [Var(id='PR', object=ElementSeq(txt='C[41..49] H[30..200] O[2] N[1]'), Options={'dbr': (4.5, 10.5), 'chg': 1}),\n  Var(id='FR', object=ElementSeq(txt='C[27] H[45]'), Options={'dbr': (1, 8), 'chg': 1})],\n 'identification': Evaluable(operation='AND', term_1=Evaluable(operation='IN', term_1='PR', term_2='MS1+'), term_2=Evaluable(operation='IN', term_1='FR', term_2='MS2+')),\n 'suchthat': Evaluable(operation='AND', term_1=Evaluable(operation='AND', term_1=Evaluable(operation='>=', term_1=Evaluable(operation='/', term_1=Func(func='avg', on=[Obj(p_rule='p_withAttr_id', p_values=['FR', '.', 'intensity'])]), term_2=Func(func='avg', on=[Obj(p_rule='p_withAttr_id', p_values=['PR', '.', 'intensity'])])), term_2=0.1), term_2=Evaluable(operation='<=', term_1=Evaluable(operation='/', term_1=Func(func='avg', on=[Obj(p_rule='p_withAttr_id', p_values=['FR', '.', 'intensity'])]), term_2=Func(func='avg', on=[Obj(p_rule='p_withAttr_id', p_values=['PR', '.', 'intensity'])])), term_2=10)), term_2=Evaluable(operation='>=', term_1=Evaluable(operation='/', term_1=Obj(p_rule='p_withAttr_accessItem_', p_values=['PR', '.', 'chemsc', '[', 'C', ']']), term_2=Obj(p_rule='p_withAttr_accessItem_', p_values=['PR', '.', 'chemsc', '[', 'db', ']'])), term_2=4.6)),\n 'report': [ReportItem(id='SPECIE', p_values=['\"CE %d:%d\"', '%', '\"((PR.chemsc)[C] - 27, (PR.chemsc)[db] - 4.5)\"']),\n  ReportItem(id='CLASS', p_values=['CE']),\n  ReportItem(id='MASS', p_values=[Obj(p_rule='p_withAttr_id', p_values=['PR', '.', 'mass'])]),\n  ReportItem(id='IDMSLEVEL', p_values=[2]),\n  ReportItem(id='QUANTMSLEVEL', p_values=[2]),\n  ReportItem(id='ISOBARIC', p_values=[Obj(p_rule='p_withAttr_id', p_values=['PR', '.', 'isobaric'])]),\n  ReportItem(id='CHEMSC', p_values=[Obj(p_rule='p_withAttr_id', p_values=['PR', '.', 'chemsc'])]),\n  ReportItem(id='ERRppm', p_values=['\"%2.2f\"', '%', '\"(PR.errppm)\"']),\n  ReportItem(id='FRERRppm', p_values=['\"%2.2f\"', '%', '\"(FR.errppm)\"']),\n  ReportItem(id='INT', p_values=[Obj(p_rule='p_withAttr_id', p_values=['FR', '.', 'intensity'])]),\n  ReportItem(id='QUALA', p_values=[Obj(p_rule='p_withAttr_id', p_values=['PR', '.', 'intensity'])]),\n  ReportItem(id='QUALB', p_values=[Obj(p_rule='p_withAttr_id', p_values=['PR', '.', 'intensity'])]),\n  ReportItem(id='QUALC', p_values=[Obj(p_rule='p_withAttr_id', p_values=['PR', '.', 'intensity'])])]}"
     },
     "execution_count": 26,
     "metadata": {},
     "output_type": "execute_result"
    }
   ],
   "source": [
    "mfql_dict"
   ]
  },
  {
   "cell_type": "code",
   "execution_count": 27,
   "metadata": {},
   "outputs": [
    {
     "data": {
      "text/plain": "'CholesterolMSMS'"
     },
     "execution_count": 27,
     "metadata": {},
     "output_type": "execute_result"
    }
   ],
   "source": [
    "mfql_dict['scriptname']"
   ]
  },
  {
   "cell_type": "code",
   "execution_count": 28,
   "metadata": {},
   "outputs": [],
   "source": [
    "def var2Target(var):\n",
    "    elements = txt2dict(var1.object.txt)\n",
    "    target = Targets_util(elements)\n",
    "    dbrs = var.Options.get('dbr',(None, None))\n",
    "    target.set_dbr(*dbrs)\n",
    "    return target"
   ]
  },
  {
   "cell_type": "code",
   "execution_count": 29,
   "metadata": {},
   "outputs": [
    {
     "ename": "NameError",
     "evalue": "name 'var1' is not defined",
     "output_type": "error",
     "traceback": [
      "\u001b[1;31m---------------------------------------------------------------------------\u001b[0m",
      "\u001b[1;31mNameError\u001b[0m                                 Traceback (most recent call last)",
      "\u001b[1;32m<ipython-input-29-1b144c9aed87>\u001b[0m in \u001b[0;36m<module>\u001b[1;34m\u001b[0m\n\u001b[1;32m----> 1\u001b[1;33m \u001b[0mtargets\u001b[0m \u001b[1;33m=\u001b[0m \u001b[1;33m[\u001b[0m\u001b[0mvar2Target\u001b[0m\u001b[1;33m(\u001b[0m\u001b[0mvar\u001b[0m\u001b[1;33m)\u001b[0m \u001b[1;32mfor\u001b[0m \u001b[0mvar\u001b[0m \u001b[1;32min\u001b[0m \u001b[0mmfql_dict\u001b[0m\u001b[1;33m[\u001b[0m\u001b[1;34m'variables'\u001b[0m\u001b[1;33m]\u001b[0m\u001b[1;33m]\u001b[0m\u001b[1;33m\u001b[0m\u001b[1;33m\u001b[0m\u001b[0m\n\u001b[0m",
      "\u001b[1;32m<ipython-input-29-1b144c9aed87>\u001b[0m in \u001b[0;36m<listcomp>\u001b[1;34m(.0)\u001b[0m\n\u001b[1;32m----> 1\u001b[1;33m \u001b[0mtargets\u001b[0m \u001b[1;33m=\u001b[0m \u001b[1;33m[\u001b[0m\u001b[0mvar2Target\u001b[0m\u001b[1;33m(\u001b[0m\u001b[0mvar\u001b[0m\u001b[1;33m)\u001b[0m \u001b[1;32mfor\u001b[0m \u001b[0mvar\u001b[0m \u001b[1;32min\u001b[0m \u001b[0mmfql_dict\u001b[0m\u001b[1;33m[\u001b[0m\u001b[1;34m'variables'\u001b[0m\u001b[1;33m]\u001b[0m\u001b[1;33m]\u001b[0m\u001b[1;33m\u001b[0m\u001b[1;33m\u001b[0m\u001b[0m\n\u001b[0m",
      "\u001b[1;32m<ipython-input-28-05aa154dcecc>\u001b[0m in \u001b[0;36mvar2Target\u001b[1;34m(var)\u001b[0m\n\u001b[0;32m      1\u001b[0m \u001b[1;32mdef\u001b[0m \u001b[0mvar2Target\u001b[0m\u001b[1;33m(\u001b[0m\u001b[0mvar\u001b[0m\u001b[1;33m)\u001b[0m\u001b[1;33m:\u001b[0m\u001b[1;33m\u001b[0m\u001b[1;33m\u001b[0m\u001b[0m\n\u001b[1;32m----> 2\u001b[1;33m     \u001b[0melements\u001b[0m \u001b[1;33m=\u001b[0m \u001b[0mtxt2dict\u001b[0m\u001b[1;33m(\u001b[0m\u001b[0mvar1\u001b[0m\u001b[1;33m.\u001b[0m\u001b[0mobject\u001b[0m\u001b[1;33m.\u001b[0m\u001b[0mtxt\u001b[0m\u001b[1;33m)\u001b[0m\u001b[1;33m\u001b[0m\u001b[1;33m\u001b[0m\u001b[0m\n\u001b[0m\u001b[0;32m      3\u001b[0m     \u001b[0mtarget\u001b[0m \u001b[1;33m=\u001b[0m \u001b[0mTargets_util\u001b[0m\u001b[1;33m(\u001b[0m\u001b[0melements\u001b[0m\u001b[1;33m)\u001b[0m\u001b[1;33m\u001b[0m\u001b[1;33m\u001b[0m\u001b[0m\n\u001b[0;32m      4\u001b[0m     \u001b[0mdbrs\u001b[0m \u001b[1;33m=\u001b[0m \u001b[0mvar\u001b[0m\u001b[1;33m.\u001b[0m\u001b[0mOptions\u001b[0m\u001b[1;33m.\u001b[0m\u001b[0mget\u001b[0m\u001b[1;33m(\u001b[0m\u001b[1;34m'dbr'\u001b[0m\u001b[1;33m,\u001b[0m\u001b[1;33m(\u001b[0m\u001b[1;32mNone\u001b[0m\u001b[1;33m,\u001b[0m \u001b[1;32mNone\u001b[0m\u001b[1;33m)\u001b[0m\u001b[1;33m)\u001b[0m\u001b[1;33m\u001b[0m\u001b[1;33m\u001b[0m\u001b[0m\n\u001b[0;32m      5\u001b[0m     \u001b[0mtarget\u001b[0m\u001b[1;33m.\u001b[0m\u001b[0mset_dbr\u001b[0m\u001b[1;33m(\u001b[0m\u001b[1;33m*\u001b[0m\u001b[0mdbrs\u001b[0m\u001b[1;33m)\u001b[0m\u001b[1;33m\u001b[0m\u001b[1;33m\u001b[0m\u001b[0m\n",
      "\u001b[1;31mNameError\u001b[0m: name 'var1' is not defined"
     ]
    }
   ],
   "source": [
    "targets = [var2Target(var) for var in mfql_dict['variables']]\n"
   ]
  },
  {
   "cell_type": "code",
   "execution_count": 0,
   "metadata": {},
   "outputs": [],
   "source": [
    "filename = '..\\\\test_resources\\\\small_test\\\\190321_Serum_Lipidextract_368723_01.mzML'\n",
    "spectraUtil = SpectraUtil.fromFile(filename, test_sample=True)"
   ]
  },
  {
   "cell_type": "code",
   "execution_count": 0,
   "metadata": {},
   "outputs": [],
   "source": [
    "MS1 = spectraUtil\n",
    "MS2 = spectraUtil.get_reset_copy()\n",
    "MS1.set_mode()\n",
    "MS1.set_ms_level()\n",
    "MS2.set_mode()\n",
    "MS2.set_ms_level(2)\n"
   ]
  },
  {
   "cell_type": "code",
   "execution_count": 0,
   "metadata": {},
   "outputs": [],
   "source": [
    "PR = targets[0]\n",
    "FR = targets[1]\n",
    "MS1_match = MS1.get_nearest(PR._df)\n",
    "MS2_match = MS2.get_nearest(FR._df)"
   ]
  },
  {
   "cell_type": "markdown",
   "metadata": {},
   "outputs": [],
   "source": [
    "## get only the nearest peak in each scan"
   ]
  },
  {
   "cell_type": "code",
   "execution_count": 0,
   "metadata": {},
   "outputs": [],
   "source": [
    "MS1_match.shape"
   ]
  },
  {
   "cell_type": "code",
   "execution_count": 0,
   "metadata": {},
   "outputs": [],
   "source": [
    "MS1_match = Targets_util.set_max_daltons(MS1_match)\n",
    "MS2_match = Targets_util.set_max_daltons(MS2_match)"
   ]
  },
  {
   "cell_type": "code",
   "execution_count": 0,
   "metadata": {},
   "outputs": [],
   "source": [
    "MS1_match.columns"
   ]
  },
  {
   "cell_type": "code",
   "execution_count": 0,
   "metadata": {},
   "outputs": [],
   "source": [
    "MS1_match.shape"
   ]
  },
  {
   "cell_type": "code",
   "execution_count": 0,
   "metadata": {},
   "outputs": [],
   "source": [
    "all_match = Targets_util.makeAllCombo(MS1_match, MS2_match)"
   ]
  },
  {
   "cell_type": "code",
   "execution_count": 0,
   "metadata": {},
   "outputs": [],
   "source": [
    "all_match.columns"
   ]
  },
  {
   "cell_type": "code",
   "execution_count": 0,
   "metadata": {},
   "outputs": [],
   "source": [
    "# # (avg(FR.intensity)/avg(PR.intensity) >=0.1 AND avg(FR.intensity)/avg(PR.intensity) <=10) AND\n",
    "# \tPR.chemsc[C]/PR.chemsc[db] >= 4.6\n",
    "\n",
    "ST = all_match.query('FR_i/PR_i >= 0.1 and FR_i/PR_i <= 10 and PR_C/PR_dbr >= 4.6')"
   ]
  },
  {
   "cell_type": "markdown",
   "metadata": {},
   "outputs": [],
   "source": [
    "# make it a summary like the current lx, \n",
    "# one entry one line\n"
   ]
  },
  {
   "cell_type": "code",
   "execution_count": 0,
   "metadata": {},
   "outputs": [],
   "source": [
    "pr_df, fr_df = Targets_util.devideAllCombo(ST)"
   ]
  },
  {
   "cell_type": "code",
   "execution_count": 0,
   "metadata": {},
   "outputs": [],
   "source": [
    "pr_df[pr_df.PR_chem== 'C41 H76 O2 N1 P1']"
   ]
  },
  {
   "cell_type": "code",
   "execution_count": 0,
   "metadata": {},
   "outputs": [],
   "source": [
    "sum_df = Targets_util.summaryDF(pr_df, quantile=1)\n",
    "sum_df"
   ]
  },
  {
   "cell_type": "code",
   "execution_count": 0,
   "metadata": {},
   "outputs": [],
   "source": [
    "plt = Targets_util.lollipop_plot(pr_df.PR_m, pr_df.PR_i)\n",
    "plt.show()\n",
    "plt = Targets_util.lollipop_plot(fr_df.FR_m, fr_df.FR_i)\n",
    "plt.show()"
   ]
  },
  {
   "cell_type": "code",
   "execution_count": 0,
   "metadata": {},
   "outputs": [],
   "source": [
    "MFQL_util.showAll_lollipop(pr_df, sample = False)"
   ]
  },
  {
   "cell_type": "markdown",
   "execution_count": null,
   "metadata": {},
   "outputs": [],
   "source": [
    "# in the XML annotate with 'selectedIonList'"
   ]
  },
  {
   "cell_type": "code",
   "execution_count": null,
   "metadata": {},
   "outputs": [],
   "source": []
  }
 ]
}