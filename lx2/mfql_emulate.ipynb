{
 "nbformat": 4,
 "nbformat_minor": 2,
 "metadata": {
  "language_info": {
   "name": "python",
   "codemirror_mode": {
    "name": "ipython",
    "version": 3
   },
   "version": "3.7.5-final"
  },
  "orig_nbformat": 2,
  "file_extension": ".py",
  "mimetype": "text/x-python",
  "name": "python",
  "npconvert_exporter": "python",
  "pygments_lexer": "ipython3",
  "version": 3,
  "kernelspec": {
   "name": "python37564bitlx128p3conda4d81a18c83ee4d05a10bc59b4a5bf844",
   "display_name": "Python 3.7.5 64-bit ('lx128_p3': conda)"
  }
 },
 "cells": [
  {
   "cell_type": "markdown",
   "metadata": {},
   "outputs": [],
   "source": [
    "```\n",
    "QUERYNAME = CholesterolMSMS;\n",
    "DEFINE PR = 'C[41..49] H[30..200] O[2] N[1]' WITH DBR = (4.5,10.5), CHG = +1;\n",
    "DEFINE FR ='C[27] H[45]' WITH DBR = (1,8), CHG = +1;\n",
    "\n",
    "IDENTIFY\n",
    "\n",
    "\tPR IN MS1+ AND\n",
    "\tFR in MS2+\n",
    "\n",
    "SUCHTHAT\n",
    "\t(avg(FR.intensity)/avg(PR.intensity) >=0.1 AND avg(FR.intensity)/avg(PR.intensity) <=10) AND\n",
    "\tPR.chemsc[C]/PR.chemsc[db] >= 4.6\n",
    "\n",
    "REPORT \n",
    "\n",
    "\tSPECIE = \"CE %d:%d\" % \"((PR.chemsc)[C] - 27, (PR.chemsc)[db] - 4.5)\";  \n",
    "\tCLASS = \"CE\";\n",
    "\tMASS = PR.mass;\n",
    "\tISOBARIC = PR.isobaric;\n",
    "\tCHEMSC = PR.chemsc;\n",
    "\tERRppm = \"%2.2f\" % \"(PR.errppm)\";\n",
    "\tFRERRppm = \"%2.2f\" % \"(FR.errppm)\";\n",
    "\tINT = FR.intensity;\n",
    "\tQUALA = PR.intensity;\n",
    "```"
   ]
  },
  {
   "cell_type": "code",
   "execution_count": 1,
   "metadata": {},
   "outputs": [],
   "source": [
    "from targets import MFQL_util\n",
    "from MS_reader import SpectraUtil"
   ]
  },
  {
   "cell_type": "code",
   "execution_count": 2,
   "metadata": {},
   "outputs": [],
   "source": [
    "QUERYNAME = 'CholesterolMSMS'"
   ]
  },
  {
   "cell_type": "code",
   "execution_count": 3,
   "metadata": {},
   "outputs": [],
   "source": [
    "elements = {'C':(41,49),'H':(30,200),'O':(2,2),'N':(1,1),'P':(1,1) }      \n",
    "PR = MFQL_util(elements)\n",
    "PR.set_dbr(4.5,10.5)"
   ]
  },
  {
   "cell_type": "code",
   "execution_count": 4,
   "metadata": {},
   "outputs": [],
   "source": [
    "elements = {'C':(27,27),'H':(45,45) }      \n",
    "FR = MFQL_util(elements)\n",
    "FR.set_dbr(1,8)"
   ]
  },
  {
   "cell_type": "code",
   "execution_count": 5,
   "metadata": {},
   "outputs": [
    {
     "data": {
      "text/plain": "0    C27 H45\nName: chem, dtype: object"
     },
     "execution_count": 5,
     "metadata": {},
     "output_type": "execute_result"
    }
   ],
   "source": [
    "FR._df.chem"
   ]
  },
  {
   "cell_type": "code",
   "execution_count": 6,
   "metadata": {},
   "outputs": [],
   "source": [
    "filename = '..\\\\test_resources\\\\small_test\\\\190321_Serum_Lipidextract_368723_01.mzML'\n",
    "spectraUtil = SpectraUtil.fromFile(filename, test_sample=True)"
   ]
  },
  {
   "cell_type": "code",
   "execution_count": 7,
   "metadata": {},
   "outputs": [
    {
     "name": "stdout",
     "output_type": "stream",
     "text": "a copy of the original with nothing set... sorry no undo\nset mode to positive : True, (false means negative) \nset ms level to  : 1\nset mode to positive : True, (false means negative) \nset ms level to  : 2\n"
    }
   ],
   "source": [
    "MS1 = spectraUtil\n",
    "MS2 = spectraUtil.get_reset_copy()\n",
    "MS1.set_mode()\n",
    "MS1.set_ms_level()\n",
    "MS2.set_mode()\n",
    "MS2.set_ms_level(2)\n"
   ]
  },
  {
   "cell_type": "code",
   "execution_count": 8,
   "metadata": {},
   "outputs": [
    {
     "name": "stdout",
     "output_type": "stream",
     "text": "find the nearest Peaks to the target_peaks with a tolerance of 0.01\nfind the nearest Peaks to the target_peaks with a tolerance of 0.01\n"
    }
   ],
   "source": [
    "MS1_match = MS1.get_nearest(PR._df)\n",
    "MS2_match = MS2.get_nearest(FR._df)"
   ]
  },
  {
   "cell_type": "markdown",
   "metadata": {},
   "outputs": [],
   "source": [
    "## get only the nearest peak in each scan"
   ]
  },
  {
   "cell_type": "code",
   "execution_count": 9,
   "metadata": {},
   "outputs": [
    {
     "data": {
      "text/plain": "(302, 12)"
     },
     "execution_count": 9,
     "metadata": {},
     "output_type": "execute_result"
    }
   ],
   "source": [
    "MS1_match.shape"
   ]
  },
  {
   "cell_type": "code",
   "execution_count": 10,
   "metadata": {},
   "outputs": [
    {
     "name": "stderr",
     "output_type": "stream",
     "text": "C:\\Users\\mirandaa\\Anaconda3\\envs\\lx128_p3\\lib\\site-packages\\pandas\\core\\frame.py:4117: SettingWithCopyWarning: \nA value is trying to be set on a copy of a slice from a DataFrame\n\nSee the caveats in the documentation: http://pandas.pydata.org/pandas-docs/stable/user_guide/indexing.html#returning-a-view-versus-a-copy\n  errors=errors,\nc:\\Users\\mirandaa\\Desktop\\lx128_p3\\lipidxplorer\\lx2\\targets.py:64: SettingWithCopyWarning: \nA value is trying to be set on a copy of a slice from a DataFrame.\nTry using .loc[row_indexer,col_indexer] = value instead\n\nSee the caveats in the documentation: http://pandas.pydata.org/pandas-docs/stable/user_guide/indexing.html#returning-a-view-versus-a-copy\n  matchesDF['ppm'] = matchesDF['err'] / matchesDF['target'] * 1_000_000\n"
    }
   ],
   "source": [
    "MS1_match = MFQL_util.set_max_ppm(MS1_match)\n",
    "MS2_match = MFQL_util.set_max_ppm(MS2_match)"
   ]
  },
  {
   "cell_type": "code",
   "execution_count": 11,
   "metadata": {},
   "outputs": [
    {
     "data": {
      "text/plain": "Index(['id', 'm', 'i', 'index', 'C', 'H', 'O', 'N', 'P', 'dbr', 'chem',\n       'target', 'ppm'],\n      dtype='object')"
     },
     "execution_count": 11,
     "metadata": {},
     "output_type": "execute_result"
    }
   ],
   "source": [
    "MS1_match.columns"
   ]
  },
  {
   "cell_type": "code",
   "execution_count": 12,
   "metadata": {},
   "outputs": [
    {
     "data": {
      "text/plain": "(150, 13)"
     },
     "execution_count": 12,
     "metadata": {},
     "output_type": "execute_result"
    }
   ],
   "source": [
    "MS1_match.shape"
   ]
  },
  {
   "cell_type": "code",
   "execution_count": 13,
   "metadata": {},
   "outputs": [],
   "source": [
    "all_match = MFQL_util.makeAllCombo(MS1_match, MS2_match)"
   ]
  },
  {
   "cell_type": "code",
   "execution_count": 14,
   "metadata": {},
   "outputs": [
    {
     "data": {
      "text/plain": "Index(['PR_id', 'PR_m', 'PR_i', 'PR_index', 'PR_C', 'PR_H', 'PR_O', 'PR_N',\n       'PR_P', 'PR_dbr', 'PR_chem', 'PR_target', 'PR_ppm', 'FR_id', 'FR_m',\n       'FR_i', 'FR_index', 'FR_C', 'FR_H', 'FR_dbr', 'FR_chem', 'FR_target',\n       'FR_ppm'],\n      dtype='object')"
     },
     "execution_count": 14,
     "metadata": {},
     "output_type": "execute_result"
    }
   ],
   "source": [
    "all_match.columns"
   ]
  },
  {
   "cell_type": "code",
   "execution_count": 15,
   "metadata": {},
   "outputs": [],
   "source": [
    "# # (avg(FR.intensity)/avg(PR.intensity) >=0.1 AND avg(FR.intensity)/avg(PR.intensity) <=10) AND\n",
    "# \tPR.chemsc[C]/PR.chemsc[db] >= 4.6\n",
    "\n",
    "ST = all_match.query('FR_i/PR_i >= 0.1 and FR_i/PR_i <= 10 and PR_C/PR_dbr >= 4.6')"
   ]
  },
  {
   "cell_type": "markdown",
   "metadata": {},
   "outputs": [],
   "source": [
    "# make it a summary like the current lx, \n",
    "# one entry one line\n"
   ]
  },
  {
   "cell_type": "code",
   "execution_count": 16,
   "metadata": {},
   "outputs": [
    {
     "name": "stderr",
     "output_type": "stream",
     "text": "c:\\Users\\mirandaa\\Desktop\\lx128_p3\\lipidxplorer\\lx2\\targets.py:85: SettingWithCopyWarning: \nA value is trying to be set on a copy of a slice from a DataFrame\n\nSee the caveats in the documentation: http://pandas.pydata.org/pandas-docs/stable/user_guide/indexing.html#returning-a-view-versus-a-copy\n  all_df.sort_values(['PR_ppm', 'FR_ppm'], inplace = True)\n"
    }
   ],
   "source": [
    "pr_df, fr_df = MFQL_util.devideAllCombo(ST)"
   ]
  },
  {
   "cell_type": "code",
   "execution_count": 17,
   "metadata": {},
   "outputs": [
    {
     "data": {
      "text/html": "<div>\n<style scoped>\n    .dataframe tbody tr th:only-of-type {\n        vertical-align: middle;\n    }\n\n    .dataframe tbody tr th {\n        vertical-align: top;\n    }\n\n    .dataframe thead th {\n        text-align: right;\n    }\n</style>\n<table border=\"1\" class=\"dataframe\">\n  <thead>\n    <tr style=\"text-align: right;\">\n      <th></th>\n      <th>PR_id</th>\n      <th>PR_m</th>\n      <th>PR_i</th>\n      <th>PR_index</th>\n      <th>PR_C</th>\n      <th>PR_H</th>\n      <th>PR_O</th>\n      <th>PR_N</th>\n      <th>PR_P</th>\n      <th>PR_dbr</th>\n      <th>PR_chem</th>\n      <th>PR_target</th>\n      <th>PR_ppm</th>\n    </tr>\n  </thead>\n  <tbody>\n    <tr>\n      <th>547</th>\n      <td>controllerType=0 controllerNumber=1 scan=8</td>\n      <td>645.561218</td>\n      <td>84917.601562</td>\n      <td>46.0</td>\n      <td>41.0</td>\n      <td>76.0</td>\n      <td>2.0</td>\n      <td>1.0</td>\n      <td>1.0</td>\n      <td>4.5</td>\n      <td>C41 H76 O2 N1 P1</td>\n      <td>645.56134</td>\n      <td>0.189092</td>\n    </tr>\n    <tr>\n      <th>469</th>\n      <td>controllerType=0 controllerNumber=1 scan=22</td>\n      <td>645.559509</td>\n      <td>154247.328125</td>\n      <td>46.0</td>\n      <td>41.0</td>\n      <td>76.0</td>\n      <td>2.0</td>\n      <td>1.0</td>\n      <td>1.0</td>\n      <td>4.5</td>\n      <td>C41 H76 O2 N1 P1</td>\n      <td>645.56134</td>\n      <td>2.836376</td>\n    </tr>\n    <tr>\n      <th>495</th>\n      <td>controllerType=0 controllerNumber=1 scan=21</td>\n      <td>645.559509</td>\n      <td>153122.875000</td>\n      <td>46.0</td>\n      <td>41.0</td>\n      <td>76.0</td>\n      <td>2.0</td>\n      <td>1.0</td>\n      <td>1.0</td>\n      <td>4.5</td>\n      <td>C41 H76 O2 N1 P1</td>\n      <td>645.56134</td>\n      <td>2.836376</td>\n    </tr>\n    <tr>\n      <th>521</th>\n      <td>controllerType=0 controllerNumber=1 scan=17</td>\n      <td>645.559509</td>\n      <td>255222.156250</td>\n      <td>46.0</td>\n      <td>41.0</td>\n      <td>76.0</td>\n      <td>2.0</td>\n      <td>1.0</td>\n      <td>1.0</td>\n      <td>4.5</td>\n      <td>C41 H76 O2 N1 P1</td>\n      <td>645.56134</td>\n      <td>2.836376</td>\n    </tr>\n    <tr>\n      <th>443</th>\n      <td>controllerType=0 controllerNumber=1 scan=14</td>\n      <td>645.559387</td>\n      <td>237835.984375</td>\n      <td>46.0</td>\n      <td>41.0</td>\n      <td>76.0</td>\n      <td>2.0</td>\n      <td>1.0</td>\n      <td>1.0</td>\n      <td>4.5</td>\n      <td>C41 H76 O2 N1 P1</td>\n      <td>645.56134</td>\n      <td>3.025468</td>\n    </tr>\n    <tr>\n      <th>418</th>\n      <td>controllerType=0 controllerNumber=1 scan=20</td>\n      <td>645.559326</td>\n      <td>468750.468750</td>\n      <td>46.0</td>\n      <td>41.0</td>\n      <td>76.0</td>\n      <td>2.0</td>\n      <td>1.0</td>\n      <td>1.0</td>\n      <td>4.5</td>\n      <td>C41 H76 O2 N1 P1</td>\n      <td>645.56134</td>\n      <td>3.120014</td>\n    </tr>\n    <tr>\n      <th>392</th>\n      <td>controllerType=0 controllerNumber=1 scan=13</td>\n      <td>645.559265</td>\n      <td>627203.062500</td>\n      <td>46.0</td>\n      <td>41.0</td>\n      <td>76.0</td>\n      <td>2.0</td>\n      <td>1.0</td>\n      <td>1.0</td>\n      <td>4.5</td>\n      <td>C41 H76 O2 N1 P1</td>\n      <td>645.56134</td>\n      <td>3.214559</td>\n    </tr>\n    <tr>\n      <th>365</th>\n      <td>controllerType=0 controllerNumber=1 scan=11</td>\n      <td>645.559204</td>\n      <td>516790.125000</td>\n      <td>46.0</td>\n      <td>41.0</td>\n      <td>76.0</td>\n      <td>2.0</td>\n      <td>1.0</td>\n      <td>1.0</td>\n      <td>4.5</td>\n      <td>C41 H76 O2 N1 P1</td>\n      <td>645.56134</td>\n      <td>3.309105</td>\n    </tr>\n    <tr>\n      <th>340</th>\n      <td>controllerType=0 controllerNumber=1 scan=24</td>\n      <td>645.559143</td>\n      <td>408192.218750</td>\n      <td>46.0</td>\n      <td>41.0</td>\n      <td>76.0</td>\n      <td>2.0</td>\n      <td>1.0</td>\n      <td>1.0</td>\n      <td>4.5</td>\n      <td>C41 H76 O2 N1 P1</td>\n      <td>645.56134</td>\n      <td>3.403651</td>\n    </tr>\n    <tr>\n      <th>288</th>\n      <td>controllerType=0 controllerNumber=1 scan=29</td>\n      <td>645.559082</td>\n      <td>558763.312500</td>\n      <td>46.0</td>\n      <td>41.0</td>\n      <td>76.0</td>\n      <td>2.0</td>\n      <td>1.0</td>\n      <td>1.0</td>\n      <td>4.5</td>\n      <td>C41 H76 O2 N1 P1</td>\n      <td>645.56134</td>\n      <td>3.498197</td>\n    </tr>\n    <tr>\n      <th>314</th>\n      <td>controllerType=0 controllerNumber=1 scan=23</td>\n      <td>645.559082</td>\n      <td>777978.062500</td>\n      <td>46.0</td>\n      <td>41.0</td>\n      <td>76.0</td>\n      <td>2.0</td>\n      <td>1.0</td>\n      <td>1.0</td>\n      <td>4.5</td>\n      <td>C41 H76 O2 N1 P1</td>\n      <td>645.56134</td>\n      <td>3.498197</td>\n    </tr>\n    <tr>\n      <th>261</th>\n      <td>controllerType=0 controllerNumber=1 scan=30</td>\n      <td>645.559021</td>\n      <td>271163.031250</td>\n      <td>46.0</td>\n      <td>41.0</td>\n      <td>76.0</td>\n      <td>2.0</td>\n      <td>1.0</td>\n      <td>1.0</td>\n      <td>4.5</td>\n      <td>C41 H76 O2 N1 P1</td>\n      <td>645.56134</td>\n      <td>3.592743</td>\n    </tr>\n    <tr>\n      <th>235</th>\n      <td>controllerType=0 controllerNumber=1 scan=28</td>\n      <td>645.558960</td>\n      <td>491129.250000</td>\n      <td>46.0</td>\n      <td>41.0</td>\n      <td>76.0</td>\n      <td>2.0</td>\n      <td>1.0</td>\n      <td>1.0</td>\n      <td>4.5</td>\n      <td>C41 H76 O2 N1 P1</td>\n      <td>645.56134</td>\n      <td>3.687289</td>\n    </tr>\n    <tr>\n      <th>184</th>\n      <td>controllerType=0 controllerNumber=1 scan=12</td>\n      <td>645.558899</td>\n      <td>467641.750000</td>\n      <td>46.0</td>\n      <td>41.0</td>\n      <td>76.0</td>\n      <td>2.0</td>\n      <td>1.0</td>\n      <td>1.0</td>\n      <td>4.5</td>\n      <td>C41 H76 O2 N1 P1</td>\n      <td>645.56134</td>\n      <td>3.781835</td>\n    </tr>\n    <tr>\n      <th>209</th>\n      <td>controllerType=0 controllerNumber=1 scan=25</td>\n      <td>645.558899</td>\n      <td>125685.617188</td>\n      <td>46.0</td>\n      <td>41.0</td>\n      <td>76.0</td>\n      <td>2.0</td>\n      <td>1.0</td>\n      <td>1.0</td>\n      <td>4.5</td>\n      <td>C41 H76 O2 N1 P1</td>\n      <td>645.56134</td>\n      <td>3.781835</td>\n    </tr>\n    <tr>\n      <th>132</th>\n      <td>controllerType=0 controllerNumber=1 scan=26</td>\n      <td>645.558777</td>\n      <td>663011.687500</td>\n      <td>46.0</td>\n      <td>41.0</td>\n      <td>76.0</td>\n      <td>2.0</td>\n      <td>1.0</td>\n      <td>1.0</td>\n      <td>4.5</td>\n      <td>C41 H76 O2 N1 P1</td>\n      <td>645.56134</td>\n      <td>3.970926</td>\n    </tr>\n    <tr>\n      <th>157</th>\n      <td>controllerType=0 controllerNumber=1 scan=9</td>\n      <td>645.558777</td>\n      <td>118809.257812</td>\n      <td>46.0</td>\n      <td>41.0</td>\n      <td>76.0</td>\n      <td>2.0</td>\n      <td>1.0</td>\n      <td>1.0</td>\n      <td>4.5</td>\n      <td>C41 H76 O2 N1 P1</td>\n      <td>645.56134</td>\n      <td>3.970926</td>\n    </tr>\n    <tr>\n      <th>105</th>\n      <td>controllerType=0 controllerNumber=1 scan=15</td>\n      <td>645.558716</td>\n      <td>285562.750000</td>\n      <td>46.0</td>\n      <td>41.0</td>\n      <td>76.0</td>\n      <td>2.0</td>\n      <td>1.0</td>\n      <td>1.0</td>\n      <td>4.5</td>\n      <td>C41 H76 O2 N1 P1</td>\n      <td>645.56134</td>\n      <td>4.065472</td>\n    </tr>\n    <tr>\n      <th>79</th>\n      <td>controllerType=0 controllerNumber=1 scan=27</td>\n      <td>645.558533</td>\n      <td>192730.390625</td>\n      <td>46.0</td>\n      <td>41.0</td>\n      <td>76.0</td>\n      <td>2.0</td>\n      <td>1.0</td>\n      <td>1.0</td>\n      <td>4.5</td>\n      <td>C41 H76 O2 N1 P1</td>\n      <td>645.56134</td>\n      <td>4.349110</td>\n    </tr>\n    <tr>\n      <th>53</th>\n      <td>controllerType=0 controllerNumber=1 scan=19</td>\n      <td>645.558411</td>\n      <td>154079.125000</td>\n      <td>46.0</td>\n      <td>41.0</td>\n      <td>76.0</td>\n      <td>2.0</td>\n      <td>1.0</td>\n      <td>1.0</td>\n      <td>4.5</td>\n      <td>C41 H76 O2 N1 P1</td>\n      <td>645.56134</td>\n      <td>4.538202</td>\n    </tr>\n    <tr>\n      <th>27</th>\n      <td>controllerType=0 controllerNumber=1 scan=10</td>\n      <td>645.558167</td>\n      <td>119778.851562</td>\n      <td>46.0</td>\n      <td>41.0</td>\n      <td>76.0</td>\n      <td>2.0</td>\n      <td>1.0</td>\n      <td>1.0</td>\n      <td>4.5</td>\n      <td>C41 H76 O2 N1 P1</td>\n      <td>645.56134</td>\n      <td>4.916385</td>\n    </tr>\n  </tbody>\n</table>\n</div>",
      "text/plain": "                                           PR_id        PR_m           PR_i  \\\n547   controllerType=0 controllerNumber=1 scan=8  645.561218   84917.601562   \n469  controllerType=0 controllerNumber=1 scan=22  645.559509  154247.328125   \n495  controllerType=0 controllerNumber=1 scan=21  645.559509  153122.875000   \n521  controllerType=0 controllerNumber=1 scan=17  645.559509  255222.156250   \n443  controllerType=0 controllerNumber=1 scan=14  645.559387  237835.984375   \n418  controllerType=0 controllerNumber=1 scan=20  645.559326  468750.468750   \n392  controllerType=0 controllerNumber=1 scan=13  645.559265  627203.062500   \n365  controllerType=0 controllerNumber=1 scan=11  645.559204  516790.125000   \n340  controllerType=0 controllerNumber=1 scan=24  645.559143  408192.218750   \n288  controllerType=0 controllerNumber=1 scan=29  645.559082  558763.312500   \n314  controllerType=0 controllerNumber=1 scan=23  645.559082  777978.062500   \n261  controllerType=0 controllerNumber=1 scan=30  645.559021  271163.031250   \n235  controllerType=0 controllerNumber=1 scan=28  645.558960  491129.250000   \n184  controllerType=0 controllerNumber=1 scan=12  645.558899  467641.750000   \n209  controllerType=0 controllerNumber=1 scan=25  645.558899  125685.617188   \n132  controllerType=0 controllerNumber=1 scan=26  645.558777  663011.687500   \n157   controllerType=0 controllerNumber=1 scan=9  645.558777  118809.257812   \n105  controllerType=0 controllerNumber=1 scan=15  645.558716  285562.750000   \n79   controllerType=0 controllerNumber=1 scan=27  645.558533  192730.390625   \n53   controllerType=0 controllerNumber=1 scan=19  645.558411  154079.125000   \n27   controllerType=0 controllerNumber=1 scan=10  645.558167  119778.851562   \n\n     PR_index  PR_C  PR_H  PR_O  PR_N  PR_P  PR_dbr           PR_chem  \\\n547      46.0  41.0  76.0   2.0   1.0   1.0     4.5  C41 H76 O2 N1 P1   \n469      46.0  41.0  76.0   2.0   1.0   1.0     4.5  C41 H76 O2 N1 P1   \n495      46.0  41.0  76.0   2.0   1.0   1.0     4.5  C41 H76 O2 N1 P1   \n521      46.0  41.0  76.0   2.0   1.0   1.0     4.5  C41 H76 O2 N1 P1   \n443      46.0  41.0  76.0   2.0   1.0   1.0     4.5  C41 H76 O2 N1 P1   \n418      46.0  41.0  76.0   2.0   1.0   1.0     4.5  C41 H76 O2 N1 P1   \n392      46.0  41.0  76.0   2.0   1.0   1.0     4.5  C41 H76 O2 N1 P1   \n365      46.0  41.0  76.0   2.0   1.0   1.0     4.5  C41 H76 O2 N1 P1   \n340      46.0  41.0  76.0   2.0   1.0   1.0     4.5  C41 H76 O2 N1 P1   \n288      46.0  41.0  76.0   2.0   1.0   1.0     4.5  C41 H76 O2 N1 P1   \n314      46.0  41.0  76.0   2.0   1.0   1.0     4.5  C41 H76 O2 N1 P1   \n261      46.0  41.0  76.0   2.0   1.0   1.0     4.5  C41 H76 O2 N1 P1   \n235      46.0  41.0  76.0   2.0   1.0   1.0     4.5  C41 H76 O2 N1 P1   \n184      46.0  41.0  76.0   2.0   1.0   1.0     4.5  C41 H76 O2 N1 P1   \n209      46.0  41.0  76.0   2.0   1.0   1.0     4.5  C41 H76 O2 N1 P1   \n132      46.0  41.0  76.0   2.0   1.0   1.0     4.5  C41 H76 O2 N1 P1   \n157      46.0  41.0  76.0   2.0   1.0   1.0     4.5  C41 H76 O2 N1 P1   \n105      46.0  41.0  76.0   2.0   1.0   1.0     4.5  C41 H76 O2 N1 P1   \n79       46.0  41.0  76.0   2.0   1.0   1.0     4.5  C41 H76 O2 N1 P1   \n53       46.0  41.0  76.0   2.0   1.0   1.0     4.5  C41 H76 O2 N1 P1   \n27       46.0  41.0  76.0   2.0   1.0   1.0     4.5  C41 H76 O2 N1 P1   \n\n     PR_target    PR_ppm  \n547  645.56134  0.189092  \n469  645.56134  2.836376  \n495  645.56134  2.836376  \n521  645.56134  2.836376  \n443  645.56134  3.025468  \n418  645.56134  3.120014  \n392  645.56134  3.214559  \n365  645.56134  3.309105  \n340  645.56134  3.403651  \n288  645.56134  3.498197  \n314  645.56134  3.498197  \n261  645.56134  3.592743  \n235  645.56134  3.687289  \n184  645.56134  3.781835  \n209  645.56134  3.781835  \n132  645.56134  3.970926  \n157  645.56134  3.970926  \n105  645.56134  4.065472  \n79   645.56134  4.349110  \n53   645.56134  4.538202  \n27   645.56134  4.916385  "
     },
     "execution_count": 17,
     "metadata": {},
     "output_type": "execute_result"
    }
   ],
   "source": [
    "pr_df[pr_df.PR_chem== 'C41 H76 O2 N1 P1']"
   ]
  },
  {
   "cell_type": "code",
   "execution_count": 18,
   "metadata": {},
   "outputs": [
    {
     "data": {
      "text/html": "<div>\n<style scoped>\n    .dataframe tbody tr th:only-of-type {\n        vertical-align: middle;\n    }\n\n    .dataframe tbody tr th {\n        vertical-align: top;\n    }\n\n    .dataframe thead th {\n        text-align: right;\n    }\n</style>\n<table border=\"1\" class=\"dataframe\">\n  <thead>\n    <tr style=\"text-align: right;\">\n      <th></th>\n      <th>PR_chem</th>\n      <th>PR_ppm_mean</th>\n      <th>PR_i_mean</th>\n      <th>PR_i_rsd</th>\n      <th>PR_count</th>\n    </tr>\n  </thead>\n  <tbody>\n    <tr>\n      <th>8</th>\n      <td>C45 H79 O2 N1 P1</td>\n      <td>0.832395</td>\n      <td>1.199575e+03</td>\n      <td>116.762352</td>\n      <td>2</td>\n    </tr>\n    <tr>\n      <th>10</th>\n      <td>C47 H80 O2 N1 P1</td>\n      <td>1.607095</td>\n      <td>5.572690e+04</td>\n      <td>NaN</td>\n      <td>1</td>\n    </tr>\n    <tr>\n      <th>5</th>\n      <td>C43 H79 O2 N1 P1</td>\n      <td>2.314052</td>\n      <td>1.005942e+04</td>\n      <td>127.863383</td>\n      <td>2</td>\n    </tr>\n    <tr>\n      <th>3</th>\n      <td>C43 H77 O2 N1 P1</td>\n      <td>2.730598</td>\n      <td>1.026026e+04</td>\n      <td>137.609744</td>\n      <td>2</td>\n    </tr>\n    <tr>\n      <th>12</th>\n      <td>C49 H80 O2 N1 P1</td>\n      <td>2.774187</td>\n      <td>2.875775e+05</td>\n      <td>56.373453</td>\n      <td>18</td>\n    </tr>\n    <tr>\n      <th>1</th>\n      <td>C43 H71 O2 N1 P1</td>\n      <td>2.847294</td>\n      <td>1.973746e+02</td>\n      <td>NaN</td>\n      <td>1</td>\n    </tr>\n    <tr>\n      <th>13</th>\n      <td>C49 H81 O2 N1 P1</td>\n      <td>3.024778</td>\n      <td>1.156484e+05</td>\n      <td>NaN</td>\n      <td>1</td>\n    </tr>\n    <tr>\n      <th>14</th>\n      <td>C49 H82 O2 N1 P1</td>\n      <td>3.102341</td>\n      <td>1.470442e+05</td>\n      <td>11.577132</td>\n      <td>3</td>\n    </tr>\n    <tr>\n      <th>7</th>\n      <td>C45 H78 O2 N1 P1</td>\n      <td>3.264939</td>\n      <td>1.098081e+06</td>\n      <td>36.926129</td>\n      <td>24</td>\n    </tr>\n    <tr>\n      <th>11</th>\n      <td>C48 H85 O2 N1 P1</td>\n      <td>3.305309</td>\n      <td>1.991505e+04</td>\n      <td>NaN</td>\n      <td>1</td>\n    </tr>\n    <tr>\n      <th>2</th>\n      <td>C43 H76 O2 N1 P1</td>\n      <td>3.444430</td>\n      <td>2.427328e+05</td>\n      <td>70.977330</td>\n      <td>14</td>\n    </tr>\n    <tr>\n      <th>0</th>\n      <td>C41 H76 O2 N1 P1</td>\n      <td>3.448673</td>\n      <td>3.396483e+05</td>\n      <td>61.672300</td>\n      <td>21</td>\n    </tr>\n    <tr>\n      <th>6</th>\n      <td>C43 H80 O2 N1 P1</td>\n      <td>3.479477</td>\n      <td>2.098881e+06</td>\n      <td>41.538745</td>\n      <td>25</td>\n    </tr>\n    <tr>\n      <th>4</th>\n      <td>C43 H78 O2 N1 P1</td>\n      <td>3.506582</td>\n      <td>8.031492e+06</td>\n      <td>28.645957</td>\n      <td>24</td>\n    </tr>\n    <tr>\n      <th>9</th>\n      <td>C45 H80 O2 N1 P1</td>\n      <td>3.609127</td>\n      <td>1.367201e+05</td>\n      <td>14.938654</td>\n      <td>4</td>\n    </tr>\n  </tbody>\n</table>\n</div>",
      "text/plain": "             PR_chem  PR_ppm_mean     PR_i_mean    PR_i_rsd  PR_count\n8   C45 H79 O2 N1 P1     0.832395  1.199575e+03  116.762352         2\n10  C47 H80 O2 N1 P1     1.607095  5.572690e+04         NaN         1\n5   C43 H79 O2 N1 P1     2.314052  1.005942e+04  127.863383         2\n3   C43 H77 O2 N1 P1     2.730598  1.026026e+04  137.609744         2\n12  C49 H80 O2 N1 P1     2.774187  2.875775e+05   56.373453        18\n1   C43 H71 O2 N1 P1     2.847294  1.973746e+02         NaN         1\n13  C49 H81 O2 N1 P1     3.024778  1.156484e+05         NaN         1\n14  C49 H82 O2 N1 P1     3.102341  1.470442e+05   11.577132         3\n7   C45 H78 O2 N1 P1     3.264939  1.098081e+06   36.926129        24\n11  C48 H85 O2 N1 P1     3.305309  1.991505e+04         NaN         1\n2   C43 H76 O2 N1 P1     3.444430  2.427328e+05   70.977330        14\n0   C41 H76 O2 N1 P1     3.448673  3.396483e+05   61.672300        21\n6   C43 H80 O2 N1 P1     3.479477  2.098881e+06   41.538745        25\n4   C43 H78 O2 N1 P1     3.506582  8.031492e+06   28.645957        24\n9   C45 H80 O2 N1 P1     3.609127  1.367201e+05   14.938654         4"
     },
     "execution_count": 18,
     "metadata": {},
     "output_type": "execute_result"
    }
   ],
   "source": [
    "sum_df = MFQL_util.summaryDF(pr_df, quantile=1)\n",
    "sum_df"
   ]
  },
  {
   "cell_type": "code",
   "execution_count": null,
   "metadata": {},
   "outputs": [],
   "source": []
  }
 ]
}