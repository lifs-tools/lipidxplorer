{
 "nbformat": 4,
 "nbformat_minor": 2,
 "metadata": {
  "language_info": {
   "name": "python",
   "codemirror_mode": {
    "name": "ipython",
    "version": 3
   },
   "version": "3.7.5-final"
  },
  "orig_nbformat": 2,
  "file_extension": ".py",
  "mimetype": "text/x-python",
  "name": "python",
  "npconvert_exporter": "python",
  "pygments_lexer": "ipython3",
  "version": 3,
  "kernelspec": {
   "name": "python37564bitlx128p3conda4d81a18c83ee4d05a10bc59b4a5bf844",
   "display_name": "Python 3.7.5 64-bit ('lx128_p3': conda)"
  }
 },
 "cells": [
  {
   "cell_type": "markdown",
   "metadata": {},
   "outputs": [],
   "source": [
    "```\n",
    "QUERYNAME = CholesterolMSMS;\n",
    "DEFINE PR = 'C[41..49] H[30..200] O[2] N[1]' WITH DBR = (4.5,10.5), CHG = +1;\n",
    "DEFINE FR ='C[27] H[45]' WITH DBR = (1,8), CHG = +1;\n",
    "\n",
    "IDENTIFY\n",
    "\n",
    "\tPR IN MS1+ AND\n",
    "\tFR in MS2+\n",
    "\n",
    "SUCHTHAT\n",
    "\t(avg(FR.intensity)/avg(PR.intensity) >=0.1 AND avg(FR.intensity)/avg(PR.intensity) <=10) AND\n",
    "\tPR.chemsc[C]/PR.chemsc[db] >= 4.6\n",
    "\n",
    "REPORT \n",
    "\n",
    "\tSPECIE = \"CE %d:%d\" % \"((PR.chemsc)[C] - 27, (PR.chemsc)[db] - 4.5)\";  \n",
    "\tCLASS = \"CE\";\n",
    "\tMASS = PR.mass;\n",
    "\tISOBARIC = PR.isobaric;\n",
    "\tCHEMSC = PR.chemsc;\n",
    "\tERRppm = \"%2.2f\" % \"(PR.errppm)\";\n",
    "\tFRERRppm = \"%2.2f\" % \"(FR.errppm)\";\n",
    "\tINT = FR.intensity;\n",
    "\tQUALA = PR.intensity;\n",
    "```"
   ]
  },
  {
   "cell_type": "code",
   "execution_count": 1,
   "metadata": {},
   "outputs": [],
   "source": [
    "from targets import MFQL_util\n",
    "from MS_reader import SpectraUtil"
   ]
  },
  {
   "cell_type": "code",
   "execution_count": 2,
   "metadata": {},
   "outputs": [],
   "source": [
    "QUERYNAME = 'CholesterolMSMS'"
   ]
  },
  {
   "cell_type": "code",
   "execution_count": 3,
   "metadata": {},
   "outputs": [],
   "source": [
    "elements = {'C':(41,49),'H':(30,200),'O':(2,2),'N':(1,1),'P':(1,1) }      \n",
    "PR = MFQL_util(elements)\n",
    "PR.set_dbr(4.5,10.5)"
   ]
  },
  {
   "cell_type": "code",
   "execution_count": 4,
   "metadata": {},
   "outputs": [],
   "source": [
    "elements = {'C':(27,27),'H':(45,45) }      \n",
    "FR = MFQL_util(elements)\n",
    "FR.set_dbr(1,8)"
   ]
  },
  {
   "cell_type": "code",
   "execution_count": 5,
   "metadata": {},
   "outputs": [
    {
     "data": {
      "text/plain": "0    C27 H45\nName: chem, dtype: object"
     },
     "execution_count": 5,
     "metadata": {},
     "output_type": "execute_result"
    }
   ],
   "source": [
    "FR._df.chem"
   ]
  },
  {
   "cell_type": "code",
   "execution_count": 6,
   "metadata": {},
   "outputs": [],
   "source": [
    "filename = '..\\\\test_resources\\\\small_test\\\\190321_Serum_Lipidextract_368723_01.mzML'\n",
    "spectraUtil = SpectraUtil.fromFile(filename, test_sample=True)"
   ]
  },
  {
   "cell_type": "code",
   "execution_count": 7,
   "metadata": {},
   "outputs": [
    {
     "name": "stdout",
     "output_type": "stream",
     "text": "a copy of the original with nothing set... sorry no undo\nset mode to positive : True, (false means negative) \nset ms level to  : 1\nset mode to positive : True, (false means negative) \nset ms level to  : 2\n"
    }
   ],
   "source": [
    "MS1 = spectraUtil\n",
    "MS2 = spectraUtil.get_reset_copy()\n",
    "MS1.set_mode()\n",
    "MS1.set_ms_level()\n",
    "MS2.set_mode()\n",
    "MS2.set_ms_level(2)\n"
   ]
  },
  {
   "cell_type": "code",
   "execution_count": 8,
   "metadata": {},
   "outputs": [
    {
     "name": "stdout",
     "output_type": "stream",
     "text": "find the nearest Peaks to the target_peaks with a tolerance of 0.01\nfind the nearest Peaks to the target_peaks with a tolerance of 0.01\n"
    }
   ],
   "source": [
    "MS1_match = MS1.get_nearest(PR._df)\n",
    "MS2_match = MS2.get_nearest(FR._df)"
   ]
  },
  {
   "cell_type": "markdown",
   "metadata": {},
   "outputs": [],
   "source": [
    "## get only the nearest peak in each scan"
   ]
  },
  {
   "cell_type": "code",
   "execution_count": 9,
   "metadata": {},
   "outputs": [
    {
     "data": {
      "text/plain": "(302, 12)"
     },
     "execution_count": 9,
     "metadata": {},
     "output_type": "execute_result"
    }
   ],
   "source": [
    "MS1_match.shape"
   ]
  },
  {
   "cell_type": "code",
   "execution_count": 10,
   "metadata": {},
   "outputs": [
    {
     "name": "stderr",
     "output_type": "stream",
     "text": "C:\\Users\\mirandaa\\Anaconda3\\envs\\lx128_p3\\lib\\site-packages\\pandas\\core\\frame.py:4117: SettingWithCopyWarning: \nA value is trying to be set on a copy of a slice from a DataFrame\n\nSee the caveats in the documentation: http://pandas.pydata.org/pandas-docs/stable/user_guide/indexing.html#returning-a-view-versus-a-copy\n  errors=errors,\nc:\\Users\\mirandaa\\Desktop\\lx128_p3\\lipidxplorer\\lx2\\targets.py:65: SettingWithCopyWarning: \nA value is trying to be set on a copy of a slice from a DataFrame.\nTry using .loc[row_indexer,col_indexer] = value instead\n\nSee the caveats in the documentation: http://pandas.pydata.org/pandas-docs/stable/user_guide/indexing.html#returning-a-view-versus-a-copy\n  matchesDF['ppm'] = matchesDF['err'] / matchesDF['target'] * 1_000_000\n"
    }
   ],
   "source": [
    "MS1_match = MFQL_util.set_max_ppm(MS1_match)\n",
    "MS2_match = MFQL_util.set_max_ppm(MS2_match)"
   ]
  },
  {
   "cell_type": "code",
   "execution_count": 11,
   "metadata": {},
   "outputs": [
    {
     "data": {
      "text/plain": "Index(['id', 'm', 'i', 'index', 'C', 'H', 'O', 'N', 'P', 'dbr', 'chem',\n       'target', 'ppm'],\n      dtype='object')"
     },
     "execution_count": 11,
     "metadata": {},
     "output_type": "execute_result"
    }
   ],
   "source": [
    "MS1_match.columns"
   ]
  },
  {
   "cell_type": "code",
   "execution_count": 12,
   "metadata": {},
   "outputs": [
    {
     "data": {
      "text/plain": "(150, 13)"
     },
     "execution_count": 12,
     "metadata": {},
     "output_type": "execute_result"
    }
   ],
   "source": [
    "MS1_match.shape"
   ]
  },
  {
   "cell_type": "code",
   "execution_count": 13,
   "metadata": {},
   "outputs": [],
   "source": [
    "all_match = MFQL_util.makeAllCombo(MS1_match, MS2_match)"
   ]
  },
  {
   "cell_type": "code",
   "execution_count": 14,
   "metadata": {},
   "outputs": [
    {
     "data": {
      "text/plain": "Index(['PR_id', 'PR_m', 'PR_i', 'PR_index', 'PR_C', 'PR_H', 'PR_O', 'PR_N',\n       'PR_P', 'PR_dbr', 'PR_chem', 'PR_target', 'PR_ppm', 'FR_id', 'FR_m',\n       'FR_i', 'FR_index', 'FR_C', 'FR_H', 'FR_dbr', 'FR_chem', 'FR_target',\n       'FR_ppm'],\n      dtype='object')"
     },
     "execution_count": 14,
     "metadata": {},
     "output_type": "execute_result"
    }
   ],
   "source": [
    "all_match.columns"
   ]
  },
  {
   "cell_type": "code",
   "execution_count": 15,
   "metadata": {},
   "outputs": [],
   "source": [
    "# # (avg(FR.intensity)/avg(PR.intensity) >=0.1 AND avg(FR.intensity)/avg(PR.intensity) <=10) AND\n",
    "# \tPR.chemsc[C]/PR.chemsc[db] >= 4.6\n",
    "\n",
    "ST = all_match.query('FR_i/PR_i >= 0.1 and FR_i/PR_i <= 10 and PR_C/PR_dbr >= 4.6')"
   ]
  },
  {
   "cell_type": "markdown",
   "metadata": {},
   "outputs": [],
   "source": [
    "# make it a summary like the current lx, \n",
    "# one entry one line\n"
   ]
  },
  {
   "cell_type": "code",
   "execution_count": 16,
   "metadata": {},
   "outputs": [
    {
     "name": "stderr",
     "output_type": "stream",
     "text": "c:\\Users\\mirandaa\\Desktop\\lx128_p3\\lipidxplorer\\lx2\\targets.py:86: SettingWithCopyWarning: \nA value is trying to be set on a copy of a slice from a DataFrame\n\nSee the caveats in the documentation: http://pandas.pydata.org/pandas-docs/stable/user_guide/indexing.html#returning-a-view-versus-a-copy\n  all_df.sort_values(['PR_ppm', 'FR_ppm'], inplace = True)\n"
    }
   ],
   "source": [
    "pr_df, fr_df = MFQL_util.devideAllCombo(ST)"
   ]
  },
  {
   "cell_type": "code",
   "execution_count": 17,
   "metadata": {},
   "outputs": [
    {
     "data": {
      "text/html": "<div>\n<style scoped>\n    .dataframe tbody tr th:only-of-type {\n        vertical-align: middle;\n    }\n\n    .dataframe tbody tr th {\n        vertical-align: top;\n    }\n\n    .dataframe thead th {\n        text-align: right;\n    }\n</style>\n<table border=\"1\" class=\"dataframe\">\n  <thead>\n    <tr style=\"text-align: right;\">\n      <th></th>\n      <th>PR_id</th>\n      <th>PR_m</th>\n      <th>PR_i</th>\n      <th>PR_index</th>\n      <th>PR_C</th>\n      <th>PR_H</th>\n      <th>PR_O</th>\n      <th>PR_N</th>\n      <th>PR_P</th>\n      <th>PR_dbr</th>\n      <th>PR_chem</th>\n      <th>PR_target</th>\n      <th>PR_ppm</th>\n    </tr>\n  </thead>\n  <tbody>\n    <tr>\n      <th>547</th>\n      <td>controllerType=0 controllerNumber=1 scan=8</td>\n      <td>645.561218</td>\n      <td>84917.601562</td>\n      <td>46.0</td>\n      <td>41.0</td>\n      <td>76.0</td>\n      <td>2.0</td>\n      <td>1.0</td>\n      <td>1.0</td>\n      <td>4.5</td>\n      <td>C41 H76 O2 N1 P1</td>\n      <td>645.56134</td>\n      <td>0.189092</td>\n    </tr>\n    <tr>\n      <th>469</th>\n      <td>controllerType=0 controllerNumber=1 scan=22</td>\n      <td>645.559509</td>\n      <td>154247.328125</td>\n      <td>46.0</td>\n      <td>41.0</td>\n      <td>76.0</td>\n      <td>2.0</td>\n      <td>1.0</td>\n      <td>1.0</td>\n      <td>4.5</td>\n      <td>C41 H76 O2 N1 P1</td>\n      <td>645.56134</td>\n      <td>2.836376</td>\n    </tr>\n    <tr>\n      <th>495</th>\n      <td>controllerType=0 controllerNumber=1 scan=21</td>\n      <td>645.559509</td>\n      <td>153122.875000</td>\n      <td>46.0</td>\n      <td>41.0</td>\n      <td>76.0</td>\n      <td>2.0</td>\n      <td>1.0</td>\n      <td>1.0</td>\n      <td>4.5</td>\n      <td>C41 H76 O2 N1 P1</td>\n      <td>645.56134</td>\n      <td>2.836376</td>\n    </tr>\n    <tr>\n      <th>521</th>\n      <td>controllerType=0 controllerNumber=1 scan=17</td>\n      <td>645.559509</td>\n      <td>255222.156250</td>\n      <td>46.0</td>\n      <td>41.0</td>\n      <td>76.0</td>\n      <td>2.0</td>\n      <td>1.0</td>\n      <td>1.0</td>\n      <td>4.5</td>\n      <td>C41 H76 O2 N1 P1</td>\n      <td>645.56134</td>\n      <td>2.836376</td>\n    </tr>\n    <tr>\n      <th>443</th>\n      <td>controllerType=0 controllerNumber=1 scan=14</td>\n      <td>645.559387</td>\n      <td>237835.984375</td>\n      <td>46.0</td>\n      <td>41.0</td>\n      <td>76.0</td>\n      <td>2.0</td>\n      <td>1.0</td>\n      <td>1.0</td>\n      <td>4.5</td>\n      <td>C41 H76 O2 N1 P1</td>\n      <td>645.56134</td>\n      <td>3.025468</td>\n    </tr>\n    <tr>\n      <th>418</th>\n      <td>controllerType=0 controllerNumber=1 scan=20</td>\n      <td>645.559326</td>\n      <td>468750.468750</td>\n      <td>46.0</td>\n      <td>41.0</td>\n      <td>76.0</td>\n      <td>2.0</td>\n      <td>1.0</td>\n      <td>1.0</td>\n      <td>4.5</td>\n      <td>C41 H76 O2 N1 P1</td>\n      <td>645.56134</td>\n      <td>3.120014</td>\n    </tr>\n    <tr>\n      <th>392</th>\n      <td>controllerType=0 controllerNumber=1 scan=13</td>\n      <td>645.559265</td>\n      <td>627203.062500</td>\n      <td>46.0</td>\n      <td>41.0</td>\n      <td>76.0</td>\n      <td>2.0</td>\n      <td>1.0</td>\n      <td>1.0</td>\n      <td>4.5</td>\n      <td>C41 H76 O2 N1 P1</td>\n      <td>645.56134</td>\n      <td>3.214559</td>\n    </tr>\n    <tr>\n      <th>365</th>\n      <td>controllerType=0 controllerNumber=1 scan=11</td>\n      <td>645.559204</td>\n      <td>516790.125000</td>\n      <td>46.0</td>\n      <td>41.0</td>\n      <td>76.0</td>\n      <td>2.0</td>\n      <td>1.0</td>\n      <td>1.0</td>\n      <td>4.5</td>\n      <td>C41 H76 O2 N1 P1</td>\n      <td>645.56134</td>\n      <td>3.309105</td>\n    </tr>\n    <tr>\n      <th>340</th>\n      <td>controllerType=0 controllerNumber=1 scan=24</td>\n      <td>645.559143</td>\n      <td>408192.218750</td>\n      <td>46.0</td>\n      <td>41.0</td>\n      <td>76.0</td>\n      <td>2.0</td>\n      <td>1.0</td>\n      <td>1.0</td>\n      <td>4.5</td>\n      <td>C41 H76 O2 N1 P1</td>\n      <td>645.56134</td>\n      <td>3.403651</td>\n    </tr>\n    <tr>\n      <th>288</th>\n      <td>controllerType=0 controllerNumber=1 scan=29</td>\n      <td>645.559082</td>\n      <td>558763.312500</td>\n      <td>46.0</td>\n      <td>41.0</td>\n      <td>76.0</td>\n      <td>2.0</td>\n      <td>1.0</td>\n      <td>1.0</td>\n      <td>4.5</td>\n      <td>C41 H76 O2 N1 P1</td>\n      <td>645.56134</td>\n      <td>3.498197</td>\n    </tr>\n    <tr>\n      <th>314</th>\n      <td>controllerType=0 controllerNumber=1 scan=23</td>\n      <td>645.559082</td>\n      <td>777978.062500</td>\n      <td>46.0</td>\n      <td>41.0</td>\n      <td>76.0</td>\n      <td>2.0</td>\n      <td>1.0</td>\n      <td>1.0</td>\n      <td>4.5</td>\n      <td>C41 H76 O2 N1 P1</td>\n      <td>645.56134</td>\n      <td>3.498197</td>\n    </tr>\n    <tr>\n      <th>261</th>\n      <td>controllerType=0 controllerNumber=1 scan=30</td>\n      <td>645.559021</td>\n      <td>271163.031250</td>\n      <td>46.0</td>\n      <td>41.0</td>\n      <td>76.0</td>\n      <td>2.0</td>\n      <td>1.0</td>\n      <td>1.0</td>\n      <td>4.5</td>\n      <td>C41 H76 O2 N1 P1</td>\n      <td>645.56134</td>\n      <td>3.592743</td>\n    </tr>\n    <tr>\n      <th>235</th>\n      <td>controllerType=0 controllerNumber=1 scan=28</td>\n      <td>645.558960</td>\n      <td>491129.250000</td>\n      <td>46.0</td>\n      <td>41.0</td>\n      <td>76.0</td>\n      <td>2.0</td>\n      <td>1.0</td>\n      <td>1.0</td>\n      <td>4.5</td>\n      <td>C41 H76 O2 N1 P1</td>\n      <td>645.56134</td>\n      <td>3.687289</td>\n    </tr>\n    <tr>\n      <th>184</th>\n      <td>controllerType=0 controllerNumber=1 scan=12</td>\n      <td>645.558899</td>\n      <td>467641.750000</td>\n      <td>46.0</td>\n      <td>41.0</td>\n      <td>76.0</td>\n      <td>2.0</td>\n      <td>1.0</td>\n      <td>1.0</td>\n      <td>4.5</td>\n      <td>C41 H76 O2 N1 P1</td>\n      <td>645.56134</td>\n      <td>3.781835</td>\n    </tr>\n    <tr>\n      <th>209</th>\n      <td>controllerType=0 controllerNumber=1 scan=25</td>\n      <td>645.558899</td>\n      <td>125685.617188</td>\n      <td>46.0</td>\n      <td>41.0</td>\n      <td>76.0</td>\n      <td>2.0</td>\n      <td>1.0</td>\n      <td>1.0</td>\n      <td>4.5</td>\n      <td>C41 H76 O2 N1 P1</td>\n      <td>645.56134</td>\n      <td>3.781835</td>\n    </tr>\n    <tr>\n      <th>132</th>\n      <td>controllerType=0 controllerNumber=1 scan=26</td>\n      <td>645.558777</td>\n      <td>663011.687500</td>\n      <td>46.0</td>\n      <td>41.0</td>\n      <td>76.0</td>\n      <td>2.0</td>\n      <td>1.0</td>\n      <td>1.0</td>\n      <td>4.5</td>\n      <td>C41 H76 O2 N1 P1</td>\n      <td>645.56134</td>\n      <td>3.970926</td>\n    </tr>\n    <tr>\n      <th>157</th>\n      <td>controllerType=0 controllerNumber=1 scan=9</td>\n      <td>645.558777</td>\n      <td>118809.257812</td>\n      <td>46.0</td>\n      <td>41.0</td>\n      <td>76.0</td>\n      <td>2.0</td>\n      <td>1.0</td>\n      <td>1.0</td>\n      <td>4.5</td>\n      <td>C41 H76 O2 N1 P1</td>\n      <td>645.56134</td>\n      <td>3.970926</td>\n    </tr>\n    <tr>\n      <th>105</th>\n      <td>controllerType=0 controllerNumber=1 scan=15</td>\n      <td>645.558716</td>\n      <td>285562.750000</td>\n      <td>46.0</td>\n      <td>41.0</td>\n      <td>76.0</td>\n      <td>2.0</td>\n      <td>1.0</td>\n      <td>1.0</td>\n      <td>4.5</td>\n      <td>C41 H76 O2 N1 P1</td>\n      <td>645.56134</td>\n      <td>4.065472</td>\n    </tr>\n    <tr>\n      <th>79</th>\n      <td>controllerType=0 controllerNumber=1 scan=27</td>\n      <td>645.558533</td>\n      <td>192730.390625</td>\n      <td>46.0</td>\n      <td>41.0</td>\n      <td>76.0</td>\n      <td>2.0</td>\n      <td>1.0</td>\n      <td>1.0</td>\n      <td>4.5</td>\n      <td>C41 H76 O2 N1 P1</td>\n      <td>645.56134</td>\n      <td>4.349110</td>\n    </tr>\n    <tr>\n      <th>53</th>\n      <td>controllerType=0 controllerNumber=1 scan=19</td>\n      <td>645.558411</td>\n      <td>154079.125000</td>\n      <td>46.0</td>\n      <td>41.0</td>\n      <td>76.0</td>\n      <td>2.0</td>\n      <td>1.0</td>\n      <td>1.0</td>\n      <td>4.5</td>\n      <td>C41 H76 O2 N1 P1</td>\n      <td>645.56134</td>\n      <td>4.538202</td>\n    </tr>\n    <tr>\n      <th>27</th>\n      <td>controllerType=0 controllerNumber=1 scan=10</td>\n      <td>645.558167</td>\n      <td>119778.851562</td>\n      <td>46.0</td>\n      <td>41.0</td>\n      <td>76.0</td>\n      <td>2.0</td>\n      <td>1.0</td>\n      <td>1.0</td>\n      <td>4.5</td>\n      <td>C41 H76 O2 N1 P1</td>\n      <td>645.56134</td>\n      <td>4.916385</td>\n    </tr>\n  </tbody>\n</table>\n</div>",
      "text/plain": "                                           PR_id        PR_m           PR_i  \\\n547   controllerType=0 controllerNumber=1 scan=8  645.561218   84917.601562   \n469  controllerType=0 controllerNumber=1 scan=22  645.559509  154247.328125   \n495  controllerType=0 controllerNumber=1 scan=21  645.559509  153122.875000   \n521  controllerType=0 controllerNumber=1 scan=17  645.559509  255222.156250   \n443  controllerType=0 controllerNumber=1 scan=14  645.559387  237835.984375   \n418  controllerType=0 controllerNumber=1 scan=20  645.559326  468750.468750   \n392  controllerType=0 controllerNumber=1 scan=13  645.559265  627203.062500   \n365  controllerType=0 controllerNumber=1 scan=11  645.559204  516790.125000   \n340  controllerType=0 controllerNumber=1 scan=24  645.559143  408192.218750   \n288  controllerType=0 controllerNumber=1 scan=29  645.559082  558763.312500   \n314  controllerType=0 controllerNumber=1 scan=23  645.559082  777978.062500   \n261  controllerType=0 controllerNumber=1 scan=30  645.559021  271163.031250   \n235  controllerType=0 controllerNumber=1 scan=28  645.558960  491129.250000   \n184  controllerType=0 controllerNumber=1 scan=12  645.558899  467641.750000   \n209  controllerType=0 controllerNumber=1 scan=25  645.558899  125685.617188   \n132  controllerType=0 controllerNumber=1 scan=26  645.558777  663011.687500   \n157   controllerType=0 controllerNumber=1 scan=9  645.558777  118809.257812   \n105  controllerType=0 controllerNumber=1 scan=15  645.558716  285562.750000   \n79   controllerType=0 controllerNumber=1 scan=27  645.558533  192730.390625   \n53   controllerType=0 controllerNumber=1 scan=19  645.558411  154079.125000   \n27   controllerType=0 controllerNumber=1 scan=10  645.558167  119778.851562   \n\n     PR_index  PR_C  PR_H  PR_O  PR_N  PR_P  PR_dbr           PR_chem  \\\n547      46.0  41.0  76.0   2.0   1.0   1.0     4.5  C41 H76 O2 N1 P1   \n469      46.0  41.0  76.0   2.0   1.0   1.0     4.5  C41 H76 O2 N1 P1   \n495      46.0  41.0  76.0   2.0   1.0   1.0     4.5  C41 H76 O2 N1 P1   \n521      46.0  41.0  76.0   2.0   1.0   1.0     4.5  C41 H76 O2 N1 P1   \n443      46.0  41.0  76.0   2.0   1.0   1.0     4.5  C41 H76 O2 N1 P1   \n418      46.0  41.0  76.0   2.0   1.0   1.0     4.5  C41 H76 O2 N1 P1   \n392      46.0  41.0  76.0   2.0   1.0   1.0     4.5  C41 H76 O2 N1 P1   \n365      46.0  41.0  76.0   2.0   1.0   1.0     4.5  C41 H76 O2 N1 P1   \n340      46.0  41.0  76.0   2.0   1.0   1.0     4.5  C41 H76 O2 N1 P1   \n288      46.0  41.0  76.0   2.0   1.0   1.0     4.5  C41 H76 O2 N1 P1   \n314      46.0  41.0  76.0   2.0   1.0   1.0     4.5  C41 H76 O2 N1 P1   \n261      46.0  41.0  76.0   2.0   1.0   1.0     4.5  C41 H76 O2 N1 P1   \n235      46.0  41.0  76.0   2.0   1.0   1.0     4.5  C41 H76 O2 N1 P1   \n184      46.0  41.0  76.0   2.0   1.0   1.0     4.5  C41 H76 O2 N1 P1   \n209      46.0  41.0  76.0   2.0   1.0   1.0     4.5  C41 H76 O2 N1 P1   \n132      46.0  41.0  76.0   2.0   1.0   1.0     4.5  C41 H76 O2 N1 P1   \n157      46.0  41.0  76.0   2.0   1.0   1.0     4.5  C41 H76 O2 N1 P1   \n105      46.0  41.0  76.0   2.0   1.0   1.0     4.5  C41 H76 O2 N1 P1   \n79       46.0  41.0  76.0   2.0   1.0   1.0     4.5  C41 H76 O2 N1 P1   \n53       46.0  41.0  76.0   2.0   1.0   1.0     4.5  C41 H76 O2 N1 P1   \n27       46.0  41.0  76.0   2.0   1.0   1.0     4.5  C41 H76 O2 N1 P1   \n\n     PR_target    PR_ppm  \n547  645.56134  0.189092  \n469  645.56134  2.836376  \n495  645.56134  2.836376  \n521  645.56134  2.836376  \n443  645.56134  3.025468  \n418  645.56134  3.120014  \n392  645.56134  3.214559  \n365  645.56134  3.309105  \n340  645.56134  3.403651  \n288  645.56134  3.498197  \n314  645.56134  3.498197  \n261  645.56134  3.592743  \n235  645.56134  3.687289  \n184  645.56134  3.781835  \n209  645.56134  3.781835  \n132  645.56134  3.970926  \n157  645.56134  3.970926  \n105  645.56134  4.065472  \n79   645.56134  4.349110  \n53   645.56134  4.538202  \n27   645.56134  4.916385  "
     },
     "execution_count": 17,
     "metadata": {},
     "output_type": "execute_result"
    }
   ],
   "source": [
    "pr_df[pr_df.PR_chem== 'C41 H76 O2 N1 P1']"
   ]
  },
  {
   "cell_type": "code",
   "execution_count": 18,
   "metadata": {},
   "outputs": [
    {
     "data": {
      "text/html": "<div>\n<style scoped>\n    .dataframe tbody tr th:only-of-type {\n        vertical-align: middle;\n    }\n\n    .dataframe tbody tr th {\n        vertical-align: top;\n    }\n\n    .dataframe thead th {\n        text-align: right;\n    }\n</style>\n<table border=\"1\" class=\"dataframe\">\n  <thead>\n    <tr style=\"text-align: right;\">\n      <th></th>\n      <th>PR_C_dbr</th>\n      <th>PR_ppm_mean</th>\n      <th>PR_i_mean</th>\n      <th>PR_i_rsd</th>\n      <th>PR_count</th>\n    </tr>\n  </thead>\n  <tbody>\n    <tr>\n      <th>8</th>\n      <td>(45.0, 7.0)</td>\n      <td>0.832395</td>\n      <td>1.199575e+03</td>\n      <td>116.762352</td>\n      <td>2</td>\n    </tr>\n    <tr>\n      <th>10</th>\n      <td>(47.0, 8.5)</td>\n      <td>1.607095</td>\n      <td>5.572690e+04</td>\n      <td>NaN</td>\n      <td>1</td>\n    </tr>\n    <tr>\n      <th>2</th>\n      <td>(43.0, 5.0)</td>\n      <td>2.314052</td>\n      <td>1.005942e+04</td>\n      <td>127.863383</td>\n      <td>2</td>\n    </tr>\n    <tr>\n      <th>4</th>\n      <td>(43.0, 6.0)</td>\n      <td>2.730598</td>\n      <td>1.026026e+04</td>\n      <td>137.609744</td>\n      <td>2</td>\n    </tr>\n    <tr>\n      <th>14</th>\n      <td>(49.0, 10.5)</td>\n      <td>2.774187</td>\n      <td>2.875775e+05</td>\n      <td>56.373453</td>\n      <td>18</td>\n    </tr>\n    <tr>\n      <th>6</th>\n      <td>(43.0, 9.0)</td>\n      <td>2.847294</td>\n      <td>1.973746e+02</td>\n      <td>NaN</td>\n      <td>1</td>\n    </tr>\n    <tr>\n      <th>13</th>\n      <td>(49.0, 10.0)</td>\n      <td>3.024778</td>\n      <td>1.156484e+05</td>\n      <td>NaN</td>\n      <td>1</td>\n    </tr>\n    <tr>\n      <th>12</th>\n      <td>(49.0, 9.5)</td>\n      <td>3.102341</td>\n      <td>1.470442e+05</td>\n      <td>11.577132</td>\n      <td>3</td>\n    </tr>\n    <tr>\n      <th>9</th>\n      <td>(45.0, 7.5)</td>\n      <td>3.264939</td>\n      <td>1.098081e+06</td>\n      <td>36.926129</td>\n      <td>24</td>\n    </tr>\n    <tr>\n      <th>11</th>\n      <td>(48.0, 7.0)</td>\n      <td>3.305309</td>\n      <td>1.991505e+04</td>\n      <td>NaN</td>\n      <td>1</td>\n    </tr>\n    <tr>\n      <th>5</th>\n      <td>(43.0, 6.5)</td>\n      <td>3.444430</td>\n      <td>2.427328e+05</td>\n      <td>70.977330</td>\n      <td>14</td>\n    </tr>\n    <tr>\n      <th>0</th>\n      <td>(41.0, 4.5)</td>\n      <td>3.448673</td>\n      <td>3.396483e+05</td>\n      <td>61.672300</td>\n      <td>21</td>\n    </tr>\n    <tr>\n      <th>1</th>\n      <td>(43.0, 4.5)</td>\n      <td>3.479477</td>\n      <td>2.098881e+06</td>\n      <td>41.538745</td>\n      <td>25</td>\n    </tr>\n    <tr>\n      <th>3</th>\n      <td>(43.0, 5.5)</td>\n      <td>3.506582</td>\n      <td>8.031492e+06</td>\n      <td>28.645957</td>\n      <td>24</td>\n    </tr>\n    <tr>\n      <th>7</th>\n      <td>(45.0, 6.5)</td>\n      <td>3.609127</td>\n      <td>1.367201e+05</td>\n      <td>14.938654</td>\n      <td>4</td>\n    </tr>\n  </tbody>\n</table>\n</div>",
      "text/plain": "        PR_C_dbr  PR_ppm_mean     PR_i_mean    PR_i_rsd  PR_count\n8    (45.0, 7.0)     0.832395  1.199575e+03  116.762352         2\n10   (47.0, 8.5)     1.607095  5.572690e+04         NaN         1\n2    (43.0, 5.0)     2.314052  1.005942e+04  127.863383         2\n4    (43.0, 6.0)     2.730598  1.026026e+04  137.609744         2\n14  (49.0, 10.5)     2.774187  2.875775e+05   56.373453        18\n6    (43.0, 9.0)     2.847294  1.973746e+02         NaN         1\n13  (49.0, 10.0)     3.024778  1.156484e+05         NaN         1\n12   (49.0, 9.5)     3.102341  1.470442e+05   11.577132         3\n9    (45.0, 7.5)     3.264939  1.098081e+06   36.926129        24\n11   (48.0, 7.0)     3.305309  1.991505e+04         NaN         1\n5    (43.0, 6.5)     3.444430  2.427328e+05   70.977330        14\n0    (41.0, 4.5)     3.448673  3.396483e+05   61.672300        21\n1    (43.0, 4.5)     3.479477  2.098881e+06   41.538745        25\n3    (43.0, 5.5)     3.506582  8.031492e+06   28.645957        24\n7    (45.0, 6.5)     3.609127  1.367201e+05   14.938654         4"
     },
     "execution_count": 18,
     "metadata": {},
     "output_type": "execute_result"
    }
   ],
   "source": [
    "sum_df = MFQL_util.summaryDF(pr_df, quantile=1)\n",
    "sum_df"
   ]
  },
  {
   "cell_type": "code",
   "execution_count": 19,
   "metadata": {},
   "outputs": [],
   "source": [
    "def summarySpectra(df, prefix='PR_'):\n",
    "    groups = df.groupby([prefix+'C', prefix+'dbr'])\n",
    "    for e,g_df in groups:\n",
    "        print(e)\n",
    "        print(g_df[[prefix+'m', prefix+'i']])\n",
    "        break"
   ]
  },
  {
   "cell_type": "code",
   "execution_count": 20,
   "metadata": {},
   "outputs": [
    {
     "name": "stdout",
     "output_type": "stream",
     "text": "(41.0, 4.5)\n           PR_m           PR_i\n547  645.561218   84917.601562\n469  645.559509  154247.328125\n495  645.559509  153122.875000\n521  645.559509  255222.156250\n443  645.559387  237835.984375\n418  645.559326  468750.468750\n392  645.559265  627203.062500\n365  645.559204  516790.125000\n340  645.559143  408192.218750\n288  645.559082  558763.312500\n314  645.559082  777978.062500\n261  645.559021  271163.031250\n235  645.558960  491129.250000\n184  645.558899  467641.750000\n209  645.558899  125685.617188\n132  645.558777  663011.687500\n157  645.558777  118809.257812\n105  645.558716  285562.750000\n79   645.558533  192730.390625\n53   645.558411  154079.125000\n27   645.558167  119778.851562\n"
    }
   ],
   "source": [
    "summarySpectra(pr_df)"
   ]
  },
  {
   "cell_type": "code",
   "execution_count": 21,
   "metadata": {},
   "outputs": [],
   "source": [
    "test_df = pr_df.query('PR_C == 45 and PR_dbr == 7.5')"
   ]
  },
  {
   "cell_type": "code",
   "execution_count": 24,
   "metadata": {},
   "outputs": [
    {
     "name": "stderr",
     "output_type": "stream",
     "text": "c:\\Users\\mirandaa\\Desktop\\lx128_p3\\lipidxplorer\\lx2\\targets.py:128: UserWarning: In Matplotlib 3.3 individual lines on a stem plot will be added as a LineCollection instead of individual lines. This significantly improves the performance of a stem plot. To remove this warning and switch to the new behaviour, set the \"use_line_collection\" keyword argument to True.\n  (markerline, stemlines, baseline) =plt.stem(m, i)#, markerfmt=' ')\n"
    },
    {
     "data": {
      "image/png": "[encoded data removed]",
      "image/svg+xml": "<?xml version=\"1.0\" encoding=\"utf-8\" standalone=\"no\"?>\r\n<!DOCTYPE svg PUBLIC \"-//W3C//DTD SVG 1.1//EN\"\r\n  \"http://www.w3.org/Graphics/SVG/1.1/DTD/svg11.dtd\">\r\n<!-- Created with matplotlib (https://matplotlib.org/) -->\r\n<svg height=\"261.19625pt\" version=\"1.1\" viewBox=\"0 0 400.7375 261.19625\" width=\"400.7375pt\" xmlns=\"http://www.w3.org/2000/svg\" xmlns:xlink=\"http://www.w3.org/1999/xlink\">\r\n <defs>\r\n  <style type=\"text/css\">\r\n*{stroke-linecap:butt;stroke-linejoin:round;}\r\n  </style>\r\n </defs>\r\n <g id=\"figure_1\">\r\n  <g id=\"patch_1\">\r\n   <path d=\"M 0 261.19625 \r\nL 400.7375 261.19625 \r\nL 400.7375 0 \r\nL 0 0 \r\nz\r\n\" style=\"fill:none;\"/>\r\n  </g>\r\n  <g id=\"axes_1\">\r\n   <g id=\"patch_2\">\r\n    <path d=\"M 58.7375 224.64 \r\nL 393.5375 224.64 \r\nL 393.5375 7.2 \r\nL 58.7375 7.2 \r\nz\r\n\" style=\"fill:#ffffff;\"/>\r\n   </g>\r\n   <g id=\"matplotlib.axis_1\">\r\n    <g id=\"xtick_1\">\r\n     <g id=\"line2d_1\">\r\n      <defs>\r\n       <path d=\"M 0 0 \r\nL 0 3.5 \r\n\" id=\"m05ed1abf10\" style=\"stroke:#000000;stroke-width:0.8;\"/>\r\n      </defs>\r\n      <g>\r\n       <use style=\"stroke:#000000;stroke-width:0.8;\" x=\"71.935814\" xlink:href=\"#m05ed1abf10\" y=\"224.64\"/>\r\n      </g>\r\n     </g>\r\n     <g id=\"text_1\">\r\n      <!-- 0.004 -->\r\n      <defs>\r\n       <path d=\"M 31.78125 66.40625 \r\nQ 24.171875 66.40625 20.328125 58.90625 \r\nQ 16.5 51.421875 16.5 36.375 \r\nQ 16.5 21.390625 20.328125 13.890625 \r\nQ 24.171875 6.390625 31.78125 6.390625 \r\nQ 39.453125 6.390625 43.28125 13.890625 \r\nQ 47.125 21.390625 47.125 36.375 \r\nQ 47.125 51.421875 43.28125 58.90625 \r\nQ 39.453125 66.40625 31.78125 66.40625 \r\nz\r\nM 31.78125 74.21875 \r\nQ 44.046875 74.21875 50.515625 64.515625 \r\nQ 56.984375 54.828125 56.984375 36.375 \r\nQ 56.984375 17.96875 50.515625 8.265625 \r\nQ 44.046875 -1.421875 31.78125 -1.421875 \r\nQ 19.53125 -1.421875 13.0625 8.265625 \r\nQ 6.59375 17.96875 6.59375 36.375 \r\nQ 6.59375 54.828125 13.0625 64.515625 \r\nQ 19.53125 74.21875 31.78125 74.21875 \r\nz\r\n\" id=\"DejaVuSans-48\"/>\r\n       <path d=\"M 10.6875 12.40625 \r\nL 21 12.40625 \r\nL 21 0 \r\nL 10.6875 0 \r\nz\r\n\" id=\"DejaVuSans-46\"/>\r\n       <path d=\"M 37.796875 64.3125 \r\nL 12.890625 25.390625 \r\nL 37.796875 25.390625 \r\nz\r\nM 35.203125 72.90625 \r\nL 47.609375 72.90625 \r\nL 47.609375 25.390625 \r\nL 58.015625 25.390625 \r\nL 58.015625 17.1875 \r\nL 47.609375 17.1875 \r\nL 47.609375 0 \r\nL 37.796875 0 \r\nL 37.796875 17.1875 \r\nL 4.890625 17.1875 \r\nL 4.890625 26.703125 \r\nz\r\n\" id=\"DejaVuSans-52\"/>\r\n      </defs>\r\n      <g transform=\"translate(57.621752 239.238437)scale(0.1 -0.1)\">\r\n       <use xlink:href=\"#DejaVuSans-48\"/>\r\n       <use x=\"63.623047\" xlink:href=\"#DejaVuSans-46\"/>\r\n       <use x=\"95.410156\" xlink:href=\"#DejaVuSans-48\"/>\r\n       <use x=\"159.033203\" xlink:href=\"#DejaVuSans-48\"/>\r\n       <use x=\"222.65625\" xlink:href=\"#DejaVuSans-52\"/>\r\n      </g>\r\n     </g>\r\n    </g>\r\n    <g id=\"xtick_2\">\r\n     <g id=\"line2d_2\">\r\n      <g>\r\n       <use style=\"stroke:#000000;stroke-width:0.8;\" x=\"128.602789\" xlink:href=\"#m05ed1abf10\" y=\"224.64\"/>\r\n      </g>\r\n     </g>\r\n     <g id=\"text_2\">\r\n      <!-- 0.005 -->\r\n      <defs>\r\n       <path d=\"M 10.796875 72.90625 \r\nL 49.515625 72.90625 \r\nL 49.515625 64.59375 \r\nL 19.828125 64.59375 \r\nL 19.828125 46.734375 \r\nQ 21.96875 47.46875 24.109375 47.828125 \r\nQ 26.265625 48.1875 28.421875 48.1875 \r\nQ 40.625 48.1875 47.75 41.5 \r\nQ 54.890625 34.8125 54.890625 23.390625 \r\nQ 54.890625 11.625 47.5625 5.09375 \r\nQ 40.234375 -1.421875 26.90625 -1.421875 \r\nQ 22.3125 -1.421875 17.546875 -0.640625 \r\nQ 12.796875 0.140625 7.71875 1.703125 \r\nL 7.71875 11.625 \r\nQ 12.109375 9.234375 16.796875 8.0625 \r\nQ 21.484375 6.890625 26.703125 6.890625 \r\nQ 35.15625 6.890625 40.078125 11.328125 \r\nQ 45.015625 15.765625 45.015625 23.390625 \r\nQ 45.015625 31 40.078125 35.4375 \r\nQ 35.15625 39.890625 26.703125 39.890625 \r\nQ 22.75 39.890625 18.8125 39.015625 \r\nQ 14.890625 38.140625 10.796875 36.28125 \r\nz\r\n\" id=\"DejaVuSans-53\"/>\r\n      </defs>\r\n      <g transform=\"translate(114.288727 239.238437)scale(0.1 -0.1)\">\r\n       <use xlink:href=\"#DejaVuSans-48\"/>\r\n       <use x=\"63.623047\" xlink:href=\"#DejaVuSans-46\"/>\r\n       <use x=\"95.410156\" xlink:href=\"#DejaVuSans-48\"/>\r\n       <use x=\"159.033203\" xlink:href=\"#DejaVuSans-48\"/>\r\n       <use x=\"222.65625\" xlink:href=\"#DejaVuSans-53\"/>\r\n      </g>\r\n     </g>\r\n    </g>\r\n    <g id=\"xtick_3\">\r\n     <g id=\"line2d_3\">\r\n      <g>\r\n       <use style=\"stroke:#000000;stroke-width:0.8;\" x=\"185.269764\" xlink:href=\"#m05ed1abf10\" y=\"224.64\"/>\r\n      </g>\r\n     </g>\r\n     <g id=\"text_3\">\r\n      <!-- 0.006 -->\r\n      <defs>\r\n       <path d=\"M 33.015625 40.375 \r\nQ 26.375 40.375 22.484375 35.828125 \r\nQ 18.609375 31.296875 18.609375 23.390625 \r\nQ 18.609375 15.53125 22.484375 10.953125 \r\nQ 26.375 6.390625 33.015625 6.390625 \r\nQ 39.65625 6.390625 43.53125 10.953125 \r\nQ 47.40625 15.53125 47.40625 23.390625 \r\nQ 47.40625 31.296875 43.53125 35.828125 \r\nQ 39.65625 40.375 33.015625 40.375 \r\nz\r\nM 52.59375 71.296875 \r\nL 52.59375 62.3125 \r\nQ 48.875 64.0625 45.09375 64.984375 \r\nQ 41.3125 65.921875 37.59375 65.921875 \r\nQ 27.828125 65.921875 22.671875 59.328125 \r\nQ 17.53125 52.734375 16.796875 39.40625 \r\nQ 19.671875 43.65625 24.015625 45.921875 \r\nQ 28.375 48.1875 33.59375 48.1875 \r\nQ 44.578125 48.1875 50.953125 41.515625 \r\nQ 57.328125 34.859375 57.328125 23.390625 \r\nQ 57.328125 12.15625 50.6875 5.359375 \r\nQ 44.046875 -1.421875 33.015625 -1.421875 \r\nQ 20.359375 -1.421875 13.671875 8.265625 \r\nQ 6.984375 17.96875 6.984375 36.375 \r\nQ 6.984375 53.65625 15.1875 63.9375 \r\nQ 23.390625 74.21875 37.203125 74.21875 \r\nQ 40.921875 74.21875 44.703125 73.484375 \r\nQ 48.484375 72.75 52.59375 71.296875 \r\nz\r\n\" id=\"DejaVuSans-54\"/>\r\n      </defs>\r\n      <g transform=\"translate(170.955702 239.238437)scale(0.1 -0.1)\">\r\n       <use xlink:href=\"#DejaVuSans-48\"/>\r\n       <use x=\"63.623047\" xlink:href=\"#DejaVuSans-46\"/>\r\n       <use x=\"95.410156\" xlink:href=\"#DejaVuSans-48\"/>\r\n       <use x=\"159.033203\" xlink:href=\"#DejaVuSans-48\"/>\r\n       <use x=\"222.65625\" xlink:href=\"#DejaVuSans-54\"/>\r\n      </g>\r\n     </g>\r\n    </g>\r\n    <g id=\"xtick_4\">\r\n     <g id=\"line2d_4\">\r\n      <g>\r\n       <use style=\"stroke:#000000;stroke-width:0.8;\" x=\"241.93674\" xlink:href=\"#m05ed1abf10\" y=\"224.64\"/>\r\n      </g>\r\n     </g>\r\n     <g id=\"text_4\">\r\n      <!-- 0.007 -->\r\n      <defs>\r\n       <path d=\"M 8.203125 72.90625 \r\nL 55.078125 72.90625 \r\nL 55.078125 68.703125 \r\nL 28.609375 0 \r\nL 18.3125 0 \r\nL 43.21875 64.59375 \r\nL 8.203125 64.59375 \r\nz\r\n\" id=\"DejaVuSans-55\"/>\r\n      </defs>\r\n      <g transform=\"translate(227.622677 239.238437)scale(0.1 -0.1)\">\r\n       <use xlink:href=\"#DejaVuSans-48\"/>\r\n       <use x=\"63.623047\" xlink:href=\"#DejaVuSans-46\"/>\r\n       <use x=\"95.410156\" xlink:href=\"#DejaVuSans-48\"/>\r\n       <use x=\"159.033203\" xlink:href=\"#DejaVuSans-48\"/>\r\n       <use x=\"222.65625\" xlink:href=\"#DejaVuSans-55\"/>\r\n      </g>\r\n     </g>\r\n    </g>\r\n    <g id=\"xtick_5\">\r\n     <g id=\"line2d_5\">\r\n      <g>\r\n       <use style=\"stroke:#000000;stroke-width:0.8;\" x=\"298.603715\" xlink:href=\"#m05ed1abf10\" y=\"224.64\"/>\r\n      </g>\r\n     </g>\r\n     <g id=\"text_5\">\r\n      <!-- 0.008 -->\r\n      <defs>\r\n       <path d=\"M 31.78125 34.625 \r\nQ 24.75 34.625 20.71875 30.859375 \r\nQ 16.703125 27.09375 16.703125 20.515625 \r\nQ 16.703125 13.921875 20.71875 10.15625 \r\nQ 24.75 6.390625 31.78125 6.390625 \r\nQ 38.8125 6.390625 42.859375 10.171875 \r\nQ 46.921875 13.96875 46.921875 20.515625 \r\nQ 46.921875 27.09375 42.890625 30.859375 \r\nQ 38.875 34.625 31.78125 34.625 \r\nz\r\nM 21.921875 38.8125 \r\nQ 15.578125 40.375 12.03125 44.71875 \r\nQ 8.5 49.078125 8.5 55.328125 \r\nQ 8.5 64.0625 14.71875 69.140625 \r\nQ 20.953125 74.21875 31.78125 74.21875 \r\nQ 42.671875 74.21875 48.875 69.140625 \r\nQ 55.078125 64.0625 55.078125 55.328125 \r\nQ 55.078125 49.078125 51.53125 44.71875 \r\nQ 48 40.375 41.703125 38.8125 \r\nQ 48.828125 37.15625 52.796875 32.3125 \r\nQ 56.78125 27.484375 56.78125 20.515625 \r\nQ 56.78125 9.90625 50.3125 4.234375 \r\nQ 43.84375 -1.421875 31.78125 -1.421875 \r\nQ 19.734375 -1.421875 13.25 4.234375 \r\nQ 6.78125 9.90625 6.78125 20.515625 \r\nQ 6.78125 27.484375 10.78125 32.3125 \r\nQ 14.796875 37.15625 21.921875 38.8125 \r\nz\r\nM 18.3125 54.390625 \r\nQ 18.3125 48.734375 21.84375 45.5625 \r\nQ 25.390625 42.390625 31.78125 42.390625 \r\nQ 38.140625 42.390625 41.71875 45.5625 \r\nQ 45.3125 48.734375 45.3125 54.390625 \r\nQ 45.3125 60.0625 41.71875 63.234375 \r\nQ 38.140625 66.40625 31.78125 66.40625 \r\nQ 25.390625 66.40625 21.84375 63.234375 \r\nQ 18.3125 60.0625 18.3125 54.390625 \r\nz\r\n\" id=\"DejaVuSans-56\"/>\r\n      </defs>\r\n      <g transform=\"translate(284.289652 239.238437)scale(0.1 -0.1)\">\r\n       <use xlink:href=\"#DejaVuSans-48\"/>\r\n       <use x=\"63.623047\" xlink:href=\"#DejaVuSans-46\"/>\r\n       <use x=\"95.410156\" xlink:href=\"#DejaVuSans-48\"/>\r\n       <use x=\"159.033203\" xlink:href=\"#DejaVuSans-48\"/>\r\n       <use x=\"222.65625\" xlink:href=\"#DejaVuSans-56\"/>\r\n      </g>\r\n     </g>\r\n    </g>\r\n    <g id=\"xtick_6\">\r\n     <g id=\"line2d_6\">\r\n      <g>\r\n       <use style=\"stroke:#000000;stroke-width:0.8;\" x=\"355.27069\" xlink:href=\"#m05ed1abf10\" y=\"224.64\"/>\r\n      </g>\r\n     </g>\r\n     <g id=\"text_6\">\r\n      <!-- 0.009 -->\r\n      <defs>\r\n       <path d=\"M 10.984375 1.515625 \r\nL 10.984375 10.5 \r\nQ 14.703125 8.734375 18.5 7.8125 \r\nQ 22.3125 6.890625 25.984375 6.890625 \r\nQ 35.75 6.890625 40.890625 13.453125 \r\nQ 46.046875 20.015625 46.78125 33.40625 \r\nQ 43.953125 29.203125 39.59375 26.953125 \r\nQ 35.25 24.703125 29.984375 24.703125 \r\nQ 19.046875 24.703125 12.671875 31.3125 \r\nQ 6.296875 37.9375 6.296875 49.421875 \r\nQ 6.296875 60.640625 12.9375 67.421875 \r\nQ 19.578125 74.21875 30.609375 74.21875 \r\nQ 43.265625 74.21875 49.921875 64.515625 \r\nQ 56.59375 54.828125 56.59375 36.375 \r\nQ 56.59375 19.140625 48.40625 8.859375 \r\nQ 40.234375 -1.421875 26.421875 -1.421875 \r\nQ 22.703125 -1.421875 18.890625 -0.6875 \r\nQ 15.09375 0.046875 10.984375 1.515625 \r\nz\r\nM 30.609375 32.421875 \r\nQ 37.25 32.421875 41.125 36.953125 \r\nQ 45.015625 41.5 45.015625 49.421875 \r\nQ 45.015625 57.28125 41.125 61.84375 \r\nQ 37.25 66.40625 30.609375 66.40625 \r\nQ 23.96875 66.40625 20.09375 61.84375 \r\nQ 16.21875 57.28125 16.21875 49.421875 \r\nQ 16.21875 41.5 20.09375 36.953125 \r\nQ 23.96875 32.421875 30.609375 32.421875 \r\nz\r\n\" id=\"DejaVuSans-57\"/>\r\n      </defs>\r\n      <g transform=\"translate(340.956628 239.238437)scale(0.1 -0.1)\">\r\n       <use xlink:href=\"#DejaVuSans-48\"/>\r\n       <use x=\"63.623047\" xlink:href=\"#DejaVuSans-46\"/>\r\n       <use x=\"95.410156\" xlink:href=\"#DejaVuSans-48\"/>\r\n       <use x=\"159.033203\" xlink:href=\"#DejaVuSans-48\"/>\r\n       <use x=\"222.65625\" xlink:href=\"#DejaVuSans-57\"/>\r\n      </g>\r\n     </g>\r\n    </g>\r\n    <g id=\"text_7\">\r\n     <!-- +6.9557e2 -->\r\n     <defs>\r\n      <path d=\"M 46 62.703125 \r\nL 46 35.5 \r\nL 73.1875 35.5 \r\nL 73.1875 27.203125 \r\nL 46 27.203125 \r\nL 46 0 \r\nL 37.796875 0 \r\nL 37.796875 27.203125 \r\nL 10.59375 27.203125 \r\nL 10.59375 35.5 \r\nL 37.796875 35.5 \r\nL 37.796875 62.703125 \r\nz\r\n\" id=\"DejaVuSans-43\"/>\r\n      <path d=\"M 56.203125 29.59375 \r\nL 56.203125 25.203125 \r\nL 14.890625 25.203125 \r\nQ 15.484375 15.921875 20.484375 11.0625 \r\nQ 25.484375 6.203125 34.421875 6.203125 \r\nQ 39.59375 6.203125 44.453125 7.46875 \r\nQ 49.3125 8.734375 54.109375 11.28125 \r\nL 54.109375 2.78125 \r\nQ 49.265625 0.734375 44.1875 -0.34375 \r\nQ 39.109375 -1.421875 33.890625 -1.421875 \r\nQ 20.796875 -1.421875 13.15625 6.1875 \r\nQ 5.515625 13.8125 5.515625 26.8125 \r\nQ 5.515625 40.234375 12.765625 48.109375 \r\nQ 20.015625 56 32.328125 56 \r\nQ 43.359375 56 49.78125 48.890625 \r\nQ 56.203125 41.796875 56.203125 29.59375 \r\nz\r\nM 47.21875 32.234375 \r\nQ 47.125 39.59375 43.09375 43.984375 \r\nQ 39.0625 48.390625 32.421875 48.390625 \r\nQ 24.90625 48.390625 20.390625 44.140625 \r\nQ 15.875 39.890625 15.1875 32.171875 \r\nz\r\n\" id=\"DejaVuSans-101\"/>\r\n      <path d=\"M 19.1875 8.296875 \r\nL 53.609375 8.296875 \r\nL 53.609375 0 \r\nL 7.328125 0 \r\nL 7.328125 8.296875 \r\nQ 12.9375 14.109375 22.625 23.890625 \r\nQ 32.328125 33.6875 34.8125 36.53125 \r\nQ 39.546875 41.84375 41.421875 45.53125 \r\nQ 43.3125 49.21875 43.3125 52.78125 \r\nQ 43.3125 58.59375 39.234375 62.25 \r\nQ 35.15625 65.921875 28.609375 65.921875 \r\nQ 23.96875 65.921875 18.8125 64.3125 \r\nQ 13.671875 62.703125 7.8125 59.421875 \r\nL 7.8125 69.390625 \r\nQ 13.765625 71.78125 18.9375 73 \r\nQ 24.125 74.21875 28.421875 74.21875 \r\nQ 39.75 74.21875 46.484375 68.546875 \r\nQ 53.21875 62.890625 53.21875 53.421875 \r\nQ 53.21875 48.921875 51.53125 44.890625 \r\nQ 49.859375 40.875 45.40625 35.40625 \r\nQ 44.1875 33.984375 37.640625 27.21875 \r\nQ 31.109375 20.453125 19.1875 8.296875 \r\nz\r\n\" id=\"DejaVuSans-50\"/>\r\n     </defs>\r\n     <g transform=\"translate(337.651563 251.916562)scale(0.1 -0.1)\">\r\n      <use xlink:href=\"#DejaVuSans-43\"/>\r\n      <use x=\"83.789062\" xlink:href=\"#DejaVuSans-54\"/>\r\n      <use x=\"147.412109\" xlink:href=\"#DejaVuSans-46\"/>\r\n      <use x=\"179.199219\" xlink:href=\"#DejaVuSans-57\"/>\r\n      <use x=\"242.822266\" xlink:href=\"#DejaVuSans-53\"/>\r\n      <use x=\"306.445312\" xlink:href=\"#DejaVuSans-53\"/>\r\n      <use x=\"370.068359\" xlink:href=\"#DejaVuSans-55\"/>\r\n      <use x=\"433.691406\" xlink:href=\"#DejaVuSans-101\"/>\r\n      <use x=\"495.214844\" xlink:href=\"#DejaVuSans-50\"/>\r\n     </g>\r\n    </g>\r\n   </g>\r\n   <g id=\"matplotlib.axis_2\">\r\n    <g id=\"ytick_1\">\r\n     <g id=\"line2d_7\">\r\n      <defs>\r\n       <path d=\"M 0 0 \r\nL -3.5 0 \r\n\" id=\"m5144ab0f02\" style=\"stroke:#000000;stroke-width:0.8;\"/>\r\n      </defs>\r\n      <g>\r\n       <use style=\"stroke:#000000;stroke-width:0.8;\" x=\"58.7375\" xlink:href=\"#m5144ab0f02\" y=\"214.756364\"/>\r\n      </g>\r\n     </g>\r\n     <g id=\"text_8\">\r\n      <!-- 0 -->\r\n      <g transform=\"translate(45.375 218.555582)scale(0.1 -0.1)\">\r\n       <use xlink:href=\"#DejaVuSans-48\"/>\r\n      </g>\r\n     </g>\r\n    </g>\r\n    <g id=\"ytick_2\">\r\n     <g id=\"line2d_8\">\r\n      <g>\r\n       <use style=\"stroke:#000000;stroke-width:0.8;\" x=\"58.7375\" xlink:href=\"#m5144ab0f02\" y=\"189.490066\"/>\r\n      </g>\r\n     </g>\r\n     <g id=\"text_9\">\r\n      <!-- 250000 -->\r\n      <g transform=\"translate(13.5625 193.289284)scale(0.1 -0.1)\">\r\n       <use xlink:href=\"#DejaVuSans-50\"/>\r\n       <use x=\"63.623047\" xlink:href=\"#DejaVuSans-53\"/>\r\n       <use x=\"127.246094\" xlink:href=\"#DejaVuSans-48\"/>\r\n       <use x=\"190.869141\" xlink:href=\"#DejaVuSans-48\"/>\r\n       <use x=\"254.492188\" xlink:href=\"#DejaVuSans-48\"/>\r\n       <use x=\"318.115234\" xlink:href=\"#DejaVuSans-48\"/>\r\n      </g>\r\n     </g>\r\n    </g>\r\n    <g id=\"ytick_3\">\r\n     <g id=\"line2d_9\">\r\n      <g>\r\n       <use style=\"stroke:#000000;stroke-width:0.8;\" x=\"58.7375\" xlink:href=\"#m5144ab0f02\" y=\"164.223768\"/>\r\n      </g>\r\n     </g>\r\n     <g id=\"text_10\">\r\n      <!-- 500000 -->\r\n      <g transform=\"translate(13.5625 168.022986)scale(0.1 -0.1)\">\r\n       <use xlink:href=\"#DejaVuSans-53\"/>\r\n       <use x=\"63.623047\" xlink:href=\"#DejaVuSans-48\"/>\r\n       <use x=\"127.246094\" xlink:href=\"#DejaVuSans-48\"/>\r\n       <use x=\"190.869141\" xlink:href=\"#DejaVuSans-48\"/>\r\n       <use x=\"254.492188\" xlink:href=\"#DejaVuSans-48\"/>\r\n       <use x=\"318.115234\" xlink:href=\"#DejaVuSans-48\"/>\r\n      </g>\r\n     </g>\r\n    </g>\r\n    <g id=\"ytick_4\">\r\n     <g id=\"line2d_10\">\r\n      <g>\r\n       <use style=\"stroke:#000000;stroke-width:0.8;\" x=\"58.7375\" xlink:href=\"#m5144ab0f02\" y=\"138.957469\"/>\r\n      </g>\r\n     </g>\r\n     <g id=\"text_11\">\r\n      <!-- 750000 -->\r\n      <g transform=\"translate(13.5625 142.756688)scale(0.1 -0.1)\">\r\n       <use xlink:href=\"#DejaVuSans-55\"/>\r\n       <use x=\"63.623047\" xlink:href=\"#DejaVuSans-53\"/>\r\n       <use x=\"127.246094\" xlink:href=\"#DejaVuSans-48\"/>\r\n       <use x=\"190.869141\" xlink:href=\"#DejaVuSans-48\"/>\r\n       <use x=\"254.492188\" xlink:href=\"#DejaVuSans-48\"/>\r\n       <use x=\"318.115234\" xlink:href=\"#DejaVuSans-48\"/>\r\n      </g>\r\n     </g>\r\n    </g>\r\n    <g id=\"ytick_5\">\r\n     <g id=\"line2d_11\">\r\n      <g>\r\n       <use style=\"stroke:#000000;stroke-width:0.8;\" x=\"58.7375\" xlink:href=\"#m5144ab0f02\" y=\"113.691171\"/>\r\n      </g>\r\n     </g>\r\n     <g id=\"text_12\">\r\n      <!-- 1000000 -->\r\n      <defs>\r\n       <path d=\"M 12.40625 8.296875 \r\nL 28.515625 8.296875 \r\nL 28.515625 63.921875 \r\nL 10.984375 60.40625 \r\nL 10.984375 69.390625 \r\nL 28.421875 72.90625 \r\nL 38.28125 72.90625 \r\nL 38.28125 8.296875 \r\nL 54.390625 8.296875 \r\nL 54.390625 0 \r\nL 12.40625 0 \r\nz\r\n\" id=\"DejaVuSans-49\"/>\r\n      </defs>\r\n      <g transform=\"translate(7.2 117.49039)scale(0.1 -0.1)\">\r\n       <use xlink:href=\"#DejaVuSans-49\"/>\r\n       <use x=\"63.623047\" xlink:href=\"#DejaVuSans-48\"/>\r\n       <use x=\"127.246094\" xlink:href=\"#DejaVuSans-48\"/>\r\n       <use x=\"190.869141\" xlink:href=\"#DejaVuSans-48\"/>\r\n       <use x=\"254.492188\" xlink:href=\"#DejaVuSans-48\"/>\r\n       <use x=\"318.115234\" xlink:href=\"#DejaVuSans-48\"/>\r\n       <use x=\"381.738281\" xlink:href=\"#DejaVuSans-48\"/>\r\n      </g>\r\n     </g>\r\n    </g>\r\n    <g id=\"ytick_6\">\r\n     <g id=\"line2d_12\">\r\n      <g>\r\n       <use style=\"stroke:#000000;stroke-width:0.8;\" x=\"58.7375\" xlink:href=\"#m5144ab0f02\" y=\"88.424873\"/>\r\n      </g>\r\n     </g>\r\n     <g id=\"text_13\">\r\n      <!-- 1250000 -->\r\n      <g transform=\"translate(7.2 92.224092)scale(0.1 -0.1)\">\r\n       <use xlink:href=\"#DejaVuSans-49\"/>\r\n       <use x=\"63.623047\" xlink:href=\"#DejaVuSans-50\"/>\r\n       <use x=\"127.246094\" xlink:href=\"#DejaVuSans-53\"/>\r\n       <use x=\"190.869141\" xlink:href=\"#DejaVuSans-48\"/>\r\n       <use x=\"254.492188\" xlink:href=\"#DejaVuSans-48\"/>\r\n       <use x=\"318.115234\" xlink:href=\"#DejaVuSans-48\"/>\r\n       <use x=\"381.738281\" xlink:href=\"#DejaVuSans-48\"/>\r\n      </g>\r\n     </g>\r\n    </g>\r\n    <g id=\"ytick_7\">\r\n     <g id=\"line2d_13\">\r\n      <g>\r\n       <use style=\"stroke:#000000;stroke-width:0.8;\" x=\"58.7375\" xlink:href=\"#m5144ab0f02\" y=\"63.158575\"/>\r\n      </g>\r\n     </g>\r\n     <g id=\"text_14\">\r\n      <!-- 1500000 -->\r\n      <g transform=\"translate(7.2 66.957794)scale(0.1 -0.1)\">\r\n       <use xlink:href=\"#DejaVuSans-49\"/>\r\n       <use x=\"63.623047\" xlink:href=\"#DejaVuSans-53\"/>\r\n       <use x=\"127.246094\" xlink:href=\"#DejaVuSans-48\"/>\r\n       <use x=\"190.869141\" xlink:href=\"#DejaVuSans-48\"/>\r\n       <use x=\"254.492188\" xlink:href=\"#DejaVuSans-48\"/>\r\n       <use x=\"318.115234\" xlink:href=\"#DejaVuSans-48\"/>\r\n       <use x=\"381.738281\" xlink:href=\"#DejaVuSans-48\"/>\r\n      </g>\r\n     </g>\r\n    </g>\r\n    <g id=\"ytick_8\">\r\n     <g id=\"line2d_14\">\r\n      <g>\r\n       <use style=\"stroke:#000000;stroke-width:0.8;\" x=\"58.7375\" xlink:href=\"#m5144ab0f02\" y=\"37.892277\"/>\r\n      </g>\r\n     </g>\r\n     <g id=\"text_15\">\r\n      <!-- 1750000 -->\r\n      <g transform=\"translate(7.2 41.691496)scale(0.1 -0.1)\">\r\n       <use xlink:href=\"#DejaVuSans-49\"/>\r\n       <use x=\"63.623047\" xlink:href=\"#DejaVuSans-55\"/>\r\n       <use x=\"127.246094\" xlink:href=\"#DejaVuSans-53\"/>\r\n       <use x=\"190.869141\" xlink:href=\"#DejaVuSans-48\"/>\r\n       <use x=\"254.492188\" xlink:href=\"#DejaVuSans-48\"/>\r\n       <use x=\"318.115234\" xlink:href=\"#DejaVuSans-48\"/>\r\n       <use x=\"381.738281\" xlink:href=\"#DejaVuSans-48\"/>\r\n      </g>\r\n     </g>\r\n    </g>\r\n    <g id=\"ytick_9\">\r\n     <g id=\"line2d_15\">\r\n      <g>\r\n       <use style=\"stroke:#000000;stroke-width:0.8;\" x=\"58.7375\" xlink:href=\"#m5144ab0f02\" y=\"12.625979\"/>\r\n      </g>\r\n     </g>\r\n     <g id=\"text_16\">\r\n      <!-- 2000000 -->\r\n      <g transform=\"translate(7.2 16.425198)scale(0.1 -0.1)\">\r\n       <use xlink:href=\"#DejaVuSans-50\"/>\r\n       <use x=\"63.623047\" xlink:href=\"#DejaVuSans-48\"/>\r\n       <use x=\"127.246094\" xlink:href=\"#DejaVuSans-48\"/>\r\n       <use x=\"190.869141\" xlink:href=\"#DejaVuSans-48\"/>\r\n       <use x=\"254.492188\" xlink:href=\"#DejaVuSans-48\"/>\r\n       <use x=\"318.115234\" xlink:href=\"#DejaVuSans-48\"/>\r\n       <use x=\"381.738281\" xlink:href=\"#DejaVuSans-48\"/>\r\n      </g>\r\n     </g>\r\n    </g>\r\n   </g>\r\n   <g id=\"line2d_16\">\r\n    <path clip-path=\"url(#p813fa8c56c)\" d=\"M 257.265599 214.756364 \r\nL 257.265599 175.711674 \r\n\" style=\"fill:none;stroke:#1f77b4;stroke-linecap:square;stroke-width:1.5;\"/>\r\n   </g>\r\n   <g id=\"line2d_17\">\r\n    <path clip-path=\"url(#p813fa8c56c)\" d=\"M 163.881302 214.756364 \r\nL 163.881302 103.857301 \r\n\" style=\"fill:none;stroke:#1f77b4;stroke-linecap:square;stroke-width:1.5;\"/>\r\n   </g>\r\n   <g id=\"line2d_18\">\r\n    <path clip-path=\"url(#p813fa8c56c)\" d=\"M 136.21188 214.756364 \r\nL 136.21188 82.784829 \r\n\" style=\"fill:none;stroke:#1f77b4;stroke-linecap:square;stroke-width:1.5;\"/>\r\n   </g>\r\n   <g id=\"line2d_19\">\r\n    <path clip-path=\"url(#p813fa8c56c)\" d=\"M 132.753202 214.756364 \r\nL 132.753202 87.018779 \r\n\" style=\"fill:none;stroke:#1f77b4;stroke-linecap:square;stroke-width:1.5;\"/>\r\n   </g>\r\n   <g id=\"line2d_20\">\r\n    <path clip-path=\"url(#p813fa8c56c)\" d=\"M 125.835847 214.756364 \r\nL 125.835847 17.083636 \r\n\" style=\"fill:none;stroke:#1f77b4;stroke-linecap:square;stroke-width:1.5;\"/>\r\n   </g>\r\n   <g id=\"line2d_21\">\r\n    <path clip-path=\"url(#p813fa8c56c)\" d=\"M 122.377169 214.756364 \r\nL 122.377169 43.284093 \r\n\" style=\"fill:none;stroke:#1f77b4;stroke-linecap:square;stroke-width:1.5;\"/>\r\n   </g>\r\n   <g id=\"line2d_22\">\r\n    <path clip-path=\"url(#p813fa8c56c)\" d=\"M 122.377169 214.756364 \r\nL 122.377169 86.191244 \r\n\" style=\"fill:none;stroke:#1f77b4;stroke-linecap:square;stroke-width:1.5;\"/>\r\n   </g>\r\n   <g id=\"line2d_23\">\r\n    <path clip-path=\"url(#p813fa8c56c)\" d=\"M 118.918492 214.756364 \r\nL 118.918492 91.138625 \r\n\" style=\"fill:none;stroke:#1f77b4;stroke-linecap:square;stroke-width:1.5;\"/>\r\n   </g>\r\n   <g id=\"line2d_24\">\r\n    <path clip-path=\"url(#p813fa8c56c)\" d=\"M 118.918492 214.756364 \r\nL 118.918492 107.945666 \r\n\" style=\"fill:none;stroke:#1f77b4;stroke-linecap:square;stroke-width:1.5;\"/>\r\n   </g>\r\n   <g id=\"line2d_25\">\r\n    <path clip-path=\"url(#p813fa8c56c)\" d=\"M 112.001136 214.756364 \r\nL 112.001136 94.388756 \r\n\" style=\"fill:none;stroke:#1f77b4;stroke-linecap:square;stroke-width:1.5;\"/>\r\n   </g>\r\n   <g id=\"line2d_26\">\r\n    <path clip-path=\"url(#p813fa8c56c)\" d=\"M 112.001136 214.756364 \r\nL 112.001136 89.915421 \r\n\" style=\"fill:none;stroke:#1f77b4;stroke-linecap:square;stroke-width:1.5;\"/>\r\n   </g>\r\n   <g id=\"line2d_27\">\r\n    <path clip-path=\"url(#p813fa8c56c)\" d=\"M 378.319318 214.756364 \r\nL 378.319318 214.079743 \r\n\" style=\"fill:none;stroke:#1f77b4;stroke-linecap:square;stroke-width:1.5;\"/>\r\n   </g>\r\n   <g id=\"line2d_28\">\r\n    <path clip-path=\"url(#p813fa8c56c)\" d=\"M 108.542459 214.756364 \r\nL 108.542459 144.190865 \r\n\" style=\"fill:none;stroke:#1f77b4;stroke-linecap:square;stroke-width:1.5;\"/>\r\n   </g>\r\n   <g id=\"line2d_29\">\r\n    <path clip-path=\"url(#p813fa8c56c)\" d=\"M 108.542459 214.756364 \r\nL 108.542459 83.104347 \r\n\" style=\"fill:none;stroke:#1f77b4;stroke-linecap:square;stroke-width:1.5;\"/>\r\n   </g>\r\n   <g id=\"line2d_30\">\r\n    <path clip-path=\"url(#p813fa8c56c)\" d=\"M 105.083781 214.756364 \r\nL 105.083781 81.114702 \r\n\" style=\"fill:none;stroke:#1f77b4;stroke-linecap:square;stroke-width:1.5;\"/>\r\n   </g>\r\n   <g id=\"line2d_31\">\r\n    <path clip-path=\"url(#p813fa8c56c)\" d=\"M 105.083781 214.756364 \r\nL 105.083781 109.649448 \r\n\" style=\"fill:none;stroke:#1f77b4;stroke-linecap:square;stroke-width:1.5;\"/>\r\n   </g>\r\n   <g id=\"line2d_32\">\r\n    <path clip-path=\"url(#p813fa8c56c)\" d=\"M 105.083781 214.756364 \r\nL 105.083781 108.990326 \r\n\" style=\"fill:none;stroke:#1f77b4;stroke-linecap:square;stroke-width:1.5;\"/>\r\n   </g>\r\n   <g id=\"line2d_33\">\r\n    <path clip-path=\"url(#p813fa8c56c)\" d=\"M 101.625103 214.756364 \r\nL 101.625103 91.508713 \r\n\" style=\"fill:none;stroke:#1f77b4;stroke-linecap:square;stroke-width:1.5;\"/>\r\n   </g>\r\n   <g id=\"line2d_34\">\r\n    <path clip-path=\"url(#p813fa8c56c)\" d=\"M 98.166426 214.756364 \r\nL 98.166426 139.691279 \r\n\" style=\"fill:none;stroke:#1f77b4;stroke-linecap:square;stroke-width:1.5;\"/>\r\n   </g>\r\n   <g id=\"line2d_35\">\r\n    <path clip-path=\"url(#p813fa8c56c)\" d=\"M 91.24907 214.756364 \r\nL 91.24907 88.908597 \r\n\" style=\"fill:none;stroke:#1f77b4;stroke-linecap:square;stroke-width:1.5;\"/>\r\n   </g>\r\n   <g id=\"line2d_36\">\r\n    <path clip-path=\"url(#p813fa8c56c)\" d=\"M 87.790393 214.756364 \r\nL 87.790393 59.447954 \r\n\" style=\"fill:none;stroke:#1f77b4;stroke-linecap:square;stroke-width:1.5;\"/>\r\n   </g>\r\n   <g id=\"line2d_37\">\r\n    <path clip-path=\"url(#p813fa8c56c)\" d=\"M 84.331715 214.756364 \r\nL 84.331715 136.291205 \r\n\" style=\"fill:none;stroke:#1f77b4;stroke-linecap:square;stroke-width:1.5;\"/>\r\n   </g>\r\n   <g id=\"line2d_38\">\r\n    <path clip-path=\"url(#p813fa8c56c)\" d=\"M 80.873037 214.756364 \r\nL 80.873037 137.293905 \r\n\" style=\"fill:none;stroke:#1f77b4;stroke-linecap:square;stroke-width:1.5;\"/>\r\n   </g>\r\n   <g id=\"line2d_39\">\r\n    <path clip-path=\"url(#p813fa8c56c)\" d=\"M 73.955682 214.756364 \r\nL 73.955682 117.095439 \r\n\" style=\"fill:none;stroke:#1f77b4;stroke-linecap:square;stroke-width:1.5;\"/>\r\n   </g>\r\n   <g id=\"line2d_40\">\r\n    <defs>\r\n     <path d=\"M 0 3 \r\nC 0.795609 3 1.55874 2.683901 2.12132 2.12132 \r\nC 2.683901 1.55874 3 0.795609 3 0 \r\nC 3 -0.795609 2.683901 -1.55874 2.12132 -2.12132 \r\nC 1.55874 -2.683901 0.795609 -3 0 -3 \r\nC -0.795609 -3 -1.55874 -2.683901 -2.12132 -2.12132 \r\nC -2.683901 -1.55874 -3 -0.795609 -3 0 \r\nC -3 0.795609 -2.683901 1.55874 -2.12132 2.12132 \r\nC -1.55874 2.683901 -0.795609 3 0 3 \r\nz\r\n\" id=\"md3e1c49a1a\" style=\"stroke:#1f77b4;\"/>\r\n    </defs>\r\n    <g clip-path=\"url(#p813fa8c56c)\">\r\n     <use style=\"fill:#1f77b4;stroke:#1f77b4;\" x=\"257.265599\" xlink:href=\"#md3e1c49a1a\" y=\"175.711674\"/>\r\n     <use style=\"fill:#1f77b4;stroke:#1f77b4;\" x=\"163.881302\" xlink:href=\"#md3e1c49a1a\" y=\"103.857301\"/>\r\n     <use style=\"fill:#1f77b4;stroke:#1f77b4;\" x=\"136.21188\" xlink:href=\"#md3e1c49a1a\" y=\"82.784829\"/>\r\n     <use style=\"fill:#1f77b4;stroke:#1f77b4;\" x=\"132.753202\" xlink:href=\"#md3e1c49a1a\" y=\"87.018779\"/>\r\n     <use style=\"fill:#1f77b4;stroke:#1f77b4;\" x=\"125.835847\" xlink:href=\"#md3e1c49a1a\" y=\"17.083636\"/>\r\n     <use style=\"fill:#1f77b4;stroke:#1f77b4;\" x=\"122.377169\" xlink:href=\"#md3e1c49a1a\" y=\"43.284093\"/>\r\n     <use style=\"fill:#1f77b4;stroke:#1f77b4;\" x=\"122.377169\" xlink:href=\"#md3e1c49a1a\" y=\"86.191244\"/>\r\n     <use style=\"fill:#1f77b4;stroke:#1f77b4;\" x=\"118.918492\" xlink:href=\"#md3e1c49a1a\" y=\"91.138625\"/>\r\n     <use style=\"fill:#1f77b4;stroke:#1f77b4;\" x=\"118.918492\" xlink:href=\"#md3e1c49a1a\" y=\"107.945666\"/>\r\n     <use style=\"fill:#1f77b4;stroke:#1f77b4;\" x=\"112.001136\" xlink:href=\"#md3e1c49a1a\" y=\"94.388756\"/>\r\n     <use style=\"fill:#1f77b4;stroke:#1f77b4;\" x=\"112.001136\" xlink:href=\"#md3e1c49a1a\" y=\"89.915421\"/>\r\n     <use style=\"fill:#1f77b4;stroke:#1f77b4;\" x=\"378.319318\" xlink:href=\"#md3e1c49a1a\" y=\"214.079743\"/>\r\n     <use style=\"fill:#1f77b4;stroke:#1f77b4;\" x=\"108.542459\" xlink:href=\"#md3e1c49a1a\" y=\"144.190865\"/>\r\n     <use style=\"fill:#1f77b4;stroke:#1f77b4;\" x=\"108.542459\" xlink:href=\"#md3e1c49a1a\" y=\"83.104347\"/>\r\n     <use style=\"fill:#1f77b4;stroke:#1f77b4;\" x=\"105.083781\" xlink:href=\"#md3e1c49a1a\" y=\"81.114702\"/>\r\n     <use style=\"fill:#1f77b4;stroke:#1f77b4;\" x=\"105.083781\" xlink:href=\"#md3e1c49a1a\" y=\"109.649448\"/>\r\n     <use style=\"fill:#1f77b4;stroke:#1f77b4;\" x=\"105.083781\" xlink:href=\"#md3e1c49a1a\" y=\"108.990326\"/>\r\n     <use style=\"fill:#1f77b4;stroke:#1f77b4;\" x=\"101.625103\" xlink:href=\"#md3e1c49a1a\" y=\"91.508713\"/>\r\n     <use style=\"fill:#1f77b4;stroke:#1f77b4;\" x=\"98.166426\" xlink:href=\"#md3e1c49a1a\" y=\"139.691279\"/>\r\n     <use style=\"fill:#1f77b4;stroke:#1f77b4;\" x=\"91.24907\" xlink:href=\"#md3e1c49a1a\" y=\"88.908597\"/>\r\n     <use style=\"fill:#1f77b4;stroke:#1f77b4;\" x=\"87.790393\" xlink:href=\"#md3e1c49a1a\" y=\"59.447954\"/>\r\n     <use style=\"fill:#1f77b4;stroke:#1f77b4;\" x=\"84.331715\" xlink:href=\"#md3e1c49a1a\" y=\"136.291205\"/>\r\n     <use style=\"fill:#1f77b4;stroke:#1f77b4;\" x=\"80.873037\" xlink:href=\"#md3e1c49a1a\" y=\"137.293905\"/>\r\n     <use style=\"fill:#1f77b4;stroke:#1f77b4;\" x=\"73.955682\" xlink:href=\"#md3e1c49a1a\" y=\"117.095439\"/>\r\n    </g>\r\n   </g>\r\n   <g id=\"patch_3\">\r\n    <path d=\"M 58.7375 224.64 \r\nL 58.7375 7.2 \r\n\" style=\"fill:none;stroke:#000000;stroke-linecap:square;stroke-linejoin:miter;stroke-width:0.8;\"/>\r\n   </g>\r\n   <g id=\"patch_4\">\r\n    <path d=\"M 393.5375 224.64 \r\nL 393.5375 7.2 \r\n\" style=\"fill:none;stroke:#000000;stroke-linecap:square;stroke-linejoin:miter;stroke-width:0.8;\"/>\r\n   </g>\r\n   <g id=\"patch_5\">\r\n    <path d=\"M 58.7375 224.64 \r\nL 393.5375 224.64 \r\n\" style=\"fill:none;stroke:#000000;stroke-linecap:square;stroke-linejoin:miter;stroke-width:0.8;\"/>\r\n   </g>\r\n   <g id=\"patch_6\">\r\n    <path d=\"M 58.7375 7.2 \r\nL 393.5375 7.2 \r\n\" style=\"fill:none;stroke:#000000;stroke-linecap:square;stroke-linejoin:miter;stroke-width:0.8;\"/>\r\n   </g>\r\n  </g>\r\n </g>\r\n <defs>\r\n  <clipPath id=\"p813fa8c56c\">\r\n   <rect height=\"217.44\" width=\"334.8\" x=\"58.7375\" y=\"7.2\"/>\r\n  </clipPath>\r\n </defs>\r\n</svg>\r\n",
      "text/plain": "<Figure size 432x288 with 1 Axes>"
     },
     "metadata": {
      "needs_background": "light"
     },
     "output_type": "display_data"
    }
   ],
   "source": [
    "plt = MFQL_util.lollipop_plot(test_df)\n",
    "plt.show()"
   ]
  }
 ]
}