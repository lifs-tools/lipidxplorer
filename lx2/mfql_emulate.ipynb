{
 "nbformat": 4,
 "nbformat_minor": 2,
 "metadata": {
  "language_info": {
   "name": "python",
   "codemirror_mode": {
    "name": "ipython",
    "version": 3
   },
   "version": "3.7.5"
  },
  "orig_nbformat": 2,
  "file_extension": ".py",
  "mimetype": "text/x-python",
  "name": "python",
  "npconvert_exporter": "python",
  "pygments_lexer": "ipython3",
  "version": 3
 },
 "cells": [
  {
   "cell_type": "markdown",
   "execution_count": null,
   "metadata": {},
   "outputs": [],
   "source": [
    "```\n",
    "QUERYNAME = CholesterolMSMS;\n",
    "DEFINE PR = 'C[41..49] H[30..200] O[2] N[1]' WITH DBR = (4.5,10.5), CHG = +1;\n",
    "DEFINE FR ='C[27] H[45]' WITH DBR = (1,8), CHG = +1;\n",
    "\n",
    "IDENTIFY\n",
    "\n",
    "\tPR IN MS1+ AND\n",
    "\tFR in MS2+\n",
    "\n",
    "SUCHTHAT\n",
    "\t(avg(FR.intensity)/avg(PR.intensity) >=0.1 AND avg(FR.intensity)/avg(PR.intensity) <=10) AND\n",
    "\tPR.chemsc[C]/PR.chemsc[db] >= 4.6\n",
    "\n",
    "REPORT \n",
    "\n",
    "\tSPECIE = \"CE %d:%d\" % \"((PR.chemsc)[C] - 27, (PR.chemsc)[db] - 4.5)\";  \n",
    "\tCLASS = \"CE\";\n",
    "\tMASS = PR.mass;\n",
    "\tISOBARIC = PR.isobaric;\n",
    "\tCHEMSC = PR.chemsc;\n",
    "\tERRppm = \"%2.2f\" % \"(PR.errppm)\";\n",
    "\tFRERRppm = \"%2.2f\" % \"(FR.errppm)\";\n",
    "\tINT = FR.intensity;\n",
    "\tQUALA = PR.intensity;\n",
    "```"
   ]
  },
  {
   "cell_type": "code",
   "execution_count": 1,
   "metadata": {},
   "outputs": [],
   "source": [
    "from lx2.targets import MFQL_util\n",
    "from lx2.MS_reader import SpectraUtil"
   ]
  },
  {
   "cell_type": "code",
   "execution_count": 2,
   "metadata": {},
   "outputs": [],
   "source": [
    "QUERYNAME = 'CholesterolMSMS'"
   ]
  },
  {
   "cell_type": "code",
   "execution_count": 3,
   "metadata": {},
   "outputs": [],
   "source": [
    "elements = {'C':(41,49),'H':(30,200),'O':(2,2),'N':(1,1),'P':(1,1) }      \n",
    "PR = MFQL_util(elements)\n",
    "PR.set_dbr(4.5,10.5)"
   ]
  },
  {
   "cell_type": "code",
   "execution_count": 4,
   "metadata": {},
   "outputs": [],
   "source": [
    "elements = {'C':(27,27),'H':(45,45) }      \n",
    "FR = MFQL_util(elements)\n",
    "FR.set_dbr(1,8)"
   ]
  },
  {
   "cell_type": "code",
   "execution_count": 5,
   "metadata": {},
   "outputs": [],
   "source": [
    "filename = 'test_resources\\\\small_test\\\\190321_Serum_Lipidextract_368723_01.mzML'\n",
    "spectraUtil = SpectraUtil.fromFile(filename, test_sample=True)"
   ]
  },
  {
   "cell_type": "code",
   "execution_count": 6,
   "metadata": {},
   "outputs": [
    {
     "name": "stdout",
     "output_type": "stream",
     "text": "a copy of the original with nothing set... sorry no undo\nset mode to positive : True, (false means negative) \nset ms level to  : 1\nset mode to positive : True, (false means negative) \nset ms level to  : 2\n"
    }
   ],
   "source": [
    "MS1 = spectraUtil\n",
    "MS2 = spectraUtil.get_reset_copy()\n",
    "MS1.set_mode()\n",
    "MS1.set_ms_level()\n",
    "MS2.set_mode()\n",
    "MS2.set_ms_level(2)\n"
   ]
  },
  {
   "cell_type": "code",
   "execution_count": 7,
   "metadata": {},
   "outputs": [
    {
     "name": "stdout",
     "output_type": "stream",
     "text": "find the nearest Peaks to the target_peaks with a tolerance of 0.01\n"
    }
   ],
   "source": [
    "MS1_match = MS1.get_nearest(PR._df)"
   ]
  },
  {
   "cell_type": "code",
   "execution_count": 8,
   "metadata": {},
   "outputs": [
    {
     "name": "stdout",
     "output_type": "stream",
     "text": "find the nearest Peaks to the target_peaks with a tolerance of 0.01\n"
    }
   ],
   "source": [
    "MS2_match = MS2.get_nearest(FR._df)"
   ]
  },
  {
   "cell_type": "code",
   "execution_count": 11,
   "metadata": {},
   "outputs": [
    {
     "data": {
      "text/html": "<div>\n<style scoped>\n    .dataframe tbody tr th:only-of-type {\n        vertical-align: middle;\n    }\n\n    .dataframe tbody tr th {\n        vertical-align: top;\n    }\n\n    .dataframe thead th {\n        text-align: right;\n    }\n</style>\n<table border=\"1\" class=\"dataframe\">\n  <thead>\n    <tr style=\"text-align: right;\">\n      <th></th>\n      <th>id</th>\n      <th>m</th>\n      <th>i</th>\n      <th>index</th>\n      <th>C</th>\n      <th>H</th>\n      <th>O</th>\n      <th>N</th>\n      <th>P</th>\n      <th>dbr</th>\n      <th>chem</th>\n    </tr>\n  </thead>\n  <tbody>\n    <tr>\n      <th>24825</th>\n      <td>controllerType=0 controllerNumber=1 scan=8</td>\n      <td>633.459106</td>\n      <td>55058.835938</td>\n      <td>34.0</td>\n      <td>41.0</td>\n      <td>64.0</td>\n      <td>2.0</td>\n      <td>1.0</td>\n      <td>1.0</td>\n      <td>10.5</td>\n      <td>C41 H64 O2 N1 P1</td>\n    </tr>\n    <tr>\n      <th>24826</th>\n      <td>controllerType=0 controllerNumber=1 scan=7</td>\n      <td>633.464111</td>\n      <td>3056.083740</td>\n      <td>34.0</td>\n      <td>41.0</td>\n      <td>64.0</td>\n      <td>2.0</td>\n      <td>1.0</td>\n      <td>1.0</td>\n      <td>10.5</td>\n      <td>C41 H64 O2 N1 P1</td>\n    </tr>\n    <tr>\n      <th>24827</th>\n      <td>controllerType=0 controllerNumber=1 scan=8</td>\n      <td>633.472656</td>\n      <td>93704.203125</td>\n      <td>34.0</td>\n      <td>41.0</td>\n      <td>64.0</td>\n      <td>2.0</td>\n      <td>1.0</td>\n      <td>1.0</td>\n      <td>10.5</td>\n      <td>C41 H64 O2 N1 P1</td>\n    </tr>\n    <tr>\n      <th>24828</th>\n      <td>controllerType=0 controllerNumber=1 scan=6</td>\n      <td>633.476074</td>\n      <td>237.615753</td>\n      <td>34.0</td>\n      <td>41.0</td>\n      <td>64.0</td>\n      <td>2.0</td>\n      <td>1.0</td>\n      <td>1.0</td>\n      <td>10.5</td>\n      <td>C41 H64 O2 N1 P1</td>\n    </tr>\n    <tr>\n      <th>24955</th>\n      <td>controllerType=0 controllerNumber=1 scan=4</td>\n      <td>635.475891</td>\n      <td>172.791199</td>\n      <td>36.0</td>\n      <td>41.0</td>\n      <td>66.0</td>\n      <td>2.0</td>\n      <td>1.0</td>\n      <td>1.0</td>\n      <td>9.5</td>\n      <td>C41 H66 O2 N1 P1</td>\n    </tr>\n    <tr>\n      <th>...</th>\n      <td>...</td>\n      <td>...</td>\n      <td>...</td>\n      <td>...</td>\n      <td>...</td>\n      <td>...</td>\n      <td>...</td>\n      <td>...</td>\n      <td>...</td>\n      <td>...</td>\n      <td>...</td>\n    </tr>\n    <tr>\n      <th>32071</th>\n      <td>controllerType=0 controllerNumber=1 scan=30</td>\n      <td>750.640747</td>\n      <td>50162.398438</td>\n      <td>1423.0</td>\n      <td>49.0</td>\n      <td>85.0</td>\n      <td>2.0</td>\n      <td>1.0</td>\n      <td>1.0</td>\n      <td>8.0</td>\n      <td>C49 H85 O2 N1 P1</td>\n    </tr>\n    <tr>\n      <th>32072</th>\n      <td>controllerType=0 controllerNumber=1 scan=15</td>\n      <td>750.641357</td>\n      <td>127782.960938</td>\n      <td>1423.0</td>\n      <td>49.0</td>\n      <td>85.0</td>\n      <td>2.0</td>\n      <td>1.0</td>\n      <td>1.0</td>\n      <td>8.0</td>\n      <td>C49 H85 O2 N1 P1</td>\n    </tr>\n    <tr>\n      <th>32336</th>\n      <td>controllerType=0 controllerNumber=1 scan=30</td>\n      <td>753.664856</td>\n      <td>55418.605469</td>\n      <td>1426.0</td>\n      <td>49.0</td>\n      <td>88.0</td>\n      <td>2.0</td>\n      <td>1.0</td>\n      <td>1.0</td>\n      <td>6.5</td>\n      <td>C49 H88 O2 N1 P1</td>\n    </tr>\n    <tr>\n      <th>32426</th>\n      <td>controllerType=0 controllerNumber=1 scan=26</td>\n      <td>754.667053</td>\n      <td>135862.843750</td>\n      <td>1427.0</td>\n      <td>49.0</td>\n      <td>89.0</td>\n      <td>2.0</td>\n      <td>1.0</td>\n      <td>1.0</td>\n      <td>6.0</td>\n      <td>C49 H89 O2 N1 P1</td>\n    </tr>\n    <tr>\n      <th>32490</th>\n      <td>controllerType=0 controllerNumber=1 scan=6</td>\n      <td>755.665527</td>\n      <td>204.830032</td>\n      <td>1428.0</td>\n      <td>49.0</td>\n      <td>90.0</td>\n      <td>2.0</td>\n      <td>1.0</td>\n      <td>1.0</td>\n      <td>5.5</td>\n      <td>C49 H90 O2 N1 P1</td>\n    </tr>\n  </tbody>\n</table>\n<p>302 rows × 11 columns</p>\n</div>",
      "text/plain": "                                                id           m              i  \\\n24825   controllerType=0 controllerNumber=1 scan=8  633.459106   55058.835938   \n24826   controllerType=0 controllerNumber=1 scan=7  633.464111    3056.083740   \n24827   controllerType=0 controllerNumber=1 scan=8  633.472656   93704.203125   \n24828   controllerType=0 controllerNumber=1 scan=6  633.476074     237.615753   \n24955   controllerType=0 controllerNumber=1 scan=4  635.475891     172.791199   \n...                                            ...         ...            ...   \n32071  controllerType=0 controllerNumber=1 scan=30  750.640747   50162.398438   \n32072  controllerType=0 controllerNumber=1 scan=15  750.641357  127782.960938   \n32336  controllerType=0 controllerNumber=1 scan=30  753.664856   55418.605469   \n32426  controllerType=0 controllerNumber=1 scan=26  754.667053  135862.843750   \n32490   controllerType=0 controllerNumber=1 scan=6  755.665527     204.830032   \n\n        index     C     H    O    N    P   dbr               chem  \n24825    34.0  41.0  64.0  2.0  1.0  1.0  10.5  C41 H64 O2 N1 P1   \n24826    34.0  41.0  64.0  2.0  1.0  1.0  10.5  C41 H64 O2 N1 P1   \n24827    34.0  41.0  64.0  2.0  1.0  1.0  10.5  C41 H64 O2 N1 P1   \n24828    34.0  41.0  64.0  2.0  1.0  1.0  10.5  C41 H64 O2 N1 P1   \n24955    36.0  41.0  66.0  2.0  1.0  1.0   9.5  C41 H66 O2 N1 P1   \n...       ...   ...   ...  ...  ...  ...   ...                ...  \n32071  1423.0  49.0  85.0  2.0  1.0  1.0   8.0  C49 H85 O2 N1 P1   \n32072  1423.0  49.0  85.0  2.0  1.0  1.0   8.0  C49 H85 O2 N1 P1   \n32336  1426.0  49.0  88.0  2.0  1.0  1.0   6.5  C49 H88 O2 N1 P1   \n32426  1427.0  49.0  89.0  2.0  1.0  1.0   6.0  C49 H89 O2 N1 P1   \n32490  1428.0  49.0  90.0  2.0  1.0  1.0   5.5  C49 H90 O2 N1 P1   \n\n[302 rows x 11 columns]"
     },
     "execution_count": 11,
     "metadata": {},
     "output_type": "execute_result"
    }
   ],
   "source": [
    "MS1_match"
   ]
  },
  {
   "cell_type": "code",
   "execution_count": null,
   "metadata": {},
   "outputs": [],
   "source": []
  }
 ]
}