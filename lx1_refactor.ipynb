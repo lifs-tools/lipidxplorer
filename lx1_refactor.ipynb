{
 "cells": [
  {
   "cell_type": "code",
   "execution_count": 52,
   "metadata": {},
   "outputs": [],
   "source": [
    "import pandas as pd\n",
    "import numpy as np\n",
    "from LX2_masterscan import mz_ml_paths, spectra_2_df\n"
   ]
  },
  {
   "cell_type": "code",
   "execution_count": 53,
   "metadata": {},
   "outputs": [],
   "source": [
    "import pickle\n",
    "with open('optoins.pkl','rb') as f: options = pickle.load(f)"
   ]
  },
  {
   "cell_type": "code",
   "execution_count": 54,
   "metadata": {},
   "outputs": [],
   "source": [
    "options['timerange'] = (0,1080)"
   ]
  },
  {
   "cell_type": "code",
   "execution_count": 187,
   "metadata": {},
   "outputs": [
    {
     "data": {
      "text/plain": [
       "{'setting': 1.0, 'selectionWindow': 0.4, 'MStolerance': 2.00 ppm, 'MSMStolerance': 2.00 ppm, 'MSresolution': 5.00 ppm, 'MSMSresolution': 11.11 ppm, 'MSresolutionDelta': -100.0, 'MSMSresolutionDelta': -90.0, 'MSthreshold': 0.0001, 'MSMSthreshold': 0.0001, 'MSminOccupation': 0.5, 'MSMSminOccupation': 0.5, 'precursorMassShift': 0.0, 'precursorMassShiftOrbi': 0.0, 'optionalMStolerance': 5.00 ppm, 'optionalMSMStolerance': 5.00 ppm, 'MSfilter': 0.6, 'MSMSfilter': 0.6, 'loopNr': 3, 'importMSMS': True, 'pisSpectra': False, 'isotopicCorrection_MSMS': False, 'removeIsotopes': True, 'isotopesInMasterScan': False, 'monoisotopicCorrection': False, 'relativeIntensity': False, 'logMemory': False, 'intensityCorrection': False, 'masterScanInSQL': False, 'sumFattyAcids': False, 'isotopicCorrectionMS': True, 'isotopicCorrectionMSMS': True, 'complementMasterScan': False, 'noHead': False, 'compress': False, 'tabLimited': False, 'dumpMasterScan': False, 'statistics': False, 'noPermutations': True, 'settingsPrefix': False, 'timerange': (0, 1080), 'MScalibration': [680.4802], 'MSmassrange': (360.0, 1000.0), 'MSMSmassrange': (150.0, 1000.0), 'MStoleranceType': 'ppm', 'MSMStoleranceType': 'ppm', 'optionalMStoleranceType': 'ppm', 'optionalMSMStoleranceType': 'ppm', 'alignmentMethodMS': 'linear', 'alignmentMethodMSMS': 'linear', 'scanAveragingMethod': 'linear', 'masterScanFileImport': 'test_resources/small_test/small_test.sc', 'masterScanFileRun': 'test_resources/small_test/small_test.sc', 'dumpMasterScanFile': 'test_resources/small_test/small_test-dump.csv', 'complementMasterScanFile': 'test_resources/small_test/small_test-complement.csv', 'importDir': 'test_resources/small_test', 'masterScanRun': 'test_resources/small_test/small_test.sc', 'masterScanImport': 'test_resources/small_test/small_test.sc', 'dataType': 'mzML', 'ini': 'test_resources/small_test/lpdxImportSettings_benchmark.ini', 'MSMScalibration': '', 'MSthresholdType': 'absolute', 'MSMSthresholdType': 'absolute', 'intensityCorrectionPrecursor': '', 'intensityCorrectionFragment': '', 'resultFile': 'test_resources/small_test/small_test-out.csv', 'optionalMSthreshold': 'None', 'optionalMSMSthreshold': 'None', 'optionalMSthresholdType': 'None', 'optionalMSMSthresholdType': 'None', 'mzXML': 'None', 'spectraFormat': 'mzML'}"
      ]
     },
     "execution_count": 187,
     "metadata": {},
     "output_type": "execute_result"
    }
   ],
   "source": [
    "options"
   ]
  },
  {
   "cell_type": "code",
   "execution_count": 55,
   "metadata": {},
   "outputs": [
    {
     "name": "stdout",
     "output_type": "stream",
     "text": [
      "here\n"
     ]
    }
   ],
   "source": [
    "print('here')"
   ]
  },
  {
   "cell_type": "code",
   "execution_count": 56,
   "metadata": {},
   "outputs": [],
   "source": [
    "mzmls = mz_ml_paths(options)\n",
    "samples = [p.stem for p in mzmls]"
   ]
  },
  {
   "cell_type": "code",
   "execution_count": 57,
   "metadata": {},
   "outputs": [
    {
     "name": "stdout",
     "output_type": "stream",
     "text": [
      "[13:52:14] {ms_deisotope.data_source.scan.loader:376} INFO - Disposing of MzMLLoader('test_resources\\\\small_test\\\\190321_Serum_Lipidextract_368723_01.mzML') with 405 extant scans attached to it.\n"
     ]
    },
    {
     "ename": "KeyboardInterrupt",
     "evalue": "",
     "output_type": "error",
     "traceback": [
      "\u001b[1;31m---------------------------------------------------------------------------\u001b[0m",
      "\u001b[1;31mKeyboardInterrupt\u001b[0m                         Traceback (most recent call last)",
      "\u001b[1;32m~\\AppData\\Local\\Temp/ipykernel_15064/648079342.py\u001b[0m in \u001b[0;36m<module>\u001b[1;34m\u001b[0m\n\u001b[1;32m----> 1\u001b[1;33m \u001b[0mspectra_dfs\u001b[0m \u001b[1;33m=\u001b[0m \u001b[0mspectra_2_df\u001b[0m\u001b[1;33m(\u001b[0m\u001b[0moptions\u001b[0m\u001b[1;33m)\u001b[0m\u001b[1;33m\u001b[0m\u001b[1;33m\u001b[0m\u001b[0m\n\u001b[0m",
      "\u001b[1;32md:\\fork\\isas_lipidxplorer\\LX2_masterscan.py\u001b[0m in \u001b[0;36mspectra_2_df\u001b[1;34m(options)\u001b[0m\n\u001b[0;32m     95\u001b[0m     spectra_dfs = [\n\u001b[0;32m     96\u001b[0m         \u001b[0mpath2df\u001b[0m\u001b[1;33m(\u001b[0m\u001b[0mmzml\u001b[0m\u001b[1;33m,\u001b[0m \u001b[1;33m*\u001b[0m\u001b[0mtime_range\u001b[0m\u001b[1;33m,\u001b[0m \u001b[1;33m*\u001b[0m\u001b[0mms1_mass_range\u001b[0m\u001b[1;33m,\u001b[0m \u001b[1;33m*\u001b[0m\u001b[0mms2_mass_range\u001b[0m\u001b[1;33m,\u001b[0m \u001b[0mpolarity\u001b[0m\u001b[1;33m)\u001b[0m\u001b[1;33m\u001b[0m\u001b[1;33m\u001b[0m\u001b[0m\n\u001b[1;32m---> 97\u001b[1;33m         \u001b[1;32mfor\u001b[0m \u001b[0mmzml\u001b[0m \u001b[1;32min\u001b[0m \u001b[0mmzmls\u001b[0m\u001b[1;33m\u001b[0m\u001b[1;33m\u001b[0m\u001b[0m\n\u001b[0m\u001b[0;32m     98\u001b[0m     ]\n\u001b[0;32m     99\u001b[0m \u001b[1;33m\u001b[0m\u001b[0m\n",
      "\u001b[1;32md:\\fork\\isas_lipidxplorer\\LX2_masterscan.py\u001b[0m in \u001b[0;36m<listcomp>\u001b[1;34m(.0)\u001b[0m\n\u001b[0;32m     95\u001b[0m     spectra_dfs = [\n\u001b[0;32m     96\u001b[0m         \u001b[0mpath2df\u001b[0m\u001b[1;33m(\u001b[0m\u001b[0mmzml\u001b[0m\u001b[1;33m,\u001b[0m \u001b[1;33m*\u001b[0m\u001b[0mtime_range\u001b[0m\u001b[1;33m,\u001b[0m \u001b[1;33m*\u001b[0m\u001b[0mms1_mass_range\u001b[0m\u001b[1;33m,\u001b[0m \u001b[1;33m*\u001b[0m\u001b[0mms2_mass_range\u001b[0m\u001b[1;33m,\u001b[0m \u001b[0mpolarity\u001b[0m\u001b[1;33m)\u001b[0m\u001b[1;33m\u001b[0m\u001b[1;33m\u001b[0m\u001b[0m\n\u001b[1;32m---> 97\u001b[1;33m         \u001b[1;32mfor\u001b[0m \u001b[0mmzml\u001b[0m \u001b[1;32min\u001b[0m \u001b[0mmzmls\u001b[0m\u001b[1;33m\u001b[0m\u001b[1;33m\u001b[0m\u001b[0m\n\u001b[0m\u001b[0;32m     98\u001b[0m     ]\n\u001b[0;32m     99\u001b[0m \u001b[1;33m\u001b[0m\u001b[0m\n",
      "\u001b[1;32md:\\fork\\isas_lipidxplorer\\LX2_masterscan.py\u001b[0m in \u001b[0;36mpath2df\u001b[1;34m(path, time_start, time_end, ms1_start, ms1_end, ms2_start, ms2_end, polarity)\u001b[0m\n\u001b[0;32m    264\u001b[0m                     }\n\u001b[0;32m    265\u001b[0m                 )\n\u001b[1;32m--> 266\u001b[1;33m                 \u001b[0mdf\u001b[0m \u001b[1;33m=\u001b[0m \u001b[0mdf\u001b[0m\u001b[1;33m[\u001b[0m\u001b[1;33m(\u001b[0m\u001b[0mdf\u001b[0m\u001b[1;33m.\u001b[0m\u001b[0mmz\u001b[0m\u001b[1;33m.\u001b[0m\u001b[0mbetween\u001b[0m\u001b[1;33m(\u001b[0m\u001b[0mms2_start\u001b[0m\u001b[1;33m,\u001b[0m \u001b[0mms2_end\u001b[0m\u001b[1;33m)\u001b[0m\u001b[1;33m)\u001b[0m \u001b[1;33m&\u001b[0m \u001b[0mdf\u001b[0m\u001b[1;33m.\u001b[0m\u001b[0minty\u001b[0m \u001b[1;33m>\u001b[0m \u001b[1;36m0\u001b[0m\u001b[1;33m]\u001b[0m\u001b[1;33m\u001b[0m\u001b[1;33m\u001b[0m\u001b[0m\n\u001b[0m\u001b[0;32m    267\u001b[0m                 \u001b[1;31m# df[\"scan_id\"] = p.scan_id  # TODO  make them categoriacal?\u001b[0m\u001b[1;33m\u001b[0m\u001b[1;33m\u001b[0m\u001b[1;33m\u001b[0m\u001b[0m\n\u001b[0;32m    268\u001b[0m                 \u001b[1;31m# df[\"filter_string\"] = p.annotations[\"filter string\"]\u001b[0m\u001b[1;33m\u001b[0m\u001b[1;33m\u001b[0m\u001b[1;33m\u001b[0m\u001b[0m\n",
      "\u001b[1;32mc:\\Users\\mirandaa\\Anaconda3\\envs\\lx128_p3_Dev\\lib\\site-packages\\pandas\\core\\frame.py\u001b[0m in \u001b[0;36m__getitem__\u001b[1;34m(self, key)\u001b[0m\n\u001b[0;32m   2984\u001b[0m         \u001b[1;31m# Do we have a (boolean) 1d indexer?\u001b[0m\u001b[1;33m\u001b[0m\u001b[1;33m\u001b[0m\u001b[1;33m\u001b[0m\u001b[0m\n\u001b[0;32m   2985\u001b[0m         \u001b[1;32mif\u001b[0m \u001b[0mcom\u001b[0m\u001b[1;33m.\u001b[0m\u001b[0mis_bool_indexer\u001b[0m\u001b[1;33m(\u001b[0m\u001b[0mkey\u001b[0m\u001b[1;33m)\u001b[0m\u001b[1;33m:\u001b[0m\u001b[1;33m\u001b[0m\u001b[1;33m\u001b[0m\u001b[0m\n\u001b[1;32m-> 2986\u001b[1;33m             \u001b[1;32mreturn\u001b[0m \u001b[0mself\u001b[0m\u001b[1;33m.\u001b[0m\u001b[0m_getitem_bool_array\u001b[0m\u001b[1;33m(\u001b[0m\u001b[0mkey\u001b[0m\u001b[1;33m)\u001b[0m\u001b[1;33m\u001b[0m\u001b[1;33m\u001b[0m\u001b[0m\n\u001b[0m\u001b[0;32m   2987\u001b[0m \u001b[1;33m\u001b[0m\u001b[0m\n\u001b[0;32m   2988\u001b[0m         \u001b[1;31m# We are left with two options: a single key, and a collection of keys,\u001b[0m\u001b[1;33m\u001b[0m\u001b[1;33m\u001b[0m\u001b[1;33m\u001b[0m\u001b[0m\n",
      "\u001b[1;32mc:\\Users\\mirandaa\\Anaconda3\\envs\\lx128_p3_Dev\\lib\\site-packages\\pandas\\core\\frame.py\u001b[0m in \u001b[0;36m_getitem_bool_array\u001b[1;34m(self, key)\u001b[0m\n\u001b[0;32m   3038\u001b[0m         \u001b[0mkey\u001b[0m \u001b[1;33m=\u001b[0m \u001b[0mcheck_bool_indexer\u001b[0m\u001b[1;33m(\u001b[0m\u001b[0mself\u001b[0m\u001b[1;33m.\u001b[0m\u001b[0mindex\u001b[0m\u001b[1;33m,\u001b[0m \u001b[0mkey\u001b[0m\u001b[1;33m)\u001b[0m\u001b[1;33m\u001b[0m\u001b[1;33m\u001b[0m\u001b[0m\n\u001b[0;32m   3039\u001b[0m         \u001b[0mindexer\u001b[0m \u001b[1;33m=\u001b[0m \u001b[0mkey\u001b[0m\u001b[1;33m.\u001b[0m\u001b[0mnonzero\u001b[0m\u001b[1;33m(\u001b[0m\u001b[1;33m)\u001b[0m\u001b[1;33m[\u001b[0m\u001b[1;36m0\u001b[0m\u001b[1;33m]\u001b[0m\u001b[1;33m\u001b[0m\u001b[1;33m\u001b[0m\u001b[0m\n\u001b[1;32m-> 3040\u001b[1;33m         \u001b[1;32mreturn\u001b[0m \u001b[0mself\u001b[0m\u001b[1;33m.\u001b[0m\u001b[0mtake\u001b[0m\u001b[1;33m(\u001b[0m\u001b[0mindexer\u001b[0m\u001b[1;33m,\u001b[0m \u001b[0maxis\u001b[0m\u001b[1;33m=\u001b[0m\u001b[1;36m0\u001b[0m\u001b[1;33m)\u001b[0m\u001b[1;33m\u001b[0m\u001b[1;33m\u001b[0m\u001b[0m\n\u001b[0m\u001b[0;32m   3041\u001b[0m \u001b[1;33m\u001b[0m\u001b[0m\n\u001b[0;32m   3042\u001b[0m     \u001b[1;32mdef\u001b[0m \u001b[0m_getitem_multilevel\u001b[0m\u001b[1;33m(\u001b[0m\u001b[0mself\u001b[0m\u001b[1;33m,\u001b[0m \u001b[0mkey\u001b[0m\u001b[1;33m)\u001b[0m\u001b[1;33m:\u001b[0m\u001b[1;33m\u001b[0m\u001b[1;33m\u001b[0m\u001b[0m\n",
      "\u001b[1;32mc:\\Users\\mirandaa\\Anaconda3\\envs\\lx128_p3_Dev\\lib\\site-packages\\pandas\\core\\generic.py\u001b[0m in \u001b[0;36mtake\u001b[1;34m(self, indices, axis, is_copy, **kwargs)\u001b[0m\n\u001b[0;32m   3602\u001b[0m \u001b[1;33m\u001b[0m\u001b[0m\n\u001b[0;32m   3603\u001b[0m         new_data = self._data.take(\n\u001b[1;32m-> 3604\u001b[1;33m             \u001b[0mindices\u001b[0m\u001b[1;33m,\u001b[0m \u001b[0maxis\u001b[0m\u001b[1;33m=\u001b[0m\u001b[0mself\u001b[0m\u001b[1;33m.\u001b[0m\u001b[0m_get_block_manager_axis\u001b[0m\u001b[1;33m(\u001b[0m\u001b[0maxis\u001b[0m\u001b[1;33m)\u001b[0m\u001b[1;33m,\u001b[0m \u001b[0mverify\u001b[0m\u001b[1;33m=\u001b[0m\u001b[1;32mTrue\u001b[0m\u001b[1;33m\u001b[0m\u001b[1;33m\u001b[0m\u001b[0m\n\u001b[0m\u001b[0;32m   3605\u001b[0m         )\n\u001b[0;32m   3606\u001b[0m         \u001b[0mresult\u001b[0m \u001b[1;33m=\u001b[0m \u001b[0mself\u001b[0m\u001b[1;33m.\u001b[0m\u001b[0m_constructor\u001b[0m\u001b[1;33m(\u001b[0m\u001b[0mnew_data\u001b[0m\u001b[1;33m)\u001b[0m\u001b[1;33m.\u001b[0m\u001b[0m__finalize__\u001b[0m\u001b[1;33m(\u001b[0m\u001b[0mself\u001b[0m\u001b[1;33m)\u001b[0m\u001b[1;33m\u001b[0m\u001b[1;33m\u001b[0m\u001b[0m\n",
      "\u001b[1;32mc:\\Users\\mirandaa\\Anaconda3\\envs\\lx128_p3_Dev\\lib\\site-packages\\pandas\\core\\internals\\managers.py\u001b[0m in \u001b[0;36mtake\u001b[1;34m(self, indexer, axis, verify, convert)\u001b[0m\n\u001b[0;32m   1395\u001b[0m         \u001b[0mnew_labels\u001b[0m \u001b[1;33m=\u001b[0m \u001b[0mself\u001b[0m\u001b[1;33m.\u001b[0m\u001b[0maxes\u001b[0m\u001b[1;33m[\u001b[0m\u001b[0maxis\u001b[0m\u001b[1;33m]\u001b[0m\u001b[1;33m.\u001b[0m\u001b[0mtake\u001b[0m\u001b[1;33m(\u001b[0m\u001b[0mindexer\u001b[0m\u001b[1;33m)\u001b[0m\u001b[1;33m\u001b[0m\u001b[1;33m\u001b[0m\u001b[0m\n\u001b[0;32m   1396\u001b[0m         return self.reindex_indexer(\n\u001b[1;32m-> 1397\u001b[1;33m             \u001b[0mnew_axis\u001b[0m\u001b[1;33m=\u001b[0m\u001b[0mnew_labels\u001b[0m\u001b[1;33m,\u001b[0m \u001b[0mindexer\u001b[0m\u001b[1;33m=\u001b[0m\u001b[0mindexer\u001b[0m\u001b[1;33m,\u001b[0m \u001b[0maxis\u001b[0m\u001b[1;33m=\u001b[0m\u001b[0maxis\u001b[0m\u001b[1;33m,\u001b[0m \u001b[0mallow_dups\u001b[0m\u001b[1;33m=\u001b[0m\u001b[1;32mTrue\u001b[0m\u001b[1;33m\u001b[0m\u001b[1;33m\u001b[0m\u001b[0m\n\u001b[0m\u001b[0;32m   1398\u001b[0m         )\n\u001b[0;32m   1399\u001b[0m \u001b[1;33m\u001b[0m\u001b[0m\n",
      "\u001b[1;32mc:\\Users\\mirandaa\\Anaconda3\\envs\\lx128_p3_Dev\\lib\\site-packages\\pandas\\core\\internals\\managers.py\u001b[0m in \u001b[0;36mreindex_indexer\u001b[1;34m(self, new_axis, indexer, axis, fill_value, allow_dups, copy)\u001b[0m\n\u001b[0;32m   1265\u001b[0m                     ),\n\u001b[0;32m   1266\u001b[0m                 )\n\u001b[1;32m-> 1267\u001b[1;33m                 \u001b[1;32mfor\u001b[0m \u001b[0mblk\u001b[0m \u001b[1;32min\u001b[0m \u001b[0mself\u001b[0m\u001b[1;33m.\u001b[0m\u001b[0mblocks\u001b[0m\u001b[1;33m\u001b[0m\u001b[1;33m\u001b[0m\u001b[0m\n\u001b[0m\u001b[0;32m   1268\u001b[0m             ]\n\u001b[0;32m   1269\u001b[0m \u001b[1;33m\u001b[0m\u001b[0m\n",
      "\u001b[1;32mc:\\Users\\mirandaa\\Anaconda3\\envs\\lx128_p3_Dev\\lib\\site-packages\\pandas\\core\\internals\\managers.py\u001b[0m in \u001b[0;36m<listcomp>\u001b[1;34m(.0)\u001b[0m\n\u001b[0;32m   1265\u001b[0m                     ),\n\u001b[0;32m   1266\u001b[0m                 )\n\u001b[1;32m-> 1267\u001b[1;33m                 \u001b[1;32mfor\u001b[0m \u001b[0mblk\u001b[0m \u001b[1;32min\u001b[0m \u001b[0mself\u001b[0m\u001b[1;33m.\u001b[0m\u001b[0mblocks\u001b[0m\u001b[1;33m\u001b[0m\u001b[1;33m\u001b[0m\u001b[0m\n\u001b[0m\u001b[0;32m   1268\u001b[0m             ]\n\u001b[0;32m   1269\u001b[0m \u001b[1;33m\u001b[0m\u001b[0m\n",
      "\u001b[1;32mc:\\Users\\mirandaa\\Anaconda3\\envs\\lx128_p3_Dev\\lib\\site-packages\\pandas\\core\\internals\\blocks.py\u001b[0m in \u001b[0;36mtake_nd\u001b[1;34m(self, indexer, axis, new_mgr_locs, fill_tuple)\u001b[0m\n\u001b[0;32m   1311\u001b[0m \u001b[1;33m\u001b[0m\u001b[0m\n\u001b[0;32m   1312\u001b[0m         new_values = algos.take_nd(\n\u001b[1;32m-> 1313\u001b[1;33m             \u001b[0mvalues\u001b[0m\u001b[1;33m,\u001b[0m \u001b[0mindexer\u001b[0m\u001b[1;33m,\u001b[0m \u001b[0maxis\u001b[0m\u001b[1;33m=\u001b[0m\u001b[0maxis\u001b[0m\u001b[1;33m,\u001b[0m \u001b[0mallow_fill\u001b[0m\u001b[1;33m=\u001b[0m\u001b[0mallow_fill\u001b[0m\u001b[1;33m,\u001b[0m \u001b[0mfill_value\u001b[0m\u001b[1;33m=\u001b[0m\u001b[0mfill_value\u001b[0m\u001b[1;33m\u001b[0m\u001b[1;33m\u001b[0m\u001b[0m\n\u001b[0m\u001b[0;32m   1314\u001b[0m         )\n\u001b[0;32m   1315\u001b[0m \u001b[1;33m\u001b[0m\u001b[0m\n",
      "\u001b[1;32mc:\\Users\\mirandaa\\Anaconda3\\envs\\lx128_p3_Dev\\lib\\site-packages\\pandas\\core\\algorithms.py\u001b[0m in \u001b[0;36mtake_nd\u001b[1;34m(arr, indexer, axis, out, fill_value, mask_info, allow_fill)\u001b[0m\n\u001b[0;32m   1714\u001b[0m             \u001b[0mout\u001b[0m \u001b[1;33m=\u001b[0m \u001b[0mnp\u001b[0m\u001b[1;33m.\u001b[0m\u001b[0mempty\u001b[0m\u001b[1;33m(\u001b[0m\u001b[0mout_shape\u001b[0m\u001b[1;33m,\u001b[0m \u001b[0mdtype\u001b[0m\u001b[1;33m=\u001b[0m\u001b[0mdtype\u001b[0m\u001b[1;33m,\u001b[0m \u001b[0morder\u001b[0m\u001b[1;33m=\u001b[0m\u001b[1;34m\"F\"\u001b[0m\u001b[1;33m)\u001b[0m\u001b[1;33m\u001b[0m\u001b[1;33m\u001b[0m\u001b[0m\n\u001b[0;32m   1715\u001b[0m         \u001b[1;32melse\u001b[0m\u001b[1;33m:\u001b[0m\u001b[1;33m\u001b[0m\u001b[1;33m\u001b[0m\u001b[0m\n\u001b[1;32m-> 1716\u001b[1;33m             \u001b[0mout\u001b[0m \u001b[1;33m=\u001b[0m \u001b[0mnp\u001b[0m\u001b[1;33m.\u001b[0m\u001b[0mempty\u001b[0m\u001b[1;33m(\u001b[0m\u001b[0mout_shape\u001b[0m\u001b[1;33m,\u001b[0m \u001b[0mdtype\u001b[0m\u001b[1;33m=\u001b[0m\u001b[0mdtype\u001b[0m\u001b[1;33m)\u001b[0m\u001b[1;33m\u001b[0m\u001b[1;33m\u001b[0m\u001b[0m\n\u001b[0m\u001b[0;32m   1717\u001b[0m \u001b[1;33m\u001b[0m\u001b[0m\n\u001b[0;32m   1718\u001b[0m     func = _get_take_nd_function(\n",
      "\u001b[1;31mKeyboardInterrupt\u001b[0m: "
     ]
    }
   ],
   "source": [
    "spectra_dfs = spectra_2_df(options)\n"
   ]
  },
  {
   "cell_type": "code",
   "execution_count": null,
   "metadata": {},
   "outputs": [],
   "source": [
    "for spectra_df in spectra_dfs:\n",
    "    break"
   ]
  },
  {
   "cell_type": "code",
   "execution_count": 77,
   "metadata": {},
   "outputs": [],
   "source": [
    "def guess_selection_window (spectra_df):\n",
    "    precursor_mzs = spectra_df.loc[~spectra_df.precursor_id.isna()].precursor_mz.drop_duplicates()\n",
    "    precursor_mzs.sort_values(inplace=True)\n",
    "    agg_data = precursor_mzs.diff().agg(['mean','std'])\n",
    "\n",
    "    mean_less_std = agg_data.at['mean'] - agg_data.at['std']\n",
    "    if mean_less_std > 0:\n",
    "        res =  mean_less_std / 2\n",
    "    else:\n",
    "        res =  agg_data.at['mean'] /2\n",
    "\n",
    "    return res"
   ]
  },
  {
   "cell_type": "code",
   "execution_count": 86,
   "metadata": {},
   "outputs": [
    {
     "data": {
      "text/plain": [
       "60"
      ]
     },
     "execution_count": 86,
     "metadata": {},
     "output_type": "execute_result"
    }
   ],
   "source": [
    "# suggest tolerance\n",
    "# sugest calibration masses using suggested tolerance\n",
    "scan_count = spectra_df.loc[spectra_df.precursor_id.isna()].scan_id.unique().size\n"
   ]
  },
  {
   "cell_type": "code",
   "execution_count": 324,
   "metadata": {},
   "outputs": [],
   "source": [
    "df = spectra_df.loc[spectra_df.precursor_id.isna()]"
   ]
  },
  {
   "cell_type": "code",
   "execution_count": 325,
   "metadata": {},
   "outputs": [
    {
     "name": "stderr",
     "output_type": "stream",
     "text": [
      "c:\\Users\\mirandaa\\Anaconda3\\envs\\lx128_p3_Dev\\lib\\site-packages\\ipykernel_launcher.py:1: SettingWithCopyWarning: \n",
      "A value is trying to be set on a copy of a slice from a DataFrame.\n",
      "Try using .loc[row_indexer,col_indexer] = value instead\n",
      "\n",
      "See the caveats in the documentation: http://pandas.pydata.org/pandas-docs/stable/user_guide/indexing.html#returning-a-view-versus-a-copy\n",
      "  \"\"\"Entry point for launching an IPython kernel.\n"
     ]
    }
   ],
   "source": [
    "df['scan_id_f'] = df['scan_id'].factorize()[0]"
   ]
  },
  {
   "cell_type": "code",
   "execution_count": 330,
   "metadata": {},
   "outputs": [
    {
     "name": "stderr",
     "output_type": "stream",
     "text": [
      "c:\\Users\\mirandaa\\Anaconda3\\envs\\lx128_p3_Dev\\lib\\site-packages\\ipykernel_launcher.py:1: SettingWithCopyWarning: \n",
      "A value is trying to be set on a copy of a slice from a DataFrame\n",
      "\n",
      "See the caveats in the documentation: http://pandas.pydata.org/pandas-docs/stable/user_guide/indexing.html#returning-a-view-versus-a-copy\n",
      "  \"\"\"Entry point for launching an IPython kernel.\n"
     ]
    },
    {
     "data": {
      "text/html": [
       "<div>\n",
       "<style scoped>\n",
       "    .dataframe tbody tr th:only-of-type {\n",
       "        vertical-align: middle;\n",
       "    }\n",
       "\n",
       "    .dataframe tbody tr th {\n",
       "        vertical-align: top;\n",
       "    }\n",
       "\n",
       "    .dataframe thead th {\n",
       "        text-align: right;\n",
       "    }\n",
       "</style>\n",
       "<table border=\"1\" class=\"dataframe\">\n",
       "  <thead>\n",
       "    <tr style=\"text-align: right;\">\n",
       "      <th></th>\n",
       "      <th>mz</th>\n",
       "      <th>inty</th>\n",
       "      <th>stem</th>\n",
       "      <th>scan_id</th>\n",
       "      <th>filter_string</th>\n",
       "      <th>precursor_id</th>\n",
       "      <th>precursor_mz</th>\n",
       "      <th>polarity</th>\n",
       "      <th>scan_id_f</th>\n",
       "    </tr>\n",
       "  </thead>\n",
       "  <tbody>\n",
       "    <tr>\n",
       "      <th>3332</th>\n",
       "      <td>999.949280</td>\n",
       "      <td>2012.177612</td>\n",
       "      <td>190321_Serum_Lipidextract_368723_01</td>\n",
       "      <td>controllerType=0 controllerNumber=1 scan=6</td>\n",
       "      <td>FTMS + p NSI Full ms [350.0000-2000.0000]</td>\n",
       "      <td>None</td>\n",
       "      <td>0.0</td>\n",
       "      <td>1</td>\n",
       "      <td>5</td>\n",
       "    </tr>\n",
       "    <tr>\n",
       "      <th>5438</th>\n",
       "      <td>999.947937</td>\n",
       "      <td>12384.243164</td>\n",
       "      <td>190321_Serum_Lipidextract_368723_01</td>\n",
       "      <td>controllerType=0 controllerNumber=1 scan=7</td>\n",
       "      <td>FTMS + p NSI Full ms [350.0000-2000.0000]</td>\n",
       "      <td>None</td>\n",
       "      <td>0.0</td>\n",
       "      <td>1</td>\n",
       "      <td>6</td>\n",
       "    </tr>\n",
       "    <tr>\n",
       "      <th>3331</th>\n",
       "      <td>999.796692</td>\n",
       "      <td>407.288666</td>\n",
       "      <td>190321_Serum_Lipidextract_368723_01</td>\n",
       "      <td>controllerType=0 controllerNumber=1 scan=6</td>\n",
       "      <td>FTMS + p NSI Full ms [350.0000-2000.0000]</td>\n",
       "      <td>None</td>\n",
       "      <td>0.0</td>\n",
       "      <td>1</td>\n",
       "      <td>5</td>\n",
       "    </tr>\n",
       "    <tr>\n",
       "      <th>5437</th>\n",
       "      <td>999.792053</td>\n",
       "      <td>6041.025879</td>\n",
       "      <td>190321_Serum_Lipidextract_368723_01</td>\n",
       "      <td>controllerType=0 controllerNumber=1 scan=7</td>\n",
       "      <td>FTMS + p NSI Full ms [350.0000-2000.0000]</td>\n",
       "      <td>None</td>\n",
       "      <td>0.0</td>\n",
       "      <td>1</td>\n",
       "      <td>6</td>\n",
       "    </tr>\n",
       "    <tr>\n",
       "      <th>5436</th>\n",
       "      <td>999.644165</td>\n",
       "      <td>12491.394531</td>\n",
       "      <td>190321_Serum_Lipidextract_368723_01</td>\n",
       "      <td>controllerType=0 controllerNumber=1 scan=7</td>\n",
       "      <td>FTMS + p NSI Full ms [350.0000-2000.0000]</td>\n",
       "      <td>None</td>\n",
       "      <td>0.0</td>\n",
       "      <td>1</td>\n",
       "      <td>6</td>\n",
       "    </tr>\n",
       "    <tr>\n",
       "      <th>...</th>\n",
       "      <td>...</td>\n",
       "      <td>...</td>\n",
       "      <td>...</td>\n",
       "      <td>...</td>\n",
       "      <td>...</td>\n",
       "      <td>...</td>\n",
       "      <td>...</td>\n",
       "      <td>...</td>\n",
       "      <td>...</td>\n",
       "    </tr>\n",
       "    <tr>\n",
       "      <th>58</th>\n",
       "      <td>360.150513</td>\n",
       "      <td>675232.000000</td>\n",
       "      <td>190321_Serum_Lipidextract_368723_01</td>\n",
       "      <td>controllerType=0 controllerNumber=1 scan=2959</td>\n",
       "      <td>FTMS + p NSI Full ms [350.0000-1200.0000]</td>\n",
       "      <td>None</td>\n",
       "      <td>0.0</td>\n",
       "      <td>1</td>\n",
       "      <td>58</td>\n",
       "    </tr>\n",
       "    <tr>\n",
       "      <th>58</th>\n",
       "      <td>360.150421</td>\n",
       "      <td>658542.187500</td>\n",
       "      <td>190321_Serum_Lipidextract_368723_01</td>\n",
       "      <td>controllerType=0 controllerNumber=1 scan=2858</td>\n",
       "      <td>FTMS + p NSI Full ms [350.0000-1200.0000]</td>\n",
       "      <td>None</td>\n",
       "      <td>0.0</td>\n",
       "      <td>1</td>\n",
       "      <td>57</td>\n",
       "    </tr>\n",
       "    <tr>\n",
       "      <th>62</th>\n",
       "      <td>360.150360</td>\n",
       "      <td>41514.460938</td>\n",
       "      <td>190321_Serum_Lipidextract_368723_01</td>\n",
       "      <td>controllerType=0 controllerNumber=1 scan=2757</td>\n",
       "      <td>FTMS + p NSI Full ms [350.0000-1200.0000]</td>\n",
       "      <td>None</td>\n",
       "      <td>0.0</td>\n",
       "      <td>1</td>\n",
       "      <td>56</td>\n",
       "    </tr>\n",
       "    <tr>\n",
       "      <th>66</th>\n",
       "      <td>360.150330</td>\n",
       "      <td>52007.574219</td>\n",
       "      <td>190321_Serum_Lipidextract_368723_01</td>\n",
       "      <td>controllerType=0 controllerNumber=1 scan=2656</td>\n",
       "      <td>FTMS + p NSI Full ms [350.0000-1200.0000]</td>\n",
       "      <td>None</td>\n",
       "      <td>0.0</td>\n",
       "      <td>1</td>\n",
       "      <td>55</td>\n",
       "    </tr>\n",
       "    <tr>\n",
       "      <th>57</th>\n",
       "      <td>360.147644</td>\n",
       "      <td>27995.017578</td>\n",
       "      <td>190321_Serum_Lipidextract_368723_01</td>\n",
       "      <td>controllerType=0 controllerNumber=1 scan=2858</td>\n",
       "      <td>FTMS + p NSI Full ms [350.0000-1200.0000]</td>\n",
       "      <td>None</td>\n",
       "      <td>0.0</td>\n",
       "      <td>1</td>\n",
       "      <td>57</td>\n",
       "    </tr>\n",
       "  </tbody>\n",
       "</table>\n",
       "<p>102656 rows × 9 columns</p>\n",
       "</div>"
      ],
      "text/plain": [
       "              mz           inty                                 stem  \\\n",
       "3332  999.949280    2012.177612  190321_Serum_Lipidextract_368723_01   \n",
       "5438  999.947937   12384.243164  190321_Serum_Lipidextract_368723_01   \n",
       "3331  999.796692     407.288666  190321_Serum_Lipidextract_368723_01   \n",
       "5437  999.792053    6041.025879  190321_Serum_Lipidextract_368723_01   \n",
       "5436  999.644165   12491.394531  190321_Serum_Lipidextract_368723_01   \n",
       "...          ...            ...                                  ...   \n",
       "58    360.150513  675232.000000  190321_Serum_Lipidextract_368723_01   \n",
       "58    360.150421  658542.187500  190321_Serum_Lipidextract_368723_01   \n",
       "62    360.150360   41514.460938  190321_Serum_Lipidextract_368723_01   \n",
       "66    360.150330   52007.574219  190321_Serum_Lipidextract_368723_01   \n",
       "57    360.147644   27995.017578  190321_Serum_Lipidextract_368723_01   \n",
       "\n",
       "                                            scan_id  \\\n",
       "3332     controllerType=0 controllerNumber=1 scan=6   \n",
       "5438     controllerType=0 controllerNumber=1 scan=7   \n",
       "3331     controllerType=0 controllerNumber=1 scan=6   \n",
       "5437     controllerType=0 controllerNumber=1 scan=7   \n",
       "5436     controllerType=0 controllerNumber=1 scan=7   \n",
       "...                                             ...   \n",
       "58    controllerType=0 controllerNumber=1 scan=2959   \n",
       "58    controllerType=0 controllerNumber=1 scan=2858   \n",
       "62    controllerType=0 controllerNumber=1 scan=2757   \n",
       "66    controllerType=0 controllerNumber=1 scan=2656   \n",
       "57    controllerType=0 controllerNumber=1 scan=2858   \n",
       "\n",
       "                                  filter_string precursor_id  precursor_mz  \\\n",
       "3332  FTMS + p NSI Full ms [350.0000-2000.0000]         None           0.0   \n",
       "5438  FTMS + p NSI Full ms [350.0000-2000.0000]         None           0.0   \n",
       "3331  FTMS + p NSI Full ms [350.0000-2000.0000]         None           0.0   \n",
       "5437  FTMS + p NSI Full ms [350.0000-2000.0000]         None           0.0   \n",
       "5436  FTMS + p NSI Full ms [350.0000-2000.0000]         None           0.0   \n",
       "...                                         ...          ...           ...   \n",
       "58    FTMS + p NSI Full ms [350.0000-1200.0000]         None           0.0   \n",
       "58    FTMS + p NSI Full ms [350.0000-1200.0000]         None           0.0   \n",
       "62    FTMS + p NSI Full ms [350.0000-1200.0000]         None           0.0   \n",
       "66    FTMS + p NSI Full ms [350.0000-1200.0000]         None           0.0   \n",
       "57    FTMS + p NSI Full ms [350.0000-1200.0000]         None           0.0   \n",
       "\n",
       "      polarity  scan_id_f  \n",
       "3332         1          5  \n",
       "5438         1          6  \n",
       "3331         1          5  \n",
       "5437         1          6  \n",
       "5436         1          6  \n",
       "...        ...        ...  \n",
       "58           1         58  \n",
       "58           1         57  \n",
       "62           1         56  \n",
       "66           1         55  \n",
       "57           1         57  \n",
       "\n",
       "[102656 rows x 9 columns]"
      ]
     },
     "execution_count": 330,
     "metadata": {},
     "output_type": "execute_result"
    }
   ],
   "source": [
    "df.sort_values(['mz','scan_id_f'], ascending=False, inplace=True)\n",
    "df"
   ]
  },
  {
   "cell_type": "code",
   "execution_count": 336,
   "metadata": {},
   "outputs": [
    {
     "name": "stderr",
     "output_type": "stream",
     "text": [
      "c:\\Users\\mirandaa\\Anaconda3\\envs\\lx128_p3_Dev\\lib\\site-packages\\ipykernel_launcher.py:1: SettingWithCopyWarning: \n",
      "A value is trying to be set on a copy of a slice from a DataFrame.\n",
      "Try using .loc[row_indexer,col_indexer] = value instead\n",
      "\n",
      "See the caveats in the documentation: http://pandas.pydata.org/pandas-docs/stable/user_guide/indexing.html#returning-a-view-versus-a-copy\n",
      "  \"\"\"Entry point for launching an IPython kernel.\n",
      "c:\\Users\\mirandaa\\Anaconda3\\envs\\lx128_p3_Dev\\lib\\site-packages\\ipykernel_launcher.py:2: FutureWarning: Currently, 'apply' passes the values as ndarrays to the applied function. In the future, this will change to passing it as Series objects. You need to specify 'raw=True' to keep the current behaviour, and you can pass 'raw=False' to silence this warning\n",
      "  \n",
      "c:\\Users\\mirandaa\\Anaconda3\\envs\\lx128_p3_Dev\\lib\\site-packages\\ipykernel_launcher.py:2: SettingWithCopyWarning: \n",
      "A value is trying to be set on a copy of a slice from a DataFrame.\n",
      "Try using .loc[row_indexer,col_indexer] = value instead\n",
      "\n",
      "See the caveats in the documentation: http://pandas.pydata.org/pandas-docs/stable/user_guide/indexing.html#returning-a-view-versus-a-copy\n",
      "  \n"
     ]
    }
   ],
   "source": [
    "df['nunique_scans'] = df.rolling(60)['scan_id_f'].apply(lambda s:len(set(s)))"
   ]
  },
  {
   "cell_type": "code",
   "execution_count": 337,
   "metadata": {},
   "outputs": [
    {
     "data": {
      "text/plain": [
       "56.0"
      ]
     },
     "execution_count": 337,
     "metadata": {},
     "output_type": "execute_result"
    }
   ],
   "source": [
    "df['nunique_scans'].max()"
   ]
  },
  {
   "cell_type": "code",
   "execution_count": 344,
   "metadata": {},
   "outputs": [
    {
     "name": "stderr",
     "output_type": "stream",
     "text": [
      "c:\\Users\\mirandaa\\Anaconda3\\envs\\lx128_p3_Dev\\lib\\site-packages\\ipykernel_launcher.py:1: SettingWithCopyWarning: \n",
      "A value is trying to be set on a copy of a slice from a DataFrame.\n",
      "Try using .loc[row_indexer,col_indexer] = value instead\n",
      "\n",
      "See the caveats in the documentation: http://pandas.pydata.org/pandas-docs/stable/user_guide/indexing.html#returning-a-view-versus-a-copy\n",
      "  \"\"\"Entry point for launching an IPython kernel.\n"
     ]
    }
   ],
   "source": [
    "df['mean_diff'] = df['mz'].diff(-1).rolling(56).mean()"
   ]
  },
  {
   "cell_type": "code",
   "execution_count": 362,
   "metadata": {},
   "outputs": [],
   "source": [
    "df.to_clipboard()"
   ]
  },
  {
   "cell_type": "code",
   "execution_count": 366,
   "metadata": {},
   "outputs": [
    {
     "name": "stderr",
     "output_type": "stream",
     "text": [
      "c:\\Users\\mirandaa\\Anaconda3\\envs\\lx128_p3_Dev\\lib\\site-packages\\ipykernel_launcher.py:1: SettingWithCopyWarning: \n",
      "A value is trying to be set on a copy of a slice from a DataFrame.\n",
      "Try using .loc[row_indexer,col_indexer] = value instead\n",
      "\n",
      "See the caveats in the documentation: http://pandas.pydata.org/pandas-docs/stable/user_guide/indexing.html#returning-a-view-versus-a-copy\n",
      "  \"\"\"Entry point for launching an IPython kernel.\n"
     ]
    }
   ],
   "source": [
    "df['mz_r'] = (df.mz / 10).round() *10\n",
    "\n",
    "valids = df.loc[df['nunique_scans'] >= 56 * 0.9]\n"
   ]
  },
  {
   "cell_type": "code",
   "execution_count": 367,
   "metadata": {},
   "outputs": [
    {
     "name": "stderr",
     "output_type": "stream",
     "text": [
      "c:\\Users\\mirandaa\\Anaconda3\\envs\\lx128_p3_Dev\\lib\\site-packages\\ipykernel_launcher.py:1: SettingWithCopyWarning: \n",
      "A value is trying to be set on a copy of a slice from a DataFrame.\n",
      "Try using .loc[row_indexer,col_indexer] = value instead\n",
      "\n",
      "See the caveats in the documentation: http://pandas.pydata.org/pandas-docs/stable/user_guide/indexing.html#returning-a-view-versus-a-copy\n",
      "  \"\"\"Entry point for launching an IPython kernel.\n"
     ]
    }
   ],
   "source": [
    "valids['resolution'] = valids['mz'] / valids['mean_diff']"
   ]
  },
  {
   "cell_type": "code",
   "execution_count": 364,
   "metadata": {},
   "outputs": [
    {
     "name": "stderr",
     "output_type": "stream",
     "text": [
      "c:\\Users\\mirandaa\\Anaconda3\\envs\\lx128_p3_Dev\\lib\\site-packages\\ipykernel_launcher.py:1: SettingWithCopyWarning: \n",
      "A value is trying to be set on a copy of a slice from a DataFrame\n",
      "\n",
      "See the caveats in the documentation: http://pandas.pydata.org/pandas-docs/stable/user_guide/indexing.html#returning-a-view-versus-a-copy\n",
      "  \"\"\"Entry point for launching an IPython kernel.\n",
      "c:\\Users\\mirandaa\\Anaconda3\\envs\\lx128_p3_Dev\\lib\\site-packages\\ipykernel_launcher.py:2: SettingWithCopyWarning: \n",
      "A value is trying to be set on a copy of a slice from a DataFrame.\n",
      "Try using .loc[row_indexer,col_indexer] = value instead\n",
      "\n",
      "See the caveats in the documentation: http://pandas.pydata.org/pandas-docs/stable/user_guide/indexing.html#returning-a-view-versus-a-copy\n",
      "  \n"
     ]
    }
   ],
   "source": [
    "valids.sort_values('mz', inplace = True)\n",
    "valids['max_diff'] = valids['mean_diff'].cummax()\n"
   ]
  },
  {
   "cell_type": "code",
   "execution_count": 368,
   "metadata": {},
   "outputs": [],
   "source": [
    "valids.to_clipboard()"
   ]
  },
  {
   "cell_type": "code",
   "execution_count": 371,
   "metadata": {},
   "outputs": [
    {
     "data": {
      "text/plain": [
       "<matplotlib.axes._subplots.AxesSubplot at 0x1d7248f12c8>"
      ]
     },
     "execution_count": 371,
     "metadata": {},
     "output_type": "execute_result"
    },
    {
     "data": {
      "image/png": "[encoded data removed]",
      "text/plain": [
       "<Figure size 432x288 with 1 Axes>"
      ]
     },
     "metadata": {
      "needs_background": "light"
     },
     "output_type": "display_data"
    }
   ],
   "source": [
    "valids.groupby('mz_r')['resolution'].min().to_frame().reset_index().plot(x='mz_r', y=\"resolution\")"
   ]
  },
  {
   "cell_type": "code",
   "execution_count": null,
   "metadata": {},
   "outputs": [],
   "source": [
    "def suggest_resolution_and_gradient(spectra_df):\n",
    "    df = spectra_df.loc[spectra_df.precursor_id.isna()]\n",
    "    scan_count = df.scan_id.unique().size\n",
    "\n",
    "    df['scan_id_f'] = df['scan_id'].factorize()[0]\n",
    "    df.sort_values(['mz','scan_id_f'], ascending=False, inplace=True)\n",
    "    df['nunique_scans'] = df.rolling(60)['scan_id_f'].apply(lambda s:len(set(s)))\n",
    "    max_unique_scans = df['nunique_scans'].max()\n",
    "    df['mean_diff'] = df['mz'].diff(-1).rolling(max_unique_scans).mean()\n",
    "    df['mz_r'] = (df.mz / 10).round() *10\n",
    "\n",
    "    valids = df.loc[df['nunique_scans'] >= max_unique_scans * 0.9]\n",
    "    valids.sort_values('mz', inplace = True)\n",
    "    valids['max_diff'] = valids['mean_diff'].cummax()\n",
    "    selected = valids.groupby('mz_r')['resolution'].min().to_frame().reset_index()\n",
    "    # selected.plot(x='mz_r', y=\"resolution\")\n",
    "    res_at_loest_mass = selected['resolution'].iat[0]\n",
    "    gradient = selected['resolution'].iat[-1] - selected['resolution'].iat[0 ] / selected['mz_r'].iat[-1] - selected['mz_r'].iat[0 ]\n",
    "    return  res_at_loest_mass, gradient"
   ]
  },
  {
   "cell_type": "code",
   "execution_count": 295,
   "metadata": {},
   "outputs": [
    {
     "name": "stderr",
     "output_type": "stream",
     "text": [
      "c:\\Users\\mirandaa\\Anaconda3\\envs\\lx128_p3_Dev\\lib\\site-packages\\ipykernel_launcher.py:1: SettingWithCopyWarning: \n",
      "A value is trying to be set on a copy of a slice from a DataFrame.\n",
      "Try using .loc[row_indexer,col_indexer] = value instead\n",
      "\n",
      "See the caveats in the documentation: http://pandas.pydata.org/pandas-docs/stable/user_guide/indexing.html#returning-a-view-versus-a-copy\n",
      "  \"\"\"Entry point for launching an IPython kernel.\n"
     ]
    }
   ],
   "source": [
    "df['diff'] = df['mz'].diff(-1)\n",
    "low,high = df['diff'].quantile([.20,.80])"
   ]
  },
  {
   "cell_type": "code",
   "execution_count": null,
   "metadata": {},
   "outputs": [],
   "source": []
  },
  {
   "cell_type": "code",
   "execution_count": 278,
   "metadata": {},
   "outputs": [],
   "source": [
    "mzs = spectra_df.loc[spectra_df.precursor_id.isna()].mz.sort_values(ascending= False).to_frame()"
   ]
  },
  {
   "cell_type": "code",
   "execution_count": null,
   "metadata": {},
   "outputs": [],
   "source": []
  },
  {
   "cell_type": "code",
   "execution_count": 279,
   "metadata": {},
   "outputs": [],
   "source": [
    "mzs['difs'] = mzs['mz'].diff(-1).replace(0,np.nan).fillna(method = 'bfill').fillna(method = 'ffill')"
   ]
  },
  {
   "cell_type": "code",
   "execution_count": 280,
   "metadata": {},
   "outputs": [],
   "source": [
    "low,high = mzs['difs'].quantile([.20,.80])"
   ]
  },
  {
   "cell_type": "code",
   "execution_count": 281,
   "metadata": {},
   "outputs": [],
   "source": [
    "mzs.loc[mzs['difs'].between(low,high), 'difs'] = np.nan"
   ]
  },
  {
   "cell_type": "code",
   "execution_count": 282,
   "metadata": {},
   "outputs": [],
   "source": [
    "mzs['cummin'] = mzs['difs'].cummin() "
   ]
  },
  {
   "cell_type": "code",
   "execution_count": 286,
   "metadata": {},
   "outputs": [
    {
     "data": {
      "text/plain": [
       "cummin\n",
       "0.000031    360.147644\n",
       "0.001465    511.368652\n",
       "0.001526    981.797913\n",
       "0.001587    983.286438\n",
       "0.001770    998.639404\n",
       "0.004639    999.642883\n",
       "0.151245    999.947937\n",
       "Name: mz, dtype: float32"
      ]
     },
     "execution_count": 286,
     "metadata": {},
     "output_type": "execute_result"
    }
   ],
   "source": [
    "mzs.groupby('cummin')['mz'].last()"
   ]
  },
  {
   "cell_type": "code",
   "execution_count": 233,
   "metadata": {},
   "outputs": [],
   "source": [
    "absolute_tolerences.index.rename('da', inplace=True)\n",
    "absolute_tolerences.reset_index(inplace=True)\n",
    "absolute_tolerences['resolution'] = absolute_tolerences['mz'] / absolute_tolerences['da']\n",
    "absolute_tolerences['mz'] = (absolute_tolerences['mz'] / 10).round() *10\n",
    "absolute_tolerences['resolution'] = absolute_tolerences['resolution'].cummin()\n"
   ]
  },
  {
   "cell_type": "code",
   "execution_count": 230,
   "metadata": {},
   "outputs": [],
   "source": [
    "absolute_tolerences.to_clipboard()"
   ]
  },
  {
   "cell_type": "code",
   "execution_count": 222,
   "metadata": {},
   "outputs": [],
   "source": [
    "absolute_tolerences = absolute_tolerences.groupby('mz')['resolution'].min().to_frame()\n",
    "absolute_tolerences.reset_index(inplace=True)"
   ]
  },
  {
   "cell_type": "code",
   "execution_count": 234,
   "metadata": {},
   "outputs": [
    {
     "data": {
      "text/plain": [
       "<matplotlib.axes._subplots.AxesSubplot at 0x1d724494848>"
      ]
     },
     "execution_count": 234,
     "metadata": {},
     "output_type": "execute_result"
    },
    {
     "data": {
      "image/png": "[encoded data removed]",
      "text/plain": [
       "<Figure size 432x288 with 1 Axes>"
      ]
     },
     "metadata": {
      "needs_background": "light"
     },
     "output_type": "display_data"
    }
   ],
   "source": [
    "absolute_tolerences.plot(x='mz',y='resolution')"
   ]
  },
  {
   "cell_type": "code",
   "execution_count": 78,
   "metadata": {},
   "outputs": [
    {
     "data": {
      "text/plain": [
       "0.5004866646987242"
      ]
     },
     "execution_count": 78,
     "metadata": {},
     "output_type": "execute_result"
    }
   ],
   "source": [
    "guess_selection_window (spectra_df)"
   ]
  },
  {
   "cell_type": "code",
   "execution_count": 76,
   "metadata": {},
   "outputs": [
    {
     "data": {
      "text/plain": [
       "1.0009733293974483"
      ]
     },
     "execution_count": 76,
     "metadata": {},
     "output_type": "execute_result"
    }
   ],
   "source": [
    "mean_less_std = agg_data.at['mean'] - agg_data.at['std']\n",
    "if mean_less_std > 0:\n",
    "    res =  mean_less_std / 2\n",
    "else:\n",
    "    res =  agg_data.at['mean'] /2\n",
    "\n",
    "return res\n"
   ]
  },
  {
   "cell_type": "code",
   "execution_count": 38,
   "metadata": {},
   "outputs": [],
   "source": [
    "def drop_fuzzy(spectra_df):\n",
    "    fraction_of_average_intensity = 0.1\n",
    "    spectras_sum_inty =  spectra_df.loc[spectra_df.precursor_id.isna()].groupby('scan_id')['inty'].sum()\n",
    "    sum_inty_mean = spectras_sum_inty.mean()\n",
    "    spectras_sum_inty = spectras_sum_inty.to_dict()\n",
    "\n",
    "    to_drop = []\n",
    "    for scan_id in spectra_df.scan_id.drop_duplicates(): # this maintains order\n",
    "        if spectras_sum_inty[scan_id] < sum_inty_mean * fraction_of_average_intensity: # one order \n",
    "            to_drop.append(scan_id)\n",
    "        else:\n",
    "            break\n",
    "    \n",
    "    return spectra_df.loc[~spectra_df.scan_id.isin(to_drop)]"
   ]
  },
  {
   "cell_type": "code",
   "execution_count": null,
   "metadata": {},
   "outputs": [],
   "source": []
  },
  {
   "cell_type": "code",
   "execution_count": null,
   "metadata": {},
   "outputs": [],
   "source": [
    "df = spectra_dfs[0] # first file, already teim range and mass range filtered\n",
    "ms1_peaks = df.loc[df.precursor_id.isna()]"
   ]
  },
  {
   "cell_type": "code",
   "execution_count": null,
   "metadata": {},
   "outputs": [],
   "source": [
    "df.stem.iloc[0]\n"
   ]
  },
  {
   "cell_type": "code",
   "execution_count": null,
   "metadata": {},
   "outputs": [],
   "source": [
    "def bin_linear_alignment(masses, options):\n",
    "    # TODO assert masses are ordered\n",
    "    up_to = None\n",
    "    for _, mass in masses.iteritems():\n",
    "        if up_to is None:\n",
    "            #up_to = mass + tolerance.getTinDA(mass) this is how its done in some places, but reuslt are not identical to below\n",
    "            up_to = mass + mass / options[\"MSresolution\"].tolerance \n",
    "        if mass <= up_to:\n",
    "            yield up_to\n",
    "        else:\n",
    "            up_to = mass + mass / options[\"MSresolution\"].tolerance\n",
    "            yield up_to\n"
   ]
  },
  {
   "cell_type": "code",
   "execution_count": null,
   "metadata": {},
   "outputs": [],
   "source": [
    "def ms1_peaks_agg(ms1_peaks, options):\n",
    "    ms1_peaks.sort_values(\"mz\", inplace=True)\n",
    "\n",
    "    # binning is done 3 times in lx1, between each fadi filter is performed, we do it at the end intead\n",
    "    bins1 = list(bin_linear_alignment(ms1_peaks.mz, options))\n",
    "    bins2 = list(bin_linear_alignment(ms1_peaks.groupby(bins1)[\"mz\"].transform(\"mean\"), options))\n",
    "    bins3 = list(bin_linear_alignment(ms1_peaks.groupby(bins2)[\"mz\"].transform(\"mean\"),options))\n",
    "\n",
    "    ms1_peaks['bin_mass'] = bins3 \n",
    "\n",
    "    # merge mutiple peaks from single scan\n",
    "    g = ms1_peaks.groupby([\"bin_mass\", \"scan_id\"])\n",
    "    ms1_peaks[\"scan_cumcount\"] = g.cumcount()\n",
    "    ms1_peaks[\"merged_mass\"] = g[\"mz\"].transform(\"mean\")\n",
    "    ms1_peaks['merged_inty'] = g['inty'].transform(\"mean\") # NOTE merge is NOT weighted average \n",
    "    \n",
    "\n",
    "    # aggregate results\n",
    "    agg_df = (\n",
    "        ms1_peaks.loc[ms1_peaks.scan_cumcount == 0] # use only the first of merged masses\n",
    "        .assign(\n",
    "            mass_intensity=lambda x: x.mz * x.merged_inty\n",
    "        )  # for the weighted average intensity\n",
    "        .groupby(\"bin_mass\")\n",
    "        .agg(\n",
    "            {\n",
    "                \"merged_mass\": [\"mean\", \"count\"],\n",
    "                \"merged_inty\": [\"mean\", \"sum\"],\n",
    "                \"mass_intensity\": \"sum\",\n",
    "            }\n",
    "        )\n",
    "        .dropna()\n",
    "    )\n",
    "    agg_df.columns = [\"_\".join(col).strip() for col in agg_df.columns.values]\n",
    "\n",
    "    # apply fadi filters, in lx1 its done between each bin  process\n",
    "    fadi_denominator = ms1_peaks.scan_id.unique().shape[0]\n",
    "    mask_ff = agg_df.merged_mass_count / fadi_denominator >= options['MSfilter']\n",
    "    agg_df = agg_df[mask_ff]\n",
    "\n",
    "    # NOTE intensity threshold is do in add_Sample... but lets do it here\n",
    "    MSthreshold  = options[\"MSthreshold\"]\n",
    "    mask_inty = agg_df.merged_inty_mean > MSthreshold\n",
    "    agg_df = agg_df[mask_inty]\n",
    "\n",
    "    # for reference...weigted_mass shoud not be necesary\n",
    "    agg_df[\"weigted_mass\"] = agg_df.mass_intensity_sum / agg_df.merged_inty_sum\n",
    "    # lx1 intensity is wrong because it uses the total number of scans, instead of the numebr of scans with a peak\n",
    "    agg_df['lx1_bad_inty'] = agg_df.merged_inty_sum / fadi_denominator\n",
    "\n",
    "    \n",
    "    agg_df.rename(columns = {'merged_mass_mean':'mz', 'merged_inty_mean':'inty'}, inplace=True)\n",
    "    return agg_df"
   ]
  },
  {
   "cell_type": "code",
   "execution_count": null,
   "metadata": {},
   "outputs": [],
   "source": [
    "spectra_dfs[0].polarity.iat[0]"
   ]
  },
  {
   "cell_type": "code",
   "execution_count": null,
   "metadata": {},
   "outputs": [],
   "source": [
    "res = {}\n",
    "for df in spectra_dfs: # first file, already teim range and mass range filtered\n",
    "    ms1_peaks = df.loc[df.precursor_id.isna()]\n",
    "    agg_df = ms1_peaks_agg(ms1_peaks, options)\n",
    "    agg_df['stem'] = df.stem.iloc[0]\n",
    "    res[df.stem.iloc[0]] = agg_df"
   ]
  },
  {
   "cell_type": "code",
   "execution_count": null,
   "metadata": {},
   "outputs": [],
   "source": [
    "#recalibrate\n",
    "def recalibrate_mzs(mzs, cals):\n",
    "    # from lx2_masterscan\n",
    "    # lx1 takes all that are within tolerance and then uses highest intensity\n",
    "    if not cals or mzs.empty:\n",
    "        return mzs\n",
    "    cal_matchs = [mzs.loc[mzs.sub(cal).abs().idxmin()] for cal in cals]\n",
    "    \n",
    "    cal_vals = [cal - cal_match for cal, cal_match in zip(cals, cal_matchs)]\n",
    "    # prefilter\n",
    "    if not any((v < 0.1 for v in cal_vals)):\n",
    "        return mzs\n",
    "    # find near tolerance\n",
    "    cutoff = mzs.diff(-1).quantile(0.1)\n",
    "    is_near = [v < cutoff for v in cal_vals]\n",
    "    if not any(is_near):\n",
    "        log.info(\"no valid calibration masses found\")\n",
    "        return mzs\n",
    "\n",
    "    cal_matchs = [e for e, v in zip(cal_matchs, is_near) if v]\n",
    "    cal_vals = [e for e, v in zip(cal_vals, is_near) if v]\n",
    "    log.debug(\"recalibration info: {'\\n'.join(zip(cal_matchs,cal_vals ))}\")\n",
    "\n",
    "    return mzs + np.interp(mzs, cal_matchs, cal_vals)"
   ]
  },
  {
   "cell_type": "code",
   "execution_count": null,
   "metadata": {},
   "outputs": [],
   "source": [
    "#align ms1 \n",
    "ms1_agg_peaks = pd.concat(res.values())"
   ]
  },
  {
   "cell_type": "code",
   "execution_count": null,
   "metadata": {},
   "outputs": [],
   "source": [
    "ms1_agg_peaks"
   ]
  },
  {
   "cell_type": "code",
   "execution_count": null,
   "metadata": {},
   "outputs": [],
   "source": [
    "# this one uses delta res for clustering\n",
    "def bin_mkSurveyLinear(masses, options):\n",
    "    # TODO assert masses are ordered\n",
    "    minmass = masses.iloc[0]\n",
    "    up_to = None\n",
    "    for _, mass in masses.iteritems():\n",
    "        if up_to is None:\n",
    "            #up_to = mass + tolerance.getTinDA(mass) this is how its done in some places, but reuslt are not identical to below\n",
    "            deltatol = options[\"MSresolution\"].tolerance + (mass - minmass) * options['MSresolutionDelta']\n",
    "            up_to = mass + (mass / deltatol)\n",
    "        if mass <= up_to:\n",
    "            yield up_to\n",
    "        else:\n",
    "            deltatol = options[\"MSresolution\"].tolerance + (mass - minmass) * options['MSresolutionDelta']\n",
    "            up_to = mass + (mass / deltatol)\n",
    "            yield up_to"
   ]
  },
  {
   "cell_type": "code",
   "execution_count": null,
   "metadata": {},
   "outputs": [],
   "source": [
    "# make the method here"
   ]
  },
  {
   "cell_type": "code",
   "execution_count": null,
   "metadata": {},
   "outputs": [],
   "source": [
    "ms1_agg_peaks.sort_values('mz', inplace=True)"
   ]
  },
  {
   "cell_type": "code",
   "execution_count": null,
   "metadata": {},
   "outputs": [],
   "source": [
    "# binning is done 3 times in lx1, between each fadi filter is performed, we do it at the end intead\n",
    "bins1 = list(bin_mkSurveyLinear(ms1_agg_peaks.mz, options))\n",
    "bins2 = list(bin_mkSurveyLinear(ms1_agg_peaks.groupby(bins1)[\"mz\"].transform(\"mean\"), options))\n",
    "bins3 = list(bin_mkSurveyLinear(ms1_agg_peaks.groupby(bins2)[\"mz\"].transform(\"mean\"),options))"
   ]
  },
  {
   "cell_type": "code",
   "execution_count": null,
   "metadata": {},
   "outputs": [],
   "source": [
    "ms1_agg_peaks['bins'] = bins3"
   ]
  },
  {
   "cell_type": "code",
   "execution_count": null,
   "metadata": {},
   "outputs": [],
   "source": [
    "# check occupation spectracontainer.py masterscan.chekoccupation\n",
    "# occupation is the % of peak intensities abvove \"thrsld: \"\n",
    "threshold_denominator = ms1_agg_peaks.stem.unique().shape[0] # same as len(res)\n",
    "threshold = options[\"MSminOccupation\"]\n",
    "bin_peak_count = ms1_agg_peaks.groupby('bins')['inty'].transform('count')\n",
    "tf_mask = (bin_peak_count / threshold_denominator) >= threshold\n",
    "ms1_agg_peaks['above_threshold'] = tf_mask"
   ]
  },
  {
   "cell_type": "code",
   "execution_count": null,
   "metadata": {},
   "outputs": [],
   "source": [
    "ms1_agg_peaks['mass'] = ms1_agg_peaks.groupby('bins')['mz'].transform('mean')"
   ]
  },
  {
   "cell_type": "code",
   "execution_count": null,
   "metadata": {},
   "outputs": [],
   "source": [
    "ms1_agg_peaks"
   ]
  },
  {
   "cell_type": "code",
   "execution_count": null,
   "metadata": {},
   "outputs": [],
   "source": [
    "ms1_agg_peaks.pivot(index='mass', columns='stem', values=['inty','lx1_bad_inty'])"
   ]
  },
  {
   "cell_type": "code",
   "execution_count": null,
   "metadata": {},
   "outputs": [],
   "source": [
    "# TODO collape_join_adjecent_clusters\n"
   ]
  },
  {
   "cell_type": "markdown",
   "metadata": {},
   "source": [
    "# MS2 \n",
    "----"
   ]
  },
  {
   "cell_type": "code",
   "execution_count": null,
   "metadata": {},
   "outputs": [],
   "source": [
    "options[\"MSMSresolution\"]\n",
    "options[\"selectionWindow\"]\n",
    "\n",
    "#tolerance = TypeTolerance(\"Da\", scan.options[\"selectionWindow\"])\n",
    "#window = scan.options[\"selectionWindow\"] / 2"
   ]
  },
  {
   "cell_type": "code",
   "execution_count": null,
   "metadata": {},
   "outputs": [],
   "source": [
    "df = spectra_dfs[1] # first file, already teim range and mass range filtered\n",
    "ms2_peaks = pd.concat((df.loc[~df.precursor_id.isna()] for df in spectra_dfs))"
   ]
  },
  {
   "cell_type": "markdown",
   "metadata": {},
   "source": [
    "ms2_peaks[ms2_peaks.scan_id == 'controllerType=0 controllerNumber=1 scan=41']  \n",
    "*** NOTE masses are not exactly the same as in lx1, they are wrong base om raw ***  \n",
    "see xcel file on desktop  "
   ]
  },
  {
   "cell_type": "markdown",
   "metadata": {},
   "source": [
    "*** lx1 does the precursor binning all files, at the same time, it is not like with the ms1s ***"
   ]
  },
  {
   "cell_type": "code",
   "execution_count": null,
   "metadata": {},
   "outputs": [],
   "source": [
    "def bin_linear_alignment_for_ms2(masses, telerance_da):\n",
    "    # TODO assert masses are ordered\n",
    "    up_to = None\n",
    "    for _, mass in masses.iteritems():\n",
    "        if up_to is None:\n",
    "            #up_to = mass + tolerance.getTinDA(mass) this is how its done in some places, but reuslt are not identical to below\n",
    "            up_to = mass + telerance_da\n",
    "        if mass <= up_to:\n",
    "            yield up_to\n",
    "        else:\n",
    "            up_to = mass + telerance_da\n",
    "            yield up_to\n",
    "    "
   ]
  },
  {
   "cell_type": "code",
   "execution_count": null,
   "metadata": {},
   "outputs": [],
   "source": [
    "def grouped_precursors_df(ms2_peaks):\n",
    "    ms2_peaks.sort_values(['precursor_mz','mz'], inplace=True)\n",
    "    precursors_df = ms2_peaks[[\"stem\", 'scan_id', 'precursor_mz']].drop_duplicates()# similar to unqie but return a series instead of an array\n",
    "    # using \"stem\", 'scan_id' to replicate the numebr of instances for the averaging later\n",
    "    \n",
    "    bins1 = list(bin_linear_alignment_for_ms2(precursors_df.precursor_mz, options[\"selectionWindow\"]))\n",
    "    bins2 = list(bin_linear_alignment_for_ms2(precursors_df.groupby(bins1)['precursor_mz'].transform('mean'), options[\"selectionWindow\"]))\n",
    "    bins3 = list(bin_linear_alignment_for_ms2(precursors_df.groupby(bins2)['precursor_mz'].transform('mean'), options[\"selectionWindow\"]))\n",
    "\n",
    "    precursors_df['prec_bin'] = bins3\n",
    "\n",
    "# no fadi filter for precursors  \n",
    "# after groupinbg the precursors, the groups are split on the \"sample\" ie the file,  \n",
    "# the each split of the group is merged in the __def mergeListsMsms__ method that uses linear alignment  \n",
    "# thats why... prec_ms2_peaks = ms2_peaks[(ms2_peaks.precursor_mz == t) & (ms2_peaks.stem == '190321_Serum_Lipidextract_368723_01')]\n",
    "    return precursors_df"
   ]
  },
  {
   "cell_type": "code",
   "execution_count": null,
   "metadata": {},
   "outputs": [],
   "source": [
    "precursors_df = grouped_precursors_df(ms2_peaks)\n",
    "precursors_bins = precursors_df.set_index('precursor_mz')['prec_bin'].to_dict()"
   ]
  },
  {
   "cell_type": "code",
   "execution_count": null,
   "metadata": {},
   "outputs": [],
   "source": [
    "precursors_bins"
   ]
  },
  {
   "cell_type": "markdown",
   "metadata": {},
   "source": [
    "in def linearAlignment the var clusterToMerge, it only takes the \"sample\" if its not in the cluster, so no duplicate, and only the first \"sample\"\n",
    "\n",
    "for clutering ms2 precursors, it does the binning with linearAlignment... see above, its not the unique precusrsor, its each precursor in each file,  but it does the binning on both at the same time, in contrast to how its done for ms1 binning, where first the binning is done for one file and then for the other.\n",
    "\n",
    "then it does the merge it on a per file (AKA \"sample\")  basis, merge means doing a linera alignmebt on all the peaks in the bin per sample\n"
   ]
  },
  {
   "cell_type": "code",
   "execution_count": null,
   "metadata": {},
   "outputs": [],
   "source": [
    "ms2_peaks['prec_bin'] = ms2_peaks.precursor_mz.map(precursors_bins)\n"
   ]
  },
  {
   "cell_type": "code",
   "execution_count": null,
   "metadata": {},
   "outputs": [],
   "source": [
    "# this one uses delta res for clustering\n",
    "def bin_mkSurveyLinear_for_ms2(masses, options): # copied from above\n",
    "    # TODO assert masses are ordered\n",
    "    minmass = masses.iloc[0]\n",
    "    up_to = None\n",
    "    for _, mass in masses.iteritems():\n",
    "        if up_to is None:\n",
    "            #up_to = mass + tolerance.getTinDA(mass) this is how its done in some places, but reuslt are not identical to below\n",
    "            deltatol = options[\"MSMSresolution\"].tolerance + (mass - minmass) * options['MSMSresolutionDelta']\n",
    "            up_to = mass + (mass / deltatol)\n",
    "        if mass <= up_to:\n",
    "            yield up_to\n",
    "        else:\n",
    "            deltatol = options[\"MSMSresolution\"].tolerance + (mass - minmass) * options['MSMSresolutionDelta']\n",
    "            up_to = mass + (mass / deltatol)\n",
    "            yield up_to"
   ]
  },
  {
   "cell_type": "code",
   "execution_count": null,
   "metadata": {},
   "outputs": [],
   "source": [
    "def ms2_peaks_group_generator(grouped_prec, options):\n",
    "\n",
    "    for idx, prec_ms2_peaks in  grouped_prec:\n",
    "        #intensityWeightedAvg\n",
    "        prec_ms2_peaks.sort_values('mz', inplace=True)\n",
    "        bins1 = list(bin_mkSurveyLinear_for_ms2(prec_ms2_peaks.mz, options))\n",
    "        bins1_weighted_average = (prec_ms2_peaks.mz * prec_ms2_peaks.inty).groupby(bins1).transform('sum') / prec_ms2_peaks.inty.groupby(bins1).transform('sum')\n",
    "        bins2 = list(bin_mkSurveyLinear_for_ms2(bins1_weighted_average, options))\n",
    "        bins2_weighted_average = (prec_ms2_peaks.mz * prec_ms2_peaks.inty).groupby(bins2).transform('sum') / prec_ms2_peaks.inty.groupby(bins2).transform('sum')\n",
    "        bins3 = list(bin_mkSurveyLinear_for_ms2(bins2_weighted_average, options))\n",
    "        weighted_mass = (prec_ms2_peaks.mz * prec_ms2_peaks.inty).groupby(bins3).transform('sum') / prec_ms2_peaks.inty.groupby(bins3).transform('sum')\n",
    "\n",
    "        prec_ms2_peaks['bins'] = bins3\n",
    "        prec_ms2_peaks['weighted_mass'] = weighted_mass\n",
    "\n",
    "        fadi_denominator = prec_ms2_peaks.scan_id.unique().shape[0]\n",
    "        ff_mask = prec_ms2_peaks.groupby(\"bins\")['bins'].transform('count') / fadi_denominator>= options['MSMSfilter']\n",
    "        mof_mask = prec_ms2_peaks.groupby(\"bins\")['bins'].transform('count') / fadi_denominator>= options['MSMSminOccupation']\n",
    "\n",
    "        tf_mask = prec_ms2_peaks.inty > options[\"MSMSthreshold\"]\n",
    "        \n",
    "        # it uses merge sum intensity for getting the averrage intensity...\n",
    "        agg_prec_ms2_peaks = prec_ms2_peaks[ff_mask & tf_mask & mof_mask].groupby('bins').agg({\"weighted_mass\":['mean', 'count'],\"inty\":\"mean\"})\n",
    "        agg_prec_ms2_peaks['precursor_mz'] = prec_ms2_peaks.precursor_mz.mean().round(6) \n",
    "        # there is minor differrence in mean between different files, and the same precursor bin, to avoid it we round\n",
    "        \n",
    "        agg_prec_ms2_peaks['stem'] = idx[0]\n",
    "\n",
    "        agg_prec_ms2_peaks.columns = [\"_\".join(col).strip() for col in agg_prec_ms2_peaks.columns.values]\n",
    "        names = {'weighted_mass_mean':'mz',\n",
    "         'weighted_mass_count':'count', \n",
    "         \"inty_mean\":'inty',\n",
    "         'precursor_mz_':'precursor_mz',\n",
    "         'stem_':'stem'}\n",
    "        agg_prec_ms2_peaks.rename(columns = names, inplace=True)\n",
    "\n",
    "        yield agg_prec_ms2_peaks\n",
    "\n"
   ]
  },
  {
   "cell_type": "code",
   "execution_count": null,
   "metadata": {},
   "outputs": [],
   "source": [
    "ms2_peaks.prec_bin.unique().size"
   ]
  },
  {
   "cell_type": "code",
   "execution_count": null,
   "metadata": {},
   "outputs": [],
   "source": [
    "grouped_prec = ms2_peaks.groupby(['stem','prec_bin'])\n",
    "ms2_agg_peaks = pd.concat(ms2_peaks_group_generator(grouped_prec, options))"
   ]
  },
  {
   "cell_type": "code",
   "execution_count": null,
   "metadata": {},
   "outputs": [],
   "source": [
    "# collape_join_adjecent_clusters_msms(cluster)"
   ]
  },
  {
   "cell_type": "code",
   "execution_count": null,
   "metadata": {},
   "outputs": [],
   "source": [
    "# associate ms2 to ms1 scans... \n",
    "ms1_masses = ms1_agg_peaks.mass.drop_duplicates()\n",
    "precur_masses = ms2_agg_peaks.precursor_mz.drop_duplicates()\n",
    "tol = options[\"selectionWindow\"] / 2\n",
    "tmp = pd.merge_asof(ms1_masses, precur_masses.astype(ms1_masses.dtype), left_on='mass', right_on='precursor_mz', direction ='nearest' , tolerance=tol)"
   ]
  },
  {
   "cell_type": "code",
   "execution_count": null,
   "metadata": {},
   "outputs": [],
   "source": [
    "ms1_agg_peaks"
   ]
  },
  {
   "cell_type": "markdown",
   "metadata": {},
   "source": [
    "# build the masterscan"
   ]
  },
  {
   "cell_type": "code",
   "execution_count": 37,
   "metadata": {},
   "outputs": [
    {
     "name": "stdout",
     "output_type": "stream",
     "text": [
      "[12:27:33] {comtypes.client._code_cache:95} INFO - Imported existing <module 'comtypes.gen' from 'c:\\\\Users\\\\mirandaa\\\\Anaconda3\\\\envs\\\\lx128_p3_Dev\\\\lib\\\\site-packages\\\\comtypes\\\\gen\\\\__init__.py'>\n",
      "[12:27:33] {comtypes.client._code_cache:72} INFO - Using writeable comtypes cache directory: 'c:\\Users\\mirandaa\\Anaconda3\\envs\\lx128_p3_Dev\\lib\\site-packages\\comtypes\\gen'\n"
     ]
    }
   ],
   "source": [
    "from lx.spectraContainer import MasterScan\n",
    "from LX2_masterscan import se_factory, ms2entry_factory"
   ]
  },
  {
   "cell_type": "code",
   "execution_count": null,
   "metadata": {},
   "outputs": [],
   "source": [
    "def mass_inty_generator_ms1_agg(ms1_agg_peaks):\n",
    "    for mass, gdf in ms1_agg_peaks.groupby('mass'):\n",
    "        dictIntensity = gdf.set_index('stem')['lx1_bad_inty'].to_dict()\n",
    "        dictIntensity_lx2 = gdf.set_index('stem')['inty'].to_dict()\n",
    "        dictIntensity.update({ f'{k}_lx2':v for k,v in dictIntensity_lx2.items()})\n",
    "        yield (mass, dictIntensity, 1)"
   ]
  },
  {
   "cell_type": "code",
   "execution_count": null,
   "metadata": {},
   "outputs": [],
   "source": [
    "samples = samples[:2]"
   ]
  },
  {
   "cell_type": "code",
   "execution_count": null,
   "metadata": {},
   "outputs": [],
   "source": [
    "samples.extend([f'{k}_lx2' for k in samples]) #because we add both results"
   ]
  },
  {
   "cell_type": "code",
   "execution_count": null,
   "metadata": {},
   "outputs": [],
   "source": [
    "samples"
   ]
  },
  {
   "cell_type": "code",
   "execution_count": null,
   "metadata": {},
   "outputs": [],
   "source": [
    "listSurveyEntry = [\n",
    "        se_factory(msmass, dictIntensity, samples, polarity)\n",
    "        for msmass, dictIntensity, polarity in mass_inty_generator_ms1_agg(\n",
    "            ms1_agg_peaks\n",
    "        )\n",
    "    ]"
   ]
  },
  {
   "cell_type": "code",
   "execution_count": null,
   "metadata": {},
   "outputs": [],
   "source": [
    "def MSMSEntry_list_generator(gdf):\n",
    "    for mz,  precur_df in gdf.groupby('mz'):\n",
    "        dictIntensity = precur_df.set_index('stem')['inty'].to_dict()\n",
    "        dictIntensity.update({ f'{k}_lx2':v for k,v in dictIntensity.items()}) #TODO actually get other values\n",
    "        yield (mz, dictIntensity, samples, 1)"
   ]
  },
  {
   "cell_type": "code",
   "execution_count": null,
   "metadata": {},
   "outputs": [],
   "source": [
    "def MS2_dict_generator(ms2_agg_peaks):\n",
    "    for precursor_mz, gdf in ms2_agg_peaks.groupby('precursor_mz'):\n",
    "        MSMSEntry_list = [ms2entry_factory(*args) for args in MSMSEntry_list_generator(gdf)]\n",
    "        yield (precursor_mz, MSMSEntry_list)"
   ]
  },
  {
   "cell_type": "code",
   "execution_count": null,
   "metadata": {},
   "outputs": [],
   "source": [
    "MS2_dict = dict(MS2_dict_generator(ms2_agg_peaks))"
   ]
  },
  {
   "cell_type": "code",
   "execution_count": null,
   "metadata": {},
   "outputs": [],
   "source": [
    "MS2_dict_keys =pd.Series(list(MS2_dict.keys()), name = 'MS2_precurs')"
   ]
  },
  {
   "cell_type": "code",
   "execution_count": null,
   "metadata": {},
   "outputs": [],
   "source": [
    "MS2_dict_keys.sort_values(inplace=True)"
   ]
  },
  {
   "cell_type": "code",
   "execution_count": null,
   "metadata": {},
   "outputs": [],
   "source": [
    "MS1_precurmass =pd.Series([se.precurmass for se in listSurveyEntry], name = 'MS1_precurmass')"
   ]
  },
  {
   "cell_type": "code",
   "execution_count": null,
   "metadata": {},
   "outputs": [],
   "source": [
    "MS1_precurmass.sort_values(inplace=True)"
   ]
  },
  {
   "cell_type": "code",
   "execution_count": null,
   "metadata": {},
   "outputs": [],
   "source": [
    "# associate ms2 to ms1 scans\n",
    "tol = options[\"selectionWindow\"] / 2\n",
    "precur_map_df = pd.merge_asof(MS1_precurmass, MS2_dict_keys, left_on='MS1_precurmass' , right_on='MS2_precurs',direction ='nearest' , tolerance=tol)\n",
    "# tmp = pd.merge_asof(ms1_masses, ms1_masses.dtype, left_on='mass', right_on='precursor_mz', direction ='nearest' , tolerance=tol)"
   ]
  },
  {
   "cell_type": "code",
   "execution_count": null,
   "metadata": {},
   "outputs": [],
   "source": [
    "precur_dict = precur_map_df.set_index(MS1_precurmass)['MS2_precurs'].to_dict()"
   ]
  },
  {
   "cell_type": "code",
   "execution_count": null,
   "metadata": {},
   "outputs": [],
   "source": [
    "len(precur_dict)"
   ]
  },
  {
   "cell_type": "code",
   "execution_count": null,
   "metadata": {},
   "outputs": [],
   "source": [
    "# ms1_prec_dict = ms1_agg_peaks.set_index('mass')['precursor_mz'].to_dict()\n",
    "for se in listSurveyEntry:\n",
    "    precursor = precur_dict[se.precurmass]\n",
    "    print(len(MS2_dict.get(precursor,[])))\n",
    "    "
   ]
  },
  {
   "cell_type": "code",
   "execution_count": 36,
   "metadata": {},
   "outputs": [
    {
     "ename": "NameError",
     "evalue": "name 'MasterScan' is not defined",
     "output_type": "error",
     "traceback": [
      "\u001b[1;31m---------------------------------------------------------------------------\u001b[0m",
      "\u001b[1;31mNameError\u001b[0m                                 Traceback (most recent call last)",
      "\u001b[1;32m~\\AppData\\Local\\Temp/ipykernel_14516/303469480.py\u001b[0m in \u001b[0;36m<module>\u001b[1;34m\u001b[0m\n\u001b[0;32m      1\u001b[0m \u001b[1;31m# add data to masterscan\u001b[0m\u001b[1;33m\u001b[0m\u001b[1;33m\u001b[0m\u001b[1;33m\u001b[0m\u001b[0m\n\u001b[1;32m----> 2\u001b[1;33m \u001b[0mscan\u001b[0m \u001b[1;33m=\u001b[0m \u001b[0mMasterScan\u001b[0m\u001b[1;33m(\u001b[0m\u001b[0moptions\u001b[0m\u001b[1;33m)\u001b[0m\u001b[1;33m\u001b[0m\u001b[1;33m\u001b[0m\u001b[0m\n\u001b[0m\u001b[0;32m      3\u001b[0m \u001b[0mscan\u001b[0m\u001b[1;33m.\u001b[0m\u001b[0mlistSurveyEntry\u001b[0m \u001b[1;33m=\u001b[0m \u001b[0mlistSurveyEntry\u001b[0m\u001b[1;33m\u001b[0m\u001b[1;33m\u001b[0m\u001b[0m\n\u001b[0;32m      4\u001b[0m \u001b[0mscan\u001b[0m\u001b[1;33m.\u001b[0m\u001b[0mlistSurveyEntry\u001b[0m\u001b[1;33m[\u001b[0m\u001b[1;36m0\u001b[0m\u001b[1;33m]\u001b[0m\u001b[1;33m.\u001b[0m\u001b[0mmassWindow\u001b[0m \u001b[1;33m=\u001b[0m \u001b[1;36m0.01\u001b[0m  \u001b[1;31m# to avoid bug\u001b[0m\u001b[1;33m\u001b[0m\u001b[1;33m\u001b[0m\u001b[0m\n\u001b[0;32m      5\u001b[0m \u001b[0mscan\u001b[0m\u001b[1;33m.\u001b[0m\u001b[0msampleOccThr\u001b[0m\u001b[1;33m[\u001b[0m\u001b[1;34m\"MS\"\u001b[0m\u001b[1;33m]\u001b[0m \u001b[1;33m=\u001b[0m \u001b[1;33m[\u001b[0m\u001b[1;33m(\u001b[0m\u001b[1;36m0.0\u001b[0m\u001b[1;33m,\u001b[0m \u001b[1;33m[\u001b[0m\u001b[1;33m]\u001b[0m\u001b[1;33m)\u001b[0m\u001b[1;33m]\u001b[0m  \u001b[1;31m# to avoid bug at def checkOccupation\u001b[0m\u001b[1;33m\u001b[0m\u001b[1;33m\u001b[0m\u001b[0m\n",
      "\u001b[1;31mNameError\u001b[0m: name 'MasterScan' is not defined"
     ]
    }
   ],
   "source": [
    "\n",
    "# add data to masterscan\n",
    "scan = MasterScan(options)\n",
    "scan.listSurveyEntry = listSurveyEntry\n",
    "scan.listSurveyEntry[0].massWindow = 0.01  # to avoid bug\n",
    "scan.sampleOccThr[\"MS\"] = [(0.0, [])]  # to avoid bug at def checkOccupation\n",
    "scan.sampleOccThr[\"MSMS\"] = [(0.0, [])]\n",
    "\n",
    "# for printing we need\n",
    "# samples.extend([f'{k}_lx2' for k in samples])\n",
    "scan.listSamples = samples\n"
   ]
  },
  {
   "cell_type": "code",
   "execution_count": null,
   "metadata": {},
   "outputs": [],
   "source": [
    "import pickle\n",
    "with open('tmp_lx1_and_lx2.sc','wb') as f: pickle.dump(scan, f)"
   ]
  },
  {
   "cell_type": "markdown",
   "metadata": {},
   "source": [
    "# recalibrate\n",
    "import pickle"
   ]
  },
  {
   "cell_type": "code",
   "execution_count": null,
   "metadata": {},
   "outputs": [],
   "source": [
    "import pickle\n",
    "with open('ms1_dfs.pkl', 'rb') as f: ms1_dfs = pickle.load(f)\n",
    "with open('options.pkl', 'rb') as f: options = pickle.load(f)"
   ]
  },
  {
   "cell_type": "code",
   "execution_count": null,
   "metadata": {},
   "outputs": [],
   "source": [
    "#recalibrate\n",
    "def recalibrate_mzs(mzs, cals):\n",
    "    # from lx2_masterscan\n",
    "    # lx1 takes all that are within tolerance and then uses highest intensity\n",
    "    if not cals or mzs.empty:\n",
    "        return mzs\n",
    "    cal_matchs = [mzs.loc[mzs.sub(cal).abs().idxmin()] for cal in cals]\n",
    "\n",
    "    cal_vals = [cal - cal_match for cal, cal_match in zip(cals, cal_matchs)]\n",
    "    # prefilter\n",
    "    if not any((v < 0.1 for v in cal_vals)):\n",
    "        return mzs\n",
    "    # find near tolerance\n",
    "    cutoff = mzs.diff(-1).quantile(0.1)\n",
    "    is_near = [v < cutoff for v in cal_vals]\n",
    "    if not any(is_near):\n",
    "        log.info(\"no valid calibration masses found\")\n",
    "        return mzs\n",
    "\n",
    "    cal_matchs = [e for e, v in zip(cal_matchs, is_near) if v]\n",
    "    cal_vals = [e for e, v in zip(cal_vals, is_near) if v]\n",
    "    log.debug(\"recalibration info: {'\\n'.join(zip(cal_matchs,cal_vals ))}\")\n",
    "\n",
    "    return mzs + np.interp(mzs, cal_matchs, cal_vals)"
   ]
  },
  {
   "cell_type": "code",
   "execution_count": null,
   "metadata": {},
   "outputs": [],
   "source": [
    "res = []\n",
    "for cal_mass in options['MScalibration']:\n",
    "    tol = cal_mass / options[\"MSresolution\"].tolerance\n",
    "    #find close enough most intense\n",
    "    reference_mass = ms1_df[ms1_df.mz.between(cal_mass-tol , cal_mass+tol)].sort_values('inty', ascending=False).mz.iat[0]\n",
    "    change_val = cal_mass - reference_mass\n",
    "    res.append((reference_mass, change_val))\n",
    "\n",
    "cal_matchs, cal_vals = zip(*res)"
   ]
  },
  {
   "cell_type": "markdown",
   "metadata": {},
   "source": [
    "# perf testing"
   ]
  },
  {
   "cell_type": "code",
   "execution_count": 2,
   "metadata": {},
   "outputs": [],
   "source": [
    "import pickle"
   ]
  },
  {
   "cell_type": "code",
   "execution_count": 24,
   "metadata": {},
   "outputs": [],
   "source": [
    "# with open('stitched.sc','wb') as f: pickle.dump(stitched, "
   ]
  },
  {
   "cell_type": "code",
   "execution_count": 3,
   "metadata": {},
   "outputs": [],
   "source": [
    "with open('stitched.sc','rb') as f: stitched  = pickle.load(f) "
   ]
  },
  {
   "cell_type": "code",
   "execution_count": 4,
   "metadata": {},
   "outputs": [
    {
     "name": "stdout",
     "output_type": "stream",
     "text": [
      "Dumping Master Scan content\n",
      "containing:\n",
      "8488 MS entries and\n",
      "0 MS/MS entries.\n"
     ]
    },
    {
     "data": {
      "text/plain": [
       "True"
      ]
     },
     "execution_count": 4,
     "metadata": {},
     "output_type": "execute_result"
    }
   ],
   "source": [
    "stitched.dump('stitched-dump.csv')"
   ]
  },
  {
   "cell_type": "code",
   "execution_count": 34,
   "metadata": {},
   "outputs": [
    {
     "data": {
      "text/plain": [
       "{'Extraction_Blank_1_Ult-s': 339.1315002441406,\n",
       " 'Extraction_Blank_2_Ult-s': 0,\n",
       " 'Ultimate_1-s': 0,\n",
       " 'Ultimate_2-s': 339.1653137207031,\n",
       " 'Ult_05NIST_1-s': 274.6545104980469,\n",
       " 'Ult_05NIST_2-s': 267.81512451171875,\n",
       " 'Ult_10NIST_1-s': 0,\n",
       " 'Ult_10NIST_2-s': 0,\n",
       " 'Ult_1NIST_1-s': 261.4827575683594,\n",
       " 'Ult_1NIST_2-s': 318.67169189453125,\n",
       " 'Ult_5NIST_1-s': 0,\n",
       " 'Ult_5NIST_2-s': 282.861083984375,\n",
       " 'Extraction_Blank_1_Ult-s_lx2': 339.1315002441406,\n",
       " 'Extraction_Blank_2_Ult-s_lx2': 0,\n",
       " 'Ultimate_1-s_lx2': 0,\n",
       " 'Ultimate_2-s_lx2': 339.1653137207031,\n",
       " 'Ult_05NIST_1-s_lx2': 274.6545104980469,\n",
       " 'Ult_05NIST_2-s_lx2': 267.81512451171875,\n",
       " 'Ult_10NIST_1-s_lx2': 0,\n",
       " 'Ult_10NIST_2-s_lx2': 0,\n",
       " 'Ult_1NIST_1-s_lx2': 261.4827575683594,\n",
       " 'Ult_1NIST_2-s_lx2': 318.67169189453125,\n",
       " 'Ult_5NIST_1-s_lx2': 0,\n",
       " 'Ult_5NIST_2-s_lx2': 282.861083984375}"
      ]
     },
     "execution_count": 34,
     "metadata": {},
     "output_type": "execute_result"
    }
   ],
   "source": [
    "t = stitched.listSurveyEntry[0]\n",
    "t.dictIntensity"
   ]
  },
  {
   "cell_type": "code",
   "execution_count": 7,
   "metadata": {},
   "outputs": [],
   "source": [
    "import pickle\n",
    "with open('ms2_peaks.pkl','rb') as f: ms2_peaks = pickle.load(f)"
   ]
  },
  {
   "cell_type": "code",
   "execution_count": 15,
   "metadata": {},
   "outputs": [
    {
     "data": {
      "text/plain": [
       "449.699011    1\n",
       "952.201025    1\n",
       "623.873022    1\n",
       "771.019995    1\n",
       "723.972998    1\n",
       "             ..\n",
       "432.682013    1\n",
       "414.664008    1\n",
       "811.059973    1\n",
       "436.686011    1\n",
       "549.798987    1\n",
       "Name: prec_bin, Length: 640, dtype: int64"
      ]
     },
     "execution_count": 15,
     "metadata": {},
     "output_type": "execute_result"
    }
   ],
   "source": [
    "ms2_peaks[['precursor_mz', 'prec_bin']].drop_duplicates()['prec_bin'].value_counts()"
   ]
  },
  {
   "cell_type": "code",
   "execution_count": 16,
   "metadata": {},
   "outputs": [],
   "source": [
    "import pandas as pd\n"
   ]
  },
  {
   "cell_type": "code",
   "execution_count": null,
   "metadata": {},
   "outputs": [],
   "source": []
  }
 ],
 "metadata": {
  "kernelspec": {
   "display_name": "Python 3.7.5 ('lx128_p3_Dev')",
   "language": "python",
   "name": "python3"
  },
  "language_info": {
   "codemirror_mode": {
    "name": "ipython",
    "version": 3
   },
   "file_extension": ".py",
   "mimetype": "text/x-python",
   "name": "python",
   "nbconvert_exporter": "python",
   "pygments_lexer": "ipython3",
   "version": "3.7.5"
  },
  "orig_nbformat": 4,
  "vscode": {
   "interpreter": {
    "hash": "06b28214ce0e3c48e23cdf5811c1f91197bed88289d9fe34e9aeb8dd4305abb7"
   }
  }
 },
 "nbformat": 4,
 "nbformat_minor": 2
}
