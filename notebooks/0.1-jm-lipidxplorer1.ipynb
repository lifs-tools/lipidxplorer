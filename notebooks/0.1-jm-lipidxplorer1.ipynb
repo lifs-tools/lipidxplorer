{
 "nbformat": 4,
 "nbformat_minor": 2,
 "metadata": {
  "language_info": {
   "name": "python",
   "codemirror_mode": {
    "name": "ipython",
    "version": 3
   },
   "version": "3.7.5-final"
  },
  "orig_nbformat": 2,
  "file_extension": ".py",
  "mimetype": "text/x-python",
  "name": "python",
  "npconvert_exporter": "python",
  "pygments_lexer": "ipython3",
  "version": 3,
  "kernelspec": {
   "name": "python37564bitlx128p3conda4d81a18c83ee4d05a10bc59b4a5bf844",
   "display_name": "Python 3.7.5 64-bit ('lx128_p3': conda)"
  }
 },
 "cells": [
  {
   "cell_type": "markdown",
   "metadata": {},
   "source": [
    "# LX1\n"
   ]
  },
  {
   "cell_type": "code",
   "execution_count": 1,
   "metadata": {},
   "outputs": [],
   "source": [
    "import os\n",
    "import sys\n",
    "import logging\n",
    "from pathlib import Path\n",
    "\n",
    "import numpy as np\n",
    "import scipy as sp\n",
    "\n",
    "%load_ext autoreload\n",
    "%autoreload 2\n",
    "\n",
    "import pandas as pd\n",
    "pd.set_option(\"display.max_rows\", 120)\n",
    "pd.set_option(\"display.max_columns\", 120)\n",
    "\n",
    "logging.basicConfig(level=logging.INFO, stream=sys.stdout)"
   ]
  },
  {
   "cell_type": "code",
   "execution_count": 19,
   "metadata": {},
   "outputs": [],
   "source": [
    "sys.path.append('..')\n",
    "from lx.project import Project\n",
    "from lx.lxMain import startMFQL, startImport"
   ]
  },
  {
   "cell_type": "code",
   "execution_count": 9,
   "metadata": {},
   "outputs": [],
   "source": [
    "project_file = r'..\\test_resources\\small_test\\small_test-project.lxp'"
   ]
  },
  {
   "cell_type": "code",
   "execution_count": 11,
   "metadata": {},
   "outputs": [
    {
     "output_type": "execute_result",
     "data": {
      "text/plain": "{'setting': 1.0, 'selectionWindow': 0.4, 'MStolerance': 2.00 ppm, 'MSMStolerance': 2.00 ppm, 'MSresolution': 5.00 ppm, 'MSMSresolution': 11.11 ppm, 'MSresolutionDelta': -100.0, 'MSMSresolutionDelta': -90.0, 'MSthreshold': 0.0001, 'MSMSthreshold': 0.0001, 'MSminOccupation': 0.5, 'MSMSminOccupation': 0.5, 'precursorMassShift': 0.0, 'precursorMassShiftOrbi': 0.0, 'optionalMStolerance': 5.00 ppm, 'optionalMSMStolerance': 5.00 ppm, 'MSfilter': 0.6, 'MSMSfilter': 0.6, 'loopNr': 3, 'importMSMS': True, 'pisSpectra': False, 'isotopicCorrection_MSMS': False, 'removeIsotopes': True, 'isotopesInMasterScan': False, 'monoisotopicCorrection': False, 'relativeIntensity': False, 'logMemory': False, 'intensityCorrection': False, 'masterScanInSQL': False, 'sumFattyAcids': False, 'isotopicCorrectionMS': True, 'isotopicCorrectionMSMS': True, 'complementMasterScan': False, 'noHead': False, 'compress': False, 'tabLimited': False, 'dumpMasterScan': True, 'statistics': False, 'noPermutations': True, 'settingsPrefix': False, 'timerange': (33.0, 1080.0), 'MScalibration': [680.4802], 'MSmassrange': (360.0, 1000.0), 'MSMSmassrange': (150.0, 1000.0), 'MStoleranceType': 'ppm', 'MSMStoleranceType': 'ppm', 'optionalMStoleranceType': 'ppm', 'optionalMSMStoleranceType': 'ppm', 'alignmentMethodMS': 'linear', 'alignmentMethodMSMS': 'linear', 'scanAveragingMethod': 'linear', 'masterScanFileImport': 'D:\\\\fork\\\\isas_lipidxplorer\\\\test_resources\\\\small_test\\\\small_test.sc', 'masterScanFileRun': 'D:\\\\fork\\\\isas_lipidxplorer\\\\test_resources\\\\small_test\\\\small_test.sc', 'dumpMasterScanFile': 'D:\\\\fork\\\\isas_lipidxplorer\\\\test_resources\\\\small_test\\\\small_test-dump.csv', 'complementMasterScanFile': 'D:\\\\fork\\\\isas_lipidxplorer\\\\test_resources\\\\small_test\\\\small_test-complement.csv', 'importDir': 'D:\\\\fork\\\\isas_lipidxplorer\\\\test_resources\\\\small_test', 'masterScanRun': 'D:\\\\fork\\\\isas_lipidxplorer\\\\test_resources\\\\small_test\\\\small_test.sc', 'masterScanImport': 'D:\\\\fork\\\\isas_lipidxplorer\\\\test_resources\\\\small_test\\\\small_test.sc', 'dataType': 'mzML', 'ini': 'D:\\\\fork\\\\isas_lipidxplorer\\\\test_resources\\\\small_test\\\\lpdxImportSettings_benchmark.ini', 'MSMScalibration': '', 'MSthresholdType': 'absolute', 'MSMSthresholdType': 'absolute', 'intensityCorrectionPrecursor': '', 'intensityCorrectionFragment': '', 'resultFile': 'D:\\\\fork\\\\isas_lipidxplorer\\\\test_resources\\\\small_test\\\\small_test-out.csv', 'optionalMSthreshold': 'None', 'optionalMSMSthreshold': 'None', 'optionalMSthresholdType': 'None', 'optionalMSMSthresholdType': 'None', 'mzXML': 'None', 'spectraFormat': 'mzML'}"
     },
     "metadata": {},
     "execution_count": 11
    }
   ],
   "source": [
    "project = Project()\n",
    "project.load(project_file)\n",
    "project.testOptions()\n",
    "project.formatOptions()\n",
    "options = project.getOptions()"
   ]
  },
  {
   "cell_type": "code",
   "execution_count": 17,
   "metadata": {},
   "outputs": [
    {
     "output_type": "stream",
     "name": "stdout",
     "text": "Importing: D:\\fork\\isas_lipidxplorer\\test_resources\\small_test\\190321_Serum_Lipidextract_368723_01.mzML\nLimiting timerange from 33.000000 to 1080.000000 (sec), 0.550000 to 18.000000 (min)\n> Nb. of MS scans...............         31\n> Nb. of MS peaks...............      71234\n> Nb. of MS/MS scans............       2560\n> Nb. of MS/MS peaks............     302188\n> Nb. of MS peaks (after avg.)..       1767\n> Spray stability:\n>   MaxTIC - MinTIC:............      33.26% of median\n\n190321_Serum_Lipidextract_368723_01.mzML\nImporting: D:\\fork\\isas_lipidxplorer\\test_resources\\small_test\\190321_Serum_Lipidextract_368723_02.mzML\nLimiting timerange from 33.000000 to 1080.000000 (sec), 0.550000 to 18.000000 (min)\n> Nb. of MS scans...............         31\n> Nb. of MS peaks...............      74991\n> Nb. of MS/MS scans............       2560\n> Nb. of MS/MS peaks............     320400\n> Nb. of MS peaks (after avg.)..       1891\n> Spray stability:\n>   MaxTIC - MinTIC:............      27.09% of median\n\n190321_Serum_Lipidextract_368723_02.mzML\n> MS filter settings............       0.60\n> MS/MS filter settings.........       0.60\n> Avg. Nb. of MS scans..........         31\n> Avg. Nb. of MS peaks..........      73112\n> Avg. Nb. of MS/MS scans.......       2560\n> Avg. Nb. of MS/MS peaks.......     311294\n42.95 sec. for reading the spectra\n0.12 sec. for calibrating the spectra\nAligning MS spectra linear\n> Nb. of MS peaks (after alg.)..       1844\n\nAligning MS/MS spectra linear\n\nAssociate MSMSEntry objects to the according SurveyEntry objects (precursor masses)\n44.23 sec. for aligning the spectra\n\nSave output to D:\\fork\\isas_lipidxplorer\\test_resources\\small_test\\small_test.sc.\n89.74 sec. for the whole import process\n\n\n"
    }
   ],
   "source": [
    "startImport(options = options, lipidxplorer = True)"
   ]
  },
  {
   "cell_type": "code",
   "execution_count": 22,
   "metadata": {},
   "outputs": [],
   "source": [
    "dictMFQL = project.mfql"
   ]
  },
  {
   "cell_type": "code",
   "execution_count": 23,
   "metadata": {},
   "outputs": [
    {
     "output_type": "stream",
     "name": "stdout",
     "text": "\n****** Starting MFQL interpretation ******\n\nLoading SC D:\\fork\\isas_lipidxplorer\\test_resources\\small_test\\small_test.sc ...\nIDENTIFY the masses of interest ... 1013.41 sec.\ngenerating combinatorics ...1013.42 sec.\ngenerating combinatorics ... 1013.43 sec.\nIDENTIFY the masses of interest ...1026.77 sec.\ngenerating combinatorics ... 1026.79 sec.\ngenerating combinatorics ... 1026.80 sec.\ntype II isotopic correction in MS ... 1026.91 sec.\ngenerating result MasterScan ...1027.01 sec.\ntype II isotopic correction in MS/MS ... 1027.09 sec.\ntype I isotopic correction in MS and MS/MS ... 1027.10 sec.\ngenerate query result MasterScans ... 1027.10 sec.\nchecking if there are isobaric species ... 1027.10 sec.\ntesting constraints of SUCHTHAT ... 1027.14 sec. for 38 comparisons\nchecking if there are still isobaric species ... 1027.14 sec.\ngenerate report ... 1027.17 sec.\nDumping Master Scan content\ncontaining:\n1844 MS entries and\n163553 MS/MS entries.\nWriting HTML report from lipidIdentification.py\nSaving report to file D:\\fork\\isas_lipidxplorer\\test_resources\\small_test\\small_test-report.html\n\nOverall time needed for identification: 0:26\n"
    }
   ],
   "source": [
    "startMFQL(options = options, queries = dictMFQL)"
   ]
  },
  {
   "cell_type": "code",
   "execution_count": null,
   "metadata": {},
   "outputs": [],
   "source": []
  }
 ]
}