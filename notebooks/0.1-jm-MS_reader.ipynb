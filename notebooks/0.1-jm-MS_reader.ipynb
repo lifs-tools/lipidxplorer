{
 "nbformat": 4,
 "nbformat_minor": 2,
 "metadata": {
  "language_info": {
   "name": "python",
   "codemirror_mode": {
    "name": "ipython",
    "version": 3
   },
   "version": "3.7.3-final"
  },
  "orig_nbformat": 2,
  "file_extension": ".py",
  "mimetype": "text/x-python",
  "name": "python",
  "npconvert_exporter": "python",
  "pygments_lexer": "ipython3",
  "version": 3,
  "kernelspec": {
   "name": "python37564bitlx128p3conda4d81a18c83ee4d05a10bc59b4a5bf844",
   "display_name": "Python 3.7.5 64-bit ('lx128_p3': conda)"
  }
 },
 "cells": [
  {
   "cell_type": "code",
   "execution_count": 2,
   "metadata": {},
   "outputs": [],
   "source": [
    "'''\n",
    "tool to handle the spectra\n",
    "'''\n",
    "import pandas as pd\n",
    "import numpy as np\n",
    "from collections import namedtuple\n",
    "import logging, os\n",
    "# log = logging.getLogger(os.path.basename(__file__))\n",
    "from pyteomics import mzml, mzxml, auxiliary\n",
    ""
   ]
  },
  {
   "cell_type": "code",
   "execution_count": null,
   "metadata": {},
   "outputs": [],
   "source": [
    "def mzML2DataFrames(filename): #this is with pytheomics\n",
    "    scans = []\n",
    "    peaks_dfs = []\n",
    "    \n",
    "    with mzxml.read(filename) as reader:\n",
    "        for item in reader:\n",
    "            id  = item['id']\n",
    "            idx = item['index']\n",
    "            fs  = item['scanList']['scan'][0]['filter string']\n",
    "            if item['scanList']['count'] != 1 : raise NotImplementedError('we dont read more than one scan per entry .... yet ')\n",
    "            time = item['scanList']['scan'][0]['scan start time'] # * 1 the dataframe makes a unitfloat into a float\n",
    "            msLevel = item['ms level']\n",
    "            positive_scan = True if 'positive scan' in item else False\n",
    "            if not positive_scan: item['negative scan'] # raise exceltion if not positive or negative\n",
    "            p_data = item.get('precursorList',None) #helper\n",
    "            if p_data and p_data['count'] != 1 : raise NotImplementedError('we dont read more than one scan per entry .... yet ')\n",
    "            precursor_id = p_data['precursor'][0]['spectrumRef'] if p_data else None#check if more than one\n",
    "            target_mz = p_data['precursor'][0]['isolationWindow']['isolation window target m/z'] if p_data else None\n",
    "            max_i = item['base peak intensity']\n",
    "            tic = item['total ion current']\n",
    "            \n",
    "            #collect the scans data\n",
    "            row = (id,idx,fs,time,msLevel,positive_scan,precursor_id,max_i, tic, target_mz)\n",
    "            scans.append(row)\n",
    "            \n",
    "            #collect the peaks data\n",
    "            i   = item['intensity array']\n",
    "            m   = item['m/z array']\n",
    "            cols = {'m':m, 'i':i}\n",
    "            df = pd.DataFrame(cols)\n",
    "            df['id']=id\n",
    "            df.set_index('id', inplace = True)\n",
    "            peaks_dfs.append(df)\n",
    "            \n",
    "            #for testing\n",
    "            if len(scans) >100: #TODO remove this\n",
    "                print(' remove this ')\n",
    "                break\n",
    "        \n",
    "        scansDF = pd.DataFrame(scans, columns=['id','idx','filter_string','time','msLevel','positive_scan','precursor_id', 'max_i', 'tic','target_mz'])\n",
    "        scansDF.set_index('id', inplace = True)\n",
    "        peaksDF = pd.concat(peaks_dfs)\n",
    "\n",
    "    return scansDF, peaksDF"
   ]
  },
  {
   "cell_type": "code",
   "execution_count": 23,
   "metadata": {},
   "outputs": [],
   "source": [
    "import pandas as pd\n",
    "from pyteomics import mzml, mzxml, auxiliary\n",
    "\n",
    "def mzXML2DataFrames(filename): #this is with pytheomics\n",
    "    scans = []\n",
    "    peaks_dfs = []\n",
    "    \n",
    "    with mzxml.read(filename) as reader:\n",
    "        for item in reader:\n",
    "            id  = item['id']\n",
    "            idx = item['num']\n",
    "            fs  = item['filterLine']\n",
    "            time = item['retentionTime'] # * 1 the dataframe makes a unitfloat into a float\n",
    "            msLevel = item['msLevel']\n",
    "            positive_scan = True if 'polarity' is '+' else False\n",
    "            p_data = item.get('precursorList',None) #helper\n",
    "            if p_data and p_data['count'] != 1 : raise NotImplementedError('we dont read more than one scan per entry .... yet ')\n",
    "            precursor_id = p_data['precursor'][0]['spectrumRef'] if p_data else None#check if more than one\n",
    "            target_mz = p_data['precursor'][0]['isolationWindow']['isolation window target m/z'] if p_data else None\n",
    "            max_i = item['basePeakIntensity']\n",
    "            tic = item['totIonCurrent']\n",
    "            \n",
    "            #collect the scans data\n",
    "            row = (id,idx,fs,time,msLevel,positive_scan,precursor_id,max_i, tic, target_mz)\n",
    "            scans.append(row)\n",
    "            \n",
    "            #collect the peaks data\n",
    "            i   = item['intensity array']\n",
    "            m   = item['m/z array']\n",
    "            cols = {'m':m, 'i':i}\n",
    "            df = pd.DataFrame(cols)\n",
    "            df['id']=id\n",
    "            df.set_index('id', inplace = True)\n",
    "            peaks_dfs.append(df)\n",
    "            \n",
    "       \n",
    "        scansDF = pd.DataFrame(scans, columns=['id','idx','filter_string','time','msLevel','positive_scan','precursor_id', 'max_i', 'tic','target_mz'])\n",
    "        scansDF.set_index('id', inplace = True)\n",
    "        peaksDF = pd.concat(peaks_dfs)\n",
    "\n",
    "    return scansDF, peaksDF\n"
   ]
  },
  {
   "cell_type": "code",
   "execution_count": 24,
   "metadata": {},
   "outputs": [],
   "source": [
    "filename = r'..\\test_resources\\20200212_Pancreas_plasma_2060_1.mzXML'"
   ]
  },
  {
   "cell_type": "code",
   "execution_count": 25,
   "metadata": {},
   "outputs": [],
   "source": [
    "r = mzxml.read(filename)"
   ]
  },
  {
   "cell_type": "code",
   "execution_count": 26,
   "metadata": {},
   "outputs": [
    {
     "output_type": "execute_result",
     "data": {
      "text/plain": "{'basePeakIntensity': 99999.0,\n 'basePeakMz': 800.0,\n 'filterLine': 'FTMS + p NSI Full ms [400.0000-1000.0000]',\n 'highMz': 1200.0,\n 'lowMz': 400.0,\n 'msLevel': 1,\n 'num': '1',\n 'peaksCount': 1067,\n 'polarity': '+',\n 'retentionTime': 0.0 minute,\n 'scanType': 'Full',\n 'totIonCurrent': 12345600.0,\n 'id': '1',\n 'm/z array': array([400.2541 , 400.306  , 401.30936, ..., 982.2778 , 983.2776 ,\n        986.92737], dtype=float32),\n 'intensity array': array([ 39402.08 , 176676.34 ,  59605.367, ..., 121053.   ,  80465.28 ,\n         82392.62 ], dtype=float32)}"
     },
     "metadata": {},
     "execution_count": 26
    }
   ],
   "source": [
    "item = next(r)\n",
    "item"
   ]
  },
  {
   "cell_type": "code",
   "execution_count": 27,
   "metadata": {},
   "outputs": [
    {
     "output_type": "stream",
     "name": "stdout",
     "text": "remove this \n"
    }
   ],
   "source": [
    "scansDF, peaksDF = mzXML2DataFrames(filename)"
   ]
  },
  {
   "cell_type": "markdown",
   "metadata": {},
   "source": [
    "# done reading"
   ]
  },
  {
   "cell_type": "code",
   "execution_count": 17,
   "metadata": {},
   "outputs": [],
   "source": [
    "class SpectraUtil:\n",
    "    'Util to handle spectra'\n",
    "    \n",
    "    def __init__(self, scansDF, peaksDF, filename = None):\n",
    "        self._original_scansDF = scansDF\n",
    "        self._original__peaksDF = peaksDF\n",
    "        self.scansDF = self._original_scansDF\n",
    "        self.peaksDF = self._original__peaksDF\n",
    "        self._filename = filename\n",
    "\n",
    "    def fromFile(filename):\n",
    "        return SpectraUtil(*mzML2DataFrames(filename), filename)\n",
    "    \n",
    "    #note to help debug maybe use\n",
    "    # @property\n",
    "    # def scansDF(self):\n",
    "    #     return self.scansDF\n",
    "    \n",
    "\n",
    "    def reset(self):\n",
    "        print(f'reseting to original')\n",
    "        self.scansDF = self._original_scansDF\n",
    "        self.peaksDF = self._original__peaksDF\n",
    "\n",
    "    def get_reset_copy(self):\n",
    "        print(f'a copy of the original with nothing set... sorry no undo')\n",
    "        return SpectraUtil(self._original_scansDF, self._original__peaksDF, self._filename)\n",
    "    \n",
    "    def get_current_copy(self):\n",
    "        print(f'a copy of the current set... just in case')\n",
    "        return SpectraUtil(self.self.scansDF, self.self.peaksDF, self._filename)\n",
    "\n",
    "    def set_timerange(self,t0,t1):\n",
    "        print(f'time range in seconds: {t0} to {t1}')\n",
    "        self.scansDF = self.scansDF.loc[self.scansDF.time.multiply(60).between(t0,t1)]\n",
    "    def set_mode(self,positive_mode=True):\n",
    "        print(f'set mode to positive : {positive_mode}, (false means negative) ')\n",
    "        self.scansDF = self.scansDF.loc[self.scansDF.positive_scan == positive_mode]\n",
    "    def set_ms_level(self,level=1):\n",
    "        print(f'set ms level to  : {level}')\n",
    "        self.scansDF = self.scansDF.loc[self.scansDF.msLevel == level]\n",
    "\n",
    "    def set_mass_range(self,m0,m1):\n",
    "        print(f'time mass range from: {m0} to {m1}')\n",
    "        self.peaksDF = self.peaksDF.loc[self.peaksDF.m.between(m0,m1)]\n",
    "    \n",
    "    def make_rel_i(self):\n",
    "        print(f'calculate the relative intensities as: rel_i')\n",
    "        #left_ and right_ index to keep the index\n",
    "        spectraDF = self.peaksDF.merge(self.scansDF.max_i, left_index=True, right_index=True) \n",
    "        self.peaksDF['rel_i'] = spectraDF.i / spectraDF.max_i\n",
    "    \n",
    "    def set_min_i(self, min_i = 0):\n",
    "        print(f'set the minimum intensity to {min_i}')\n",
    "        self.peaksDF = self.peaksDF.loc[self.peaksDF.i > min_i]\n",
    "    \n",
    "    def round_m(self, decimals=4):\n",
    "        print(f'set the precision of m/z to {decimals} decimal places')\n",
    "        self.peaksDF['m'] = self.peaksDF.m.round(decimals)\n",
    "    \n",
    "    def get_fragment_scans(self, scan_index):\n",
    "        print(f'scans triggered by the {scan_index}')\n",
    "        return self._original_scansDF.loc[self._original_scansDF.precursor_id == scan_index]\n",
    "    \n",
    "    def get_fragment_peaks(self, scan_index):\n",
    "        print(f'Peaks triggered by the {scan_index} ')\n",
    "        # for scantuple in spectraUtil.scansDF.itertuples():\n",
    "        #   dosomething(spectraUtil.get_fragment_peaks(scantuple.Index))\n",
    "        return self._original__peaksDF.loc[self._original__peaksDF.index.isin(self.get_fragment_scans(scan_index).index)]\n",
    "    \n",
    "    def get_nearest(self, targetsDF, peaksDF = None, on = 'm', tol=0.01):\n",
    "        print(f'find the nearest Peaks to the target_peaks with a tolerance of {tol}')\n",
    "        if peaksDF == None:\n",
    "            peaksDF = self.peaksDF\n",
    "        \n",
    "        s_peaksDF = peaksDF.reset_index().sort_values(on)\n",
    "        s_targetDF = targetsDF.reset_index().sort_values(on)\n",
    "        \n",
    "        tmp_type = peaksDF[on].dtype\n",
    "        s_targetDF[on] = s_targetDF[on].astype(tmp_type)\n",
    "\n",
    "        return pd.merge_asof(s_peaksDF, s_targetDF, left_on=on, right_on=on ,tolerance=tol ,direction='nearest').dropna()\n",
    "\n",
    "    "
   ]
  },
  {
   "cell_type": "code",
   "execution_count": 11,
   "metadata": {},
   "outputs": [
    {
     "name": "stdout",
     "output_type": "stream",
     "text": "remove this \n"
    }
   ],
   "source": [
    "filename = 'test_resources\\\\small_test\\\\190321_Serum_Lipidextract_368723_01.mzML'\n",
    "spectraUtil     = SpectraUtil.fromFile(filename)"
   ]
  },
  {
   "cell_type": "markdown",
   "execution_count": null,
   "metadata": {},
   "outputs": [],
   "source": [
    "## find the masses in the ms 1 and ms2\n",
    "## make an annotation"
   ]
  },
  {
   "cell_type": "code",
   "execution_count": 12,
   "metadata": {},
   "outputs": [],
   "source": [
    "ids = [1,2,3]\n",
    "ms1targets = [1.0,2.0,350.8769]\n",
    "ms2targets = [1,2,181.0859]\n",
    "\n",
    "ms1_TragetsDF = pd.DataFrame({'m':ms1targets, 'ids':ids})\n",
    "ms1_TragetsDF.set_index('ids', inplace = True)\n",
    "ms2_TragetsDF = pd.DataFrame({'m':ms2targets, 'ids':ids})\n",
    "ms2_TragetsDF.set_index('ids', inplace = True)\n"
   ]
  },
  {
   "cell_type": "code",
   "execution_count": 16,
   "metadata": {},
   "outputs": [
    {
     "name": "stdout",
     "output_type": "stream",
     "text": "a copy of the original with nothing set... sorry no undo\n"
    }
   ],
   "source": [
    "ms1 = spectraUtil.get_reset_copy()"
   ]
  },
  {
   "cell_type": "code",
   "execution_count": 17,
   "metadata": {},
   "outputs": [
    {
     "name": "stdout",
     "output_type": "stream",
     "text": "a copy of the original with nothing set... sorry no undo\n"
    }
   ],
   "source": [
    "ms2 = spectraUtil.get_reset_copy()\n"
   ]
  },
  {
   "cell_type": "code",
   "execution_count": 18,
   "metadata": {},
   "outputs": [
    {
     "name": "stdout",
     "output_type": "stream",
     "text": "set ms level to  : 1\nset ms level to  : 2\n"
    }
   ],
   "source": [
    "ms1.set_ms_level(1)\n",
    "ms2.set_ms_level(2)"
   ]
  },
  {
   "cell_type": "code",
   "execution_count": 24,
   "metadata": {},
   "outputs": [
    {
     "name": "stdout",
     "output_type": "stream",
     "text": "find the nearest Peaks to the target_peaks with a tolerance of 0.01\n"
    },
    {
     "data": {
      "text/html": "<div>\n<style scoped>\n    .dataframe tbody tr th:only-of-type {\n        vertical-align: middle;\n    }\n\n    .dataframe tbody tr th {\n        vertical-align: top;\n    }\n\n    .dataframe thead th {\n        text-align: right;\n    }\n</style>\n<table border=\"1\" class=\"dataframe\">\n  <thead>\n    <tr style=\"text-align: right;\">\n      <th></th>\n      <th>id</th>\n      <th>m</th>\n      <th>i</th>\n      <th>ids</th>\n    </tr>\n  </thead>\n  <tbody>\n    <tr>\n      <th>5224</th>\n      <td>controllerType=0 controllerNumber=1 scan=32</td>\n      <td>350.875641</td>\n      <td>466.888855</td>\n      <td>3.0</td>\n    </tr>\n    <tr>\n      <th>5225</th>\n      <td>controllerType=0 controllerNumber=1 scan=70</td>\n      <td>350.875763</td>\n      <td>1648.061646</td>\n      <td>3.0</td>\n    </tr>\n    <tr>\n      <th>5226</th>\n      <td>controllerType=0 controllerNumber=1 scan=87</td>\n      <td>350.875946</td>\n      <td>1610.906128</td>\n      <td>3.0</td>\n    </tr>\n    <tr>\n      <th>5227</th>\n      <td>controllerType=0 controllerNumber=1 scan=92</td>\n      <td>350.876099</td>\n      <td>2729.106445</td>\n      <td>3.0</td>\n    </tr>\n    <tr>\n      <th>5228</th>\n      <td>controllerType=0 controllerNumber=1 scan=68</td>\n      <td>350.876251</td>\n      <td>7082.343262</td>\n      <td>3.0</td>\n    </tr>\n    <tr>\n      <th>5229</th>\n      <td>controllerType=0 controllerNumber=1 scan=67</td>\n      <td>350.876373</td>\n      <td>737.815308</td>\n      <td>3.0</td>\n    </tr>\n    <tr>\n      <th>5230</th>\n      <td>controllerType=0 controllerNumber=1 scan=85</td>\n      <td>350.876495</td>\n      <td>4153.852051</td>\n      <td>3.0</td>\n    </tr>\n    <tr>\n      <th>5231</th>\n      <td>controllerType=0 controllerNumber=1 scan=90</td>\n      <td>350.876526</td>\n      <td>4805.452637</td>\n      <td>3.0</td>\n    </tr>\n    <tr>\n      <th>5232</th>\n      <td>controllerType=0 controllerNumber=1 scan=86</td>\n      <td>350.876556</td>\n      <td>4098.255859</td>\n      <td>3.0</td>\n    </tr>\n    <tr>\n      <th>5233</th>\n      <td>controllerType=0 controllerNumber=1 scan=29</td>\n      <td>350.876801</td>\n      <td>212869.703125</td>\n      <td>3.0</td>\n    </tr>\n    <tr>\n      <th>5234</th>\n      <td>controllerType=0 controllerNumber=1 scan=13</td>\n      <td>350.876831</td>\n      <td>199010.250000</td>\n      <td>3.0</td>\n    </tr>\n    <tr>\n      <th>5235</th>\n      <td>controllerType=0 controllerNumber=1 scan=10</td>\n      <td>350.876862</td>\n      <td>512589.968750</td>\n      <td>3.0</td>\n    </tr>\n    <tr>\n      <th>5236</th>\n      <td>controllerType=0 controllerNumber=1 scan=22</td>\n      <td>350.876892</td>\n      <td>261413.078125</td>\n      <td>3.0</td>\n    </tr>\n    <tr>\n      <th>5237</th>\n      <td>controllerType=0 controllerNumber=1 scan=28</td>\n      <td>350.876892</td>\n      <td>444899.187500</td>\n      <td>3.0</td>\n    </tr>\n    <tr>\n      <th>5238</th>\n      <td>controllerType=0 controllerNumber=1 scan=20</td>\n      <td>350.876923</td>\n      <td>517687.875000</td>\n      <td>3.0</td>\n    </tr>\n    <tr>\n      <th>5239</th>\n      <td>controllerType=0 controllerNumber=1 scan=19</td>\n      <td>350.876923</td>\n      <td>692979.375000</td>\n      <td>3.0</td>\n    </tr>\n    <tr>\n      <th>5240</th>\n      <td>controllerType=0 controllerNumber=1 scan=27</td>\n      <td>350.876953</td>\n      <td>337763.375000</td>\n      <td>3.0</td>\n    </tr>\n    <tr>\n      <th>5241</th>\n      <td>controllerType=0 controllerNumber=1 scan=26</td>\n      <td>350.876953</td>\n      <td>444160.281250</td>\n      <td>3.0</td>\n    </tr>\n    <tr>\n      <th>5242</th>\n      <td>controllerType=0 controllerNumber=1 scan=14</td>\n      <td>350.876953</td>\n      <td>186825.375000</td>\n      <td>3.0</td>\n    </tr>\n    <tr>\n      <th>5243</th>\n      <td>controllerType=0 controllerNumber=1 scan=30</td>\n      <td>350.876953</td>\n      <td>379123.968750</td>\n      <td>3.0</td>\n    </tr>\n    <tr>\n      <th>5244</th>\n      <td>controllerType=0 controllerNumber=1 scan=9</td>\n      <td>350.876984</td>\n      <td>410099.406250</td>\n      <td>3.0</td>\n    </tr>\n    <tr>\n      <th>5245</th>\n      <td>controllerType=0 controllerNumber=1 scan=21</td>\n      <td>350.876984</td>\n      <td>531558.687500</td>\n      <td>3.0</td>\n    </tr>\n    <tr>\n      <th>5246</th>\n      <td>controllerType=0 controllerNumber=1 scan=23</td>\n      <td>350.877014</td>\n      <td>508896.937500</td>\n      <td>3.0</td>\n    </tr>\n    <tr>\n      <th>5247</th>\n      <td>controllerType=0 controllerNumber=1 scan=24</td>\n      <td>350.877014</td>\n      <td>484739.562500</td>\n      <td>3.0</td>\n    </tr>\n    <tr>\n      <th>5248</th>\n      <td>controllerType=0 controllerNumber=1 scan=18</td>\n      <td>350.877106</td>\n      <td>567552.000000</td>\n      <td>3.0</td>\n    </tr>\n    <tr>\n      <th>5249</th>\n      <td>controllerType=0 controllerNumber=1 scan=17</td>\n      <td>350.877136</td>\n      <td>566137.937500</td>\n      <td>3.0</td>\n    </tr>\n    <tr>\n      <th>5250</th>\n      <td>controllerType=0 controllerNumber=1 scan=12</td>\n      <td>350.877167</td>\n      <td>146722.718750</td>\n      <td>3.0</td>\n    </tr>\n    <tr>\n      <th>5251</th>\n      <td>controllerType=0 controllerNumber=1 scan=15</td>\n      <td>350.877167</td>\n      <td>438025.031250</td>\n      <td>3.0</td>\n    </tr>\n    <tr>\n      <th>5252</th>\n      <td>controllerType=0 controllerNumber=1 scan=25</td>\n      <td>350.877228</td>\n      <td>155395.031250</td>\n      <td>3.0</td>\n    </tr>\n    <tr>\n      <th>5253</th>\n      <td>controllerType=0 controllerNumber=1 scan=88</td>\n      <td>350.877350</td>\n      <td>624.085083</td>\n      <td>3.0</td>\n    </tr>\n    <tr>\n      <th>5254</th>\n      <td>controllerType=0 controllerNumber=1 scan=8</td>\n      <td>350.878510</td>\n      <td>114349.125000</td>\n      <td>3.0</td>\n    </tr>\n  </tbody>\n</table>\n</div>",
      "text/plain": "                                               id           m              i  \\\n5224  controllerType=0 controllerNumber=1 scan=32  350.875641     466.888855   \n5225  controllerType=0 controllerNumber=1 scan=70  350.875763    1648.061646   \n5226  controllerType=0 controllerNumber=1 scan=87  350.875946    1610.906128   \n5227  controllerType=0 controllerNumber=1 scan=92  350.876099    2729.106445   \n5228  controllerType=0 controllerNumber=1 scan=68  350.876251    7082.343262   \n5229  controllerType=0 controllerNumber=1 scan=67  350.876373     737.815308   \n5230  controllerType=0 controllerNumber=1 scan=85  350.876495    4153.852051   \n5231  controllerType=0 controllerNumber=1 scan=90  350.876526    4805.452637   \n5232  controllerType=0 controllerNumber=1 scan=86  350.876556    4098.255859   \n5233  controllerType=0 controllerNumber=1 scan=29  350.876801  212869.703125   \n5234  controllerType=0 controllerNumber=1 scan=13  350.876831  199010.250000   \n5235  controllerType=0 controllerNumber=1 scan=10  350.876862  512589.968750   \n5236  controllerType=0 controllerNumber=1 scan=22  350.876892  261413.078125   \n5237  controllerType=0 controllerNumber=1 scan=28  350.876892  444899.187500   \n5238  controllerType=0 controllerNumber=1 scan=20  350.876923  517687.875000   \n5239  controllerType=0 controllerNumber=1 scan=19  350.876923  692979.375000   \n5240  controllerType=0 controllerNumber=1 scan=27  350.876953  337763.375000   \n5241  controllerType=0 controllerNumber=1 scan=26  350.876953  444160.281250   \n5242  controllerType=0 controllerNumber=1 scan=14  350.876953  186825.375000   \n5243  controllerType=0 controllerNumber=1 scan=30  350.876953  379123.968750   \n5244   controllerType=0 controllerNumber=1 scan=9  350.876984  410099.406250   \n5245  controllerType=0 controllerNumber=1 scan=21  350.876984  531558.687500   \n5246  controllerType=0 controllerNumber=1 scan=23  350.877014  508896.937500   \n5247  controllerType=0 controllerNumber=1 scan=24  350.877014  484739.562500   \n5248  controllerType=0 controllerNumber=1 scan=18  350.877106  567552.000000   \n5249  controllerType=0 controllerNumber=1 scan=17  350.877136  566137.937500   \n5250  controllerType=0 controllerNumber=1 scan=12  350.877167  146722.718750   \n5251  controllerType=0 controllerNumber=1 scan=15  350.877167  438025.031250   \n5252  controllerType=0 controllerNumber=1 scan=25  350.877228  155395.031250   \n5253  controllerType=0 controllerNumber=1 scan=88  350.877350     624.085083   \n5254   controllerType=0 controllerNumber=1 scan=8  350.878510  114349.125000   \n\n      ids  \n5224  3.0  \n5225  3.0  \n5226  3.0  \n5227  3.0  \n5228  3.0  \n5229  3.0  \n5230  3.0  \n5231  3.0  \n5232  3.0  \n5233  3.0  \n5234  3.0  \n5235  3.0  \n5236  3.0  \n5237  3.0  \n5238  3.0  \n5239  3.0  \n5240  3.0  \n5241  3.0  \n5242  3.0  \n5243  3.0  \n5244  3.0  \n5245  3.0  \n5246  3.0  \n5247  3.0  \n5248  3.0  \n5249  3.0  \n5250  3.0  \n5251  3.0  \n5252  3.0  \n5253  3.0  \n5254  3.0  "
     },
     "execution_count": 24,
     "metadata": {},
     "output_type": "execute_result"
    }
   ],
   "source": [
    "ms1.get_nearest(ms1_TragetsDF)"
   ]
  },
  {
   "cell_type": "code",
   "execution_count": 25,
   "metadata": {},
   "outputs": [
    {
     "name": "stdout",
     "output_type": "stream",
     "text": "find the nearest Peaks to the target_peaks with a tolerance of 0.01\n"
    },
    {
     "data": {
      "text/html": "<div>\n<style scoped>\n    .dataframe tbody tr th:only-of-type {\n        vertical-align: middle;\n    }\n\n    .dataframe tbody tr th {\n        vertical-align: top;\n    }\n\n    .dataframe thead th {\n        text-align: right;\n    }\n</style>\n<table border=\"1\" class=\"dataframe\">\n  <thead>\n    <tr style=\"text-align: right;\">\n      <th></th>\n      <th>id</th>\n      <th>m</th>\n      <th>i</th>\n      <th>ids</th>\n    </tr>\n  </thead>\n  <tbody>\n    <tr>\n      <th>49</th>\n      <td>controllerType=0 controllerNumber=1 scan=34</td>\n      <td>181.083420</td>\n      <td>537.363464</td>\n      <td>3.0</td>\n    </tr>\n    <tr>\n      <th>50</th>\n      <td>controllerType=0 controllerNumber=1 scan=92</td>\n      <td>181.085861</td>\n      <td>559.036560</td>\n      <td>3.0</td>\n    </tr>\n    <tr>\n      <th>51</th>\n      <td>controllerType=0 controllerNumber=1 scan=65</td>\n      <td>181.085907</td>\n      <td>930.850159</td>\n      <td>3.0</td>\n    </tr>\n    <tr>\n      <th>52</th>\n      <td>controllerType=0 controllerNumber=1 scan=31</td>\n      <td>181.085953</td>\n      <td>500.753937</td>\n      <td>3.0</td>\n    </tr>\n    <tr>\n      <th>53</th>\n      <td>controllerType=0 controllerNumber=1 scan=67</td>\n      <td>181.085983</td>\n      <td>618.273743</td>\n      <td>3.0</td>\n    </tr>\n    <tr>\n      <th>54</th>\n      <td>controllerType=0 controllerNumber=1 scan=48</td>\n      <td>181.085983</td>\n      <td>1830.678467</td>\n      <td>3.0</td>\n    </tr>\n    <tr>\n      <th>55</th>\n      <td>controllerType=0 controllerNumber=1 scan=47</td>\n      <td>181.086044</td>\n      <td>29934.271484</td>\n      <td>3.0</td>\n    </tr>\n    <tr>\n      <th>56</th>\n      <td>controllerType=0 controllerNumber=1 scan=75</td>\n      <td>181.086136</td>\n      <td>654.366577</td>\n      <td>3.0</td>\n    </tr>\n  </tbody>\n</table>\n</div>",
      "text/plain": "                                             id           m             i  ids\n49  controllerType=0 controllerNumber=1 scan=34  181.083420    537.363464  3.0\n50  controllerType=0 controllerNumber=1 scan=92  181.085861    559.036560  3.0\n51  controllerType=0 controllerNumber=1 scan=65  181.085907    930.850159  3.0\n52  controllerType=0 controllerNumber=1 scan=31  181.085953    500.753937  3.0\n53  controllerType=0 controllerNumber=1 scan=67  181.085983    618.273743  3.0\n54  controllerType=0 controllerNumber=1 scan=48  181.085983   1830.678467  3.0\n55  controllerType=0 controllerNumber=1 scan=47  181.086044  29934.271484  3.0\n56  controllerType=0 controllerNumber=1 scan=75  181.086136    654.366577  3.0"
     },
     "execution_count": 25,
     "metadata": {},
     "output_type": "execute_result"
    }
   ],
   "source": [
    "ms2.get_nearest(ms2_TragetsDF)"
   ]
  },
  {
   "cell_type": "code",
   "execution_count": null,
   "metadata": {},
   "outputs": [],
   "source": []
  }
 ]
}