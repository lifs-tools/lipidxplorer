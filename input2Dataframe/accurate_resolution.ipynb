{
 "cells": [
  {
   "cell_type": "code",
   "execution_count": 2,
   "metadata": {},
   "outputs": [],
   "source": [
    "from ms_deisotope import MSFileLoader\n",
    "from pathlib import Path\n",
    "import numpy as np\n",
    "from ms_deisopteDF import path2df\n"
   ]
  },
  {
   "cell_type": "code",
   "execution_count": 3,
   "metadata": {},
   "outputs": [],
   "source": [
    "path = Path(r'D:\\fork\\isas_lipidxplorer\\test_resources\\small_test\\190321_Serum_Lipidextract_368723_02.mzML')"
   ]
  },
  {
   "cell_type": "code",
   "execution_count": 5,
   "metadata": {},
   "outputs": [
    {
     "ename": "TypeError",
     "evalue": "data type not understood",
     "output_type": "error",
     "traceback": [
      "\u001b[1;31m---------------------------------------------------------------------------\u001b[0m",
      "\u001b[1;31mValueError\u001b[0m                                Traceback (most recent call last)",
      "\u001b[1;32m~\\Anaconda3\\envs\\lx128_p3_dev\\lib\\site-packages\\pandas\\core\\dtypes\\common.py\u001b[0m in \u001b[0;36mpandas_dtype\u001b[1;34m(dtype)\u001b[0m\n\u001b[0;32m   2049\u001b[0m     \u001b[1;32mtry\u001b[0m\u001b[1;33m:\u001b[0m\u001b[1;33m\u001b[0m\u001b[1;33m\u001b[0m\u001b[0m\n\u001b[1;32m-> 2050\u001b[1;33m         \u001b[0mnpdtype\u001b[0m \u001b[1;33m=\u001b[0m \u001b[0mnp\u001b[0m\u001b[1;33m.\u001b[0m\u001b[0mdtype\u001b[0m\u001b[1;33m(\u001b[0m\u001b[0mdtype\u001b[0m\u001b[1;33m)\u001b[0m\u001b[1;33m\u001b[0m\u001b[1;33m\u001b[0m\u001b[0m\n\u001b[0m\u001b[0;32m   2051\u001b[0m     \u001b[1;32mexcept\u001b[0m \u001b[0mException\u001b[0m\u001b[1;33m:\u001b[0m\u001b[1;33m\u001b[0m\u001b[1;33m\u001b[0m\u001b[0m\n",
      "\u001b[1;32m~\\Anaconda3\\envs\\lx128_p3_dev\\lib\\site-packages\\numpy\\core\\_internal.py\u001b[0m in \u001b[0;36m_usefields\u001b[1;34m(adict, align)\u001b[0m\n\u001b[0;32m     63\u001b[0m     \u001b[1;32mif\u001b[0m \u001b[0mnames\u001b[0m \u001b[1;32mis\u001b[0m \u001b[1;32mNone\u001b[0m\u001b[1;33m:\u001b[0m\u001b[1;33m\u001b[0m\u001b[1;33m\u001b[0m\u001b[0m\n\u001b[1;32m---> 64\u001b[1;33m         \u001b[0mnames\u001b[0m\u001b[1;33m,\u001b[0m \u001b[0mformats\u001b[0m\u001b[1;33m,\u001b[0m \u001b[0moffsets\u001b[0m\u001b[1;33m,\u001b[0m \u001b[0mtitles\u001b[0m \u001b[1;33m=\u001b[0m \u001b[0m_makenames_list\u001b[0m\u001b[1;33m(\u001b[0m\u001b[0madict\u001b[0m\u001b[1;33m,\u001b[0m \u001b[0malign\u001b[0m\u001b[1;33m)\u001b[0m\u001b[1;33m\u001b[0m\u001b[1;33m\u001b[0m\u001b[0m\n\u001b[0m\u001b[0;32m     65\u001b[0m     \u001b[1;32melse\u001b[0m\u001b[1;33m:\u001b[0m\u001b[1;33m\u001b[0m\u001b[1;33m\u001b[0m\u001b[0m\n",
      "\u001b[1;32m~\\Anaconda3\\envs\\lx128_p3_dev\\lib\\site-packages\\numpy\\core\\_internal.py\u001b[0m in \u001b[0;36m_makenames_list\u001b[1;34m(adict, align)\u001b[0m\n\u001b[0;32m     33\u001b[0m         \u001b[1;32mif\u001b[0m \u001b[1;32mnot\u001b[0m \u001b[0misinstance\u001b[0m\u001b[1;33m(\u001b[0m\u001b[0mobj\u001b[0m\u001b[1;33m,\u001b[0m \u001b[0mtuple\u001b[0m\u001b[1;33m)\u001b[0m \u001b[1;32mor\u001b[0m \u001b[0mn\u001b[0m \u001b[1;32mnot\u001b[0m \u001b[1;32min\u001b[0m \u001b[1;33m[\u001b[0m\u001b[1;36m2\u001b[0m\u001b[1;33m,\u001b[0m \u001b[1;36m3\u001b[0m\u001b[1;33m]\u001b[0m\u001b[1;33m:\u001b[0m\u001b[1;33m\u001b[0m\u001b[1;33m\u001b[0m\u001b[0m\n\u001b[1;32m---> 34\u001b[1;33m             \u001b[1;32mraise\u001b[0m \u001b[0mValueError\u001b[0m\u001b[1;33m(\u001b[0m\u001b[1;34m\"entry not a 2- or 3- tuple\"\u001b[0m\u001b[1;33m)\u001b[0m\u001b[1;33m\u001b[0m\u001b[1;33m\u001b[0m\u001b[0m\n\u001b[0m\u001b[0;32m     35\u001b[0m         \u001b[1;32mif\u001b[0m \u001b[1;33m(\u001b[0m\u001b[0mn\u001b[0m \u001b[1;33m>\u001b[0m \u001b[1;36m2\u001b[0m\u001b[1;33m)\u001b[0m \u001b[1;32mand\u001b[0m \u001b[1;33m(\u001b[0m\u001b[0mobj\u001b[0m\u001b[1;33m[\u001b[0m\u001b[1;36m2\u001b[0m\u001b[1;33m]\u001b[0m \u001b[1;33m==\u001b[0m \u001b[0mfname\u001b[0m\u001b[1;33m)\u001b[0m\u001b[1;33m:\u001b[0m\u001b[1;33m\u001b[0m\u001b[1;33m\u001b[0m\u001b[0m\n",
      "\u001b[1;31mValueError\u001b[0m: entry not a 2- or 3- tuple",
      "\nDuring handling of the above exception, another exception occurred:\n",
      "\u001b[1;31mTypeError\u001b[0m                                 Traceback (most recent call last)",
      "\u001b[1;32m~\\AppData\\Local\\Temp/ipykernel_18380/197996157.py\u001b[0m in \u001b[0;36m<module>\u001b[1;34m\u001b[0m\n\u001b[1;32m----> 1\u001b[1;33m \u001b[0mdf\u001b[0m \u001b[1;33m=\u001b[0m \u001b[0mpath2df\u001b[0m\u001b[1;33m(\u001b[0m\u001b[0mpath\u001b[0m\u001b[1;33m)\u001b[0m\u001b[1;33m\u001b[0m\u001b[1;33m\u001b[0m\u001b[0m\n\u001b[0m",
      "\u001b[1;32md:\\fork\\isas_lipidxplorer\\input2Dataframe\\ms_deisopteDF.py\u001b[0m in \u001b[0;36mpath2df\u001b[1;34m(path, time_start, time_end)\u001b[0m\n\u001b[0;32m     56\u001b[0m                     \u001b[1;34m\"scan_id\"\u001b[0m\u001b[1;33m:\u001b[0m \u001b[1;34m\"category\"\u001b[0m\u001b[1;33m,\u001b[0m\u001b[1;33m\u001b[0m\u001b[1;33m\u001b[0m\u001b[0m\n\u001b[0;32m     57\u001b[0m                     \u001b[1;34m\"filter_string\"\u001b[0m\u001b[1;33m:\u001b[0m \u001b[1;34m\"category\"\u001b[0m\u001b[1;33m,\u001b[0m\u001b[1;33m\u001b[0m\u001b[1;33m\u001b[0m\u001b[0m\n\u001b[1;32m---> 58\u001b[1;33m                     \u001b[1;34m\"precursor_id\"\u001b[0m\u001b[1;33m:\u001b[0m \u001b[1;34m\"category\"\u001b[0m\u001b[1;33m,\u001b[0m\u001b[1;33m\u001b[0m\u001b[1;33m\u001b[0m\u001b[0m\n\u001b[0m\u001b[0;32m     59\u001b[0m                 },\n\u001b[0;32m     60\u001b[0m             )\n",
      "\u001b[1;32m~\\Anaconda3\\envs\\lx128_p3_dev\\lib\\site-packages\\pandas\\core\\frame.py\u001b[0m in \u001b[0;36m__init__\u001b[1;34m(self, data, index, columns, dtype, copy)\u001b[0m\n\u001b[0;32m    399\u001b[0m             \u001b[0mdata\u001b[0m \u001b[1;33m=\u001b[0m \u001b[1;33m{\u001b[0m\u001b[1;33m}\u001b[0m\u001b[1;33m\u001b[0m\u001b[1;33m\u001b[0m\u001b[0m\n\u001b[0;32m    400\u001b[0m         \u001b[1;32mif\u001b[0m \u001b[0mdtype\u001b[0m \u001b[1;32mis\u001b[0m \u001b[1;32mnot\u001b[0m \u001b[1;32mNone\u001b[0m\u001b[1;33m:\u001b[0m\u001b[1;33m\u001b[0m\u001b[1;33m\u001b[0m\u001b[0m\n\u001b[1;32m--> 401\u001b[1;33m             \u001b[0mdtype\u001b[0m \u001b[1;33m=\u001b[0m \u001b[0mself\u001b[0m\u001b[1;33m.\u001b[0m\u001b[0m_validate_dtype\u001b[0m\u001b[1;33m(\u001b[0m\u001b[0mdtype\u001b[0m\u001b[1;33m)\u001b[0m\u001b[1;33m\u001b[0m\u001b[1;33m\u001b[0m\u001b[0m\n\u001b[0m\u001b[0;32m    402\u001b[0m \u001b[1;33m\u001b[0m\u001b[0m\n\u001b[0;32m    403\u001b[0m         \u001b[1;32mif\u001b[0m \u001b[0misinstance\u001b[0m\u001b[1;33m(\u001b[0m\u001b[0mdata\u001b[0m\u001b[1;33m,\u001b[0m \u001b[0mDataFrame\u001b[0m\u001b[1;33m)\u001b[0m\u001b[1;33m:\u001b[0m\u001b[1;33m\u001b[0m\u001b[1;33m\u001b[0m\u001b[0m\n",
      "\u001b[1;32m~\\Anaconda3\\envs\\lx128_p3_dev\\lib\\site-packages\\pandas\\core\\generic.py\u001b[0m in \u001b[0;36m_validate_dtype\u001b[1;34m(self, dtype)\u001b[0m\n\u001b[0;32m    229\u001b[0m \u001b[1;33m\u001b[0m\u001b[0m\n\u001b[0;32m    230\u001b[0m         \u001b[1;32mif\u001b[0m \u001b[0mdtype\u001b[0m \u001b[1;32mis\u001b[0m \u001b[1;32mnot\u001b[0m \u001b[1;32mNone\u001b[0m\u001b[1;33m:\u001b[0m\u001b[1;33m\u001b[0m\u001b[1;33m\u001b[0m\u001b[0m\n\u001b[1;32m--> 231\u001b[1;33m             \u001b[0mdtype\u001b[0m \u001b[1;33m=\u001b[0m \u001b[0mpandas_dtype\u001b[0m\u001b[1;33m(\u001b[0m\u001b[0mdtype\u001b[0m\u001b[1;33m)\u001b[0m\u001b[1;33m\u001b[0m\u001b[1;33m\u001b[0m\u001b[0m\n\u001b[0m\u001b[0;32m    232\u001b[0m \u001b[1;33m\u001b[0m\u001b[0m\n\u001b[0;32m    233\u001b[0m             \u001b[1;31m# a compound dtype\u001b[0m\u001b[1;33m\u001b[0m\u001b[1;33m\u001b[0m\u001b[1;33m\u001b[0m\u001b[0m\n",
      "\u001b[1;32m~\\Anaconda3\\envs\\lx128_p3_dev\\lib\\site-packages\\pandas\\core\\dtypes\\common.py\u001b[0m in \u001b[0;36mpandas_dtype\u001b[1;34m(dtype)\u001b[0m\n\u001b[0;32m   2052\u001b[0m         \u001b[1;31m# we don't want to force a repr of the non-string\u001b[0m\u001b[1;33m\u001b[0m\u001b[1;33m\u001b[0m\u001b[1;33m\u001b[0m\u001b[0m\n\u001b[0;32m   2053\u001b[0m         \u001b[1;32mif\u001b[0m \u001b[1;32mnot\u001b[0m \u001b[0misinstance\u001b[0m\u001b[1;33m(\u001b[0m\u001b[0mdtype\u001b[0m\u001b[1;33m,\u001b[0m \u001b[0mstr\u001b[0m\u001b[1;33m)\u001b[0m\u001b[1;33m:\u001b[0m\u001b[1;33m\u001b[0m\u001b[1;33m\u001b[0m\u001b[0m\n\u001b[1;32m-> 2054\u001b[1;33m             \u001b[1;32mraise\u001b[0m \u001b[0mTypeError\u001b[0m\u001b[1;33m(\u001b[0m\u001b[1;34m\"data type not understood\"\u001b[0m\u001b[1;33m)\u001b[0m\u001b[1;33m\u001b[0m\u001b[1;33m\u001b[0m\u001b[0m\n\u001b[0m\u001b[0;32m   2055\u001b[0m         \u001b[1;32mraise\u001b[0m \u001b[0mTypeError\u001b[0m\u001b[1;33m(\u001b[0m\u001b[1;34m\"data type '{}' not understood\"\u001b[0m\u001b[1;33m.\u001b[0m\u001b[0mformat\u001b[0m\u001b[1;33m(\u001b[0m\u001b[0mdtype\u001b[0m\u001b[1;33m)\u001b[0m\u001b[1;33m)\u001b[0m\u001b[1;33m\u001b[0m\u001b[1;33m\u001b[0m\u001b[0m\n\u001b[0;32m   2056\u001b[0m \u001b[1;33m\u001b[0m\u001b[0m\n",
      "\u001b[1;31mTypeError\u001b[0m: data type not understood"
     ]
    }
   ],
   "source": [
    "df = path2df(path)"
   ]
  },
  {
   "cell_type": "code",
   "execution_count": null,
   "metadata": {},
   "outputs": [],
   "source": [
    "ms1_mask = df.index.get_level_values(3).str.contains(' ms ')\n",
    "ms1_df = df[ms1_mask]\n"
   ]
  },
  {
   "cell_type": "markdown",
   "metadata": {},
   "source": [
    "# get accurate resolution\n"
   ]
  },
  {
   "cell_type": "code",
   "execution_count": null,
   "metadata": {},
   "outputs": [],
   "source": [
    "tmp_mzs = ms1_df.reset_index().sort_values(['scan_id','mz']).mz"
   ]
  },
  {
   "cell_type": "markdown",
   "metadata": {},
   "source": []
  },
  {
   "cell_type": "code",
   "execution_count": null,
   "metadata": {},
   "outputs": [],
   "source": [
    "tmp_mzs = tmp_mzs.to_frame()"
   ]
  },
  {
   "cell_type": "code",
   "execution_count": null,
   "metadata": {},
   "outputs": [],
   "source": [
    "tmp_mzs['diffs'] = tmp_mzs.mz.diff()"
   ]
  },
  {
   "cell_type": "code",
   "execution_count": null,
   "metadata": {},
   "outputs": [],
   "source": [
    "\n",
    "tmp_mzs = tmp_mzs[tmp_mzs.diffs > 0]\n",
    "\n"
   ]
  },
  {
   "cell_type": "code",
   "execution_count": null,
   "metadata": {},
   "outputs": [],
   "source": [
    "tmp_mzs = tmp_mzs.loc[tmp_mzs.diffs == tmp_mzs.groupby(tmp_mzs.mz.round())['diffs'].transform('min')]"
   ]
  },
  {
   "cell_type": "code",
   "execution_count": null,
   "metadata": {},
   "outputs": [],
   "source": [
    "tmp_mzs = tmp_mzs.sort_values('mz', ascending=False)\n",
    "    "
   ]
  },
  {
   "cell_type": "code",
   "execution_count": null,
   "metadata": {},
   "outputs": [
    {
     "data": {
      "text/html": [
       "<div>\n",
       "<style scoped>\n",
       "    .dataframe tbody tr th:only-of-type {\n",
       "        vertical-align: middle;\n",
       "    }\n",
       "\n",
       "    .dataframe tbody tr th {\n",
       "        vertical-align: top;\n",
       "    }\n",
       "\n",
       "    .dataframe thead th {\n",
       "        text-align: right;\n",
       "    }\n",
       "</style>\n",
       "<table border=\"1\" class=\"dataframe\">\n",
       "  <thead>\n",
       "    <tr style=\"text-align: right;\">\n",
       "      <th></th>\n",
       "      <th>mz</th>\n",
       "      <th>diffs</th>\n",
       "      <th>res</th>\n",
       "    </tr>\n",
       "  </thead>\n",
       "  <tbody>\n",
       "    <tr>\n",
       "      <th>28727</th>\n",
       "      <td>1991.819946</td>\n",
       "      <td>20.613647</td>\n",
       "      <td>96.626274</td>\n",
       "    </tr>\n",
       "    <tr>\n",
       "      <th>41505</th>\n",
       "      <td>1991.031128</td>\n",
       "      <td>5.731445</td>\n",
       "      <td>347.387268</td>\n",
       "    </tr>\n",
       "    <tr>\n",
       "      <th>30418</th>\n",
       "      <td>1990.000122</td>\n",
       "      <td>16.143188</td>\n",
       "      <td>123.271812</td>\n",
       "    </tr>\n",
       "    <tr>\n",
       "      <th>39910</th>\n",
       "      <td>1988.794556</td>\n",
       "      <td>1.000488</td>\n",
       "      <td>1987.823975</td>\n",
       "    </tr>\n",
       "    <tr>\n",
       "      <th>39909</th>\n",
       "      <td>1987.794067</td>\n",
       "      <td>14.942261</td>\n",
       "      <td>133.031677</td>\n",
       "    </tr>\n",
       "    <tr>\n",
       "      <th>...</th>\n",
       "      <td>...</td>\n",
       "      <td>...</td>\n",
       "      <td>...</td>\n",
       "    </tr>\n",
       "    <tr>\n",
       "      <th>55305</th>\n",
       "      <td>352.873962</td>\n",
       "      <td>0.001709</td>\n",
       "      <td>206481.671875</td>\n",
       "    </tr>\n",
       "    <tr>\n",
       "      <th>10600</th>\n",
       "      <td>352.306396</td>\n",
       "      <td>0.002319</td>\n",
       "      <td>151899.687500</td>\n",
       "    </tr>\n",
       "    <tr>\n",
       "      <th>96673</th>\n",
       "      <td>350.877045</td>\n",
       "      <td>0.002167</td>\n",
       "      <td>161937.171875</td>\n",
       "    </tr>\n",
       "    <tr>\n",
       "      <th>74507</th>\n",
       "      <td>350.187164</td>\n",
       "      <td>0.002350</td>\n",
       "      <td>149025.109375</td>\n",
       "    </tr>\n",
       "    <tr>\n",
       "      <th>72141</th>\n",
       "      <td>350.187012</td>\n",
       "      <td>0.002350</td>\n",
       "      <td>149025.031250</td>\n",
       "    </tr>\n",
       "  </tbody>\n",
       "</table>\n",
       "<p>1571 rows × 3 columns</p>\n",
       "</div>"
      ],
      "text/plain": [
       "                mz      diffs            res\n",
       "28727  1991.819946  20.613647      96.626274\n",
       "41505  1991.031128   5.731445     347.387268\n",
       "30418  1990.000122  16.143188     123.271812\n",
       "39910  1988.794556   1.000488    1987.823975\n",
       "39909  1987.794067  14.942261     133.031677\n",
       "...            ...        ...            ...\n",
       "55305   352.873962   0.001709  206481.671875\n",
       "10600   352.306396   0.002319  151899.687500\n",
       "96673   350.877045   0.002167  161937.171875\n",
       "74507   350.187164   0.002350  149025.109375\n",
       "72141   350.187012   0.002350  149025.031250\n",
       "\n",
       "[1571 rows x 3 columns]"
      ]
     },
     "execution_count": 172,
     "metadata": {},
     "output_type": "execute_result"
    }
   ],
   "source": [
    "tmp_mzs['res'] = tmp_mzs.mz / tmp_mzs.diffs\n",
    "tmp_mzs"
   ]
  },
  {
   "cell_type": "code",
   "execution_count": null,
   "metadata": {},
   "outputs": [
    {
     "data": {
      "text/plain": [
       "[39910,\n",
       " 20254,\n",
       " 15699,\n",
       " 33513,\n",
       " 18115,\n",
       " 5694,\n",
       " 44622,\n",
       " 10537,\n",
       " 27004,\n",
       " 94217,\n",
       " 118715,\n",
       " 70979,\n",
       " 87960,\n",
       " 7325]"
      ]
     },
     "execution_count": 162,
     "metadata": {},
     "output_type": "execute_result"
    }
   ],
   "source": [
    "listed = []\n",
    "tmp_mzs_it = tmp_mzs.iterrows()\n",
    "_ , r_mz = next(tmp_mzs_it)\n",
    "_ , m_mz = next(tmp_mzs_it)\n",
    "for idx, l_mz in tmp_mzs_it:\n",
    "    if l_mz.res >= m_mz.res >= r_mz.res:\n",
    "        listed.append(idx)\n",
    "        r_mz = m_mz\n",
    "        m_mz = l_mz\n",
    "\n",
    "\n",
    "listed"
   ]
  },
  {
   "cell_type": "code",
   "execution_count": null,
   "metadata": {},
   "outputs": [
    {
     "data": {
      "text/html": [
       "<div>\n",
       "<style scoped>\n",
       "    .dataframe tbody tr th:only-of-type {\n",
       "        vertical-align: middle;\n",
       "    }\n",
       "\n",
       "    .dataframe tbody tr th {\n",
       "        vertical-align: top;\n",
       "    }\n",
       "\n",
       "    .dataframe thead th {\n",
       "        text-align: right;\n",
       "    }\n",
       "</style>\n",
       "<table border=\"1\" class=\"dataframe\">\n",
       "  <thead>\n",
       "    <tr style=\"text-align: right;\">\n",
       "      <th></th>\n",
       "      <th>mz</th>\n",
       "      <th>diffs</th>\n",
       "      <th>res</th>\n",
       "    </tr>\n",
       "  </thead>\n",
       "  <tbody>\n",
       "    <tr>\n",
       "      <th>39910</th>\n",
       "      <td>1988.794556</td>\n",
       "      <td>1.000488</td>\n",
       "      <td>1987.823975</td>\n",
       "    </tr>\n",
       "    <tr>\n",
       "      <th>20254</th>\n",
       "      <td>1986.522339</td>\n",
       "      <td>0.465576</td>\n",
       "      <td>4266.804199</td>\n",
       "    </tr>\n",
       "    <tr>\n",
       "      <th>15699</th>\n",
       "      <td>1974.659058</td>\n",
       "      <td>0.187744</td>\n",
       "      <td>10517.820312</td>\n",
       "    </tr>\n",
       "    <tr>\n",
       "      <th>33513</th>\n",
       "      <td>1973.666870</td>\n",
       "      <td>0.032837</td>\n",
       "      <td>60105.125000</td>\n",
       "    </tr>\n",
       "    <tr>\n",
       "      <th>18115</th>\n",
       "      <td>1887.611450</td>\n",
       "      <td>0.028564</td>\n",
       "      <td>66082.531250</td>\n",
       "    </tr>\n",
       "    <tr>\n",
       "      <th>5694</th>\n",
       "      <td>1566.156860</td>\n",
       "      <td>0.020386</td>\n",
       "      <td>76826.085938</td>\n",
       "    </tr>\n",
       "    <tr>\n",
       "      <th>44622</th>\n",
       "      <td>1553.422729</td>\n",
       "      <td>0.016724</td>\n",
       "      <td>92887.875000</td>\n",
       "    </tr>\n",
       "    <tr>\n",
       "      <th>10537</th>\n",
       "      <td>1427.182495</td>\n",
       "      <td>0.007080</td>\n",
       "      <td>201577.218750</td>\n",
       "    </tr>\n",
       "    <tr>\n",
       "      <th>27004</th>\n",
       "      <td>1341.218140</td>\n",
       "      <td>0.003296</td>\n",
       "      <td>406935.531250</td>\n",
       "    </tr>\n",
       "    <tr>\n",
       "      <th>94217</th>\n",
       "      <td>961.747498</td>\n",
       "      <td>0.002075</td>\n",
       "      <td>463449.156250</td>\n",
       "    </tr>\n",
       "    <tr>\n",
       "      <th>118715</th>\n",
       "      <td>920.757629</td>\n",
       "      <td>0.001709</td>\n",
       "      <td>538774.750000</td>\n",
       "    </tr>\n",
       "    <tr>\n",
       "      <th>70979</th>\n",
       "      <td>636.550110</td>\n",
       "      <td>0.001160</td>\n",
       "      <td>548907.187500</td>\n",
       "    </tr>\n",
       "    <tr>\n",
       "      <th>87960</th>\n",
       "      <td>577.510986</td>\n",
       "      <td>0.000854</td>\n",
       "      <td>675852.875000</td>\n",
       "    </tr>\n",
       "    <tr>\n",
       "      <th>7325</th>\n",
       "      <td>479.249359</td>\n",
       "      <td>0.000702</td>\n",
       "      <td>682784.500000</td>\n",
       "    </tr>\n",
       "  </tbody>\n",
       "</table>\n",
       "</div>"
      ],
      "text/plain": [
       "                 mz     diffs            res\n",
       "39910   1988.794556  1.000488    1987.823975\n",
       "20254   1986.522339  0.465576    4266.804199\n",
       "15699   1974.659058  0.187744   10517.820312\n",
       "33513   1973.666870  0.032837   60105.125000\n",
       "18115   1887.611450  0.028564   66082.531250\n",
       "5694    1566.156860  0.020386   76826.085938\n",
       "44622   1553.422729  0.016724   92887.875000\n",
       "10537   1427.182495  0.007080  201577.218750\n",
       "27004   1341.218140  0.003296  406935.531250\n",
       "94217    961.747498  0.002075  463449.156250\n",
       "118715   920.757629  0.001709  538774.750000\n",
       "70979    636.550110  0.001160  548907.187500\n",
       "87960    577.510986  0.000854  675852.875000\n",
       "7325     479.249359  0.000702  682784.500000"
      ]
     },
     "execution_count": 166,
     "metadata": {},
     "output_type": "execute_result"
    }
   ],
   "source": [
    "tmp = tmp_mzs.loc[listed]\n",
    "tmp"
   ]
  },
  {
   "cell_type": "code",
   "execution_count": null,
   "metadata": {},
   "outputs": [
    {
     "data": {
      "text/plain": [
       "<matplotlib.axes._subplots.AxesSubplot at 0x2dcfbfb8748>"
      ]
     },
     "execution_count": 167,
     "metadata": {},
     "output_type": "execute_result"
    },
    {
     "data": {
      "image/png": "[encoded data removed]",
      "text/plain": [
       "<Figure size 432x288 with 1 Axes>"
      ]
     },
     "metadata": {
      "needs_background": "light"
     },
     "output_type": "display_data"
    }
   ],
   "source": [
    "tmp.plot.scatter(x='mz',y='diffs')"
   ]
  },
  {
   "cell_type": "code",
   "execution_count": null,
   "metadata": {},
   "outputs": [
    {
     "data": {
      "text/plain": [
       "<matplotlib.axes._subplots.AxesSubplot at 0x2dcfc012808>"
      ]
     },
     "execution_count": 169,
     "metadata": {},
     "output_type": "execute_result"
    },
    {
     "data": {
      "image/png": "[encoded data removed]",
      "text/plain": [
       "<Figure size 432x288 with 1 Axes>"
      ]
     },
     "metadata": {
      "needs_background": "light"
     },
     "output_type": "display_data"
    }
   ],
   "source": [
    "tmp.plot.scatter(x='mz',y='res')"
   ]
  },
  {
   "cell_type": "code",
   "execution_count": null,
   "metadata": {},
   "outputs": [],
   "source": [
    "tmp_mzs.to_clipboard()"
   ]
  },
  {
   "cell_type": "code",
   "execution_count": null,
   "metadata": {},
   "outputs": [],
   "source": []
  },
  {
   "cell_type": "code",
   "execution_count": null,
   "metadata": {},
   "outputs": [
    {
     "data": {
      "text/html": [
       "<div>\n",
       "<style scoped>\n",
       "    .dataframe tbody tr th:only-of-type {\n",
       "        vertical-align: middle;\n",
       "    }\n",
       "\n",
       "    .dataframe tbody tr th {\n",
       "        vertical-align: top;\n",
       "    }\n",
       "\n",
       "    .dataframe thead th {\n",
       "        text-align: right;\n",
       "    }\n",
       "</style>\n",
       "<table border=\"1\" class=\"dataframe\">\n",
       "  <thead>\n",
       "    <tr style=\"text-align: right;\">\n",
       "      <th></th>\n",
       "      <th>mz</th>\n",
       "      <th>diffs</th>\n",
       "      <th>res</th>\n",
       "    </tr>\n",
       "  </thead>\n",
       "  <tbody>\n",
       "    <tr>\n",
       "      <th>28727</th>\n",
       "      <td>1991.819946</td>\n",
       "      <td>20.613647</td>\n",
       "      <td>96.626274</td>\n",
       "    </tr>\n",
       "    <tr>\n",
       "      <th>41505</th>\n",
       "      <td>1991.031128</td>\n",
       "      <td>5.731445</td>\n",
       "      <td>347.387268</td>\n",
       "    </tr>\n",
       "    <tr>\n",
       "      <th>30418</th>\n",
       "      <td>1990.000122</td>\n",
       "      <td>16.143188</td>\n",
       "      <td>123.271812</td>\n",
       "    </tr>\n",
       "    <tr>\n",
       "      <th>39910</th>\n",
       "      <td>1988.794556</td>\n",
       "      <td>1.000488</td>\n",
       "      <td>1987.823975</td>\n",
       "    </tr>\n",
       "    <tr>\n",
       "      <th>39909</th>\n",
       "      <td>1987.794067</td>\n",
       "      <td>14.942261</td>\n",
       "      <td>133.031677</td>\n",
       "    </tr>\n",
       "    <tr>\n",
       "      <th>...</th>\n",
       "      <td>...</td>\n",
       "      <td>...</td>\n",
       "      <td>...</td>\n",
       "    </tr>\n",
       "    <tr>\n",
       "      <th>55305</th>\n",
       "      <td>352.873962</td>\n",
       "      <td>0.001709</td>\n",
       "      <td>206481.671875</td>\n",
       "    </tr>\n",
       "    <tr>\n",
       "      <th>10600</th>\n",
       "      <td>352.306396</td>\n",
       "      <td>0.002319</td>\n",
       "      <td>151899.687500</td>\n",
       "    </tr>\n",
       "    <tr>\n",
       "      <th>96673</th>\n",
       "      <td>350.877045</td>\n",
       "      <td>0.002167</td>\n",
       "      <td>161937.171875</td>\n",
       "    </tr>\n",
       "    <tr>\n",
       "      <th>74507</th>\n",
       "      <td>350.187164</td>\n",
       "      <td>0.002350</td>\n",
       "      <td>149025.109375</td>\n",
       "    </tr>\n",
       "    <tr>\n",
       "      <th>72141</th>\n",
       "      <td>350.187012</td>\n",
       "      <td>0.002350</td>\n",
       "      <td>149025.031250</td>\n",
       "    </tr>\n",
       "  </tbody>\n",
       "</table>\n",
       "<p>1571 rows × 3 columns</p>\n",
       "</div>"
      ],
      "text/plain": [
       "                mz      diffs            res\n",
       "28727  1991.819946  20.613647      96.626274\n",
       "41505  1991.031128   5.731445     347.387268\n",
       "30418  1990.000122  16.143188     123.271812\n",
       "39910  1988.794556   1.000488    1987.823975\n",
       "39909  1987.794067  14.942261     133.031677\n",
       "...            ...        ...            ...\n",
       "55305   352.873962   0.001709  206481.671875\n",
       "10600   352.306396   0.002319  151899.687500\n",
       "96673   350.877045   0.002167  161937.171875\n",
       "74507   350.187164   0.002350  149025.109375\n",
       "72141   350.187012   0.002350  149025.031250\n",
       "\n",
       "[1571 rows x 3 columns]"
      ]
     },
     "execution_count": 174,
     "metadata": {},
     "output_type": "execute_result"
    }
   ],
   "source": [
    "tmp_mzs"
   ]
  },
  {
   "cell_type": "code",
   "execution_count": null,
   "metadata": {},
   "outputs": [],
   "source": [
    "current_mz = 0\n",
    "res = []\n",
    "for idx, item in tmp_mzs.sort_values('res', ascending= False).iterrows():\n",
    "    if item.mz > current_mz:\n",
    "        res.append(idx)\n",
    "        current_mz = item.mz"
   ]
  },
  {
   "cell_type": "code",
   "execution_count": null,
   "metadata": {},
   "outputs": [
    {
     "data": {
      "text/html": [
       "<div>\n",
       "<style scoped>\n",
       "    .dataframe tbody tr th:only-of-type {\n",
       "        vertical-align: middle;\n",
       "    }\n",
       "\n",
       "    .dataframe tbody tr th {\n",
       "        vertical-align: top;\n",
       "    }\n",
       "\n",
       "    .dataframe thead th {\n",
       "        text-align: right;\n",
       "    }\n",
       "</style>\n",
       "<table border=\"1\" class=\"dataframe\">\n",
       "  <thead>\n",
       "    <tr style=\"text-align: right;\">\n",
       "      <th></th>\n",
       "      <th>mz</th>\n",
       "      <th>diffs</th>\n",
       "      <th>res</th>\n",
       "    </tr>\n",
       "  </thead>\n",
       "  <tbody>\n",
       "    <tr>\n",
       "      <th>7325</th>\n",
       "      <td>479.249359</td>\n",
       "      <td>0.000702</td>\n",
       "      <td>682784.500000</td>\n",
       "    </tr>\n",
       "    <tr>\n",
       "      <th>87960</th>\n",
       "      <td>577.510986</td>\n",
       "      <td>0.000854</td>\n",
       "      <td>675852.875000</td>\n",
       "    </tr>\n",
       "    <tr>\n",
       "      <th>37125</th>\n",
       "      <td>520.443298</td>\n",
       "      <td>0.000793</td>\n",
       "      <td>655918.687500</td>\n",
       "    </tr>\n",
       "    <tr>\n",
       "      <th>99810</th>\n",
       "      <td>480.312408</td>\n",
       "      <td>0.000732</td>\n",
       "      <td>655786.562500</td>\n",
       "    </tr>\n",
       "    <tr>\n",
       "      <th>7102</th>\n",
       "      <td>458.009705</td>\n",
       "      <td>0.000824</td>\n",
       "      <td>555854.125000</td>\n",
       "    </tr>\n",
       "    <tr>\n",
       "      <th>...</th>\n",
       "      <td>...</td>\n",
       "      <td>...</td>\n",
       "      <td>...</td>\n",
       "    </tr>\n",
       "    <tr>\n",
       "      <th>10582</th>\n",
       "      <td>1832.851807</td>\n",
       "      <td>72.900513</td>\n",
       "      <td>25.141823</td>\n",
       "    </tr>\n",
       "    <tr>\n",
       "      <th>55</th>\n",
       "      <td>1440.556519</td>\n",
       "      <td>66.615723</td>\n",
       "      <td>21.624872</td>\n",
       "    </tr>\n",
       "    <tr>\n",
       "      <th>119</th>\n",
       "      <td>1604.023926</td>\n",
       "      <td>105.006592</td>\n",
       "      <td>15.275459</td>\n",
       "    </tr>\n",
       "    <tr>\n",
       "      <th>58</th>\n",
       "      <td>1798.553711</td>\n",
       "      <td>154.767212</td>\n",
       "      <td>11.621025</td>\n",
       "    </tr>\n",
       "    <tr>\n",
       "      <th>298</th>\n",
       "      <td>1837.281250</td>\n",
       "      <td>225.459717</td>\n",
       "      <td>8.149044</td>\n",
       "    </tr>\n",
       "  </tbody>\n",
       "</table>\n",
       "<p>1571 rows × 3 columns</p>\n",
       "</div>"
      ],
      "text/plain": [
       "                mz       diffs            res\n",
       "7325    479.249359    0.000702  682784.500000\n",
       "87960   577.510986    0.000854  675852.875000\n",
       "37125   520.443298    0.000793  655918.687500\n",
       "99810   480.312408    0.000732  655786.562500\n",
       "7102    458.009705    0.000824  555854.125000\n",
       "...            ...         ...            ...\n",
       "10582  1832.851807   72.900513      25.141823\n",
       "55     1440.556519   66.615723      21.624872\n",
       "119    1604.023926  105.006592      15.275459\n",
       "58     1798.553711  154.767212      11.621025\n",
       "298    1837.281250  225.459717       8.149044\n",
       "\n",
       "[1571 rows x 3 columns]"
      ]
     },
     "execution_count": 188,
     "metadata": {},
     "output_type": "execute_result"
    }
   ],
   "source": [
    "tmp_mzs.sort_values('res', ascending= False)"
   ]
  },
  {
   "cell_type": "code",
   "execution_count": null,
   "metadata": {},
   "outputs": [
    {
     "data": {
      "text/plain": [
       "<matplotlib.axes._subplots.AxesSubplot at 0x2dcfc1fa288>"
      ]
     },
     "execution_count": 197,
     "metadata": {},
     "output_type": "execute_result"
    },
    {
     "data": {
      "image/png": "[encoded data removed]",
      "text/plain": [
       "<Figure size 432x288 with 1 Axes>"
      ]
     },
     "metadata": {
      "needs_background": "light"
     },
     "output_type": "display_data"
    }
   ],
   "source": [
    "tmp_mzs.loc[res].plot.scatter(x='mz',y='res')"
   ]
  },
  {
   "cell_type": "code",
   "execution_count": null,
   "metadata": {},
   "outputs": [
    {
     "data": {
      "text/plain": [
       "16"
      ]
     },
     "execution_count": 198,
     "metadata": {},
     "output_type": "execute_result"
    }
   ],
   "source": [
    "len(res)"
   ]
  },
  {
   "cell_type": "code",
   "execution_count": null,
   "metadata": {},
   "outputs": [
    {
     "data": {
      "text/html": [
       "<div>\n",
       "<style scoped>\n",
       "    .dataframe tbody tr th:only-of-type {\n",
       "        vertical-align: middle;\n",
       "    }\n",
       "\n",
       "    .dataframe tbody tr th {\n",
       "        vertical-align: top;\n",
       "    }\n",
       "\n",
       "    .dataframe thead th {\n",
       "        text-align: right;\n",
       "    }\n",
       "</style>\n",
       "<table border=\"1\" class=\"dataframe\">\n",
       "  <thead>\n",
       "    <tr style=\"text-align: right;\">\n",
       "      <th></th>\n",
       "      <th>mz</th>\n",
       "      <th>diffs</th>\n",
       "      <th>res</th>\n",
       "      <th>curve</th>\n",
       "    </tr>\n",
       "  </thead>\n",
       "  <tbody>\n",
       "    <tr>\n",
       "      <th>7325</th>\n",
       "      <td>479.249359</td>\n",
       "      <td>0.000702</td>\n",
       "      <td>682784.500000</td>\n",
       "      <td>155658.406250</td>\n",
       "    </tr>\n",
       "    <tr>\n",
       "      <th>87960</th>\n",
       "      <td>577.510986</td>\n",
       "      <td>0.000854</td>\n",
       "      <td>675852.875000</td>\n",
       "      <td>135819.625000</td>\n",
       "    </tr>\n",
       "    <tr>\n",
       "      <th>70979</th>\n",
       "      <td>636.550110</td>\n",
       "      <td>0.001160</td>\n",
       "      <td>548907.187500</td>\n",
       "      <td>124543.734375</td>\n",
       "    </tr>\n",
       "    <tr>\n",
       "      <th>118715</th>\n",
       "      <td>920.757629</td>\n",
       "      <td>0.001709</td>\n",
       "      <td>538774.750000</td>\n",
       "      <td>77027.171875</td>\n",
       "    </tr>\n",
       "    <tr>\n",
       "      <th>94217</th>\n",
       "      <td>961.747498</td>\n",
       "      <td>0.002075</td>\n",
       "      <td>463449.156250</td>\n",
       "      <td>71098.343750</td>\n",
       "    </tr>\n",
       "    <tr>\n",
       "      <th>27004</th>\n",
       "      <td>1341.218140</td>\n",
       "      <td>0.003296</td>\n",
       "      <td>406935.531250</td>\n",
       "      <td>27274.703125</td>\n",
       "    </tr>\n",
       "    <tr>\n",
       "      <th>10537</th>\n",
       "      <td>1427.182495</td>\n",
       "      <td>0.007080</td>\n",
       "      <td>201577.218750</td>\n",
       "      <td>20121.296875</td>\n",
       "    </tr>\n",
       "    <tr>\n",
       "      <th>44622</th>\n",
       "      <td>1553.422729</td>\n",
       "      <td>0.016724</td>\n",
       "      <td>92887.875000</td>\n",
       "      <td>11473.953125</td>\n",
       "    </tr>\n",
       "    <tr>\n",
       "      <th>5694</th>\n",
       "      <td>1566.156860</td>\n",
       "      <td>0.020386</td>\n",
       "      <td>76826.085938</td>\n",
       "      <td>10724.375000</td>\n",
       "    </tr>\n",
       "    <tr>\n",
       "      <th>18115</th>\n",
       "      <td>1887.611450</td>\n",
       "      <td>0.028564</td>\n",
       "      <td>66082.531250</td>\n",
       "      <td>-748.468750</td>\n",
       "    </tr>\n",
       "    <tr>\n",
       "      <th>33513</th>\n",
       "      <td>1973.666870</td>\n",
       "      <td>0.032837</td>\n",
       "      <td>60105.125000</td>\n",
       "      <td>-1388.187500</td>\n",
       "    </tr>\n",
       "    <tr>\n",
       "      <th>15699</th>\n",
       "      <td>1974.659058</td>\n",
       "      <td>0.187744</td>\n",
       "      <td>10517.820312</td>\n",
       "      <td>-1389.625000</td>\n",
       "    </tr>\n",
       "    <tr>\n",
       "      <th>20254</th>\n",
       "      <td>1986.522339</td>\n",
       "      <td>0.465576</td>\n",
       "      <td>4266.804199</td>\n",
       "      <td>-1395.625000</td>\n",
       "    </tr>\n",
       "    <tr>\n",
       "      <th>39910</th>\n",
       "      <td>1988.794556</td>\n",
       "      <td>1.000488</td>\n",
       "      <td>1987.823975</td>\n",
       "      <td>-1394.562500</td>\n",
       "    </tr>\n",
       "    <tr>\n",
       "      <th>41505</th>\n",
       "      <td>1991.031128</td>\n",
       "      <td>5.731445</td>\n",
       "      <td>347.387268</td>\n",
       "      <td>-1392.781250</td>\n",
       "    </tr>\n",
       "    <tr>\n",
       "      <th>28727</th>\n",
       "      <td>1991.819946</td>\n",
       "      <td>20.613647</td>\n",
       "      <td>96.626274</td>\n",
       "      <td>-1392.000000</td>\n",
       "    </tr>\n",
       "  </tbody>\n",
       "</table>\n",
       "</div>"
      ],
      "text/plain": [
       "                 mz      diffs            res          curve\n",
       "7325     479.249359   0.000702  682784.500000  155658.406250\n",
       "87960    577.510986   0.000854  675852.875000  135819.625000\n",
       "70979    636.550110   0.001160  548907.187500  124543.734375\n",
       "118715   920.757629   0.001709  538774.750000   77027.171875\n",
       "94217    961.747498   0.002075  463449.156250   71098.343750\n",
       "27004   1341.218140   0.003296  406935.531250   27274.703125\n",
       "10537   1427.182495   0.007080  201577.218750   20121.296875\n",
       "44622   1553.422729   0.016724   92887.875000   11473.953125\n",
       "5694    1566.156860   0.020386   76826.085938   10724.375000\n",
       "18115   1887.611450   0.028564   66082.531250    -748.468750\n",
       "33513   1973.666870   0.032837   60105.125000   -1388.187500\n",
       "15699   1974.659058   0.187744   10517.820312   -1389.625000\n",
       "20254   1986.522339   0.465576    4266.804199   -1395.625000\n",
       "39910   1988.794556   1.000488    1987.823975   -1394.562500\n",
       "41505   1991.031128   5.731445     347.387268   -1392.781250\n",
       "28727   1991.819946  20.613647      96.626274   -1392.000000"
      ]
     },
     "execution_count": 213,
     "metadata": {},
     "output_type": "execute_result"
    }
   ],
   "source": [
    "sel = tmp_mzs.loc[res]\n",
    "sel"
   ]
  },
  {
   "cell_type": "code",
   "execution_count": null,
   "metadata": {},
   "outputs": [
    {
     "ename": "SyntaxError",
     "evalue": "invalid syntax (Temp/ipykernel_17668/3800985755.py, line 1)",
     "output_type": "error",
     "traceback": [
      "\u001b[1;36m  File \u001b[1;32m\"C:\\Users\\mirandaa\\AppData\\Local\\Temp/ipykernel_17668/3800985755.py\"\u001b[1;36m, line \u001b[1;32m1\u001b[0m\n\u001b[1;33m    https://docs.scipy.org/doc/scipy/reference/generated/scipy.optimize.curve_fit.html\u001b[0m\n\u001b[1;37m           ^\u001b[0m\n\u001b[1;31mSyntaxError\u001b[0m\u001b[1;31m:\u001b[0m invalid syntax\n"
     ]
    }
   ],
   "source": [
    "#https://docs.scipy.org/doc/scipy/reference/generated/scipy.optimize.curve_fit.html\n",
    "#https://machinelearningmastery.com/curve-fitting-with-python/"
   ]
  },
  {
   "cell_type": "code",
   "execution_count": null,
   "metadata": {},
   "outputs": [
    {
     "name": "stdout",
     "output_type": "stream",
     "text": [
      "y = -581.52671 * x + 0.04931 * x^2 + 965724.44848\n"
     ]
    }
   ],
   "source": [
    "from scipy.optimize import curve_fit\n",
    "# define the true objective function\n",
    "def objective(x, a, b, c):\n",
    "\treturn a * x + b * x**2 + c\n",
    "\n",
    "def objective2(x, a, b): #suggested by dominick because it only rises\n",
    "\treturn a * 1/x + b\n",
    "\n",
    "\n",
    "popt, _ = curve_fit(objective1, sel.mz.to_numpy(), sel.res.to_numpy())\n",
    "a, b, c = popt\n",
    "print('y = %.5f * x + %.5f * x^2 + %.5f' % (a, b, c))\n",
    "\n",
    "# calculate the output for the range\n",
    "sel['curve'] = objective(sel.mz, a, b, c)\n"
   ]
  },
  {
   "cell_type": "code",
   "execution_count": null,
   "metadata": {},
   "outputs": [
    {
     "data": {
      "text/html": [
       "<div>\n",
       "<style scoped>\n",
       "    .dataframe tbody tr th:only-of-type {\n",
       "        vertical-align: middle;\n",
       "    }\n",
       "\n",
       "    .dataframe tbody tr th {\n",
       "        vertical-align: top;\n",
       "    }\n",
       "\n",
       "    .dataframe thead th {\n",
       "        text-align: right;\n",
       "    }\n",
       "</style>\n",
       "<table border=\"1\" class=\"dataframe\">\n",
       "  <thead>\n",
       "    <tr style=\"text-align: right;\">\n",
       "      <th></th>\n",
       "      <th>mz</th>\n",
       "      <th>diffs</th>\n",
       "      <th>res</th>\n",
       "      <th>curve</th>\n",
       "    </tr>\n",
       "  </thead>\n",
       "  <tbody>\n",
       "    <tr>\n",
       "      <th>7325</th>\n",
       "      <td>479.249359</td>\n",
       "      <td>0.000702</td>\n",
       "      <td>682784.500000</td>\n",
       "      <td>698352.8750</td>\n",
       "    </tr>\n",
       "    <tr>\n",
       "      <th>87960</th>\n",
       "      <td>577.510986</td>\n",
       "      <td>0.000854</td>\n",
       "      <td>675852.875000</td>\n",
       "      <td>646331.1250</td>\n",
       "    </tr>\n",
       "    <tr>\n",
       "      <th>70979</th>\n",
       "      <td>636.550110</td>\n",
       "      <td>0.001160</td>\n",
       "      <td>548907.187500</td>\n",
       "      <td>615532.3750</td>\n",
       "    </tr>\n",
       "    <tr>\n",
       "      <th>118715</th>\n",
       "      <td>920.757629</td>\n",
       "      <td>0.001709</td>\n",
       "      <td>538774.750000</td>\n",
       "      <td>472081.1875</td>\n",
       "    </tr>\n",
       "    <tr>\n",
       "      <th>94217</th>\n",
       "      <td>961.747498</td>\n",
       "      <td>0.002075</td>\n",
       "      <td>463449.156250</td>\n",
       "      <td>452049.1875</td>\n",
       "    </tr>\n",
       "    <tr>\n",
       "      <th>27004</th>\n",
       "      <td>1341.218140</td>\n",
       "      <td>0.003296</td>\n",
       "      <td>406935.531250</td>\n",
       "      <td>274466.3750</td>\n",
       "    </tr>\n",
       "    <tr>\n",
       "      <th>10537</th>\n",
       "      <td>1427.182495</td>\n",
       "      <td>0.007080</td>\n",
       "      <td>201577.218750</td>\n",
       "      <td>236210.0625</td>\n",
       "    </tr>\n",
       "    <tr>\n",
       "      <th>44622</th>\n",
       "      <td>1553.422729</td>\n",
       "      <td>0.016724</td>\n",
       "      <td>92887.875000</td>\n",
       "      <td>181350.6875</td>\n",
       "    </tr>\n",
       "    <tr>\n",
       "      <th>5694</th>\n",
       "      <td>1566.156860</td>\n",
       "      <td>0.020386</td>\n",
       "      <td>76826.085938</td>\n",
       "      <td>175904.1875</td>\n",
       "    </tr>\n",
       "    <tr>\n",
       "      <th>18115</th>\n",
       "      <td>1887.611450</td>\n",
       "      <td>0.028564</td>\n",
       "      <td>66082.531250</td>\n",
       "      <td>43711.5000</td>\n",
       "    </tr>\n",
       "    <tr>\n",
       "      <th>33513</th>\n",
       "      <td>1973.666870</td>\n",
       "      <td>0.032837</td>\n",
       "      <td>60105.125000</td>\n",
       "      <td>10051.8125</td>\n",
       "    </tr>\n",
       "    <tr>\n",
       "      <th>15699</th>\n",
       "      <td>1974.659058</td>\n",
       "      <td>0.187744</td>\n",
       "      <td>10517.820312</td>\n",
       "      <td>9668.0000</td>\n",
       "    </tr>\n",
       "    <tr>\n",
       "      <th>20254</th>\n",
       "      <td>1986.522339</td>\n",
       "      <td>0.465576</td>\n",
       "      <td>4266.804199</td>\n",
       "      <td>5086.1875</td>\n",
       "    </tr>\n",
       "    <tr>\n",
       "      <th>39910</th>\n",
       "      <td>1988.794556</td>\n",
       "      <td>1.000488</td>\n",
       "      <td>1987.823975</td>\n",
       "      <td>4210.1875</td>\n",
       "    </tr>\n",
       "    <tr>\n",
       "      <th>41505</th>\n",
       "      <td>1991.031128</td>\n",
       "      <td>5.731445</td>\n",
       "      <td>347.387268</td>\n",
       "      <td>3348.4375</td>\n",
       "    </tr>\n",
       "    <tr>\n",
       "      <th>28727</th>\n",
       "      <td>1991.819946</td>\n",
       "      <td>20.613647</td>\n",
       "      <td>96.626274</td>\n",
       "      <td>3044.6875</td>\n",
       "    </tr>\n",
       "  </tbody>\n",
       "</table>\n",
       "</div>"
      ],
      "text/plain": [
       "                 mz      diffs            res        curve\n",
       "7325     479.249359   0.000702  682784.500000  698352.8750\n",
       "87960    577.510986   0.000854  675852.875000  646331.1250\n",
       "70979    636.550110   0.001160  548907.187500  615532.3750\n",
       "118715   920.757629   0.001709  538774.750000  472081.1875\n",
       "94217    961.747498   0.002075  463449.156250  452049.1875\n",
       "27004   1341.218140   0.003296  406935.531250  274466.3750\n",
       "10537   1427.182495   0.007080  201577.218750  236210.0625\n",
       "44622   1553.422729   0.016724   92887.875000  181350.6875\n",
       "5694    1566.156860   0.020386   76826.085938  175904.1875\n",
       "18115   1887.611450   0.028564   66082.531250   43711.5000\n",
       "33513   1973.666870   0.032837   60105.125000   10051.8125\n",
       "15699   1974.659058   0.187744   10517.820312    9668.0000\n",
       "20254   1986.522339   0.465576    4266.804199    5086.1875\n",
       "39910   1988.794556   1.000488    1987.823975    4210.1875\n",
       "41505   1991.031128   5.731445     347.387268    3348.4375\n",
       "28727   1991.819946  20.613647      96.626274    3044.6875"
      ]
     },
     "execution_count": 215,
     "metadata": {},
     "output_type": "execute_result"
    }
   ],
   "source": [
    "tmp_mzs"
   ]
  },
  {
   "cell_type": "code",
   "execution_count": null,
   "metadata": {},
   "outputs": [
    {
     "data": {
      "image/png": "[encoded data removed]",
      "text/plain": [
       "<Figure size 432x288 with 1 Axes>"
      ]
     },
     "metadata": {
      "needs_background": "light"
     },
     "output_type": "display_data"
    }
   ],
   "source": [
    "import matplotlib.pyplot as plt\n",
    "ax = plt.gca()\n",
    "sel.plot(kind='line', x='mz',y='res', ax=ax)\n",
    "sel.plot(kind='line',x='mz',y='curve', ax=ax)\n",
    "plt.show()"
   ]
  },
  {
   "cell_type": "code",
   "execution_count": null,
   "metadata": {},
   "outputs": [
    {
     "data": {
      "text/plain": [
       "<matplotlib.axes._subplots.AxesSubplot at 0x2dcfca2a108>"
      ]
     },
     "execution_count": 220,
     "metadata": {},
     "output_type": "execute_result"
    }
   ],
   "source": []
  },
  {
   "cell_type": "code",
   "execution_count": null,
   "metadata": {},
   "outputs": [],
   "source": []
  }
 ],
 "metadata": {
  "interpreter": {
   "hash": "dd2dc0883e3e52ae9befafd21e38d2af5267660941e4535445d12b41bacc5e12"
  },
  "kernelspec": {
   "display_name": "Python 3.7.5 64-bit ('lx128_p3_dev': conda)",
   "language": "python",
   "name": "python3"
  },
  "language_info": {
   "codemirror_mode": {
    "name": "ipython",
    "version": 3
   },
   "file_extension": ".py",
   "mimetype": "text/x-python",
   "name": "python",
   "nbconvert_exporter": "python",
   "pygments_lexer": "ipython3",
   "version": "3.7.5"
  },
  "orig_nbformat": 4
 },
 "nbformat": 4,
 "nbformat_minor": 2
}
