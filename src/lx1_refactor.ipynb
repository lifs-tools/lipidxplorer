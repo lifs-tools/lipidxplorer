{
 "cells": [
  {
   "cell_type": "code",
   "execution_count": 2,
   "metadata": {
    "pycharm": {
     "name": "#%%\n"
    }
   },
   "outputs": [
    {
     "name": "stdout",
     "output_type": "stream",
     "text": [
      "[11:40:28] {comtypes.client._code_cache:95} INFO - Imported existing <module 'comtypes.gen' from 'c:\\\\Users\\\\mirandaa\\\\Anaconda3\\\\envs\\\\lx128_p3_Dev\\\\lib\\\\site-packages\\\\comtypes\\\\gen\\\\__init__.py'>\n",
      "[11:40:28] {comtypes.client._code_cache:72} INFO - Using writeable comtypes cache directory: 'c:\\Users\\mirandaa\\Anaconda3\\envs\\lx128_p3_Dev\\lib\\site-packages\\comtypes\\gen'\n"
     ]
    }
   ],
   "source": [
    "import pandas as pd\n",
    "import numpy as np\n",
    "from LX2_masterscan import mz_ml_paths, spectra_2_df\n"
   ]
  },
  {
   "cell_type": "code",
   "execution_count": 13,
   "metadata": {
    "pycharm": {
     "name": "#%%\n"
    }
   },
   "outputs": [],
   "source": [
    "import pickle\n",
    "with open('optoins.pkl','rb') as f: options = pickle.load(f)"
   ]
  },
  {
   "cell_type": "code",
   "execution_count": null,
   "metadata": {
    "pycharm": {
     "name": "#%%\n"
    }
   },
   "outputs": [],
   "source": [
    "mzmls = mz_ml_paths(options)\n",
    "samples = [p.stem for p in mzmls]"
   ]
  },
  {
   "cell_type": "code",
   "execution_count": 4,
   "metadata": {
    "pycharm": {
     "name": "#%%\n"
    }
   },
   "outputs": [
    {
     "name": "stdout",
     "output_type": "stream",
     "text": [
      "[11:40:51] {ms_deisotope.data_source.scan.loader:376} INFO - Disposing of MzMLLoader('test_resources\\\\small_test\\\\190321_Serum_Lipidextract_368723_01.mzML') with 2 extant scans attached to it.\n",
      "[11:40:52] {LX2_masterscan:304} INFO - spectra 190321_Serum_Lipidextract_368723_01, size: (368085, 8)\n",
      "[11:41:07] {ms_deisotope.data_source.scan.loader:376} INFO - Disposing of MzMLLoader('test_resources\\\\small_test\\\\190321_Serum_Lipidextract_368723_02.mzML') with 2 extant scans attached to it.\n",
      "[11:41:07] {LX2_masterscan:304} INFO - spectra 190321_Serum_Lipidextract_368723_02, size: (389793, 8)\n"
     ]
    }
   ],
   "source": [
    "spectra_dfs = spectra_2_df(options)\n"
   ]
  },
  {
   "cell_type": "code",
   "execution_count": 5,
   "metadata": {
    "pycharm": {
     "name": "#%%\n"
    }
   },
   "outputs": [],
   "source": [
    "for spectra_df in spectra_dfs:\n",
    "    break"
   ]
  },
  {
   "cell_type": "code",
   "execution_count": null,
   "metadata": {
    "pycharm": {
     "name": "#%%\n"
    }
   },
   "outputs": [],
   "source": [
    "def guess_selection_window (spectra_df):\n",
    "    precursor_mzs = spectra_df.loc[~spectra_df.precursor_id.isna()].precursor_mz.drop_duplicates()\n",
    "    precursor_mzs.sort_values(inplace=True)\n",
    "    agg_data = precursor_mzs.diff().agg(['mean','std'])\n",
    "\n",
    "    mean_less_std = agg_data.at['mean'] - agg_data.at['std']\n",
    "    if mean_less_std > 0:\n",
    "        res =  mean_less_std / 2\n",
    "    else:\n",
    "        res =  agg_data.at['mean'] /2\n",
    "\n",
    "    return res"
   ]
  },
  {
   "cell_type": "code",
   "execution_count": null,
   "metadata": {
    "pycharm": {
     "name": "#%%\n"
    }
   },
   "outputs": [],
   "source": [
    "# suggest tolerance\n",
    "# sugest calibration masses using suggested tolerance\n",
    "scan_count = spectra_df.loc[spectra_df.precursor_id.isna()].scan_id.unique().size\n"
   ]
  },
  {
   "cell_type": "code",
   "execution_count": null,
   "metadata": {
    "pycharm": {
     "name": "#%%\n"
    }
   },
   "outputs": [],
   "source": [
    "scan_count"
   ]
  },
  {
   "cell_type": "code",
   "execution_count": 18,
   "metadata": {
    "pycharm": {
     "name": "#%%\n"
    }
   },
   "outputs": [],
   "source": [
    "df = spectra_df.loc[spectra_df.precursor_id.isna()]"
   ]
  },
  {
   "cell_type": "code",
   "execution_count": 19,
   "metadata": {
    "pycharm": {
     "name": "#%%\n"
    }
   },
   "outputs": [
    {
     "name": "stderr",
     "output_type": "stream",
     "text": [
      "c:\\Users\\mirandaa\\Anaconda3\\envs\\lx128_p3_Dev\\lib\\site-packages\\ipykernel_launcher.py:1: SettingWithCopyWarning: \n",
      "A value is trying to be set on a copy of a slice from a DataFrame\n",
      "\n",
      "See the caveats in the documentation: http://pandas.pydata.org/pandas-docs/stable/user_guide/indexing.html#returning-a-view-versus-a-copy\n",
      "  \"\"\"Entry point for launching an IPython kernel.\n"
     ]
    }
   ],
   "source": [
    "df.sort_values('mz', inplace=True)"
   ]
  },
  {
   "cell_type": "code",
   "execution_count": 8,
   "metadata": {
    "pycharm": {
     "name": "#%%\n"
    }
   },
   "outputs": [],
   "source": [
    "def bin_linear_alignment(masses, options):\n",
    "    # TODO assert masses are ordered\n",
    "    up_to = None\n",
    "    for _, mass in masses.iteritems():\n",
    "        if up_to is None:\n",
    "            #up_to = mass + tolerance.getTinDA(mass) this is how its done in some places, but reuslt are not identical to below\n",
    "            up_to = mass + mass / options[\"MSresolution\"].tolerance \n",
    "        if mass <= up_to:\n",
    "            yield up_to\n",
    "        else:\n",
    "            up_to = mass + mass / options[\"MSresolution\"].tolerance\n",
    "            yield up_to\n"
   ]
  },
  {
   "cell_type": "code",
   "execution_count": 20,
   "metadata": {
    "pycharm": {
     "name": "#%%\n"
    }
   },
   "outputs": [
    {
     "name": "stderr",
     "output_type": "stream",
     "text": [
      "c:\\Users\\mirandaa\\Anaconda3\\envs\\lx128_p3_Dev\\lib\\site-packages\\ipykernel_launcher.py:5: SettingWithCopyWarning: \n",
      "A value is trying to be set on a copy of a slice from a DataFrame.\n",
      "Try using .loc[row_indexer,col_indexer] = value instead\n",
      "\n",
      "See the caveats in the documentation: http://pandas.pydata.org/pandas-docs/stable/user_guide/indexing.html#returning-a-view-versus-a-copy\n",
      "  \"\"\"\n"
     ]
    }
   ],
   "source": [
    "bins1 = list(bin_linear_alignment(df.mz, options))\n",
    "bins2 = list(bin_linear_alignment(df.groupby(bins1)[\"mz\"].transform(\"mean\"), options))\n",
    "bins3 = list(bin_linear_alignment(df.groupby(bins2)[\"mz\"].transform(\"mean\"),options))\n",
    "\n",
    "df['bin_mass'] = bins3 "
   ]
  },
  {
   "cell_type": "markdown",
   "metadata": {
    "pycharm": {
     "name": "#%% md\n"
    }
   },
   "source": [
    "------------------------------------"
   ]
  },
  {
   "cell_type": "markdown",
   "metadata": {
    "pycharm": {
     "name": "#%% md\n"
    }
   },
   "source": [
    "-------------------------------------"
   ]
  },
  {
   "cell_type": "code",
   "execution_count": 21,
   "metadata": {
    "pycharm": {
     "name": "#%%\n"
    }
   },
   "outputs": [
    {
     "name": "stderr",
     "output_type": "stream",
     "text": [
      "c:\\Users\\mirandaa\\Anaconda3\\envs\\lx128_p3_Dev\\lib\\site-packages\\ipykernel_launcher.py:1: SettingWithCopyWarning: \n",
      "A value is trying to be set on a copy of a slice from a DataFrame\n",
      "\n",
      "See the caveats in the documentation: http://pandas.pydata.org/pandas-docs/stable/user_guide/indexing.html#returning-a-view-versus-a-copy\n",
      "  \"\"\"Entry point for launching an IPython kernel.\n",
      "c:\\Users\\mirandaa\\Anaconda3\\envs\\lx128_p3_Dev\\lib\\site-packages\\ipykernel_launcher.py:4: SettingWithCopyWarning: \n",
      "A value is trying to be set on a copy of a slice from a DataFrame.\n",
      "Try using .loc[row_indexer,col_indexer] = value instead\n",
      "\n",
      "See the caveats in the documentation: http://pandas.pydata.org/pandas-docs/stable/user_guide/indexing.html#returning-a-view-versus-a-copy\n",
      "  after removing the cwd from sys.path.\n",
      "c:\\Users\\mirandaa\\Anaconda3\\envs\\lx128_p3_Dev\\lib\\site-packages\\ipykernel_launcher.py:5: SettingWithCopyWarning: \n",
      "A value is trying to be set on a copy of a slice from a DataFrame.\n",
      "Try using .loc[row_indexer,col_indexer] = value instead\n",
      "\n",
      "See the caveats in the documentation: http://pandas.pydata.org/pandas-docs/stable/user_guide/indexing.html#returning-a-view-versus-a-copy\n",
      "  \"\"\"\n"
     ]
    }
   ],
   "source": [
    "df.sort_values('mz', ascending = False, inplace=True)\n",
    "# repetition_rate = 0.7\n",
    "scan_count = df.scan_id.unique().size\n",
    "df['mz_diff'] = df.mz.diff(-1)\n",
    "df['mz_diff_long'] = df['mz_diff'].rolling(scan_count).mean() # neg because of sorting order\n",
    "# short_count = scan_count * repetition_rate\n",
    "# df['mz_diff_short'] = df.mz.diff().rolling(int(short_count)).mean()\n",
    "# df['scan_id_f'] = df['scan_id'].factorize()[0]\n",
    "# df['scan_cnt'] = df.scan_id_f.rolling(scan_count).apply(lambda s: len(set(s)))\n",
    "\n"
   ]
  },
  {
   "cell_type": "code",
   "execution_count": 22,
   "metadata": {
    "pycharm": {
     "name": "#%%\n"
    }
   },
   "outputs": [],
   "source": [
    "\n",
    "def diff_bin(df):\n",
    "\n",
    "    cur_bin = 0\n",
    "    curr_long = 0.01\n",
    "\n",
    "    for tup in df.itertuples():\n",
    "        yield cur_bin\n",
    "        if tup.mz_diff > curr_long:\n",
    "            cur_bin +=1\n",
    "        \n",
    "        if tup.mz_diff_long < curr_long:\n",
    "            curr_long = tup.mz_diff_long\n",
    "\n"
   ]
  },
  {
   "cell_type": "code",
   "execution_count": null,
   "metadata": {
    "pycharm": {
     "name": "#%%\n"
    }
   },
   "outputs": [],
   "source": [
    "df.to_clipboard()"
   ]
  },
  {
   "cell_type": "code",
   "execution_count": 23,
   "metadata": {
    "pycharm": {
     "name": "#%%\n"
    }
   },
   "outputs": [
    {
     "name": "stderr",
     "output_type": "stream",
     "text": [
      "c:\\Users\\mirandaa\\Anaconda3\\envs\\lx128_p3_Dev\\lib\\site-packages\\ipykernel_launcher.py:1: SettingWithCopyWarning: \n",
      "A value is trying to be set on a copy of a slice from a DataFrame.\n",
      "Try using .loc[row_indexer,col_indexer] = value instead\n",
      "\n",
      "See the caveats in the documentation: http://pandas.pydata.org/pandas-docs/stable/user_guide/indexing.html#returning-a-view-versus-a-copy\n",
      "  \"\"\"Entry point for launching an IPython kernel.\n"
     ]
    }
   ],
   "source": [
    "df['diff_bin'] = list(diff_bin(df))"
   ]
  },
  {
   "cell_type": "code",
   "execution_count": null,
   "metadata": {
    "pycharm": {
     "name": "#%%\n"
    }
   },
   "outputs": [],
   "source": [
    "def get_collapsable_bins(df):\n",
    "    df['scan_id_f'] = df['scan_id'].factorize()[0]\n",
    "    grouped = df.groupby('diff_bin')\n",
    "    grouped_stats = grouped.agg({'mz':['max','min','std']})\n",
    "    close_mz = grouped_stats[('mz','min')] - grouped_stats[('mz','max')].shift(-1) < grouped_stats[('mz','std')] + grouped_stats[('mz','std')].shift(-1)\n",
    "    close_mz_groups = close_mz[close_mz | close_mz.shift(1)].index.to_numpy()\n",
    "    close_sets = df.loc[df.diff_bin.isin(close_mz_groups)].groupby('diff_bin')['scan_id_f'].apply(lambda s:set(s))\n",
    "\n",
    "    collapsable_map = {}\n",
    "    prev_set = set()\n",
    "    prev_idx = 0\n",
    "    merging = False\n",
    "    for idx, curr_set in close_sets.iteritems():\n",
    "        if (idx - prev_idx <=1 or merging) and not curr_set.intersection(prev_set):\n",
    "            collapsable_map[idx] = prev_idx\n",
    "            prev_set.update(curr_set)\n",
    "            merging = True\n",
    "        prev_idx = idx\n",
    "        prev_set = curr_set\n",
    "        merging = False\n",
    "    \n",
    "    return collapsable_map"
   ]
  },
  {
   "cell_type": "code",
   "execution_count": 79,
   "metadata": {
    "pycharm": {
     "name": "#%%\n"
    }
   },
   "outputs": [
    {
     "name": "stderr",
     "output_type": "stream",
     "text": [
      "c:\\Users\\mirandaa\\Anaconda3\\envs\\lx128_p3_Dev\\lib\\site-packages\\ipykernel_launcher.py:1: SettingWithCopyWarning: \n",
      "A value is trying to be set on a copy of a slice from a DataFrame.\n",
      "Try using .loc[row_indexer,col_indexer] = value instead\n",
      "\n",
      "See the caveats in the documentation: http://pandas.pydata.org/pandas-docs/stable/user_guide/indexing.html#returning-a-view-versus-a-copy\n",
      "  \"\"\"Entry point for launching an IPython kernel.\n"
     ]
    }
   ],
   "source": [
    "df['scan_id_f'] = df['scan_id'].factorize()[0]\n",
    "grouped = df.groupby('diff_bin')\n",
    "grouped_stats = grouped.agg({'mz':['max','min','std']})\n",
    "close_mz = grouped_stats[('mz','min')] - grouped_stats[('mz','max')].shift(-1) < grouped_stats[('mz','std')] + grouped_stats[('mz','std')].shift(-1)\n",
    "close_mz_groups = close_mz[close_mz | close_mz.shift(1)].index.to_numpy()\n",
    "close_sets = df.loc[df.diff_bin.isin(close_mz_groups)].groupby('diff_bin')['scan_id_f'].apply(lambda s:set(s))"
   ]
  },
  {
   "cell_type": "code",
   "execution_count": 80,
   "metadata": {
    "pycharm": {
     "name": "#%%\n"
    }
   },
   "outputs": [],
   "source": [
    "\n",
    "res = {}\n",
    "prev_set = set()\n",
    "prev_idx = 0\n",
    "merging = False\n",
    "for idx, curr_set in close_sets.iteritems():\n",
    "    if (idx - prev_idx <=1 or merging) and not curr_set.intersection(prev_set):\n",
    "        res[idx] = prev_idx\n",
    "        prev_set.update(curr_set)\n",
    "        merging = True\n",
    "    prev_idx = idx\n",
    "    prev_set = curr_set\n",
    "    merging = False"
   ]
  },
  {
   "cell_type": "code",
   "execution_count": 81,
   "metadata": {
    "pycharm": {
     "name": "#%%\n"
    }
   },
   "outputs": [
    {
     "data": {
      "text/plain": [
       "{74: 73,\n",
       " 119: 118,\n",
       " 169: 168,\n",
       " 356: 355,\n",
       " 389: 388,\n",
       " 393: 392,\n",
       " 438: 437,\n",
       " 468: 467,\n",
       " 481: 480,\n",
       " 503: 502,\n",
       " 567: 566,\n",
       " 577: 576,\n",
       " 585: 584,\n",
       " 601: 600,\n",
       " 622: 621,\n",
       " 635: 634,\n",
       " 638: 637,\n",
       " 642: 641,\n",
       " 654: 653,\n",
       " 655: 654,\n",
       " 682: 681,\n",
       " 692: 691,\n",
       " 694: 693,\n",
       " 716: 715,\n",
       " 718: 717,\n",
       " 747: 746,\n",
       " 749: 748,\n",
       " 788: 787,\n",
       " 806: 805,\n",
       " 844: 843,\n",
       " 861: 860,\n",
       " 872: 871,\n",
       " 897: 896,\n",
       " 901: 900,\n",
       " 908: 907,\n",
       " 909: 908,\n",
       " 910: 909,\n",
       " 945: 944,\n",
       " 950: 949,\n",
       " 1014: 1013,\n",
       " 1029: 1028,\n",
       " 1030: 1029,\n",
       " 1045: 1044,\n",
       " 1047: 1046,\n",
       " 1072: 1071,\n",
       " 1089: 1088,\n",
       " 1098: 1097,\n",
       " 1110: 1109,\n",
       " 1117: 1116,\n",
       " 1131: 1130,\n",
       " 1137: 1136,\n",
       " 1197: 1196,\n",
       " 1221: 1220,\n",
       " 1239: 1238,\n",
       " 1241: 1240,\n",
       " 1259: 1258,\n",
       " 1286: 1285,\n",
       " 1300: 1299,\n",
       " 1311: 1310,\n",
       " 1343: 1342,\n",
       " 1355: 1354,\n",
       " 1405: 1404,\n",
       " 1413: 1412,\n",
       " 1434: 1433,\n",
       " 1472: 1471,\n",
       " 1489: 1488,\n",
       " 1494: 1493,\n",
       " 1506: 1505,\n",
       " 1513: 1512,\n",
       " 1515: 1514,\n",
       " 1524: 1523,\n",
       " 1544: 1543,\n",
       " 1581: 1580,\n",
       " 1589: 1588,\n",
       " 1603: 1602,\n",
       " 1612: 1611,\n",
       " 1627: 1626,\n",
       " 1715: 1714,\n",
       " 1728: 1727,\n",
       " 1817: 1816,\n",
       " 1821: 1820,\n",
       " 1850: 1849,\n",
       " 1851: 1850,\n",
       " 1852: 1851,\n",
       " 1853: 1852,\n",
       " 1875: 1874,\n",
       " 1895: 1894,\n",
       " 1900: 1899,\n",
       " 1924: 1923,\n",
       " 1925: 1924,\n",
       " 1926: 1925,\n",
       " 1967: 1966,\n",
       " 1975: 1974,\n",
       " 1984: 1983,\n",
       " 1988: 1987,\n",
       " 1993: 1992,\n",
       " 2015: 2014,\n",
       " 2048: 2047,\n",
       " 2058: 2057,\n",
       " 2066: 2065,\n",
       " 2107: 2106,\n",
       " 2108: 2107,\n",
       " 2134: 2133,\n",
       " 2182: 2181,\n",
       " 2183: 2182,\n",
       " 2203: 2202,\n",
       " 2211: 2210,\n",
       " 2229: 2228,\n",
       " 2238: 2237,\n",
       " 2242: 2241,\n",
       " 2246: 2245,\n",
       " 2281: 2280,\n",
       " 2286: 2285,\n",
       " 2310: 2309,\n",
       " 2321: 2320,\n",
       " 2342: 2341,\n",
       " 2343: 2342,\n",
       " 2381: 2380,\n",
       " 2395: 2394,\n",
       " 2396: 2395,\n",
       " 2413: 2412,\n",
       " 2414: 2413,\n",
       " 2424: 2423,\n",
       " 2432: 2431,\n",
       " 2443: 2442,\n",
       " 2451: 2450,\n",
       " 2452: 2451,\n",
       " 2461: 2460,\n",
       " 2482: 2481,\n",
       " 2523: 2522,\n",
       " 2530: 2529,\n",
       " 2535: 2534,\n",
       " 2542: 2541,\n",
       " 2552: 2551,\n",
       " 2560: 2559,\n",
       " 2592: 2591,\n",
       " 2606: 2605,\n",
       " 2614: 2613,\n",
       " 2635: 2634,\n",
       " 2666: 2665,\n",
       " 2667: 2666,\n",
       " 2685: 2684,\n",
       " 2724: 2723,\n",
       " 2731: 2730,\n",
       " 2734: 2733,\n",
       " 2746: 2745,\n",
       " 2749: 2748,\n",
       " 2764: 2763,\n",
       " 2765: 2764,\n",
       " 2773: 2772,\n",
       " 2779: 2778,\n",
       " 2782: 2781,\n",
       " 2796: 2795,\n",
       " 2841: 2840,\n",
       " 2844: 2843,\n",
       " 2872: 2871,\n",
       " 2891: 2890,\n",
       " 2902: 2901,\n",
       " 2928: 2927,\n",
       " 2952: 2951,\n",
       " 2958: 2957,\n",
       " 3012: 3011,\n",
       " 3039: 3038,\n",
       " 3068: 3067,\n",
       " 3073: 3072,\n",
       " 3102: 3101,\n",
       " 3109: 3108,\n",
       " 3161: 3160,\n",
       " 3167: 3166,\n",
       " 3168: 3167,\n",
       " 3169: 3168,\n",
       " 3178: 3177,\n",
       " 3233: 3232,\n",
       " 3260: 3259,\n",
       " 3290: 3289,\n",
       " 3291: 3290,\n",
       " 3302: 3301,\n",
       " 3334: 3333,\n",
       " 3357: 3356,\n",
       " 3358: 3357,\n",
       " 3366: 3365,\n",
       " 3367: 3366,\n",
       " 3368: 3367,\n",
       " 3375: 3374,\n",
       " 3437: 3436,\n",
       " 3438: 3437,\n",
       " 3478: 3477,\n",
       " 3481: 3480,\n",
       " 3488: 3487,\n",
       " 3505: 3504,\n",
       " 3506: 3505,\n",
       " 3516: 3515,\n",
       " 3522: 3521,\n",
       " 3530: 3529,\n",
       " 3531: 3530,\n",
       " 3556: 3555,\n",
       " 3560: 3559,\n",
       " 3570: 3569,\n",
       " 3571: 3570,\n",
       " 3626: 3625,\n",
       " 3628: 3627,\n",
       " 3629: 3628,\n",
       " 3651: 3650,\n",
       " 3665: 3664,\n",
       " 3677: 3676,\n",
       " 3694: 3693,\n",
       " 3714: 3713,\n",
       " 3755: 3754,\n",
       " 3770: 3769,\n",
       " 3778: 3777,\n",
       " 3810: 3809,\n",
       " 3816: 3815,\n",
       " 3820: 3819,\n",
       " 3827: 3826,\n",
       " 3836: 3835,\n",
       " 3856: 3855,\n",
       " 3876: 3875,\n",
       " 3879: 3878,\n",
       " 3890: 3889,\n",
       " 3897: 3896,\n",
       " 3908: 3907,\n",
       " 3916: 3915,\n",
       " 3927: 3926,\n",
       " 3932: 3931,\n",
       " 3958: 3957,\n",
       " 3974: 3973,\n",
       " 4007: 4006,\n",
       " 4013: 4012,\n",
       " 4043: 4042,\n",
       " 4049: 4048,\n",
       " 4082: 4081,\n",
       " 4083: 4082,\n",
       " 4092: 4091,\n",
       " 4103: 4102,\n",
       " 4122: 4121,\n",
       " 4123: 4122,\n",
       " 4133: 4132,\n",
       " 4150: 4149,\n",
       " 4154: 4153,\n",
       " 4164: 4163,\n",
       " 4184: 4183,\n",
       " 4191: 4190,\n",
       " 4195: 4194,\n",
       " 4199: 4198,\n",
       " 4200: 4199,\n",
       " 4215: 4214,\n",
       " 4250: 4249,\n",
       " 4268: 4267,\n",
       " 4295: 4294,\n",
       " 4306: 4305,\n",
       " 4309: 4308,\n",
       " 4310: 4309,\n",
       " 4357: 4356,\n",
       " 4371: 4370,\n",
       " 4378: 4377,\n",
       " 4408: 4407,\n",
       " 4431: 4430,\n",
       " 4433: 4432,\n",
       " 4446: 4445,\n",
       " 4461: 4460,\n",
       " 4470: 4469,\n",
       " 4485: 4484,\n",
       " 4510: 4509,\n",
       " 4559: 4558,\n",
       " 4574: 4573,\n",
       " 4600: 4599,\n",
       " 4604: 4603,\n",
       " 4617: 4616,\n",
       " 4626: 4625,\n",
       " 4627: 4626,\n",
       " 4648: 4647,\n",
       " 4671: 4670,\n",
       " 4674: 4673,\n",
       " 4696: 4695,\n",
       " 4710: 4709,\n",
       " 4738: 4737,\n",
       " 4743: 4742,\n",
       " 4752: 4751,\n",
       " 4758: 4757,\n",
       " 4775: 4774,\n",
       " 4794: 4793,\n",
       " 4797: 4796,\n",
       " 4798: 4797,\n",
       " 4831: 4830,\n",
       " 4842: 4841,\n",
       " 4848: 4847,\n",
       " 4890: 4889,\n",
       " 4914: 4913,\n",
       " 4915: 4914,\n",
       " 4927: 4926,\n",
       " 4928: 4927,\n",
       " 4937: 4936,\n",
       " 4946: 4945,\n",
       " 4983: 4982,\n",
       " 4995: 4994,\n",
       " 5008: 5007,\n",
       " 5019: 5018,\n",
       " 5031: 5030,\n",
       " 5037: 5036,\n",
       " 5065: 5064,\n",
       " 5071: 5070,\n",
       " 5075: 5074,\n",
       " 5129: 5128,\n",
       " 5175: 5174,\n",
       " 5180: 5179,\n",
       " 5202: 5201,\n",
       " 5265: 5264,\n",
       " 5271: 5270,\n",
       " 5312: 5311,\n",
       " 5347: 5346,\n",
       " 5361: 5360,\n",
       " 5391: 5390,\n",
       " 5419: 5418,\n",
       " 5432: 5431,\n",
       " 5438: 5437,\n",
       " 5466: 5465,\n",
       " 5483: 5482,\n",
       " 5496: 5495,\n",
       " 5505: 5504,\n",
       " 5506: 5505,\n",
       " 5538: 5537,\n",
       " 5560: 5559,\n",
       " 5571: 5570,\n",
       " 5602: 5601,\n",
       " 5634: 5633,\n",
       " 5677: 5676,\n",
       " 5695: 5694,\n",
       " 5714: 5713,\n",
       " 5727: 5726,\n",
       " 5783: 5782,\n",
       " 5809: 5808,\n",
       " 5810: 5809,\n",
       " 5827: 5826,\n",
       " 5872: 5871,\n",
       " 5889: 5888,\n",
       " 5903: 5902,\n",
       " 5908: 5907,\n",
       " 5951: 5950,\n",
       " 5976: 5975,\n",
       " 6010: 6009,\n",
       " 6011: 6010,\n",
       " 6021: 6020,\n",
       " 6058: 6057,\n",
       " 6072: 6071,\n",
       " 6121: 6120,\n",
       " 6127: 6126,\n",
       " 6128: 6127,\n",
       " 6172: 6171,\n",
       " 6203: 6202,\n",
       " 6230: 6229,\n",
       " 6257: 6256,\n",
       " 6275: 6274,\n",
       " 6288: 6287,\n",
       " 6295: 6294,\n",
       " 6296: 6295,\n",
       " 6327: 6326,\n",
       " 6331: 6330,\n",
       " 6373: 6372,\n",
       " 6392: 6391,\n",
       " 6428: 6427,\n",
       " 6440: 6439,\n",
       " 6447: 6446,\n",
       " 6453: 6452,\n",
       " 6457: 6456,\n",
       " 6494: 6493,\n",
       " 6495: 6494,\n",
       " 6508: 6507,\n",
       " 6522: 6521,\n",
       " 6537: 6536,\n",
       " 6541: 6540,\n",
       " 6584: 6583,\n",
       " 6589: 6588,\n",
       " 6590: 6589,\n",
       " 6611: 6610,\n",
       " 6618: 6617,\n",
       " 6631: 6630,\n",
       " 6637: 6636,\n",
       " 6638: 6637,\n",
       " 6646: 6645,\n",
       " 6660: 6659,\n",
       " 6707: 6706,\n",
       " 6746: 6745,\n",
       " 6750: 6749,\n",
       " 6771: 6770,\n",
       " 6795: 6794,\n",
       " 6801: 6800,\n",
       " 6822: 6821,\n",
       " 6858: 6857,\n",
       " 6862: 6861,\n",
       " 6869: 6868,\n",
       " 6875: 6874,\n",
       " 6876: 6875,\n",
       " 6882: 6881,\n",
       " 6923: 6922,\n",
       " 6955: 6954,\n",
       " 6980: 6979,\n",
       " 6987: 6986,\n",
       " 6988: 6987,\n",
       " 6996: 6995,\n",
       " 7066: 7065,\n",
       " 7111: 7110,\n",
       " 7147: 7146,\n",
       " 7151: 7150,\n",
       " 7196: 7195,\n",
       " 7199: 7198,\n",
       " 7248: 7247,\n",
       " 7254: 7253,\n",
       " 7270: 7269,\n",
       " 7281: 7280,\n",
       " 7354: 7353,\n",
       " 7361: 7360,\n",
       " 7369: 7368,\n",
       " 7392: 7391,\n",
       " 7439: 7438,\n",
       " 7457: 7456,\n",
       " 7458: 7457,\n",
       " 7461: 7460,\n",
       " 7477: 7476,\n",
       " 7483: 7482,\n",
       " 7544: 7543,\n",
       " 7559: 7558,\n",
       " 7589: 7588,\n",
       " 7618: 7617,\n",
       " 7633: 7632,\n",
       " 7638: 7637,\n",
       " 7695: 7694,\n",
       " 7757: 7756,\n",
       " 7761: 7760,\n",
       " 7780: 7779,\n",
       " 7781: 7780,\n",
       " 7799: 7798,\n",
       " 7819: 7818,\n",
       " 7820: 7819,\n",
       " 7829: 7828,\n",
       " 7874: 7873,\n",
       " 7916: 7915,\n",
       " 7962: 7961,\n",
       " 7997: 7996,\n",
       " 8009: 8008,\n",
       " 8021: 8020,\n",
       " 8031: 8030,\n",
       " 8037: 8036,\n",
       " 8038: 8037,\n",
       " 8083: 8082,\n",
       " 8084: 8083,\n",
       " 8097: 8096,\n",
       " 8134: 8133,\n",
       " 8141: 8140,\n",
       " 8142: 8141,\n",
       " 8158: 8157,\n",
       " 8159: 8158,\n",
       " 8191: 8190,\n",
       " 8208: 8207,\n",
       " 8217: 8216,\n",
       " 8218: 8217,\n",
       " 8221: 8220,\n",
       " 8226: 8225,\n",
       " 8300: 8299,\n",
       " 8310: 8309,\n",
       " 8322: 8321,\n",
       " 8323: 8322,\n",
       " 8328: 8327,\n",
       " 8341: 8340,\n",
       " 8351: 8350,\n",
       " 8386: 8385,\n",
       " 8428: 8427,\n",
       " 8493: 8492,\n",
       " 8575: 8574,\n",
       " 8576: 8575,\n",
       " 8577: 8576,\n",
       " 8578: 8577,\n",
       " 8579: 8578,\n",
       " 8587: 8586,\n",
       " 8638: 8637,\n",
       " 8672: 8671,\n",
       " 8676: 8675,\n",
       " 8702: 8701,\n",
       " 8710: 8709,\n",
       " 8735: 8734,\n",
       " 8741: 8740,\n",
       " 8786: 8785,\n",
       " 8799: 8798,\n",
       " 8814: 8813,\n",
       " 8815: 8814,\n",
       " 8872: 8871,\n",
       " 8897: 8896,\n",
       " 8922: 8921,\n",
       " 8958: 8957,\n",
       " 8980: 8979,\n",
       " 8992: 8991,\n",
       " 9001: 9000,\n",
       " 9019: 9018,\n",
       " 9051: 9050,\n",
       " 9062: 9061,\n",
       " 9075: 9074,\n",
       " 9155: 9154,\n",
       " 9190: 9189,\n",
       " 9197: 9196,\n",
       " 9213: 9212,\n",
       " 9214: 9213,\n",
       " 9218: 9217,\n",
       " 9297: 9296,\n",
       " 9362: 9361,\n",
       " 9370: 9369,\n",
       " 9373: 9372,\n",
       " 9381: 9380,\n",
       " 9397: 9396,\n",
       " 9459: 9458,\n",
       " 9504: 9503,\n",
       " 9508: 9507,\n",
       " 9614: 9613,\n",
       " 9619: 9618,\n",
       " 9620: 9619,\n",
       " 9660: 9659,\n",
       " 9667: 9666,\n",
       " 9671: 9670,\n",
       " 9691: 9690,\n",
       " 9702: 9701,\n",
       " 9756: 9755,\n",
       " 9758: 9757,\n",
       " 9799: 9798,\n",
       " 9807: 9806,\n",
       " 9808: 9807,\n",
       " 9825: 9824,\n",
       " 9838: 9837,\n",
       " 9839: 9838,\n",
       " 9857: 9856,\n",
       " 9858: 9857,\n",
       " 9869: 9868,\n",
       " 9887: 9886,\n",
       " 9891: 9890,\n",
       " 9926: 9925,\n",
       " 9948: 9947,\n",
       " 10005: 10004,\n",
       " 10037: 10036,\n",
       " 10057: 10056,\n",
       " 10065: 10064,\n",
       " 10078: 10077,\n",
       " 10098: 10097,\n",
       " 10133: 10132,\n",
       " 10157: 10156,\n",
       " 10172: 10171,\n",
       " 10182: 10181,\n",
       " 10208: 10207,\n",
       " 10209: 10208,\n",
       " 10234: 10233,\n",
       " 10263: 10262,\n",
       " 10280: 10279,\n",
       " 10301: 10300,\n",
       " 10302: 10301,\n",
       " 10312: 10311,\n",
       " 10372: 10371,\n",
       " 10373: 10372,\n",
       " 10397: 10396,\n",
       " 10431: 10430,\n",
       " 10456: 10455,\n",
       " 10492: 10491,\n",
       " 10513: 10512,\n",
       " 10627: 10626,\n",
       " 10722: 10721,\n",
       " 10723: 10722,\n",
       " 10735: 10734,\n",
       " 10769: 10768,\n",
       " 10783: 10782,\n",
       " 10799: 10798,\n",
       " 10816: 10815,\n",
       " 10832: 10831,\n",
       " 10860: 10859,\n",
       " 10868: 10867,\n",
       " 10880: 10879,\n",
       " 10889: 10888,\n",
       " 10922: 10921,\n",
       " 10950: 10949,\n",
       " 10951: 10950,\n",
       " 10969: 10968,\n",
       " 10972: 10971,\n",
       " 11037: 11036,\n",
       " 11044: 11043,\n",
       " 11056: 11055,\n",
       " 11063: 11062,\n",
       " 11073: 11072,\n",
       " 11084: 11083,\n",
       " 11147: 11146,\n",
       " 11190: 11189,\n",
       " 11199: 11198,\n",
       " 11262: 11261,\n",
       " 11300: 11299,\n",
       " 11304: 11303,\n",
       " 11380: 11379,\n",
       " 11381: 11380,\n",
       " 11385: 11384,\n",
       " 11386: 11385,\n",
       " 11455: 11454,\n",
       " 11457: 11456,\n",
       " 11498: 11497,\n",
       " 11522: 11521,\n",
       " 11609: 11608,\n",
       " 11617: 11616,\n",
       " 11627: 11626,\n",
       " 11630: 11629,\n",
       " 11636: 11635,\n",
       " 11641: 11640,\n",
       " 11646: 11645,\n",
       " 11674: 11673,\n",
       " 11722: 11721,\n",
       " 11756: 11755,\n",
       " 11785: 11784,\n",
       " 11796: 11795,\n",
       " 11818: 11817,\n",
       " 11858: 11857,\n",
       " 11861: 11860,\n",
       " 11872: 11871,\n",
       " 11873: 11872,\n",
       " 11901: 11900,\n",
       " 11946: 11945,\n",
       " 11970: 11969,\n",
       " 11983: 11982,\n",
       " 12002: 12001,\n",
       " 12016: 12015,\n",
       " 12031: 12030,\n",
       " 12054: 12053,\n",
       " 12058: 12057,\n",
       " 12072: 12071,\n",
       " 12080: 12079,\n",
       " 12147: 12146,\n",
       " 12153: 12152,\n",
       " 12158: 12157,\n",
       " 12169: 12168,\n",
       " 12180: 12179,\n",
       " 12199: 12198,\n",
       " 12237: 12236,\n",
       " 12247: 12246,\n",
       " 12277: 12276,\n",
       " 12303: 12302,\n",
       " 12315: 12314,\n",
       " 12321: 12320,\n",
       " 12448: 12447,\n",
       " 12449: 12448,\n",
       " 12450: 12449,\n",
       " 12451: 12450,\n",
       " 12462: 12461,\n",
       " 12473: 12472,\n",
       " 12475: 12474,\n",
       " 12491: 12490,\n",
       " 12500: 12499,\n",
       " 12518: 12517,\n",
       " 12519: 12518,\n",
       " 12520: 12519,\n",
       " 12546: 12545,\n",
       " 12572: 12571,\n",
       " 12613: 12612,\n",
       " 12665: 12664,\n",
       " 12671: 12670,\n",
       " 12678: 12677,\n",
       " 12681: 12680,\n",
       " 12701: 12700,\n",
       " 12711: 12710,\n",
       " 12741: 12740,\n",
       " 12797: 12796,\n",
       " 12831: 12830,\n",
       " 12845: 12844,\n",
       " 12913: 12912,\n",
       " 12963: 12962,\n",
       " 12984: 12983,\n",
       " 13019: 13018,\n",
       " 13021: 13020,\n",
       " 13022: 13021,\n",
       " 13226: 13225,\n",
       " 13289: 13288,\n",
       " 13298: 13297,\n",
       " 13299: 13298,\n",
       " 13300: 13299,\n",
       " 13342: 13341,\n",
       " 13413: 13412,\n",
       " 13437: 13436,\n",
       " 13486: 13485,\n",
       " 13540: 13539,\n",
       " 13552: 13551,\n",
       " 13560: 13559,\n",
       " 13598: 13597,\n",
       " 13658: 13657,\n",
       " 13668: 13667,\n",
       " 13672: 13671,\n",
       " 13750: 13749,\n",
       " 13759: 13758,\n",
       " 13794: 13793,\n",
       " 13823: 13822,\n",
       " 13876: 13875,\n",
       " 13885: 13884,\n",
       " 13932: 13931,\n",
       " 13966: 13965,\n",
       " 13967: 13966,\n",
       " 13991: 13990,\n",
       " 14013: 14012,\n",
       " 14047: 14046,\n",
       " 14103: 14102,\n",
       " 14108: 14107,\n",
       " 14145: 14144,\n",
       " 14147: 14146,\n",
       " 14152: 14151,\n",
       " 14157: 14156,\n",
       " 14164: 14163,\n",
       " 14182: 14181,\n",
       " 14216: 14215,\n",
       " 14253: 14252,\n",
       " 14297: 14296,\n",
       " 14366: 14365,\n",
       " 14370: 14369,\n",
       " 14451: 14450,\n",
       " 14484: 14483,\n",
       " 14509: 14508,\n",
       " 14531: 14530,\n",
       " 14559: 14558,\n",
       " 14580: 14579,\n",
       " 14640: 14639,\n",
       " 14726: 14725,\n",
       " 14749: 14748,\n",
       " 14773: 14772,\n",
       " 14785: 14784,\n",
       " 14874: 14873,\n",
       " 14879: 14878,\n",
       " 14882: 14881}"
      ]
     },
     "execution_count": 81,
     "metadata": {},
     "output_type": "execute_result"
    }
   ],
   "source": [
    "res"
   ]
  },
  {
   "cell_type": "code",
   "execution_count": null,
   "metadata": {
    "pycharm": {
     "name": "#%%\n"
    }
   },
   "outputs": [],
   "source": [
    "# for merge collapse\n",
    "df['scan_id_f'] = df['scan_id'].factorize()[0]\n",
    "sets = df.groupby('diff_bin')['scan_id_f'].apply(lambda s:set(s))"
   ]
  },
  {
   "cell_type": "code",
   "execution_count": null,
   "metadata": {
    "pycharm": {
     "name": "#%%\n"
    }
   },
   "outputs": [],
   "source": [
    "def prev_intersetct(sets):\n",
    "    prev = set()\n",
    "    for curr in sets:\n",
    "        yield(curr.intersection(prev))\n",
    "        prev = curr"
   ]
  },
  {
   "cell_type": "code",
   "execution_count": null,
   "metadata": {
    "pycharm": {
     "name": "#%%\n"
    }
   },
   "outputs": [],
   "source": [
    "ints = list(prev_intersetct(sets))"
   ]
  },
  {
   "cell_type": "code",
   "execution_count": null,
   "metadata": {
    "pycharm": {
     "name": "#%%\n"
    }
   },
   "outputs": [],
   "source": [
    "res = []\n",
    "\n",
    "prev_scan_id_set = ()\n",
    "prev_min = 100_000\n",
    "prev_std = 0\n",
    "prev_cluster = 0\n",
    "for idx, gdf in df.groupby('diff_bin'):\n",
    "    if prev_min - gdf.mz.max() < prev_std + gdf.mz.std():\n",
    "        curr_set = set(gdf.scan_id_f)\n",
    "        if not curr_set.intersection(prev_scan_id_set):\n",
    "            prev_scan_id_set.update(curr_set)\n",
    "            res.append((idx,prev_cluster))\n",
    "        #candidarte\n",
    "    else:\n",
    "        prev_cluster = idx\n",
    "        prev_std = gdf.mz.std()\n",
    "        prev_min = gdf.mz.min()\n",
    "        prev_scan_id_set = set(gdf.scan_id_f)\n"
   ]
  },
  {
   "cell_type": "code",
   "execution_count": null,
   "metadata": {
    "pycharm": {
     "name": "#%%\n"
    }
   },
   "outputs": [],
   "source": [
    "res"
   ]
  },
  {
   "cell_type": "markdown",
   "metadata": {
    "pycharm": {
     "name": "#%% md\n"
    }
   },
   "source": [
    "--------------------\n"
   ]
  },
  {
   "cell_type": "code",
   "execution_count": null,
   "metadata": {
    "pycharm": {
     "name": "#%%\n"
    }
   },
   "outputs": [],
   "source": [
    "df['scan_cnt'] = df.scan_id_f.rolling(scan_count).apply(lambda s: len(set(s)))"
   ]
  },
  {
   "cell_type": "code",
   "execution_count": null,
   "metadata": {
    "pycharm": {
     "name": "#%%\n"
    }
   },
   "outputs": [],
   "source": [
    "df['scan_id_f'] = df['scan_id'].factorize()[0]"
   ]
  },
  {
   "cell_type": "code",
   "execution_count": null,
   "metadata": {
    "pycharm": {
     "name": "#%%\n"
    }
   },
   "outputs": [],
   "source": [
    "df.sort_values(['mz','scan_id_f'], ascending=False, inplace=True)\n",
    "df"
   ]
  },
  {
   "cell_type": "code",
   "execution_count": null,
   "metadata": {
    "pycharm": {
     "name": "#%%\n"
    }
   },
   "outputs": [],
   "source": [
    "df['mz_diff_31'] = df.mz.diff(-31)\n",
    "df['mz_diff_20'] = df.mz.diff(-20)"
   ]
  },
  {
   "cell_type": "code",
   "execution_count": null,
   "metadata": {
    "pycharm": {
     "name": "#%%\n"
    }
   },
   "outputs": [],
   "source": [
    "df['mz_diff_31_cummin']= df['mz_diff_31'].cummin()\n",
    "df['mz_diff_20_cummin']= df['mz_diff_20'].cummin()"
   ]
  },
  {
   "cell_type": "code",
   "execution_count": null,
   "metadata": {
    "pycharm": {
     "name": "#%%\n"
    }
   },
   "outputs": [],
   "source": [
    "df[(df.mz_diff_20 <= df.mz_diff_20_cummin)].to_clipboard()"
   ]
  },
  {
   "cell_type": "code",
   "execution_count": null,
   "metadata": {
    "pycharm": {
     "name": "#%%\n"
    }
   },
   "outputs": [],
   "source": [
    "df['mean_mz_diff']  = df.mz_diff.rolling(window = 31, center=True, win_type ='cosine' ).mean() # note win_type =should be tukey"
   ]
  },
  {
   "cell_type": "code",
   "execution_count": null,
   "metadata": {
    "pycharm": {
     "name": "#%%\n"
    }
   },
   "outputs": [],
   "source": [
    "df['mz_std']  = df.mz_diff.rolling(window = 31, center=True ).std()"
   ]
  },
  {
   "cell_type": "code",
   "execution_count": null,
   "metadata": {
    "pycharm": {
     "name": "#%%\n"
    }
   },
   "outputs": [],
   "source": [
    "df.to_clipboard()"
   ]
  },
  {
   "cell_type": "code",
   "execution_count": null,
   "metadata": {
    "pycharm": {
     "name": "#%%\n"
    }
   },
   "outputs": [],
   "source": [
    "\n",
    "df['lenset'] = df.rolling(31)['scan_id_f'].apply(lambda s:len(set(s)))"
   ]
  },
  {
   "cell_type": "code",
   "execution_count": null,
   "metadata": {
    "pycharm": {
     "name": "#%%\n"
    }
   },
   "outputs": [],
   "source": [
    "def ucounter(scanids_start,scanids_end, window_size):\n",
    "    sid_cts = np.zeros(window_size+1, dtype=np.int64)\n",
    "    uct = 0\n",
    "    for scanid_start,scanid_end in zip(scanids_start,scanids_end):\n",
    "        sid_cts[scanid_start] +=1\n",
    "        if sid_cts[scanid_start] ==1:\n",
    "            uct += 1\n",
    "        sid_cts[int(scanid_end)] -=1\n",
    "        if sid_cts[int(scanid_end)] ==0:\n",
    "            uct -= 1\n",
    "        yield uct\n",
    "        \n"
   ]
  },
  {
   "cell_type": "code",
   "execution_count": null,
   "metadata": {
    "pycharm": {
     "name": "#%%\n"
    }
   },
   "outputs": [],
   "source": [
    "df.scan_id_f.unique().size"
   ]
  },
  {
   "cell_type": "code",
   "execution_count": null,
   "metadata": {
    "pycharm": {
     "name": "#%%\n"
    }
   },
   "outputs": [],
   "source": [
    "%%timeit\n",
    "df['ucounter'] = list(ucounter(df.scan_id_f.to_numpy(),df.scan_id_f.shift(31).fillna(31).to_numpy(), 31))"
   ]
  },
  {
   "cell_type": "code",
   "execution_count": null,
   "metadata": {
    "pycharm": {
     "name": "#%%\n"
    }
   },
   "outputs": [],
   "source": [
    "\n",
    "df['uniq=_size'] = df.rolling(31)['scan_id_f'].apply(lambda s:np.unique(s).size)"
   ]
  },
  {
   "cell_type": "code",
   "execution_count": null,
   "metadata": {
    "pycharm": {
     "name": "#%%\n"
    }
   },
   "outputs": [],
   "source": [
    "df.to_clipboard()"
   ]
  },
  {
   "cell_type": "code",
   "execution_count": null,
   "metadata": {
    "pycharm": {
     "name": "#%%\n"
    }
   },
   "outputs": [],
   "source": [
    "nunique_scans.max()"
   ]
  },
  {
   "cell_type": "code",
   "execution_count": null,
   "metadata": {
    "pycharm": {
     "name": "#%%\n"
    }
   },
   "outputs": [],
   "source": [
    "df['mean_diff'] = df['mz'].diff(-1).rolling(56).mean()"
   ]
  },
  {
   "cell_type": "code",
   "execution_count": null,
   "metadata": {
    "pycharm": {
     "name": "#%%\n"
    }
   },
   "outputs": [],
   "source": [
    "df.to_clipboard()"
   ]
  },
  {
   "cell_type": "code",
   "execution_count": null,
   "metadata": {
    "pycharm": {
     "name": "#%%\n"
    }
   },
   "outputs": [],
   "source": [
    "df['mz_r'] = (df.mz / 10).round() *10\n",
    "\n",
    "valids = df.loc[df['nunique_scans'] >= 56 * 0.9]\n"
   ]
  },
  {
   "cell_type": "code",
   "execution_count": null,
   "metadata": {
    "pycharm": {
     "name": "#%%\n"
    }
   },
   "outputs": [],
   "source": [
    "valids['resolution'] = valids['mz'] / valids['mean_diff']"
   ]
  },
  {
   "cell_type": "code",
   "execution_count": null,
   "metadata": {
    "pycharm": {
     "name": "#%%\n"
    }
   },
   "outputs": [],
   "source": [
    "valids.sort_values('mz', inplace = True)\n",
    "valids['max_diff'] = valids['mean_diff'].cummax()\n"
   ]
  },
  {
   "cell_type": "code",
   "execution_count": null,
   "metadata": {
    "pycharm": {
     "name": "#%%\n"
    }
   },
   "outputs": [],
   "source": [
    "valids.to_clipboard()"
   ]
  },
  {
   "cell_type": "code",
   "execution_count": null,
   "metadata": {
    "pycharm": {
     "name": "#%%\n"
    }
   },
   "outputs": [],
   "source": [
    "valids.groupby('mz_r')['resolution'].min().to_frame().reset_index().plot(x='mz_r', y=\"resolution\")"
   ]
  },
  {
   "cell_type": "code",
   "execution_count": null,
   "metadata": {
    "pycharm": {
     "name": "#%%\n"
    }
   },
   "outputs": [],
   "source": [
    "def suggest_resolution_and_gradient(spectra_df):\n",
    "    df = spectra_df.loc[spectra_df.precursor_id.isna()]\n",
    "    scan_count = df.scan_id.unique().size\n",
    "\n",
    "    df['scan_id_f'] = df['scan_id'].factorize()[0]\n",
    "    df.sort_values(['mz','scan_id_f'], ascending=False, inplace=True)\n",
    "    df['nunique_scans'] = df.rolling(60)['scan_id_f'].apply(lambda s:len(set(s)))\n",
    "    max_unique_scans = df['nunique_scans'].max()\n",
    "    df['mean_diff'] = df['mz'].diff(-1).rolling(max_unique_scans).mean()\n",
    "    df['mz_r'] = (df.mz / 10).round() *10\n",
    "\n",
    "    valids = df.loc[df['nunique_scans'] >= max_unique_scans * 0.9]\n",
    "    valids.sort_values('mz', inplace = True)\n",
    "    valids['max_diff'] = valids['mean_diff'].cummax()\n",
    "    selected = valids.groupby('mz_r')['resolution'].min().to_frame().reset_index()\n",
    "    # selected.plot(x='mz_r', y=\"resolution\")\n",
    "    res_at_loest_mass = selected['resolution'].iat[0]\n",
    "    gradient = selected['resolution'].iat[-1] - selected['resolution'].iat[0 ] / selected['mz_r'].iat[-1] - selected['mz_r'].iat[0 ]\n",
    "    return  res_at_loest_mass, gradient"
   ]
  },
  {
   "cell_type": "code",
   "execution_count": null,
   "metadata": {
    "pycharm": {
     "name": "#%%\n"
    }
   },
   "outputs": [],
   "source": [
    "df['diff'] = df['mz'].diff(-1)\n",
    "low,high = df['diff'].quantile([.20,.80])"
   ]
  },
  {
   "cell_type": "code",
   "execution_count": null,
   "metadata": {
    "pycharm": {
     "name": "#%%\n"
    }
   },
   "outputs": [],
   "source": []
  },
  {
   "cell_type": "code",
   "execution_count": null,
   "metadata": {
    "pycharm": {
     "name": "#%%\n"
    }
   },
   "outputs": [],
   "source": [
    "mzs = spectra_df.loc[spectra_df.precursor_id.isna()].mz.sort_values(ascending= False).to_frame()"
   ]
  },
  {
   "cell_type": "code",
   "execution_count": null,
   "metadata": {
    "pycharm": {
     "name": "#%%\n"
    }
   },
   "outputs": [],
   "source": []
  },
  {
   "cell_type": "code",
   "execution_count": null,
   "metadata": {
    "pycharm": {
     "name": "#%%\n"
    }
   },
   "outputs": [],
   "source": [
    "mzs['difs'] = mzs['mz'].diff(-1).replace(0,np.nan).fillna(method = 'bfill').fillna(method = 'ffill')"
   ]
  },
  {
   "cell_type": "code",
   "execution_count": null,
   "metadata": {
    "pycharm": {
     "name": "#%%\n"
    }
   },
   "outputs": [],
   "source": [
    "low,high = mzs['difs'].quantile([.20,.80])"
   ]
  },
  {
   "cell_type": "code",
   "execution_count": null,
   "metadata": {
    "pycharm": {
     "name": "#%%\n"
    }
   },
   "outputs": [],
   "source": [
    "mzs.loc[mzs['difs'].between(low,high), 'difs'] = np.nan"
   ]
  },
  {
   "cell_type": "code",
   "execution_count": null,
   "metadata": {
    "pycharm": {
     "name": "#%%\n"
    }
   },
   "outputs": [],
   "source": [
    "mzs['cummin'] = mzs['difs'].cummin() "
   ]
  },
  {
   "cell_type": "code",
   "execution_count": null,
   "metadata": {
    "pycharm": {
     "name": "#%%\n"
    }
   },
   "outputs": [],
   "source": [
    "mzs.groupby('cummin')['mz'].last()"
   ]
  },
  {
   "cell_type": "code",
   "execution_count": null,
   "metadata": {
    "pycharm": {
     "name": "#%%\n"
    }
   },
   "outputs": [],
   "source": [
    "absolute_tolerences.index.rename('da', inplace=True)\n",
    "absolute_tolerences.reset_index(inplace=True)\n",
    "absolute_tolerences['resolution'] = absolute_tolerences['mz'] / absolute_tolerences['da']\n",
    "absolute_tolerences['mz'] = (absolute_tolerences['mz'] / 10).round() *10\n",
    "absolute_tolerences['resolution'] = absolute_tolerences['resolution'].cummin()\n"
   ]
  },
  {
   "cell_type": "code",
   "execution_count": null,
   "metadata": {
    "pycharm": {
     "name": "#%%\n"
    }
   },
   "outputs": [],
   "source": [
    "absolute_tolerences.to_clipboard()"
   ]
  },
  {
   "cell_type": "code",
   "execution_count": null,
   "metadata": {
    "pycharm": {
     "name": "#%%\n"
    }
   },
   "outputs": [],
   "source": [
    "absolute_tolerences = absolute_tolerences.groupby('mz')['resolution'].min().to_frame()\n",
    "absolute_tolerences.reset_index(inplace=True)"
   ]
  },
  {
   "cell_type": "code",
   "execution_count": null,
   "metadata": {
    "pycharm": {
     "name": "#%%\n"
    }
   },
   "outputs": [],
   "source": [
    "absolute_tolerences.plot(x='mz',y='resolution')"
   ]
  },
  {
   "cell_type": "code",
   "execution_count": null,
   "metadata": {
    "pycharm": {
     "name": "#%%\n"
    }
   },
   "outputs": [],
   "source": [
    "guess_selection_window (spectra_df)"
   ]
  },
  {
   "cell_type": "code",
   "execution_count": null,
   "metadata": {
    "pycharm": {
     "name": "#%%\n"
    }
   },
   "outputs": [],
   "source": [
    "mean_less_std = agg_data.at['mean'] - agg_data.at['std']\n",
    "if mean_less_std > 0:\n",
    "    res =  mean_less_std / 2\n",
    "else:\n",
    "    res =  agg_data.at['mean'] /2\n",
    "\n",
    "return res\n"
   ]
  },
  {
   "cell_type": "code",
   "execution_count": null,
   "metadata": {
    "pycharm": {
     "name": "#%%\n"
    }
   },
   "outputs": [],
   "source": [
    "def drop_fuzzy(spectra_df):\n",
    "    fraction_of_average_intensity = 0.1\n",
    "    spectras_sum_inty =  spectra_df.loc[spectra_df.precursor_id.isna()].groupby('scan_id')['inty'].sum()\n",
    "    sum_inty_mean = spectras_sum_inty.mean()\n",
    "    spectras_sum_inty = spectras_sum_inty.to_dict()\n",
    "\n",
    "    to_drop = []\n",
    "    for scan_id in spectra_df.scan_id.drop_duplicates(): # this maintains order\n",
    "        if spectras_sum_inty[scan_id] < sum_inty_mean * fraction_of_average_intensity: # one order \n",
    "            to_drop.append(scan_id)\n",
    "        else:\n",
    "            break\n",
    "    \n",
    "    return spectra_df.loc[~spectra_df.scan_id.isin(to_drop)]"
   ]
  },
  {
   "cell_type": "code",
   "execution_count": null,
   "metadata": {
    "pycharm": {
     "name": "#%%\n"
    }
   },
   "outputs": [],
   "source": []
  },
  {
   "cell_type": "code",
   "execution_count": null,
   "metadata": {
    "pycharm": {
     "name": "#%%\n"
    }
   },
   "outputs": [],
   "source": [
    "df = spectra_dfs[0] # first file, already teim range and mass range filtered\n",
    "ms1_peaks = df.loc[df.precursor_id.isna()]"
   ]
  },
  {
   "cell_type": "code",
   "execution_count": null,
   "metadata": {
    "pycharm": {
     "name": "#%%\n"
    }
   },
   "outputs": [],
   "source": [
    "df.stem.iloc[0]\n"
   ]
  },
  {
   "cell_type": "code",
   "execution_count": null,
   "metadata": {
    "pycharm": {
     "name": "#%%\n"
    }
   },
   "outputs": [],
   "source": [
    "def bin_linear_alignment(masses, options):\n",
    "    # TODO assert masses are ordered\n",
    "    up_to = None\n",
    "    for _, mass in masses.iteritems():\n",
    "        if up_to is None:\n",
    "            #up_to = mass + tolerance.getTinDA(mass) this is how its done in some places, but reuslt are not identical to below\n",
    "            up_to = mass + mass / options[\"MSresolution\"].tolerance \n",
    "        if mass <= up_to:\n",
    "            yield up_to\n",
    "        else:\n",
    "            up_to = mass + mass / options[\"MSresolution\"].tolerance\n",
    "            yield up_to\n"
   ]
  },
  {
   "cell_type": "markdown",
   "metadata": {
    "pycharm": {
     "name": "#%% md\n"
    }
   },
   "source": [
    "# ms1 agg peaks similar to lx1...ms1_peaks_agg\n",
    "# ms1 agg peaks as in lx2\n"
   ]
  },
  {
   "cell_type": "code",
   "execution_count": null,
   "metadata": {
    "pycharm": {
     "name": "#%%\n"
    }
   },
   "outputs": [],
   "source": [
    "ms1_peaks.sort_values(\"mz\", ascending=False)\n",
    "scan_id_f = pd.factorize(ms1_peaks.scan_id)\n"
   ]
  },
  {
   "cell_type": "code",
   "execution_count": null,
   "metadata": {
    "pycharm": {
     "name": "#%%\n"
    }
   },
   "outputs": [],
   "source": [
    "import pandas as pd\n",
    "scan_id_f = pd.factorize(ms1_peaks.scan_id)"
   ]
  },
  {
   "cell_type": "code",
   "execution_count": null,
   "metadata": {
    "pycharm": {
     "name": "#%%\n"
    }
   },
   "outputs": [],
   "source": [
    "bins1 = list(bin_linear_alignment(df.mz, options))\n",
    "bins2 = list(bin_linear_alignment(df.groupby(bins1)[\"mz\"].transform(\"mean\"), options))\n",
    "bins3 = list(bin_linear_alignment(df.groupby(bins2)[\"mz\"].transform(\"mean\"),options))\n",
    "\n",
    "df['bin_mass'] = bins3 "
   ]
  },
  {
   "cell_type": "code",
   "execution_count": null,
   "metadata": {
    "pycharm": {
     "name": "#%%\n"
    }
   },
   "outputs": [],
   "source": [
    "def ms1_peaks_agg(ms1_peaks, options):\n",
    "    ms1_peaks.sort_values(\"mz\", inplace=True)\n",
    "\n",
    "    # binning is done 3 times in lx1, between each fadi filter is performed, we do it at the end intead\n",
    "    bins1 = list(bin_linear_alignment(ms1_peaks.mz, options))\n",
    "    bins2 = list(bin_linear_alignment(ms1_peaks.groupby(bins1)[\"mz\"].transform(\"mean\"), options))\n",
    "    bins3 = list(bin_linear_alignment(ms1_peaks.groupby(bins2)[\"mz\"].transform(\"mean\"),options))\n",
    "\n",
    "    ms1_peaks['bin_mass'] = bins3 \n",
    "\n",
    "    # merge mutiple peaks from single scan\n",
    "    g = ms1_peaks.groupby([\"bin_mass\", \"scan_id\"])\n",
    "    ms1_peaks[\"scan_cumcount\"] = g.cumcount()\n",
    "    ms1_peaks[\"merged_mass\"] = g[\"mz\"].transform(\"mean\")\n",
    "    ms1_peaks['merged_inty'] = g['inty'].transform(\"mean\") # NOTE merge is NOT weighted average \n",
    "    \n",
    "\n",
    "    # aggregate results\n",
    "    agg_df = (\n",
    "        ms1_peaks.loc[ms1_peaks.scan_cumcount == 0] # use only the first of merged masses\n",
    "        .assign(\n",
    "            mass_intensity=lambda x: x.mz * x.merged_inty\n",
    "        )  # for the weighted average intensity\n",
    "        .groupby(\"bin_mass\")\n",
    "        .agg(\n",
    "            {\n",
    "                \"merged_mass\": [\"mean\", \"count\"],\n",
    "                \"merged_inty\": [\"mean\", \"sum\"],\n",
    "                \"mass_intensity\": \"sum\",\n",
    "            }\n",
    "        )\n",
    "        .dropna()\n",
    "    )\n",
    "    agg_df.columns = [\"_\".join(col).strip() for col in agg_df.columns.values]\n",
    "\n",
    "    # apply fadi filters, in lx1 its done between each bin  process\n",
    "    fadi_denominator = ms1_peaks.scan_id.unique().shape[0]\n",
    "    mask_ff = agg_df.merged_mass_count / fadi_denominator >= options['MSfilter']\n",
    "    agg_df = agg_df[mask_ff]\n",
    "\n",
    "    # NOTE intensity threshold is do in add_Sample... but lets do it here\n",
    "    MSthreshold  = options[\"MSthreshold\"]\n",
    "    mask_inty = agg_df.merged_inty_mean > MSthreshold\n",
    "    agg_df = agg_df[mask_inty]\n",
    "\n",
    "    # for reference...weigted_mass shoud not be necesary\n",
    "    agg_df[\"weigted_mass\"] = agg_df.mass_intensity_sum / agg_df.merged_inty_sum\n",
    "    # lx1 intensity is wrong because it uses the total number of scans, instead of the numebr of scans with a peak\n",
    "    agg_df['lx1_bad_inty'] = agg_df.merged_inty_sum / fadi_denominator\n",
    "\n",
    "    \n",
    "    agg_df.rename(columns = {'merged_mass_mean':'mz', 'merged_inty_mean':'inty'}, inplace=True)\n",
    "    return agg_df"
   ]
  },
  {
   "cell_type": "code",
   "execution_count": null,
   "metadata": {
    "pycharm": {
     "name": "#%%\n"
    }
   },
   "outputs": [],
   "source": [
    "spectra_dfs[0].polarity.iat[0]"
   ]
  },
  {
   "cell_type": "code",
   "execution_count": null,
   "metadata": {
    "pycharm": {
     "name": "#%%\n"
    }
   },
   "outputs": [],
   "source": [
    "res = {}\n",
    "for df in spectra_dfs: # first file, already teim range and mass range filtered\n",
    "    ms1_peaks = df.loc[df.precursor_id.isna()]\n",
    "    agg_df = ms1_peaks_agg(ms1_peaks, options)\n",
    "    agg_df['stem'] = df.stem.iloc[0]\n",
    "    res[df.stem.iloc[0]] = agg_df"
   ]
  },
  {
   "cell_type": "code",
   "execution_count": null,
   "metadata": {
    "pycharm": {
     "name": "#%%\n"
    }
   },
   "outputs": [],
   "source": [
    "#recalibrate\n",
    "def recalibrate_mzs(mzs, cals):\n",
    "    # from lx2_masterscan\n",
    "    # lx1 takes all that are within tolerance and then uses highest intensity\n",
    "    if not cals or mzs.empty:\n",
    "        return mzs\n",
    "    cal_matchs = [mzs.loc[mzs.sub(cal).abs().idxmin()] for cal in cals]\n",
    "    \n",
    "    cal_vals = [cal - cal_match for cal, cal_match in zip(cals, cal_matchs)]\n",
    "    # prefilter\n",
    "    if not any((v < 0.1 for v in cal_vals)):\n",
    "        return mzs\n",
    "    # find near tolerance\n",
    "    cutoff = mzs.diff(-1).quantile(0.1)\n",
    "    is_near = [v < cutoff for v in cal_vals]\n",
    "    if not any(is_near):\n",
    "        log.info(\"no valid calibration masses found\")\n",
    "        return mzs\n",
    "\n",
    "    cal_matchs = [e for e, v in zip(cal_matchs, is_near) if v]\n",
    "    cal_vals = [e for e, v in zip(cal_vals, is_near) if v]\n",
    "    log.debug(\"recalibration info: {'\\n'.join(zip(cal_matchs,cal_vals ))}\")\n",
    "\n",
    "    return mzs + np.interp(mzs, cal_matchs, cal_vals)"
   ]
  },
  {
   "cell_type": "code",
   "execution_count": null,
   "metadata": {
    "pycharm": {
     "name": "#%%\n"
    }
   },
   "outputs": [],
   "source": [
    "#align ms1 \n",
    "ms1_agg_peaks = pd.concat(res.values())"
   ]
  },
  {
   "cell_type": "code",
   "execution_count": null,
   "metadata": {
    "pycharm": {
     "name": "#%%\n"
    }
   },
   "outputs": [],
   "source": [
    "ms1_agg_peaks"
   ]
  },
  {
   "cell_type": "code",
   "execution_count": null,
   "metadata": {
    "pycharm": {
     "name": "#%%\n"
    }
   },
   "outputs": [],
   "source": [
    "# this one uses delta res for clustering\n",
    "def bin_mkSurveyLinear(masses, options):\n",
    "    # TODO assert masses are ordered\n",
    "    minmass = masses.iloc[0]\n",
    "    up_to = None\n",
    "    for _, mass in masses.iteritems():\n",
    "        if up_to is None:\n",
    "            #up_to = mass + tolerance.getTinDA(mass) this is how its done in some places, but reuslt are not identical to below\n",
    "            deltatol = options[\"MSresolution\"].tolerance + (mass - minmass) * options['MSresolutionDelta']\n",
    "            up_to = mass + (mass / deltatol)\n",
    "        if mass <= up_to:\n",
    "            yield up_to\n",
    "        else:\n",
    "            deltatol = options[\"MSresolution\"].tolerance + (mass - minmass) * options['MSresolutionDelta']\n",
    "            up_to = mass + (mass / deltatol)\n",
    "            yield up_to"
   ]
  },
  {
   "cell_type": "code",
   "execution_count": null,
   "metadata": {
    "pycharm": {
     "name": "#%%\n"
    }
   },
   "outputs": [],
   "source": [
    "# make the method here"
   ]
  },
  {
   "cell_type": "code",
   "execution_count": null,
   "metadata": {
    "pycharm": {
     "name": "#%%\n"
    }
   },
   "outputs": [],
   "source": [
    "ms1_agg_peaks.sort_values('mz', inplace=True)"
   ]
  },
  {
   "cell_type": "code",
   "execution_count": null,
   "metadata": {
    "pycharm": {
     "name": "#%%\n"
    }
   },
   "outputs": [],
   "source": [
    "# binning is done 3 times in lx1, between each fadi filter is performed, we do it at the end intead\n",
    "bins1 = list(bin_mkSurveyLinear(ms1_agg_peaks.mz, options))\n",
    "bins2 = list(bin_mkSurveyLinear(ms1_agg_peaks.groupby(bins1)[\"mz\"].transform(\"mean\"), options))\n",
    "bins3 = list(bin_mkSurveyLinear(ms1_agg_peaks.groupby(bins2)[\"mz\"].transform(\"mean\"),options))"
   ]
  },
  {
   "cell_type": "code",
   "execution_count": null,
   "metadata": {
    "pycharm": {
     "name": "#%%\n"
    }
   },
   "outputs": [],
   "source": [
    "ms1_agg_peaks['bins'] = bins3"
   ]
  },
  {
   "cell_type": "code",
   "execution_count": null,
   "metadata": {
    "pycharm": {
     "name": "#%%\n"
    }
   },
   "outputs": [],
   "source": [
    "# check occupation spectracontainer.py masterscan.chekoccupation\n",
    "# occupation is the % of peak intensities abvove \"thrsld: \"\n",
    "threshold_denominator = ms1_agg_peaks.stem.unique().shape[0] # same as len(res)\n",
    "threshold = options[\"MSminOccupation\"]\n",
    "bin_peak_count = ms1_agg_peaks.groupby('bins')['inty'].transform('count')\n",
    "tf_mask = (bin_peak_count / threshold_denominator) >= threshold\n",
    "ms1_agg_peaks['above_threshold'] = tf_mask"
   ]
  },
  {
   "cell_type": "code",
   "execution_count": null,
   "metadata": {
    "pycharm": {
     "name": "#%%\n"
    }
   },
   "outputs": [],
   "source": [
    "ms1_agg_peaks['mass'] = ms1_agg_peaks.groupby('bins')['mz'].transform('mean')"
   ]
  },
  {
   "cell_type": "code",
   "execution_count": null,
   "metadata": {
    "pycharm": {
     "name": "#%%\n"
    }
   },
   "outputs": [],
   "source": [
    "ms1_agg_peaks"
   ]
  },
  {
   "cell_type": "code",
   "execution_count": null,
   "metadata": {
    "pycharm": {
     "name": "#%%\n"
    }
   },
   "outputs": [],
   "source": [
    "ms1_agg_peaks.pivot(index='mass', columns='stem', values=['inty','lx1_bad_inty'])"
   ]
  },
  {
   "cell_type": "code",
   "execution_count": null,
   "metadata": {
    "pycharm": {
     "name": "#%%\n"
    }
   },
   "outputs": [],
   "source": [
    "# TODO collape_join_adjecent_clusters\n"
   ]
  },
  {
   "cell_type": "markdown",
   "metadata": {
    "pycharm": {
     "name": "#%% md\n"
    }
   },
   "source": [
    "# MS2 \n",
    "----"
   ]
  },
  {
   "cell_type": "code",
   "execution_count": null,
   "metadata": {
    "pycharm": {
     "name": "#%%\n"
    }
   },
   "outputs": [],
   "source": [
    "options[\"MSMSresolution\"]\n",
    "options[\"selectionWindow\"]\n",
    "\n",
    "#tolerance = TypeTolerance(\"Da\", scan.options[\"selectionWindow\"])\n",
    "#window = scan.options[\"selectionWindow\"] / 2"
   ]
  },
  {
   "cell_type": "code",
   "execution_count": null,
   "metadata": {
    "pycharm": {
     "name": "#%%\n"
    }
   },
   "outputs": [],
   "source": [
    "df = spectra_dfs[1] # first file, already teim range and mass range filtered\n",
    "ms2_peaks = pd.concat((df.loc[~df.precursor_id.isna()] for df in spectra_dfs))"
   ]
  },
  {
   "cell_type": "markdown",
   "metadata": {
    "pycharm": {
     "name": "#%% md\n"
    }
   },
   "source": [
    "ms2_peaks[ms2_peaks.scan_id == 'controllerType=0 controllerNumber=1 scan=41']  \n",
    "*** NOTE masses are not exactly the same as in lx1, they are wrong base om raw ***  \n",
    "see xcel file on desktop  "
   ]
  },
  {
   "cell_type": "markdown",
   "metadata": {
    "pycharm": {
     "name": "#%% md\n"
    }
   },
   "source": [
    "*** lx1 does the precursor binning all files, at the same time, it is not like with the ms1s ***"
   ]
  },
  {
   "cell_type": "code",
   "execution_count": null,
   "metadata": {
    "pycharm": {
     "name": "#%%\n"
    }
   },
   "outputs": [],
   "source": [
    "def bin_linear_alignment_for_ms2(masses, telerance_da):\n",
    "    # TODO assert masses are ordered\n",
    "    up_to = None\n",
    "    for _, mass in masses.iteritems():\n",
    "        if up_to is None:\n",
    "            #up_to = mass + tolerance.getTinDA(mass) this is how its done in some places, but reuslt are not identical to below\n",
    "            up_to = mass + telerance_da\n",
    "        if mass <= up_to:\n",
    "            yield up_to\n",
    "        else:\n",
    "            up_to = mass + telerance_da\n",
    "            yield up_to\n",
    "    "
   ]
  },
  {
   "cell_type": "code",
   "execution_count": null,
   "metadata": {
    "pycharm": {
     "name": "#%%\n"
    }
   },
   "outputs": [],
   "source": [
    "def grouped_precursors_df(ms2_peaks):\n",
    "    ms2_peaks.sort_values(['precursor_mz','mz'], inplace=True)\n",
    "    precursors_df = ms2_peaks[[\"stem\", 'scan_id', 'precursor_mz']].drop_duplicates()# similar to unqie but return a series instead of an array\n",
    "    # using \"stem\", 'scan_id' to replicate the numebr of instances for the averaging later\n",
    "    \n",
    "    bins1 = list(bin_linear_alignment_for_ms2(precursors_df.precursor_mz, options[\"selectionWindow\"]))\n",
    "    bins2 = list(bin_linear_alignment_for_ms2(precursors_df.groupby(bins1)['precursor_mz'].transform('mean'), options[\"selectionWindow\"]))\n",
    "    bins3 = list(bin_linear_alignment_for_ms2(precursors_df.groupby(bins2)['precursor_mz'].transform('mean'), options[\"selectionWindow\"]))\n",
    "\n",
    "    precursors_df['prec_bin'] = bins3\n",
    "\n",
    "# no fadi filter for precursors  \n",
    "# after groupinbg the precursors, the groups are split on the \"sample\" ie the file,  \n",
    "# the each split of the group is merged in the __def mergeListsMsms__ method that uses linear alignment  \n",
    "# thats why... prec_ms2_peaks = ms2_peaks[(ms2_peaks.precursor_mz == t) & (ms2_peaks.stem == '190321_Serum_Lipidextract_368723_01')]\n",
    "    return precursors_df"
   ]
  },
  {
   "cell_type": "code",
   "execution_count": null,
   "metadata": {
    "pycharm": {
     "name": "#%%\n"
    }
   },
   "outputs": [],
   "source": [
    "precursors_df = grouped_precursors_df(ms2_peaks)\n",
    "precursors_bins = precursors_df.set_index('precursor_mz')['prec_bin'].to_dict()"
   ]
  },
  {
   "cell_type": "code",
   "execution_count": null,
   "metadata": {
    "pycharm": {
     "name": "#%%\n"
    }
   },
   "outputs": [],
   "source": [
    "precursors_bins"
   ]
  },
  {
   "cell_type": "markdown",
   "metadata": {
    "pycharm": {
     "name": "#%% md\n"
    }
   },
   "source": [
    "in def linearAlignment the var clusterToMerge, it only takes the \"sample\" if its not in the cluster, so no duplicate, and only the first \"sample\"\n",
    "\n",
    "for clutering ms2 precursors, it does the binning with linearAlignment... see above, its not the unique precusrsor, its each precursor in each file,  but it does the binning on both at the same time, in contrast to how its done for ms1 binning, where first the binning is done for one file and then for the other.\n",
    "\n",
    "then it does the merge it on a per file (AKA \"sample\")  basis, merge means doing a linera alignmebt on all the peaks in the bin per sample\n"
   ]
  },
  {
   "cell_type": "code",
   "execution_count": null,
   "metadata": {
    "pycharm": {
     "name": "#%%\n"
    }
   },
   "outputs": [],
   "source": [
    "ms2_peaks['prec_bin'] = ms2_peaks.precursor_mz.map(precursors_bins)\n"
   ]
  },
  {
   "cell_type": "code",
   "execution_count": null,
   "metadata": {
    "pycharm": {
     "name": "#%%\n"
    }
   },
   "outputs": [],
   "source": [
    "# this one uses delta res for clustering\n",
    "def bin_mkSurveyLinear_for_ms2(masses, options): # copied from above\n",
    "    # TODO assert masses are ordered\n",
    "    minmass = masses.iloc[0]\n",
    "    up_to = None\n",
    "    for _, mass in masses.iteritems():\n",
    "        if up_to is None:\n",
    "            #up_to = mass + tolerance.getTinDA(mass) this is how its done in some places, but reuslt are not identical to below\n",
    "            deltatol = options[\"MSMSresolution\"].tolerance + (mass - minmass) * options['MSMSresolutionDelta']\n",
    "            up_to = mass + (mass / deltatol)\n",
    "        if mass <= up_to:\n",
    "            yield up_to\n",
    "        else:\n",
    "            deltatol = options[\"MSMSresolution\"].tolerance + (mass - minmass) * options['MSMSresolutionDelta']\n",
    "            up_to = mass + (mass / deltatol)\n",
    "            yield up_to"
   ]
  },
  {
   "cell_type": "code",
   "execution_count": null,
   "metadata": {
    "pycharm": {
     "name": "#%%\n"
    }
   },
   "outputs": [],
   "source": [
    "def ms2_peaks_group_generator(grouped_prec, options):\n",
    "\n",
    "    for idx, prec_ms2_peaks in  grouped_prec:\n",
    "        #intensityWeightedAvg\n",
    "        prec_ms2_peaks.sort_values('mz', inplace=True)\n",
    "        bins1 = list(bin_mkSurveyLinear_for_ms2(prec_ms2_peaks.mz, options))\n",
    "        bins1_weighted_average = (prec_ms2_peaks.mz * prec_ms2_peaks.inty).groupby(bins1).transform('sum') / prec_ms2_peaks.inty.groupby(bins1).transform('sum')\n",
    "        bins2 = list(bin_mkSurveyLinear_for_ms2(bins1_weighted_average, options))\n",
    "        bins2_weighted_average = (prec_ms2_peaks.mz * prec_ms2_peaks.inty).groupby(bins2).transform('sum') / prec_ms2_peaks.inty.groupby(bins2).transform('sum')\n",
    "        bins3 = list(bin_mkSurveyLinear_for_ms2(bins2_weighted_average, options))\n",
    "        weighted_mass = (prec_ms2_peaks.mz * prec_ms2_peaks.inty).groupby(bins3).transform('sum') / prec_ms2_peaks.inty.groupby(bins3).transform('sum')\n",
    "\n",
    "        prec_ms2_peaks['bins'] = bins3\n",
    "        prec_ms2_peaks['weighted_mass'] = weighted_mass\n",
    "\n",
    "        fadi_denominator = prec_ms2_peaks.scan_id.unique().shape[0]\n",
    "        ff_mask = prec_ms2_peaks.groupby(\"bins\")['bins'].transform('count') / fadi_denominator>= options['MSMSfilter']\n",
    "        mof_mask = prec_ms2_peaks.groupby(\"bins\")['bins'].transform('count') / fadi_denominator>= options['MSMSminOccupation']\n",
    "\n",
    "        tf_mask = prec_ms2_peaks.inty > options[\"MSMSthreshold\"]\n",
    "        \n",
    "        # it uses merge sum intensity for getting the averrage intensity...\n",
    "        agg_prec_ms2_peaks = prec_ms2_peaks[ff_mask & tf_mask & mof_mask].groupby('bins').agg({\"weighted_mass\":['mean', 'count'],\"inty\":\"mean\"})\n",
    "        agg_prec_ms2_peaks['precursor_mz'] = prec_ms2_peaks.precursor_mz.mean().round(6) \n",
    "        # there is minor differrence in mean between different files, and the same precursor bin, to avoid it we round\n",
    "        \n",
    "        agg_prec_ms2_peaks['stem'] = idx[0]\n",
    "\n",
    "        agg_prec_ms2_peaks.columns = [\"_\".join(col).strip() for col in agg_prec_ms2_peaks.columns.values]\n",
    "        names = {'weighted_mass_mean':'mz',\n",
    "         'weighted_mass_count':'count', \n",
    "         \"inty_mean\":'inty',\n",
    "         'precursor_mz_':'precursor_mz',\n",
    "         'stem_':'stem'}\n",
    "        agg_prec_ms2_peaks.rename(columns = names, inplace=True)\n",
    "\n",
    "        yield agg_prec_ms2_peaks\n",
    "\n"
   ]
  },
  {
   "cell_type": "code",
   "execution_count": null,
   "metadata": {
    "pycharm": {
     "name": "#%%\n"
    }
   },
   "outputs": [],
   "source": [
    "ms2_peaks.prec_bin.unique().size"
   ]
  },
  {
   "cell_type": "code",
   "execution_count": null,
   "metadata": {
    "pycharm": {
     "name": "#%%\n"
    }
   },
   "outputs": [],
   "source": [
    "grouped_prec = ms2_peaks.groupby(['stem','prec_bin'])\n",
    "ms2_agg_peaks = pd.concat(ms2_peaks_group_generator(grouped_prec, options))"
   ]
  },
  {
   "cell_type": "code",
   "execution_count": null,
   "metadata": {
    "pycharm": {
     "name": "#%%\n"
    }
   },
   "outputs": [],
   "source": [
    "# collape_join_adjecent_clusters_msms(cluster)"
   ]
  },
  {
   "cell_type": "code",
   "execution_count": null,
   "metadata": {
    "pycharm": {
     "name": "#%%\n"
    }
   },
   "outputs": [],
   "source": [
    "# associate ms2 to ms1 scans... \n",
    "ms1_masses = ms1_agg_peaks.mass.drop_duplicates()\n",
    "precur_masses = ms2_agg_peaks.precursor_mz.drop_duplicates()\n",
    "tol = options[\"selectionWindow\"] / 2\n",
    "tmp = pd.merge_asof(ms1_masses, precur_masses.astype(ms1_masses.dtype), left_on='mass', right_on='precursor_mz', direction ='nearest' , tolerance=tol)"
   ]
  },
  {
   "cell_type": "code",
   "execution_count": null,
   "metadata": {
    "pycharm": {
     "name": "#%%\n"
    }
   },
   "outputs": [],
   "source": [
    "ms1_agg_peaks"
   ]
  },
  {
   "cell_type": "markdown",
   "metadata": {
    "pycharm": {
     "name": "#%% md\n"
    }
   },
   "source": [
    "# build the masterscan"
   ]
  },
  {
   "cell_type": "code",
   "execution_count": null,
   "metadata": {
    "pycharm": {
     "name": "#%%\n"
    }
   },
   "outputs": [],
   "source": [
    "from lx.spectraContainer import MasterScan\n",
    "from LX2_masterscan import se_factory, ms2entry_factory"
   ]
  },
  {
   "cell_type": "code",
   "execution_count": null,
   "metadata": {
    "pycharm": {
     "name": "#%%\n"
    }
   },
   "outputs": [],
   "source": [
    "def mass_inty_generator_ms1_agg(ms1_agg_peaks):\n",
    "    for mass, gdf in ms1_agg_peaks.groupby('mass'):\n",
    "        dictIntensity = gdf.set_index('stem')['lx1_bad_inty'].to_dict()\n",
    "        dictIntensity_lx2 = gdf.set_index('stem')['inty'].to_dict()\n",
    "        dictIntensity.update({ f'{k}_lx2':v for k,v in dictIntensity_lx2.items()})\n",
    "        yield (mass, dictIntensity, 1)"
   ]
  },
  {
   "cell_type": "code",
   "execution_count": null,
   "metadata": {
    "pycharm": {
     "name": "#%%\n"
    }
   },
   "outputs": [],
   "source": [
    "samples = samples[:2]"
   ]
  },
  {
   "cell_type": "code",
   "execution_count": null,
   "metadata": {
    "pycharm": {
     "name": "#%%\n"
    }
   },
   "outputs": [],
   "source": [
    "samples.extend([f'{k}_lx2' for k in samples]) #because we add both results"
   ]
  },
  {
   "cell_type": "code",
   "execution_count": null,
   "metadata": {
    "pycharm": {
     "name": "#%%\n"
    }
   },
   "outputs": [],
   "source": [
    "samples"
   ]
  },
  {
   "cell_type": "code",
   "execution_count": null,
   "metadata": {
    "pycharm": {
     "name": "#%%\n"
    }
   },
   "outputs": [],
   "source": [
    "listSurveyEntry = [\n",
    "        se_factory(msmass, dictIntensity, samples, polarity)\n",
    "        for msmass, dictIntensity, polarity in mass_inty_generator_ms1_agg(\n",
    "            ms1_agg_peaks\n",
    "        )\n",
    "    ]"
   ]
  },
  {
   "cell_type": "code",
   "execution_count": null,
   "metadata": {
    "pycharm": {
     "name": "#%%\n"
    }
   },
   "outputs": [],
   "source": [
    "def MSMSEntry_list_generator(gdf):\n",
    "    for mz,  precur_df in gdf.groupby('mz'):\n",
    "        dictIntensity = precur_df.set_index('stem')['inty'].to_dict()\n",
    "        dictIntensity.update({ f'{k}_lx2':v for k,v in dictIntensity.items()}) #TODO actually get other values\n",
    "        yield (mz, dictIntensity, samples, 1)"
   ]
  },
  {
   "cell_type": "code",
   "execution_count": null,
   "metadata": {
    "pycharm": {
     "name": "#%%\n"
    }
   },
   "outputs": [],
   "source": [
    "def MS2_dict_generator(ms2_agg_peaks):\n",
    "    for precursor_mz, gdf in ms2_agg_peaks.groupby('precursor_mz'):\n",
    "        MSMSEntry_list = [ms2entry_factory(*args) for args in MSMSEntry_list_generator(gdf)]\n",
    "        yield (precursor_mz, MSMSEntry_list)"
   ]
  },
  {
   "cell_type": "code",
   "execution_count": null,
   "metadata": {
    "pycharm": {
     "name": "#%%\n"
    }
   },
   "outputs": [],
   "source": [
    "MS2_dict = dict(MS2_dict_generator(ms2_agg_peaks))"
   ]
  },
  {
   "cell_type": "code",
   "execution_count": null,
   "metadata": {
    "pycharm": {
     "name": "#%%\n"
    }
   },
   "outputs": [],
   "source": [
    "MS2_dict_keys =pd.Series(list(MS2_dict.keys()), name = 'MS2_precurs')"
   ]
  },
  {
   "cell_type": "code",
   "execution_count": null,
   "metadata": {
    "pycharm": {
     "name": "#%%\n"
    }
   },
   "outputs": [],
   "source": [
    "MS2_dict_keys.sort_values(inplace=True)"
   ]
  },
  {
   "cell_type": "code",
   "execution_count": null,
   "metadata": {
    "pycharm": {
     "name": "#%%\n"
    }
   },
   "outputs": [],
   "source": [
    "MS1_precurmass =pd.Series([se.precurmass for se in listSurveyEntry], name = 'MS1_precurmass')"
   ]
  },
  {
   "cell_type": "code",
   "execution_count": null,
   "metadata": {
    "pycharm": {
     "name": "#%%\n"
    }
   },
   "outputs": [],
   "source": [
    "MS1_precurmass.sort_values(inplace=True)"
   ]
  },
  {
   "cell_type": "code",
   "execution_count": null,
   "metadata": {
    "pycharm": {
     "name": "#%%\n"
    }
   },
   "outputs": [],
   "source": [
    "# associate ms2 to ms1 scans\n",
    "tol = options[\"selectionWindow\"] / 2\n",
    "precur_map_df = pd.merge_asof(MS1_precurmass, MS2_dict_keys, left_on='MS1_precurmass' , right_on='MS2_precurs',direction ='nearest' , tolerance=tol)\n",
    "# tmp = pd.merge_asof(ms1_masses, ms1_masses.dtype, left_on='mass', right_on='precursor_mz', direction ='nearest' , tolerance=tol)"
   ]
  },
  {
   "cell_type": "code",
   "execution_count": null,
   "metadata": {
    "pycharm": {
     "name": "#%%\n"
    }
   },
   "outputs": [],
   "source": [
    "precur_dict = precur_map_df.set_index(MS1_precurmass)['MS2_precurs'].to_dict()"
   ]
  },
  {
   "cell_type": "code",
   "execution_count": null,
   "metadata": {
    "pycharm": {
     "name": "#%%\n"
    }
   },
   "outputs": [],
   "source": [
    "len(precur_dict)"
   ]
  },
  {
   "cell_type": "code",
   "execution_count": null,
   "metadata": {
    "pycharm": {
     "name": "#%%\n"
    }
   },
   "outputs": [],
   "source": [
    "# ms1_prec_dict = ms1_agg_peaks.set_index('mass')['precursor_mz'].to_dict()\n",
    "for se in listSurveyEntry:\n",
    "    precursor = precur_dict[se.precurmass]\n",
    "    print(len(MS2_dict.get(precursor,[])))\n",
    "    "
   ]
  },
  {
   "cell_type": "code",
   "execution_count": null,
   "metadata": {
    "pycharm": {
     "name": "#%%\n"
    }
   },
   "outputs": [],
   "source": [
    "\n",
    "# add data to masterscan\n",
    "scan = MasterScan(options)\n",
    "scan.listSurveyEntry = listSurveyEntry\n",
    "scan.listSurveyEntry[0].massWindow = 0.01  # to avoid bug\n",
    "scan.sampleOccThr[\"MS\"] = [(0.0, [])]  # to avoid bug at def checkOccupation\n",
    "scan.sampleOccThr[\"MSMS\"] = [(0.0, [])]\n",
    "\n",
    "# for printing we need\n",
    "# samples.extend([f'{k}_lx2' for k in samples])\n",
    "scan.listSamples = samples\n"
   ]
  },
  {
   "cell_type": "code",
   "execution_count": null,
   "metadata": {
    "pycharm": {
     "name": "#%%\n"
    }
   },
   "outputs": [],
   "source": [
    "import pickle\n",
    "with open('tmp_lx1_and_lx2.sc','wb') as f: pickle.dump(scan, f)"
   ]
  },
  {
   "cell_type": "markdown",
   "metadata": {
    "pycharm": {
     "name": "#%% md\n"
    }
   },
   "source": [
    "# recalibrate\n",
    "import pickle"
   ]
  },
  {
   "cell_type": "code",
   "execution_count": null,
   "metadata": {
    "pycharm": {
     "name": "#%%\n"
    }
   },
   "outputs": [],
   "source": [
    "import pickle\n",
    "with open('ms1_dfs.pkl', 'rb') as f: ms1_dfs = pickle.load(f)\n",
    "with open('options.pkl', 'rb') as f: options = pickle.load(f)"
   ]
  },
  {
   "cell_type": "code",
   "execution_count": null,
   "metadata": {
    "pycharm": {
     "name": "#%%\n"
    }
   },
   "outputs": [],
   "source": [
    "#recalibrate\n",
    "def recalibrate_mzs(mzs, cals):\n",
    "    # from lx2_masterscan\n",
    "    # lx1 takes all that are within tolerance and then uses highest intensity\n",
    "    if not cals or mzs.empty:\n",
    "        return mzs\n",
    "    cal_matchs = [mzs.loc[mzs.sub(cal).abs().idxmin()] for cal in cals]\n",
    "\n",
    "    cal_vals = [cal - cal_match for cal, cal_match in zip(cals, cal_matchs)]\n",
    "    # prefilter\n",
    "    if not any((v < 0.1 for v in cal_vals)):\n",
    "        return mzs\n",
    "    # find near tolerance\n",
    "    cutoff = mzs.diff(-1).quantile(0.1)\n",
    "    is_near = [v < cutoff for v in cal_vals]\n",
    "    if not any(is_near):\n",
    "        log.info(\"no valid calibration masses found\")\n",
    "        return mzs\n",
    "\n",
    "    cal_matchs = [e for e, v in zip(cal_matchs, is_near) if v]\n",
    "    cal_vals = [e for e, v in zip(cal_vals, is_near) if v]\n",
    "    log.debug(\"recalibration info: {'\\n'.join(zip(cal_matchs,cal_vals ))}\")\n",
    "\n",
    "    return mzs + np.interp(mzs, cal_matchs, cal_vals)"
   ]
  },
  {
   "cell_type": "code",
   "execution_count": null,
   "metadata": {
    "pycharm": {
     "name": "#%%\n"
    }
   },
   "outputs": [],
   "source": [
    "res = []\n",
    "for cal_mass in options['MScalibration']:\n",
    "    tol = cal_mass / options[\"MSresolution\"].tolerance\n",
    "    #find close enough most intense\n",
    "    reference_mass = ms1_df[ms1_df.mz.between(cal_mass-tol , cal_mass+tol)].sort_values('inty', ascending=False).mz.iat[0]\n",
    "    change_val = cal_mass - reference_mass\n",
    "    res.append((reference_mass, change_val))\n",
    "\n",
    "cal_matchs, cal_vals = zip(*res)"
   ]
  },
  {
   "cell_type": "markdown",
   "metadata": {
    "pycharm": {
     "name": "#%% md\n"
    }
   },
   "source": [
    "# perf testing"
   ]
  },
  {
   "cell_type": "code",
   "execution_count": null,
   "metadata": {
    "pycharm": {
     "name": "#%%\n"
    }
   },
   "outputs": [],
   "source": [
    "import pickle"
   ]
  },
  {
   "cell_type": "code",
   "execution_count": null,
   "metadata": {
    "pycharm": {
     "name": "#%%\n"
    }
   },
   "outputs": [],
   "source": [
    "# with open('stitched.sc','wb') as f: pickle.dump(stitched, "
   ]
  },
  {
   "cell_type": "code",
   "execution_count": null,
   "metadata": {
    "pycharm": {
     "name": "#%%\n"
    }
   },
   "outputs": [],
   "source": [
    "with open('stitched.sc','rb') as f: stitched  = pickle.load(f) "
   ]
  },
  {
   "cell_type": "code",
   "execution_count": null,
   "metadata": {
    "pycharm": {
     "name": "#%%\n"
    }
   },
   "outputs": [],
   "source": [
    "stitched.dump('stitched-dump.csv')"
   ]
  },
  {
   "cell_type": "code",
   "execution_count": null,
   "metadata": {
    "pycharm": {
     "name": "#%%\n"
    }
   },
   "outputs": [],
   "source": [
    "t = stitched.listSurveyEntry[0]\n",
    "t.dictIntensity"
   ]
  },
  {
   "cell_type": "code",
   "execution_count": 3,
   "metadata": {
    "pycharm": {
     "name": "#%%\n"
    }
   },
   "outputs": [],
   "source": [
    "import pickle\n",
    "with open('tmp.pkl','rb') as f: resultSC = pickle.load(f)"
   ]
  },
  {
   "cell_type": "code",
   "execution_count": null,
   "metadata": {
    "pycharm": {
     "name": "#%%\n"
    }
   },
   "outputs": [],
   "source": [
    "ms2_peaks[['precursor_mz', 'prec_bin']].drop_duplicates()['prec_bin'].value_counts()"
   ]
  },
  {
   "cell_type": "code",
   "execution_count": null,
   "metadata": {
    "pycharm": {
     "name": "#%%\n"
    }
   },
   "outputs": [],
   "source": [
    "import pandas as pd\n"
   ]
  },
  {
   "cell_type": "code",
   "execution_count": 1,
   "metadata": {
    "pycharm": {
     "name": "#%%\n"
    }
   },
   "outputs": [
    {
     "name": "stdout",
     "output_type": "stream",
     "text": [
      "hello\n"
     ]
    }
   ],
   "source": [
    "print('hello')"
   ]
  },
  {
   "cell_type": "code",
   "execution_count": 5,
   "metadata": {
    "pycharm": {
     "name": "#%%\n"
    }
   },
   "outputs": [],
   "source": [
    "from itertools import groupby"
   ]
  },
  {
   "cell_type": "code",
   "execution_count": 7,
   "metadata": {
    "pycharm": {
     "name": "#%%\n"
    }
   },
   "outputs": [
    {
     "data": {
      "text/plain": [
       "[C20 H36 O7 N1 P1 D5 ]"
      ]
     },
     "execution_count": 7,
     "metadata": {},
     "output_type": "execute_result"
    }
   ],
   "source": [
    "resultSC[0].listPrecurmassSF\n"
   ]
  },
  {
   "cell_type": "code",
   "execution_count": 29,
   "metadata": {
    "pycharm": {
     "name": "#%%\n"
    }
   },
   "outputs": [],
   "source": [
    "merged_resultSC = []\n",
    "for key,group in groupby(resultSC, lambda x: str(x.listPrecurmassSF)):\n",
    "    base = next(group)\n",
    "    for entry in group:\n",
    "        for k,v in base.dictIntensity.items():\n",
    "            base.dictIntensity[k] = max(v, entry.dictIntensity[k])\n",
    "    merged_resultSC.append(base)\n",
    "    "
   ]
  },
  {
   "cell_type": "code",
   "execution_count": 30,
   "metadata": {
    "pycharm": {
     "name": "#%%\n"
    }
   },
   "outputs": [
    {
     "data": {
      "text/plain": [
       "[/-/ . 443.2942 |           0            0        15317        18678        29218        27153        38954        26335        33533        40797            0        23153   QP: -1.0000 Mean: -1.0000 Median: -1.0000 V(X): -1.0000 E(X): -1.0000 [LPEd5_pr:443:MS1-],\n",
       " /-/ . 457.3093 |           0            0            0           94            0            0           78            0            0            0            0            0   QP: -1.0000 Mean: -1.0000 Median: -1.0000 V(X): -1.0000 E(X): -1.0000 [LPEd5_pr:457:MS1-],\n",
       " /-/ . 471.3254 |           0            0        38691        47712        71485        69443        87432        61811        75618       113022        33924        56082   QP: -1.0000 Mean: -1.0000 Median: -1.0000 V(X): -1.0000 E(X): -1.0000 [LPEd5_pr:471:MS1-],\n",
       " /-/ . 474.2870 |        1317            0        13925        18189        32972        32358        43318        28923        33385        50447         7505        14004   QP: -1.0000 Mean: -1.0000 Median: -1.0000 V(X): -1.0000 E(X): -1.0000 [LPGd5_pr:474:MS1-],\n",
       " /-/ . 485.3407 |          95            0          122          201            0            0            0            0            0            0          115          110   QP: -1.0000 Mean: -1.0000 Median: -1.0000 V(X): -1.0000 E(X): -1.0000 [LPEd5_pr:485:MS1-],\n",
       " /-/ . 486.2865 |           0            0           85            0            0            0            0            0            0            0          104            0   QP: -1.0000 Mean: -1.0000 Median: -1.0000 V(X): -1.0000 E(X): -1.0000 [LPGd5_pr:486:MS1-],\n",
       " /-/ . 487.2836 |           0            0         8443        10918        17488        15371        27514        17742        18938        25849         4262         8164   QP: -1.0000 Mean: -1.0000 Median: -1.0000 V(X): -1.0000 E(X): -1.0000 [LPSd5_pr:487:MS1-],\n",
       " /-/ . 499.3568 |           0            0        17893        21634        32009        29775        45359        30517        36609        47624        14888        28087   QP: -1.0000 Mean: -1.0000 Median: -1.0000 V(X): -1.0000 E(X): -1.0000 [LPEd5_pr:499:MS1-],\n",
       " /-/ . 501.3138 |           0            0         1130            0         2384         2186         3577         2168         2723         3640          616            0   QP: -1.0000 Mean: -1.0000 Median: -1.0000 V(X): -1.0000 E(X): -1.0000 [LPGd5_pr:501:MS1-],\n",
       " /-/ . 502.3200 |           0            0            0        35073        60729            0        85784        56470        68170        87398        16598        31573   QP: -1.0000 Mean: -1.0000 Median: -1.0000 V(X): -1.0000 E(X): -1.0000 [LPGd5_pr:502:MS1-],\n",
       " /-/ . 511.2814 |           0            0         1030         1285         3893         4073         2827         3277         2393         3249          828         1815   QP: -1.0000 Mean: -1.0000 Median: -1.0000 V(X): -1.0000 E(X): -1.0000 [LPSd5_pr:511:MS1-],\n",
       " /-/ . 514.3084 |           0            0          898         1028         1578         1510         2821         1784         1659         2505          666          829   QP: -1.0000 Mean: -1.0000 Median: -1.0000 V(X): -1.0000 E(X): -1.0000 [LPSd5_pr:514:MS1-],\n",
       " /-/ . 515.3149 |           0            0            0        23476        34402        34963        53626        35581        35370        54404         9729        16853   QP: -1.0000 Mean: -1.0000 Median: -1.0000 V(X): -1.0000 E(X): -1.0000 [LPSd5_pr:515:MS1-],\n",
       " /-/ . 527.3251 |           0            0          284            0            0            0            0            0            0            0            0            0   QP: -1.0000 Mean: -1.0000 Median: -1.0000 V(X): -1.0000 E(X): -1.0000 [LPGd5_pr:527:MS1-],\n",
       " /-/ . 529.3446 |           0            0          578          874         1296         1007         1576         1438         1266         1951            0          641   QP: -1.0000 Mean: -1.0000 Median: -1.0000 V(X): -1.0000 E(X): -1.0000 [LPGd5_pr:529:MS1-],\n",
       " /-/ . 530.3507 |           0            0        16744        20278        30667        30060        44403        27348        34966        46467         9813        16801   QP: -1.0000 Mean: -1.0000 Median: -1.0000 V(X): -1.0000 E(X): -1.0000 [LPGd5_pr:530:MS1-],\n",
       " /-/ . 531.3459 |           0            0        16016        20114        29053        29882        38409        25414        31796        45994        12140        24510   QP: -1.0000 Mean: -1.0000 Median: -1.0000 V(X): -1.0000 E(X): -1.0000 [LPCd5_pr:531:MS1-],\n",
       " /-/ . 537.2969 |           0            0          517          799         1881         1708            0         1668         1058         1402            0          559   QP: -1.0000 Mean: -1.0000 Median: -1.0000 V(X): -1.0000 E(X): -1.0000 [LPSd5_pr:537:MS1-],\n",
       " /-/ . 538.3067 |           0            0            0            0          149            0            0            0            0            0            0            0   QP: -1.0000 Mean: -1.0000 Median: -1.0000 V(X): -1.0000 E(X): -1.0000 [LPSd5_pr:538:MS1-],\n",
       " /-/ . 539.3127 |           0            0         1491         3164         8316         8419         5950         7231         4603         7220         1373         4240   QP: -1.0000 Mean: -1.0000 Median: -1.0000 V(X): -1.0000 E(X): -1.0000 [LPSd5_pr:539:MS1-],\n",
       " /-/ . 542.3374 |           0            0          662          574         3290         3541         1368         1025         1889         2717         1155          533   QP: -1.0000 Mean: -1.0000 Median: -1.0000 V(X): -1.0000 E(X): -1.0000 [LPSd5_pr:542:MS1-],\n",
       " /-/ . 543.3463 |         266            0         9114        12134        16161        15092        28092        17406        15827        26630         4850         9035   QP: -1.0000 Mean: -1.0000 Median: -1.0000 V(X): -1.0000 E(X): -1.0000 [LPCd5_pr:543:MS1-, LPSd5_pr:543:MS1-],\n",
       " /-/ . 557.3617 |           0            0            0            0            0          216          208          138            0            0            0            0   QP: -1.0000 Mean: -1.0000 Median: -1.0000 V(X): -1.0000 E(X): -1.0000 [LPCd5_pr:557:MS1-],\n",
       " /-/ . 558.3716 |           0            0         1140         1308         2323         2200         3293         1962         2752         3691          965         1830   QP: -1.0000 Mean: -1.0000 Median: -1.0000 V(X): -1.0000 E(X): -1.0000 [LPCd5_pr:558:MS1-],\n",
       " /-/ . 559.3777 |          98            0        31000        36341        60425        53535        77541        51764        67512        81866        24856        46674   QP: -1.0000 Mean: -1.0000 Median: -1.0000 V(X): -1.0000 E(X): -1.0000 [LPCd5_pr:559:MS1-],\n",
       " /-/ . 562.3043 |           0            0         7927         9338        15800        14219        24560        15679        19251        23461         3802         6688   QP: -1.0000 Mean: -1.0000 Median: -1.0000 V(X): -1.0000 E(X): -1.0000 [LPId5_pr:562:MS1-],\n",
       " /-/ . 586.4028 |           0            0            0          977          994         1100         1488         1149         1279         1427          544          895   QP: -1.0000 Mean: -1.0000 Median: -1.0000 V(X): -1.0000 E(X): -1.0000 [LPCd5_pr:586:MS1-],\n",
       " /-/ . 587.4091 |           0            0        15228        20289        26984        24536        37365        25870        31450        29953        12386        23431   QP: -1.0000 Mean: -1.0000 Median: -1.0000 V(X): -1.0000 E(X): -1.0000 [LPCd5_pr:587:MS1-],\n",
       " /-/ . 587.5386 |           0            0        72712        95173       129357       137995       150780       103500       126996       183726        60610       114633   QP: -1.0000 Mean: -1.0000 Median: -1.0000 V(X): -1.0000 E(X): -1.0000 [Cerd7_pr:587:MS1-],\n",
       " /-/ . 589.3289 |           0            0          510          918            0            0         1914         1294         1313         1896            0          626   QP: -1.0000 Mean: -1.0000 Median: -1.0000 V(X): -1.0000 E(X): -1.0000 [LPId5_pr:589:MS1-],\n",
       " /-/ . 590.3354 |           0            0        18991        23376        35083        32914        57286        37157        43426        54285         9743        18212   QP: -1.0000 Mean: -1.0000 Median: -1.0000 V(X): -1.0000 E(X): -1.0000 [LPId5_pr:590:MS1-],\n",
       " /-/ . 602.5048 |         115            0         7747         9079        13588        12745        16264        11652        13570        18297         5457        10975   QP: -1.0000 Mean: -1.0000 Median: -1.0000 V(X): -1.0000 E(X): -1.0000 [DGd5_pr:602:MS1-],\n",
       " /-/ . 603.5107 |           0            0           -1            0           -1           -1           -1            0            0           -1            0           -1   QP: -1.0000 Mean: -1.0000 Median: -1.0000 V(X): -1.0000 E(X): -1.0000 [DGd5_pr:603:MS1-],\n",
       " /-/ . 612.5458 |         670          614          695          611          701          592          524          546          639          462          630          609   QP: -1.0000 Mean: -1.0000 Median: -1.0000 V(X): -1.0000 E(X): -1.0000 [Cerd7_pr:612:MS1-],\n",
       " /-/ . 613.5559 |           0            0            0            0            0            0            0            0            0            0            0            0   QP: -1.0000 Mean: -1.0000 Median: -1.0000 V(X): -1.0000 E(X): -1.0000 [Cerd7_pr:613:MS1-],\n",
       " /-/ . 614.5631 |           0            0         3666         4205         6596         5710         8500         5836         7093         7359         2903         5693   QP: -1.0000 Mean: -1.0000 Median: -1.0000 V(X): -1.0000 E(X): -1.0000 [Cerd7_pr:614:MS1-],\n",
       " /-/ . 615.5125 |         140            0            0            0            0            0            0            0            0            0            0            0   QP: -1.0000 Mean: -1.0000 Median: -1.0000 V(X): -1.0000 E(X): -1.0000 [DGd5_pr:615:MS1-],\n",
       " /-/ . 615.5695 |           0            0            0        47302            0            0            0        64422        73418        88445        33367            0   QP: -1.0000 Mean: -1.0000 Median: -1.0000 V(X): -1.0000 E(X): -1.0000 [Cerd7_pr:615:MS1-],\n",
       " /-/ . 617.3564 |         119            0          309          375          520          559         1139          584          818          911            0          355   QP: -1.0000 Mean: -1.0000 Median: -1.0000 V(X): -1.0000 E(X): -1.0000 [LPId5_pr:617:MS1-],\n",
       " /-/ . 618.3667 |          74            0        10232        12335        17115        14950        29680        18191        21150        26116         5809         9323   QP: -1.0000 Mean: -1.0000 Median: -1.0000 V(X): -1.0000 E(X): -1.0000 [LPId5_pr:618:MS1-],\n",
       " /-/ . 629.5287 |           0            0          674          688         1108         1110         1547         1136         1356         1461          466          910   QP: -1.0000 Mean: -1.0000 Median: -1.0000 V(X): -1.0000 E(X): -1.0000 [DGd5_pr:629:MS1-],\n",
       " /-/ . 629.5852 |           0            0            0            0            0            0            0          118            0            0            0            0   QP: -1.0000 Mean: -1.0000 Median: -1.0000 V(X): -1.0000 E(X): -1.0000 [Cerd7_pr:629:MS1-],\n",
       " /-/ . 630.5358 |           0            0        16798        19591        27927        26364        37447        25903        31299        37683        12820        24656   QP: -1.0000 Mean: -1.0000 Median: -1.0000 V(X): -1.0000 E(X): -1.0000 [DGd5_pr:630:MS1-],\n",
       " /-/ . 640.5237 |           0            0            0            0            0            0            0          137            0            0            0            0   QP: -1.0000 Mean: -1.0000 Median: -1.0000 V(X): -1.0000 E(X): -1.0000 [DGd5_pr:640:MS1-],\n",
       " /-/ . 640.5775 |         262          244          311          260          313          239          255          230          282          263          331          239   QP: -1.0000 Mean: -1.0000 Median: -1.0000 V(X): -1.0000 E(X): -1.0000 [Cerd7_pr:640:MS1-],\n",
       " /-/ . 641.5881 |           0            0            0            0            0           20            0            0            0            0            0           26   QP: -1.0000 Mean: -1.0000 Median: -1.0000 V(X): -1.0000 E(X): -1.0000 [Cerd7_pr:641:MS1-],\n",
       " /-/ . 642.5385 |           0          111            0            0            0            0            0            0            0            0            0            0   QP: -1.0000 Mean: -1.0000 Median: -1.0000 V(X): -1.0000 E(X): -1.0000 [DGd5_pr:642:MS1-],\n",
       " /-/ . 642.5946 |           0            0         1510         1819         2739         2228         3285         2469         2994         3521         1155         2222   QP: -1.0000 Mean: -1.0000 Median: -1.0000 V(X): -1.0000 E(X): -1.0000 [Cerd7_pr:642:MS1-],\n",
       " /-/ . 643.5440 |         156            0            0            0            0            0            0            0            0            0            0            0   QP: -1.0000 Mean: -1.0000 Median: -1.0000 V(X): -1.0000 E(X): -1.0000 [DGd5_pr:643:MS1-],\n",
       " /-/ . 643.6008 |           0            0        18845        23582            0        28900        42888        31708        38130            0        15154            0   QP: -1.0000 Mean: -1.0000 Median: -1.0000 V(X): -1.0000 E(X): -1.0000 [Cerd7_pr:643:MS1-],\n",
       " /-/ . 656.5520 |           0            0          136            0            0          166            0            0            0          373            0          172   QP: -1.0000 Mean: -1.0000 Median: -1.0000 V(X): -1.0000 E(X): -1.0000 [DGd5_pr:656:MS1-],\n",
       " /-/ . 657.5613 |           0            0         1149         1342         1985         1602         2588         1865         1892         2750          855         1697   QP: -1.0000 Mean: -1.0000 Median: -1.0000 V(X): -1.0000 E(X): -1.0000 [DGd5_pr:657:MS1-],\n",
       " /-/ . 658.5676 |           0            0        28319        33397        46849        43462        61795        44484        48411        63088        20711        42492   QP: -1.0000 Mean: -1.0000 Median: -1.0000 V(X): -1.0000 E(X): -1.0000 [DGd5_pr:658:MS1-],\n",
       " /-/ . 662.5081 |           0            0            0            0          503            0            0            0          244            0            0            0   QP: -1.0000 Mean: -1.0000 Median: -1.0000 V(X): -1.0000 E(X): -1.0000 [DGd5_pr:662:MS1-],\n",
       " /-/ . 664.5238 |           0            0            0            0         1023         1071            0            0            0            0            0            0   QP: -1.0000 Mean: -1.0000 Median: -1.0000 V(X): -1.0000 E(X): -1.0000 [DGd5_pr:664:MS1-],\n",
       " /-/ . 666.5394 |           0            0            0            0            0            0          305            0          503            0            0            0   QP: -1.0000 Mean: -1.0000 Median: -1.0000 V(X): -1.0000 E(X): -1.0000 [DGd5_pr:666:MS1-],\n",
       " /-/ . 669.6184 |           0            0          172          214          308          267          344          291          338          429          129          236   QP: -1.0000 Mean: -1.0000 Median: -1.0000 V(X): -1.0000 E(X): -1.0000 [Cerd7_pr:669:MS1-],\n",
       " /-/ . 670.5692 |           0          155            0            0            0            0            0            0            0            0          133            0   QP: -1.0000 Mean: -1.0000 Median: -1.0000 V(X): -1.0000 E(X): -1.0000 [DGd5_pr:670:MS1-],\n",
       " /-/ . 670.6261 |           0            0         2975         3273         5291         4490         6291         4734         5058         6608         2363         4397   QP: -1.0000 Mean: -1.0000 Median: -1.0000 V(X): -1.0000 E(X): -1.0000 [Cerd7_pr:670:MS1-],\n",
       " /-/ . 671.5752 |         111            0            0            0            0            0            0            0            0            0            0            0   QP: -1.0000 Mean: -1.0000 Median: -1.0000 V(X): -1.0000 E(X): -1.0000 [DGd5_pr:671:MS1-],\n",
       " /-/ . 671.6321 |           0            0        36226        44267        64364        55877        79404        60204        60594        80188        30897        54873   QP: -1.0000 Mean: -1.0000 Median: -1.0000 V(X): -1.0000 E(X): -1.0000 [Cerd7_pr:671:MS1-],\n",
       " /-/ . 675.6658 |          97            0            0            0            0            0            0            0            0            0            0            0   QP: -1.0000 Mean: -1.0000 Median: -1.0000 V(X): -1.0000 E(X): -1.0000 [Cerd7_pr:675:MS1-],\n",
       " /-/ . 679.5075 |           0            0        14474        17381        21214        18001        31953        20573        23954        32194        12181        21419   QP: -1.0000 Mean: -1.0000 Median: -1.0000 V(X): -1.0000 E(X): -1.0000 [PEd5_pr:679:MS1-],\n",
       " /-/ . 681.5607 |           0            0          873         1044         1518         1416         2123         1638         1653         2253          739         1438   QP: -1.0000 Mean: -1.0000 Median: -1.0000 V(X): -1.0000 E(X): -1.0000 [DGd5_pr:681:MS1-],\n",
       " /-/ . 682.5670 |           0            0        23673        29080        39993        35443        51086        37084        41381        53304        18675        37551   QP: -1.0000 Mean: -1.0000 Median: -1.0000 V(X): -1.0000 E(X): -1.0000 [DGd5_pr:682:MS1-],\n",
       " /-/ . 685.6475 |           0            0            0            0            0            0            0            0            0            0            0          200   QP: -1.0000 Mean: -1.0000 Median: -1.0000 V(X): -1.0000 E(X): -1.0000 [Cerd7_pr:685:MS1-],\n",
       " /-/ . 697.6499 |           0            0          214          244          472          420          495          349          482          640            0          316   QP: -1.0000 Mean: -1.0000 Median: -1.0000 V(X): -1.0000 E(X): -1.0000 [Cerd7_pr:697:MS1-],\n",
       " /-/ . 698.6572 |           0            0            0         4983         7222         6071         8751         6505         7432        10357         3425            0   QP: -1.0000 Mean: -1.0000 Median: -1.0000 V(X): -1.0000 E(X): -1.0000 [Cerd7_pr:698:MS1-],\n",
       " /-/ . 699.6634 |           0            0        55452        64074        91100        77889       112446        84416       100037       125922        47038        87680   QP: -1.0000 Mean: -1.0000 Median: -1.0000 V(X): -1.0000 E(X): -1.0000 [Cerd7_pr:699:MS1-],\n",
       " /-/ . 706.5324 |           0            0         1095         1262         1458         1382         2307         1584         1895         2285          894         1678   QP: -1.0000 Mean: -1.0000 Median: -1.0000 V(X): -1.0000 E(X): -1.0000 [PEd5_pr:706:MS1-],\n",
       " /-/ . 707.5387 |           0            0        27082        32725        37400        32349        56080        37286        47473        61512        23728        41340   QP: -1.0000 Mean: -1.0000 Median: -1.0000 V(X): -1.0000 E(X): -1.0000 [PEd5_pr:707:MS1-],\n",
       " /-/ . 707.5762 |           0            0            0            0          722          866            0            0            0            0            0          779   QP: -1.0000 Mean: -1.0000 Median: -1.0000 V(X): -1.0000 E(X): -1.0000 [DGd5_pr:707:MS1-],\n",
       " /-/ . 708.5827 |           0            0        12378        15286        18780        17462        25748        17599        24053        30183        10246        19150   QP: -1.0000 Mean: -1.0000 Median: -1.0000 V(X): -1.0000 E(X): -1.0000 [DGd5_pr:708:MS1-],\n",
       " /-/ . 710.5019 |           0            0        14713        17976        22380        19252        32970        21641        28021        35869        10708        19079   QP: -1.0000 Mean: -1.0000 Median: -1.0000 V(X): -1.0000 E(X): -1.0000 [PGd5_pr:710:MS1-],\n",
       " /-/ . 715.5116 |           0            0            0            0            0          412            0            0            0            0            0            0   QP: -1.0000 Mean: -1.0000 Median: -1.0000 V(X): -1.0000 E(X): -1.0000 [PEd5_pr:715:MS1-],\n",
       " /-/ . 723.4975 |           0            0        10940        13601        17434        16015        28066        18378        19811        27532         8007        13371   QP: -1.0000 Mean: -1.0000 Median: -1.0000 V(X): -1.0000 E(X): -1.0000 [PSd5_pr:723:MS1-],\n",
       " /-/ . 724.5161 |           0            0            0            0            0          373            0            0            0            0            0            0   QP: -1.0000 Mean: -1.0000 Median: -1.0000 V(X): -1.0000 E(X): -1.0000 [PGd5_pr:724:MS1-],\n",
       " /-/ . 725.5140 |           0            0         2199            0            0            0            0            0            0            0            0            0   QP: -1.0000 Mean: -1.0000 Median: -1.0000 V(X): -1.0000 E(X): -1.0000 [PSd5_pr:725:MS1-],\n",
       " /-/ . 733.5515 |           0            0          122          158            0            0          495            0            0            0            0          226   QP: -1.0000 Mean: -1.0000 Median: -1.0000 V(X): -1.0000 E(X): -1.0000 [PEd5_pr:733:MS1-],\n",
       " /-/ . 734.5636 |           0            0         1704         2029         1794         1948         4060         2701         3033         3238         1502         2494   QP: -1.0000 Mean: -1.0000 Median: -1.0000 V(X): -1.0000 E(X): -1.0000 [PEd5_pr:734:MS1-],\n",
       " /-/ . 735.5703 |           0            0        40254        49932        52265        42590        89060        57370        62156        82708        32919        57290   QP: -1.0000 Mean: -1.0000 Median: -1.0000 V(X): -1.0000 E(X): -1.0000 [PEd5_pr:735:MS1-],\n",
       " /-/ . 736.5064 |         179            0            0            0            0            0            0            0            0            0            0            0   QP: -1.0000 Mean: -1.0000 Median: -1.0000 V(X): -1.0000 E(X): -1.0000 [PSd5_pr:736:MS1-],\n",
       " /-/ . 737.5255 |           0            0          994         1163            0          432         2173         1519         1140         1410          668         1285   QP: -1.0000 Mean: -1.0000 Median: -1.0000 V(X): -1.0000 E(X): -1.0000 [PGd5_pr:737:MS1-],\n",
       " /-/ . 737.5851 |           0            0          800            0            0         5136            0            0            0            0            0            0   QP: -1.0000 Mean: -1.0000 Median: -1.0000 V(X): -1.0000 E(X): -1.0000 [PEd5_pr:737:MS1-],\n",
       " /-/ . 738.5335 |           0            0        26930        32553        38650        33319        63425        41259        44452        59595        19671        32969   QP: -1.0000 Mean: -1.0000 Median: -1.0000 V(X): -1.0000 E(X): -1.0000 [PGd5_pr:738:MS1-],\n",
       " /-/ . 743.5426 |           0            0            0            0         1103            0            0            0            0          722            0            0   QP: -1.0000 Mean: -1.0000 Median: -1.0000 V(X): -1.0000 E(X): -1.0000 [PEd5_pr:743:MS1-],\n",
       " /-/ . 747.4951 |           0            0          913         1439         3015         2933         2811         3179         2047         2973          895         1895   QP: -1.0000 Mean: -1.0000 Median: -1.0000 V(X): -1.0000 E(X): -1.0000 [PSd5_pr:747:MS1-],\n",
       " /-/ . 747.5071 |         120            0            0            0            0            0            0            0            0            0            0            0   QP: -1.0000 Mean: -1.0000 Median: -1.0000 V(X): -1.0000 E(X): -1.0000 [PGd5_pr:747:MS1-],\n",
       " /-/ . 749.5172 |           0            0            0            0            0          161            0            0            0            0            0            0   QP: -1.0000 Mean: -1.0000 Median: -1.0000 V(X): -1.0000 E(X): -1.0000 [PSd5_pr:749:MS1-],\n",
       " /-/ . 750.5220 |         218            0          961         1316         1281         1107         2411         1495         1349         2177          679         1164   QP: -1.0000 Mean: -1.0000 Median: -1.0000 V(X): -1.0000 E(X): -1.0000 [PSd5_pr:750:MS1-],\n",
       " /-/ . 751.5283 |           0            0        23958        30440        36156        29140        57881        37369        36332        56071        17808        27807   QP: -1.0000 Mean: -1.0000 Median: -1.0000 V(X): -1.0000 E(X): -1.0000 [PSd5_pr:751:MS1-],\n",
       " /-/ . 751.5452 |           0            0            0            0            0         2489            0            0            0            0            0            0   QP: -1.0000 Mean: -1.0000 Median: -1.0000 V(X): -1.0000 E(X): -1.0000 [PGd5_pr:751:MS1-],\n",
       " /-/ . 752.5485 |           0            0            0            0          623            0            0            0            0            0            0            0   QP: -1.0000 Mean: -1.0000 Median: -1.0000 V(X): -1.0000 E(X): -1.0000 [PGd5_pr:752:MS1-],\n",
       " /-/ . 754.6055 |           0            0        40358        49016        60198        51004        96910        61034        66706        90281        32780        55677   QP: -1.0000 Mean: -1.0000 Median: -1.0000 V(X): -1.0000 E(X): -1.0000 [SMd9_pr:754:MS1-],\n",
       " /-/ . 758.5634 |           0            0          948         1092         1245         1034         2359         1437         1676         2004          798         1431   QP: -1.0000 Mean: -1.0000 Median: -1.0000 V(X): -1.0000 E(X): -1.0000 [PEd5_pr:758:MS1-],\n",
       " /-/ . 759.5699 |           0            0        25952        30588        33605        28534        53052        34134        41187        52136        18948        35380   QP: -1.0000 Mean: -1.0000 Median: -1.0000 V(X): -1.0000 E(X): -1.0000 [PEd5_pr:759:MS1-],\n",
       " /-/ . 761.5223 |         108            0            0            0            0            0            0            0            0            0            0            0   QP: -1.0000 Mean: -1.0000 Median: -1.0000 V(X): -1.0000 E(X): -1.0000 [PGd5_pr:761:MS1-],\n",
       " /-/ . 762.5357 |           0            0            0            0            0          868            0            0          430            0            0            0   QP: -1.0000 Mean: -1.0000 Median: -1.0000 V(X): -1.0000 E(X): -1.0000 [PGd5_pr:762:MS1-],\n",
       " /-/ . 764.5379 |         233            0            0            0            0            0            0            0            0            0            0            0   QP: -1.0000 Mean: -1.0000 Median: -1.0000 V(X): -1.0000 E(X): -1.0000 [PSd5_pr:764:MS1-],\n",
       " /-/ . 765.5538 |          90            0         1656         2334         2093         1430         3548         2403         2636         3427         1241         2054   QP: -1.0000 Mean: -1.0000 Median: -1.0000 V(X): -1.0000 E(X): -1.0000 [PGd5_pr:765:MS1-],\n",
       " /-/ . 766.5645 |           0            0        41789        49117        55772        47580        90078        58903        68325        86063        28825        50487   QP: -1.0000 Mean: -1.0000 Median: -1.0000 V(X): -1.0000 E(X): -1.0000 [PGd5_pr:766:MS1-],\n",
       " /-/ . 767.5602 |           0            0            0        25548            0            0            0            0            0            0         6152         6118   QP: -1.0000 Mean: -1.0000 Median: -1.0000 V(X): -1.0000 E(X): -1.0000 [PCd5_pr:767:MS1-, PSd5_pr:767:MS1-],\n",
       " /-/ . 771.5732 |           0            0            0            0            0            0            0            0            0            0           84            0   QP: -1.0000 Mean: -1.0000 Median: -1.0000 V(X): -1.0000 E(X): -1.0000 [PEd5_pr:771:MS1-],\n",
       " /-/ . 773.5097 |           0            0          462          550         1552         1491         1284         1214          814         1355          366          841   QP: -1.0000 Mean: -1.0000 Median: -1.0000 V(X): -1.0000 E(X): -1.0000 [PSd5_pr:773:MS1-],\n",
       " /-/ . 773.5885 |           0            0          205            0          758         3998            0            0            0         3738            0            0   QP: -1.0000 Mean: -1.0000 Median: -1.0000 V(X): -1.0000 E(X): -1.0000 [PEd5_pr:773:MS1-],\n",
       " /-/ . 774.5190 |           0            0            0            0            0            0           -1            0            0            0            0            0   QP: -1.0000 Mean: -1.0000 Median: -1.0000 V(X): -1.0000 E(X): -1.0000 [PSd5_pr:774:MS1-],\n",
       " /-/ . 775.5263 |         100            0         1517         2695         5082         5026         4190         4510         3984         4913         1482         3889   QP: -1.0000 Mean: -1.0000 Median: -1.0000 V(X): -1.0000 E(X): -1.0000 [PSd5_pr:775:MS1-],\n",
       " /-/ . 777.5478 |           0            0          246          231         3068         2952            0          380         1926         2296            0            0   QP: -1.0000 Mean: -1.0000 Median: -1.0000 V(X): -1.0000 E(X): -1.0000 [PSd5_pr:777:MS1-],\n",
       " /-/ . 778.5531 |         139            0         1243         1563            0            0         3573         1807            0         2802         1096         2153   QP: -1.0000 Mean: -1.0000 Median: -1.0000 V(X): -1.0000 E(X): -1.0000 [PSd5_pr:778:MS1-],\n",
       " /-/ . 779.5598 |           0            0        33470        44214        48083        43762        77771        50634        57758        79163        25389        46696   QP: -1.0000 Mean: -1.0000 Median: -1.0000 V(X): -1.0000 E(X): -1.0000 [PCd5_pr:779:MS1-, PSd5_pr:779:MS1-],\n",
       " /-/ . 782.6373 |           0            0        23944            0        31492        29549            0            0        42435        53675        20458        38090   QP: -1.0000 Mean: -1.0000 Median: -1.0000 V(X): -1.0000 E(X): -1.0000 [SMd9_pr:782:MS1-],\n",
       " /-/ . 785.5855 |           0            0        12526        11593        15634        14118        25608        17764        20227        25766        10731        19706   QP: -1.0000 Mean: -1.0000 Median: -1.0000 V(X): -1.0000 E(X): -1.0000 [PEd5_pr:785:MS1-],\n",
       " /-/ . 789.5581 |           0            0          957         1367         1176         1154         2359         1361         1659         2310          808         1463   QP: -1.0000 Mean: -1.0000 Median: -1.0000 V(X): -1.0000 E(X): -1.0000 [PGd5_pr:789:MS1-],\n",
       " /-/ . 790.5643 |           0            0        25740        34581        34649        33427        57012        37873        47621        57870        20358        38080   QP: -1.0000 Mean: -1.0000 Median: -1.0000 V(X): -1.0000 E(X): -1.0000 [PGd5_pr:790:MS1-],\n",
       " /-/ . 792.5679 |         215            0            0            0            0            0            0            0            0            0            0            0   QP: -1.0000 Mean: -1.0000 Median: -1.0000 V(X): -1.0000 E(X): -1.0000 [PCd5_pr:792:MS1-, PSd5_pr:792:MS1-],\n",
       " /-/ . 793.5723 |           0            0            0            0            0            0            0            0            0            0            0            0   QP: -1.0000 Mean: -1.0000 Median: -1.0000 V(X): -1.0000 E(X): -1.0000 [PCd5_pr:793:MS1-, PSd5_pr:793:MS1-],\n",
       " /-/ . 794.5842 |           0            0         1618         2202         2051         2215         3458         2117         3231         3486         1304         2587   QP: -1.0000 Mean: -1.0000 Median: -1.0000 V(X): -1.0000 E(X): -1.0000 [PCd5_pr:794:MS1-, PSd5_pr:794:MS1-],\n",
       " /-/ . 795.5913 |           0            0        44171        52258        59026        51172        99395        65058        76447        92855        36689        61305   QP: -1.0000 Mean: -1.0000 Median: -1.0000 V(X): -1.0000 E(X): -1.0000 [PCd5_pr:795:MS1-],\n",
       " /-/ . 797.5111 |           0            0          419          486          800          671         1029          665          630         1094          285          544   QP: -1.0000 Mean: -1.0000 Median: -1.0000 V(X): -1.0000 E(X): -1.0000 [PSd5_pr:797:MS1-],\n",
       " /-/ . 798.5178 |           0            0        11000        13296            0            0        28280        17637            0            0         7703            0   QP: -1.0000 Mean: -1.0000 Median: -1.0000 V(X): -1.0000 E(X): -1.0000 [PId5_pr:798:MS1-, PSd5_pr:798:MS1-],\n",
       " /-/ . 799.5246 |         107            0           -1            0         8106            0           -1            0            0        12477            0         5780   QP: -1.0000 Mean: -1.0000 Median: -1.0000 V(X): -1.0000 E(X): -1.0000 [PId5_pr:799:MS1-],\n",
       " /-/ . 801.5419 |           0            0          568          747         3764         3578         1827         2136         2073         2969          418         1109   QP: -1.0000 Mean: -1.0000 Median: -1.0000 V(X): -1.0000 E(X): -1.0000 [PSd5_pr:801:MS1-],\n",
       " /-/ . 802.5543 |           0            0            0            0            0            0            0            0            0            0          654         1241   QP: -1.0000 Mean: -1.0000 Median: -1.0000 V(X): -1.0000 E(X): -1.0000 [PSd5_pr:802:MS1-],\n",
       " /-/ . 803.5593 |           0            0        29130        35755       129276       112150        78180        55638        95262       127354        19587        31881   QP: -1.0000 Mean: -1.0000 Median: -1.0000 V(X): -1.0000 E(X): -1.0000 [PCd5_pr:803:MS1-, PSd5_pr:803:MS1-],\n",
       " /-/ . 804.5773 |           0            0            0            0            0            0         8892         5695            0            0            0            0   QP: -1.0000 Mean: -1.0000 Median: -1.0000 V(X): -1.0000 E(X): -1.0000 [PGd5_pr:804:MS1-],\n",
       " /-/ . 805.5789 |           0            0         1186         1167        35416        32578         1943         1395            0            0            0            0   QP: -1.0000 Mean: -1.0000 Median: -1.0000 V(X): -1.0000 E(X): -1.0000 [PCd5_pr:805:MS1-, PSd5_pr:805:MS1-],\n",
       " /-/ . 806.5820 |          90            0            0            0            0            0            0            0         6376         6878            0            0   QP: -1.0000 Mean: -1.0000 Median: -1.0000 V(X): -1.0000 E(X): -1.0000 [PCd5_pr:806:MS1-, PSd5_pr:806:MS1-],\n",
       " /-/ . 807.5879 |           0            0            7           39            0            0           46            0            0            0          149            0   QP: -1.0000 Mean: -1.0000 Median: -1.0000 V(X): -1.0000 E(X): -1.0000 [PCd5_pr:807:MS1-],\n",
       " /-/ . 809.6101 |           0            0            0            0            0            0            0          163            0            0            0            0   QP: -1.0000 Mean: -1.0000 Median: -1.0000 V(X): -1.0000 E(X): -1.0000 [PCd5_pr:809:MS1-],\n",
       " /-/ . 810.6159 |          95            0            0            0            0            0            0            0            0            0            0            0   QP: -1.0000 Mean: -1.0000 Median: -1.0000 V(X): -1.0000 E(X): -1.0000 [PCd5_pr:810:MS1-],\n",
       " /-/ . 810.6682 |           0            0        11866        14346        15659        14501        27320        17704        19828        23763        10059        16361   QP: -1.0000 Mean: -1.0000 Median: -1.0000 V(X): -1.0000 E(X): -1.0000 [SMd9_pr:810:MS1-],\n",
       " /-/ . 811.6220 |           0            0            0          467            0          585          793          503          763          752          283          557   QP: -1.0000 Mean: -1.0000 Median: -1.0000 V(X): -1.0000 E(X): -1.0000 [PCd5_pr:811:MS1-],\n",
       " /-/ . 815.5735 |           0            0          349          473            0            0          780          453            0            0          352            0   QP: -1.0000 Mean: -1.0000 Median: -1.0000 V(X): -1.0000 E(X): -1.0000 [PGd5_pr:815:MS1-],\n",
       " /-/ . 816.5797 |           0            0        12632        14437        18039        14282        27087        17149        20886        26144         9888        15945   QP: -1.0000 Mean: -1.0000 Median: -1.0000 V(X): -1.0000 E(X): -1.0000 [PGd5_pr:816:MS1-],\n",
       " /-/ . 818.5863 |           0            0            0            0            0          169            0           73            0          407            0            0   QP: -1.0000 Mean: -1.0000 Median: -1.0000 V(X): -1.0000 E(X): -1.0000 [PCd5_pr:818:MS1-, PSd5_pr:818:MS1-],\n",
       " /-/ . 819.5900 |           0            0            0            0            0            0          429            8            0            0            0            0   QP: -1.0000 Mean: -1.0000 Median: -1.0000 V(X): -1.0000 E(X): -1.0000 [PCd5_pr:819:MS1-],\n",
       " /-/ . 820.5990 |         109            0            0            0            0            0            0            0            0            0            0            0   QP: -1.0000 Mean: -1.0000 Median: -1.0000 V(X): -1.0000 E(X): -1.0000 [PCd5_pr:820:MS1-],\n",
       " /-/ . 821.6077 |           0            0          152            0            0            0            0          281            0            0            0            0   QP: -1.0000 Mean: -1.0000 Median: -1.0000 V(X): -1.0000 E(X): -1.0000 [PCd5_pr:821:MS1-],\n",
       " /-/ . 822.6155 |           0            0         2875         3063         3247         2769         5912         3737         4147         5384         2214         4083   QP: -1.0000 Mean: -1.0000 Median: -1.0000 V(X): -1.0000 E(X): -1.0000 [PCd5_pr:822:MS1-],\n",
       " /-/ . 823.6225 |         169            0        68901        79348        85338        70795       147037        93611       111868       131504        57100        96176   QP: -1.0000 Mean: -1.0000 Median: -1.0000 V(X): -1.0000 E(X): -1.0000 [PCd5_pr:823:MS1-],\n",
       " /-/ . 824.6338 |          16            0            0            0            0            0            0            0            0            0            0            0   QP: -1.0000 Mean: -1.0000 Median: -1.0000 V(X): -1.0000 E(X): -1.0000 [PCd5_pr:824:MS1-],\n",
       " /-/ . 825.5424 |           0            0         1458         1700         4852         4068         3778         3038         3226         4334          696         1807   QP: -1.0000 Mean: -1.0000 Median: -1.0000 V(X): -1.0000 E(X): -1.0000 [PId5_pr:825:MS1-, PSd5_pr:825:MS1-],\n",
       " /-/ . 826.5473 |           0            0        22835        26691            0            0        52653        31856            0            0            0            0   QP: -1.0000 Mean: -1.0000 Median: -1.0000 V(X): -1.0000 E(X): -1.0000 [PId5_pr:826:MS1-],\n",
       " /-/ . 826.5485 |           0            0        17477            0            0            0            0            0        20875        25133        17666        29155   QP: -1.0000 Mean: -1.0000 Median: -1.0000 V(X): -1.0000 E(X): -1.0000 [PId5_pr:826:MS1-, PSd5_pr:826:MS1-],\n",
       " /-/ . 827.5612 |           0            0            0            0        40573        29390            0            0        12887        23052            0            0   QP: -1.0000 Mean: -1.0000 Median: -1.0000 V(X): -1.0000 E(X): -1.0000 [PCd5_pr:827:MS1-, PId5_pr:827:MS1-, PSd5_pr:827:MS1-],\n",
       " /-/ . 827.5632 |           0            0            0            0            0        31964            0            0        20568        26041            0            0   QP: -1.0000 Mean: -1.0000 Median: -1.0000 V(X): -1.0000 E(X): -1.0000 [PCd5_pr:827:MS1-, PSd5_pr:827:MS1-],\n",
       " /-/ . 829.5755 |           0            0        11629        14101        40644        27183        28384        18238        28172        38472         8274        12639   QP: -1.0000 Mean: -1.0000 Median: -1.0000 V(X): -1.0000 E(X): -1.0000 [PCd5_pr:829:MS1-, PSd5_pr:829:MS1-],\n",
       " /-/ . 831.5943 |           0          278            0            0        49884        39834            0            0        33335        37236            0            0   QP: -1.0000 Mean: -1.0000 Median: -1.0000 V(X): -1.0000 E(X): -1.0000 [PCd5_pr:831:MS1-],\n",
       " /-/ . 832.5975 |           0            0          700          734            0            0         2713            0            0            0          850            0   QP: -1.0000 Mean: -1.0000 Median: -1.0000 V(X): -1.0000 E(X): -1.0000 [PCd5_pr:832:MS1-],\n",
       " /-/ . 833.6098 |           0            0          171            0            0            0          290         1009            0         5127            0            0   QP: -1.0000 Mean: -1.0000 Median: -1.0000 V(X): -1.0000 E(X): -1.0000 [PCd5_pr:833:MS1-],\n",
       " /-/ . 834.5225 |           0            0            0            0            0          745            0            0            0            0            0            0   QP: -1.0000 Mean: -1.0000 Median: -1.0000 V(X): -1.0000 E(X): -1.0000 [PId5_pr:834:MS1-],\n",
       " /-/ . 834.6120 |          97            0            0            0         1243            0            0            0         1108            0            0            0   QP: -1.0000 Mean: -1.0000 Median: -1.0000 V(X): -1.0000 E(X): -1.0000 [PCd5_pr:834:MS1-],\n",
       " /-/ . 835.5236 |          76            0            0            0            0          387            0            0            0            0            0            0   QP: -1.0000 Mean: -1.0000 Median: -1.0000 V(X): -1.0000 E(X): -1.0000 [PId5_pr:835:MS1-],\n",
       " /-/ . 838.6994 |           0            0        23069        25595        23783        21858        47309        26752        32054        43699        18203        29267   QP: -1.0000 Mean: -1.0000 Median: -1.0000 V(X): -1.0000 E(X): -1.0000 [SMd9_pr:838:MS1-],\n",
       " /-/ . 841.5787 |           0            0            0            0            0            0            0            0          704            0            0            0   QP: -1.0000 Mean: -1.0000 Median: -1.0000 V(X): -1.0000 E(X): -1.0000 [PCd5_pr:841:MS1-],\n",
       " /-/ . 846.6156 |           0            0         1527         2253         1958         1939         4318         2426         3090         3840         1473         2908   QP: -1.0000 Mean: -1.0000 Median: -1.0000 V(X): -1.0000 E(X): -1.0000 [PCd5_pr:846:MS1-],\n",
       " /-/ . 847.6219 |           0            0        45173        51669        51469        49390        97460        53225        64767        90511        35644        60403   QP: -1.0000 Mean: -1.0000 Median: -1.0000 V(X): -1.0000 E(X): -1.0000 [PCd5_pr:847:MS1-],\n",
       " /-/ . 849.5450 |          99            0            0            0            0            0            0            0            0            0            0          170   QP: -1.0000 Mean: -1.0000 Median: -1.0000 V(X): -1.0000 E(X): -1.0000 [PId5_pr:849:MS1-],\n",
       " /-/ . 851.5571 |           0            0          671          742            0            0         3644         1683            0            0          162          345   QP: -1.0000 Mean: -1.0000 Median: -1.0000 V(X): -1.0000 E(X): -1.0000 [PCd5_pr:851:MS1-, PId5_pr:851:MS1-],\n",
       " /-/ . 851.5625 |           0            0            0          687        11931        12602         2109            0         7390         9623            0            0   QP: -1.0000 Mean: -1.0000 Median: -1.0000 V(X): -1.0000 E(X): -1.0000 [PCd5_pr:851:MS1-],\n",
       " /-/ . 852.5638 |           0            0            0            0            0            0            0            0            0            0           62          135   QP: -1.0000 Mean: -1.0000 Median: -1.0000 V(X): -1.0000 E(X): -1.0000 [PId5_pr:852:MS1-],\n",
       " /-/ . 853.5729 |           0            0         2307         2787            0         9453         6131         4441         7766        10873         1833         3092   QP: -1.0000 Mean: -1.0000 Median: -1.0000 V(X): -1.0000 E(X): -1.0000 [PCd5_pr:853:MS1-, PId5_pr:853:MS1-],\n",
       " /-/ . 853.5777 |           0            0            0            0        10727         9679            0            0            0            0            0            0   QP: -1.0000 Mean: -1.0000 Median: -1.0000 V(X): -1.0000 E(X): -1.0000 [PCd5_pr:853:MS1-],\n",
       " /-/ . 854.5790 |           0            0        32760        40089            0            0        74411        40972            0            0            0            0   QP: -1.0000 Mean: -1.0000 Median: -1.0000 V(X): -1.0000 E(X): -1.0000 [PId5_pr:854:MS1-],\n",
       " /-/ . 854.5797 |           0            0        28176        35048        17766        19813            0        38264        40896        57118        23549        37975   QP: -1.0000 Mean: -1.0000 Median: -1.0000 V(X): -1.0000 E(X): -1.0000 [PCd5_pr:854:MS1-, PId5_pr:854:MS1-],\n",
       " /-/ . 854.5872 |           0            0            0            0        23694        24955            0            0            0            0            0            0   QP: -1.0000 Mean: -1.0000 Median: -1.0000 V(X): -1.0000 E(X): -1.0000 [PCd5_pr:854:MS1-],\n",
       " /-/ . 855.5849 |           0            0            0            0            0            0            0            0           -1            0            0            0   QP: -1.0000 Mean: -1.0000 Median: -1.0000 V(X): -1.0000 E(X): -1.0000 [PId5_pr:855:MS1-],\n",
       " /-/ . 855.5934 |           0            0            0            0         4735         1558            0            0            0            0            0            0   QP: -1.0000 Mean: -1.0000 Median: -1.0000 V(X): -1.0000 E(X): -1.0000 [PCd5_pr:855:MS1-],\n",
       " /-/ . 857.6087 |           0            0          253          300         6065         5672         1490         1122         4101         5079            0            0   QP: -1.0000 Mean: -1.0000 Median: -1.0000 V(X): -1.0000 E(X): -1.0000 [PCd5_pr:857:MS1-],\n",
       " /-/ . 858.6118 |           0            0            0            0            0            0            0            0            0            0            0            0   QP: -1.0000 Mean: -1.0000 Median: -1.0000 V(X): -1.0000 E(X): -1.0000 [PCd5_pr:858:MS1-],\n",
       " /-/ . 859.6246 |           0            0            0            0            0            0            0            0          365            0            0            0   QP: -1.0000 Mean: -1.0000 Median: -1.0000 V(X): -1.0000 E(X): -1.0000 [PCd5_pr:859:MS1-],\n",
       " /-/ . 862.5521 |           0            0            0            0         1825         1453            0          286         1157         1635            0            0   QP: -1.0000 Mean: -1.0000 Median: -1.0000 V(X): -1.0000 E(X): -1.0000 [PId5_pr:862:MS1-],\n",
       " /-/ . 862.6475 |          72            0            0            0            0            0            0            0            0            0            0            0   QP: -1.0000 Mean: -1.0000 Median: -1.0000 V(X): -1.0000 E(X): -1.0000 [PCd5_pr:862:MS1-],\n",
       " /-/ . 866.7308 |           0            0        31864        38829        34651        30542        63013        40492        45870        57833        27034        44759   QP: -1.0000 Mean: -1.0000 Median: -1.0000 V(X): -1.0000 E(X): -1.0000 [SMd9_pr:866:MS1-],\n",
       " /-/ . 867.7354 |         161          505            0            0            0            0            0            0            0            0            0            0   QP: -1.0000 Mean: -1.0000 Median: -1.0000 V(X): -1.0000 E(X): -1.0000 [SMd9_pr:867:MS1-],\n",
       " /-/ . 872.6311 |           0            0          807         1191          964          657         1481         1072         1264         1477          783         1253   QP: -1.0000 Mean: -1.0000 Median: -1.0000 V(X): -1.0000 E(X): -1.0000 [PCd5_pr:872:MS1-],\n",
       " /-/ . 873.6372 |           0            0        20701        24837        25818        21580        41366        27639        31828        39471        17602        29520   QP: -1.0000 Mean: -1.0000 Median: -1.0000 V(X): -1.0000 E(X): -1.0000 [PCd5_pr:873:MS1-],\n",
       " /-/ . 877.5737 |           0            0          796         1065         1829         1544         1968         1394         1940         2593          585         1018   QP: -1.0000 Mean: -1.0000 Median: -1.0000 V(X): -1.0000 E(X): -1.0000 [PId5_pr:877:MS1-],\n",
       " /-/ . 878.5796 |           0            0        20729        24826        25292        21097            0        30229        35849        46393            0            0   QP: -1.0000 Mean: -1.0000 Median: -1.0000 V(X): -1.0000 E(X): -1.0000 [PId5_pr:878:MS1-],\n",
       " /-/ . 890.5799 |           0            0          479          617         2105         2342         1358         2063          917         1392          328         1164   QP: -1.0000 Mean: -1.0000 Median: -1.0000 V(X): -1.0000 E(X): -1.0000 [PId5_pr:890:MS1-],\n",
       " /-/ . 891.5848 |           0            0            0            0            0            0            0            0            0            0            0            0   QP: -1.0000 Mean: -1.0000 Median: -1.0000 V(X): -1.0000 E(X): -1.0000 [PId5_pr:891:MS1-],\n",
       " /-/ . 904.5957 |           0            0        10008        11511        12892        10451        21778        14010        16334        19760            0        11257   QP: -1.0000 Mean: -1.0000 Median: -1.0000 V(X): -1.0000 E(X): -1.0000 [PId5_pr:904:MS1-],\n",
       " /-/ . 905.6004 |           0            0            0            0            0            0            0            0            0            0            0            0   QP: -1.0000 Mean: -1.0000 Median: -1.0000 V(X): -1.0000 E(X): -1.0000 [PId5_pr:905:MS1-]]"
      ]
     },
     "execution_count": 30,
     "metadata": {},
     "output_type": "execute_result"
    }
   ],
   "source": [
    "merged_resultSC"
   ]
  },
  {
   "cell_type": "markdown",
   "metadata": {
    "pycharm": {
     "name": "#%% md\n"
    }
   },
   "source": [
    "# mfqls"
   ]
  },
  {
   "cell_type": "code",
   "execution_count": 54,
   "metadata": {
    "pycharm": {
     "name": "#%%\n"
    }
   },
   "outputs": [],
   "source": [
    "\n",
    "import pickle\n",
    "with open('mfqlObj.pkl','rb') as f: mfqlObj = pickle.load( f)"
   ]
  },
  {
   "cell_type": "code",
   "execution_count": 55,
   "metadata": {
    "pycharm": {
     "name": "#%%\n"
    }
   },
   "outputs": [],
   "source": [
    "elementSequence = mfqlObj.dictDefinitionTable['Cerd7']['Cerd7_pr'].elementSequence"
   ]
  },
  {
   "cell_type": "code",
   "execution_count": 56,
   "metadata": {
    "pycharm": {
     "name": "#%%\n"
    }
   },
   "outputs": [
    {
     "data": {
      "text/plain": [
       "16566"
      ]
     },
     "execution_count": 56,
     "metadata": {},
     "output_type": "execute_result"
    }
   ],
   "source": [
    "len(mfqlObj.sc.listSurveyEntry)"
   ]
  },
  {
   "cell_type": "code",
   "execution_count": 57,
   "metadata": {
    "pycharm": {
     "name": "#%%\n"
    }
   },
   "outputs": [],
   "source": [
    "options = mfqlObj.options"
   ]
  },
  {
   "cell_type": "code",
   "execution_count": 58,
   "metadata": {
    "pycharm": {
     "name": "#%%\n"
    }
   },
   "outputs": [],
   "source": [
    "from lx.mfql.chemsc import calcSFbyMass"
   ]
  },
  {
   "cell_type": "code",
   "execution_count": 59,
   "metadata": {
    "pycharm": {
     "name": "#%%\n"
    }
   },
   "outputs": [],
   "source": [
    "# check scope\n",
    "#massrange \n",
    "calcSF_res = [calcSFbyMass(se.precurmass,elementSequence,options[\"MStolerance\"]) for se in mfqlObj.sc.listSurveyEntry]\n",
    "calcSF_res1 = [c for c in calcSF_res if c]"
   ]
  },
  {
   "cell_type": "code",
   "execution_count": 60,
   "metadata": {
    "pycharm": {
     "name": "#%%\n"
    }
   },
   "outputs": [
    {
     "data": {
      "text/plain": [
       "587.5385864556"
      ]
     },
     "execution_count": 60,
     "metadata": {},
     "output_type": "execute_result"
    }
   ],
   "source": [
    "calcSF_res1[0][0].getWeight()\n",
    "#se.listMark.append(mark)"
   ]
  },
  {
   "cell_type": "code",
   "execution_count": 61,
   "metadata": {
    "pycharm": {
     "name": "#%%\n"
    }
   },
   "outputs": [
    {
     "data": {
      "text/plain": [
       "{'Cerd7': <lx.mfql.runtimeStatic.TypeBooleanTerm at 0x241d8641608>,\n",
       " 'DGd5': <lx.mfql.runtimeStatic.TypeBooleanTerm at 0x241dcb35f88>}"
      ]
     },
     "execution_count": 61,
     "metadata": {},
     "output_type": "execute_result"
    }
   ],
   "source": [
    "mfqlObj.dictSuchThat"
   ]
  },
  {
   "cell_type": "code",
   "execution_count": 62,
   "metadata": {
    "pycharm": {
     "name": "#%%\n"
    }
   },
   "outputs": [],
   "source": [
    "vars = mfqlObj.result.dictQuery['Cerd7'].sc[0].listVariables\n"
   ]
  },
  {
   "cell_type": "code",
   "execution_count": 63,
   "metadata": {
    "pycharm": {
     "name": "#%%\n"
    }
   },
   "outputs": [
    {
     "data": {
      "text/plain": [
       "[{'Cerd7_pr': Cerd7_pr:587:MS1-}]"
      ]
     },
     "execution_count": 63,
     "metadata": {},
     "output_type": "execute_result"
    }
   ],
   "source": [
    "vars"
   ]
  },
  {
   "cell_type": "code",
   "execution_count": 64,
   "metadata": {
    "pycharm": {
     "name": "#%%\n"
    }
   },
   "outputs": [
    {
     "data": {
      "text/plain": [
       "[[{'Cerd7_pr': Cerd7_pr:587:MS1-}]]"
      ]
     },
     "execution_count": 64,
     "metadata": {},
     "output_type": "execute_result"
    }
   ],
   "source": [
    "# do the isotopic correction before the suchthat\n",
    "mfqlObj.dictSuchThat['Cerd7'].evaluate(scane=None,\n",
    "mode=\"sc\",\n",
    "vars=vars,\n",
    "queryName=mfqlObj.queryName,)"
   ]
  }
 ],
 "metadata": {
  "kernelspec": {
   "display_name": "Python 3.7.5 ('lx128_p3_Dev')",
   "language": "python",
   "name": "python3"
  },
  "language_info": {
   "codemirror_mode": {
    "name": "ipython",
    "version": 3
   },
   "file_extension": ".py",
   "mimetype": "text/x-python",
   "name": "python",
   "nbconvert_exporter": "python",
   "pygments_lexer": "ipython3",
   "version": "3.7.5"
  },
  "orig_nbformat": 4,
  "vscode": {
   "interpreter": {
    "hash": "06b28214ce0e3c48e23cdf5811c1f91197bed88289d9fe34e9aeb8dd4305abb7"
   }
  }
 },
 "nbformat": 4,
 "nbformat_minor": 2
}