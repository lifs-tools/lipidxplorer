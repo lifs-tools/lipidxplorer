{
 "cells": [
  {
   "cell_type": "code",
   "execution_count": 1,
   "metadata": {},
   "outputs": [
    {
     "name": "stderr",
     "output_type": "stream",
     "text": [
      "The system cannot find the path specified.\n"
     ]
    }
   ],
   "source": [
    "! dir D:\\ownCloud\\LX 2.0\\kai_compare_lx1_v2\\20210126_from_Pavel_20201016_FTMSMS_NH4_neg_LX2try_find_PC\\additional_MFQL\\redo_all"
   ]
  },
  {
   "cell_type": "code",
   "execution_count": 2,
   "metadata": {},
   "outputs": [],
   "source": [
    "from pathlib import Path\n",
    "# from https://cloud.mpi-cbg.de/index.php/apps/files/?dir=/LX%202.0/Test%20sample%20set&fileid=14859349"
   ]
  },
  {
   "cell_type": "code",
   "execution_count": 3,
   "metadata": {},
   "outputs": [],
   "source": [
    "p = Path(r'D:\\ownCloud\\LX 2.0\\Test_sample_set')"
   ]
  },
  {
   "cell_type": "code",
   "execution_count": 4,
   "metadata": {},
   "outputs": [],
   "source": [
    "mzmls = list(p.glob(\"*.mzml\"))"
   ]
  },
  {
   "cell_type": "code",
   "execution_count": 5,
   "metadata": {},
   "outputs": [
    {
     "data": {
      "text/plain": [
       "[WindowsPath('D:/ownCloud/LX 2.0/Test_sample_set/28-03-2018_Spartans_Pilot_03_Bl_01_01.mzML'),\n",
       " WindowsPath('D:/ownCloud/LX 2.0/Test_sample_set/28-03-2018_Spartans_Pilot_04_Bl_01_02.mzML'),\n",
       " WindowsPath('D:/ownCloud/LX 2.0/Test_sample_set/28-03-2018_Spartans_Pilot_05_QC_01.mzML'),\n",
       " WindowsPath('D:/ownCloud/LX 2.0/Test_sample_set/28-03-2018_Spartans_Pilot_06_QC_02.mzML'),\n",
       " WindowsPath('D:/ownCloud/LX 2.0/Test_sample_set/28-03-2018_Spartans_Pilot_07_5475_01.mzML'),\n",
       " WindowsPath('D:/ownCloud/LX 2.0/Test_sample_set/28-03-2018_Spartans_Pilot_08_5475_02.mzML'),\n",
       " WindowsPath('D:/ownCloud/LX 2.0/Test_sample_set/28-03-2018_Spartans_Pilot_09_5832_01.mzML'),\n",
       " WindowsPath('D:/ownCloud/LX 2.0/Test_sample_set/28-03-2018_Spartans_Pilot_10_5832_02.mzML'),\n",
       " WindowsPath('D:/ownCloud/LX 2.0/Test_sample_set/28-03-2018_Spartans_Pilot_11_5868_01.mzML'),\n",
       " WindowsPath('D:/ownCloud/LX 2.0/Test_sample_set/28-03-2018_Spartans_Pilot_12_5868_02.mzML'),\n",
       " WindowsPath('D:/ownCloud/LX 2.0/Test_sample_set/28-03-2018_Spartans_Pilot_13_6403_01.mzML'),\n",
       " WindowsPath('D:/ownCloud/LX 2.0/Test_sample_set/28-03-2018_Spartans_Pilot_14_6403_02.mzML'),\n",
       " WindowsPath('D:/ownCloud/LX 2.0/Test_sample_set/28-03-2018_Spartans_Pilot_15_6957_01.mzML'),\n",
       " WindowsPath('D:/ownCloud/LX 2.0/Test_sample_set/28-03-2018_Spartans_Pilot_16_6957_02.mzML'),\n",
       " WindowsPath('D:/ownCloud/LX 2.0/Test_sample_set/28-03-2018_Spartans_Pilot_Spray_Mix_01.mzML'),\n",
       " WindowsPath('D:/ownCloud/LX 2.0/Test_sample_set/28-03-2018_Spartans_Pilot_Spray_Mix_02.mzML')]"
      ]
     },
     "execution_count": 5,
     "metadata": {},
     "output_type": "execute_result"
    }
   ],
   "source": [
    "mzmls"
   ]
  },
  {
   "cell_type": "code",
   "execution_count": 6,
   "metadata": {},
   "outputs": [],
   "source": [
    "from ms_deisotope import MSFileLoader"
   ]
  },
  {
   "cell_type": "code",
   "execution_count": 7,
   "metadata": {},
   "outputs": [],
   "source": [
    "import pandas as pd\n",
    "def path2df(path, time_start=0, time_end=float(\"inf\")):\n",
    "    dfs = []\n",
    "    with MSFileLoader(str(path)) as r:\n",
    "        r.get_scan_by_time(time_start / 60)\n",
    "        r.start_from_scan(r.get_scan_by_time(time_start / 60).id)\n",
    "        for b in r:\n",
    "            if time_start / 60 > b.precursor.scan_time > time_end / 60:\n",
    "                break\n",
    "            a = b.precursor.arrays\n",
    "            df = pd.DataFrame({\"mz\": a.mz, \"inty\": a.intensity, 'stem': path.stem})\n",
    "            df[\"scan_id\"] = b.precursor.scan_id\n",
    "            df[\"filter_string\"] = b.precursor.annotations[\"filter string\"]\n",
    "            df[\"precursor_id\"] = None\n",
    "            dfs.append(df)\n",
    "            # for p in b.products:\n",
    "            #     if time_start > p.scan_time > time_end:\n",
    "            #         continue\n",
    "            #     a = p.arrays\n",
    "            #     df = pd.DataFrame({\"mz\": a.mz, \"inty\": a.intensity})\n",
    "            #     df[\"scan_id\"] = p.scan_id  # TODO  make them categoriacal?\n",
    "            #     df[\"filter_string\"] = p.annotations[\"filter string\"]\n",
    "            #     df[\"precursor_id\"] = b.precursor.scan_id\n",
    "            #     df.set_index([\"scan_id\", \"filter_string\"], append=True, inplace=True)\n",
    "            #     dfs.append(df)\n",
    "    df = pd.concat(dfs)\n",
    "    # df.set_index(\n",
    "    #     {\n",
    "    #         \"path_stem\": path.stem,\n",
    "    #         \"scan_id\": b.precursor.scan_id,\n",
    "    #         \"filter_string\": b.precursor.annotations[\"filter string\"],\n",
    "    #         \"precursor_id\": None,\n",
    "    #     },\n",
    "    #     append=True,\n",
    "    #     inplace=True,\n",
    "    # )\n",
    "    # df.attrs = {\"path\": path}\n",
    "    # logging.debug(f\"from {path} made dataframe...\")\n",
    "    # logging.debug(f\"{df}\")\n",
    "\n",
    "    return df"
   ]
  },
  {
   "cell_type": "code",
   "execution_count": 8,
   "metadata": {},
   "outputs": [],
   "source": [
    "df = pd.concat((path2df(mzml) for mzml in mzmls))"
   ]
  },
  {
   "cell_type": "code",
   "execution_count": 9,
   "metadata": {},
   "outputs": [
    {
     "data": {
      "text/html": [
       "<div>\n",
       "<style scoped>\n",
       "    .dataframe tbody tr th:only-of-type {\n",
       "        vertical-align: middle;\n",
       "    }\n",
       "\n",
       "    .dataframe tbody tr th {\n",
       "        vertical-align: top;\n",
       "    }\n",
       "\n",
       "    .dataframe thead th {\n",
       "        text-align: right;\n",
       "    }\n",
       "</style>\n",
       "<table border=\"1\" class=\"dataframe\">\n",
       "  <thead>\n",
       "    <tr style=\"text-align: right;\">\n",
       "      <th></th>\n",
       "      <th>mz</th>\n",
       "      <th>inty</th>\n",
       "      <th>stem</th>\n",
       "      <th>scan_id</th>\n",
       "      <th>filter_string</th>\n",
       "      <th>precursor_id</th>\n",
       "    </tr>\n",
       "  </thead>\n",
       "  <tbody>\n",
       "    <tr>\n",
       "      <th>0</th>\n",
       "      <td>396.025288</td>\n",
       "      <td>0.0</td>\n",
       "      <td>28-03-2018_Spartans_Pilot_03_Bl_01_01</td>\n",
       "      <td>controllerType=0 controllerNumber=1 scan=1</td>\n",
       "      <td>FTMS + p NSI Full lock ms [400.0000-1000.0000]</td>\n",
       "      <td>None</td>\n",
       "    </tr>\n",
       "    <tr>\n",
       "      <th>1</th>\n",
       "      <td>396.026223</td>\n",
       "      <td>0.0</td>\n",
       "      <td>28-03-2018_Spartans_Pilot_03_Bl_01_01</td>\n",
       "      <td>controllerType=0 controllerNumber=1 scan=1</td>\n",
       "      <td>FTMS + p NSI Full lock ms [400.0000-1000.0000]</td>\n",
       "      <td>None</td>\n",
       "    </tr>\n",
       "    <tr>\n",
       "      <th>2</th>\n",
       "      <td>396.027157</td>\n",
       "      <td>0.0</td>\n",
       "      <td>28-03-2018_Spartans_Pilot_03_Bl_01_01</td>\n",
       "      <td>controllerType=0 controllerNumber=1 scan=1</td>\n",
       "      <td>FTMS + p NSI Full lock ms [400.0000-1000.0000]</td>\n",
       "      <td>None</td>\n",
       "    </tr>\n",
       "    <tr>\n",
       "      <th>3</th>\n",
       "      <td>401.255426</td>\n",
       "      <td>0.0</td>\n",
       "      <td>28-03-2018_Spartans_Pilot_03_Bl_01_01</td>\n",
       "      <td>controllerType=0 controllerNumber=1 scan=1</td>\n",
       "      <td>FTMS + p NSI Full lock ms [400.0000-1000.0000]</td>\n",
       "      <td>None</td>\n",
       "    </tr>\n",
       "    <tr>\n",
       "      <th>4</th>\n",
       "      <td>401.256379</td>\n",
       "      <td>0.0</td>\n",
       "      <td>28-03-2018_Spartans_Pilot_03_Bl_01_01</td>\n",
       "      <td>controllerType=0 controllerNumber=1 scan=1</td>\n",
       "      <td>FTMS + p NSI Full lock ms [400.0000-1000.0000]</td>\n",
       "      <td>None</td>\n",
       "    </tr>\n",
       "    <tr>\n",
       "      <th>...</th>\n",
       "      <td>...</td>\n",
       "      <td>...</td>\n",
       "      <td>...</td>\n",
       "      <td>...</td>\n",
       "      <td>...</td>\n",
       "      <td>...</td>\n",
       "    </tr>\n",
       "    <tr>\n",
       "      <th>28031</th>\n",
       "      <td>999.876218</td>\n",
       "      <td>0.0</td>\n",
       "      <td>28-03-2018_Spartans_Pilot_Spray_Mix_02</td>\n",
       "      <td>controllerType=0 controllerNumber=1 scan=544</td>\n",
       "      <td>FTMS - p NSI Full lock ms [350.0000-1000.0000]</td>\n",
       "      <td>None</td>\n",
       "    </tr>\n",
       "    <tr>\n",
       "      <th>28032</th>\n",
       "      <td>999.879966</td>\n",
       "      <td>0.0</td>\n",
       "      <td>28-03-2018_Spartans_Pilot_Spray_Mix_02</td>\n",
       "      <td>controllerType=0 controllerNumber=1 scan=544</td>\n",
       "      <td>FTMS - p NSI Full lock ms [350.0000-1000.0000]</td>\n",
       "      <td>None</td>\n",
       "    </tr>\n",
       "    <tr>\n",
       "      <th>28033</th>\n",
       "      <td>1010.070889</td>\n",
       "      <td>0.0</td>\n",
       "      <td>28-03-2018_Spartans_Pilot_Spray_Mix_02</td>\n",
       "      <td>controllerType=0 controllerNumber=1 scan=544</td>\n",
       "      <td>FTMS - p NSI Full lock ms [350.0000-1000.0000]</td>\n",
       "      <td>None</td>\n",
       "    </tr>\n",
       "    <tr>\n",
       "      <th>28034</th>\n",
       "      <td>1010.074695</td>\n",
       "      <td>0.0</td>\n",
       "      <td>28-03-2018_Spartans_Pilot_Spray_Mix_02</td>\n",
       "      <td>controllerType=0 controllerNumber=1 scan=544</td>\n",
       "      <td>FTMS - p NSI Full lock ms [350.0000-1000.0000]</td>\n",
       "      <td>None</td>\n",
       "    </tr>\n",
       "    <tr>\n",
       "      <th>28035</th>\n",
       "      <td>1010.078501</td>\n",
       "      <td>0.0</td>\n",
       "      <td>28-03-2018_Spartans_Pilot_Spray_Mix_02</td>\n",
       "      <td>controllerType=0 controllerNumber=1 scan=544</td>\n",
       "      <td>FTMS - p NSI Full lock ms [350.0000-1000.0000]</td>\n",
       "      <td>None</td>\n",
       "    </tr>\n",
       "  </tbody>\n",
       "</table>\n",
       "<p>5883945 rows × 6 columns</p>\n",
       "</div>"
      ],
      "text/plain": [
       "                mz  inty                                    stem  \\\n",
       "0       396.025288   0.0   28-03-2018_Spartans_Pilot_03_Bl_01_01   \n",
       "1       396.026223   0.0   28-03-2018_Spartans_Pilot_03_Bl_01_01   \n",
       "2       396.027157   0.0   28-03-2018_Spartans_Pilot_03_Bl_01_01   \n",
       "3       401.255426   0.0   28-03-2018_Spartans_Pilot_03_Bl_01_01   \n",
       "4       401.256379   0.0   28-03-2018_Spartans_Pilot_03_Bl_01_01   \n",
       "...            ...   ...                                     ...   \n",
       "28031   999.876218   0.0  28-03-2018_Spartans_Pilot_Spray_Mix_02   \n",
       "28032   999.879966   0.0  28-03-2018_Spartans_Pilot_Spray_Mix_02   \n",
       "28033  1010.070889   0.0  28-03-2018_Spartans_Pilot_Spray_Mix_02   \n",
       "28034  1010.074695   0.0  28-03-2018_Spartans_Pilot_Spray_Mix_02   \n",
       "28035  1010.078501   0.0  28-03-2018_Spartans_Pilot_Spray_Mix_02   \n",
       "\n",
       "                                            scan_id  \\\n",
       "0        controllerType=0 controllerNumber=1 scan=1   \n",
       "1        controllerType=0 controllerNumber=1 scan=1   \n",
       "2        controllerType=0 controllerNumber=1 scan=1   \n",
       "3        controllerType=0 controllerNumber=1 scan=1   \n",
       "4        controllerType=0 controllerNumber=1 scan=1   \n",
       "...                                             ...   \n",
       "28031  controllerType=0 controllerNumber=1 scan=544   \n",
       "28032  controllerType=0 controllerNumber=1 scan=544   \n",
       "28033  controllerType=0 controllerNumber=1 scan=544   \n",
       "28034  controllerType=0 controllerNumber=1 scan=544   \n",
       "28035  controllerType=0 controllerNumber=1 scan=544   \n",
       "\n",
       "                                        filter_string precursor_id  \n",
       "0      FTMS + p NSI Full lock ms [400.0000-1000.0000]         None  \n",
       "1      FTMS + p NSI Full lock ms [400.0000-1000.0000]         None  \n",
       "2      FTMS + p NSI Full lock ms [400.0000-1000.0000]         None  \n",
       "3      FTMS + p NSI Full lock ms [400.0000-1000.0000]         None  \n",
       "4      FTMS + p NSI Full lock ms [400.0000-1000.0000]         None  \n",
       "...                                               ...          ...  \n",
       "28031  FTMS - p NSI Full lock ms [350.0000-1000.0000]         None  \n",
       "28032  FTMS - p NSI Full lock ms [350.0000-1000.0000]         None  \n",
       "28033  FTMS - p NSI Full lock ms [350.0000-1000.0000]         None  \n",
       "28034  FTMS - p NSI Full lock ms [350.0000-1000.0000]         None  \n",
       "28035  FTMS - p NSI Full lock ms [350.0000-1000.0000]         None  \n",
       "\n",
       "[5883945 rows x 6 columns]"
      ]
     },
     "execution_count": 9,
     "metadata": {},
     "output_type": "execute_result"
    }
   ],
   "source": [
    "df_ms1 = df.loc[(df.filter_string.str.contains(' ms ')) & ~(df.filter_string.str.contains(' SIM '))]\n",
    "df_ms1"
   ]
  },
  {
   "cell_type": "code",
   "execution_count": 10,
   "metadata": {},
   "outputs": [
    {
     "data": {
      "text/html": [
       "<div>\n",
       "<style scoped>\n",
       "    .dataframe tbody tr th:only-of-type {\n",
       "        vertical-align: middle;\n",
       "    }\n",
       "\n",
       "    .dataframe tbody tr th {\n",
       "        vertical-align: top;\n",
       "    }\n",
       "\n",
       "    .dataframe thead th {\n",
       "        text-align: right;\n",
       "    }\n",
       "</style>\n",
       "<table border=\"1\" class=\"dataframe\">\n",
       "  <thead>\n",
       "    <tr style=\"text-align: right;\">\n",
       "      <th></th>\n",
       "      <th>mz</th>\n",
       "      <th>inty</th>\n",
       "      <th>stem</th>\n",
       "      <th>scan_id</th>\n",
       "      <th>filter_string</th>\n",
       "      <th>precursor_id</th>\n",
       "    </tr>\n",
       "  </thead>\n",
       "  <tbody>\n",
       "    <tr>\n",
       "      <th>6</th>\n",
       "      <td>401.261145</td>\n",
       "      <td>206.265427</td>\n",
       "      <td>28-03-2018_Spartans_Pilot_03_Bl_01_01</td>\n",
       "      <td>controllerType=0 controllerNumber=1 scan=1</td>\n",
       "      <td>FTMS + p NSI Full lock ms [400.0000-1000.0000]</td>\n",
       "      <td>None</td>\n",
       "    </tr>\n",
       "    <tr>\n",
       "      <th>13</th>\n",
       "      <td>402.205399</td>\n",
       "      <td>270.690460</td>\n",
       "      <td>28-03-2018_Spartans_Pilot_03_Bl_01_01</td>\n",
       "      <td>controllerType=0 controllerNumber=1 scan=1</td>\n",
       "      <td>FTMS + p NSI Full lock ms [400.0000-1000.0000]</td>\n",
       "      <td>None</td>\n",
       "    </tr>\n",
       "    <tr>\n",
       "      <th>20</th>\n",
       "      <td>403.226907</td>\n",
       "      <td>159.128479</td>\n",
       "      <td>28-03-2018_Spartans_Pilot_03_Bl_01_01</td>\n",
       "      <td>controllerType=0 controllerNumber=1 scan=1</td>\n",
       "      <td>FTMS + p NSI Full lock ms [400.0000-1000.0000]</td>\n",
       "      <td>None</td>\n",
       "    </tr>\n",
       "    <tr>\n",
       "      <th>27</th>\n",
       "      <td>404.311008</td>\n",
       "      <td>2921.005859</td>\n",
       "      <td>28-03-2018_Spartans_Pilot_03_Bl_01_01</td>\n",
       "      <td>controllerType=0 controllerNumber=1 scan=1</td>\n",
       "      <td>FTMS + p NSI Full lock ms [400.0000-1000.0000]</td>\n",
       "      <td>None</td>\n",
       "    </tr>\n",
       "    <tr>\n",
       "      <th>35</th>\n",
       "      <td>404.813800</td>\n",
       "      <td>1108.464600</td>\n",
       "      <td>28-03-2018_Spartans_Pilot_03_Bl_01_01</td>\n",
       "      <td>controllerType=0 controllerNumber=1 scan=1</td>\n",
       "      <td>FTMS + p NSI Full lock ms [400.0000-1000.0000]</td>\n",
       "      <td>None</td>\n",
       "    </tr>\n",
       "    <tr>\n",
       "      <th>...</th>\n",
       "      <td>...</td>\n",
       "      <td>...</td>\n",
       "      <td>...</td>\n",
       "      <td>...</td>\n",
       "      <td>...</td>\n",
       "      <td>...</td>\n",
       "    </tr>\n",
       "    <tr>\n",
       "      <th>1960</th>\n",
       "      <td>704.558968</td>\n",
       "      <td>791.470947</td>\n",
       "      <td>28-03-2018_Spartans_Pilot_Spray_Mix_02</td>\n",
       "      <td>controllerType=0 controllerNumber=1 scan=909</td>\n",
       "      <td>FTMS - p NSI SIM lock ms [685.0000-705.0000]</td>\n",
       "      <td>None</td>\n",
       "    </tr>\n",
       "    <tr>\n",
       "      <th>1967</th>\n",
       "      <td>704.594656</td>\n",
       "      <td>81.334976</td>\n",
       "      <td>28-03-2018_Spartans_Pilot_Spray_Mix_02</td>\n",
       "      <td>controllerType=0 controllerNumber=1 scan=909</td>\n",
       "      <td>FTMS - p NSI SIM lock ms [685.0000-705.0000]</td>\n",
       "      <td>None</td>\n",
       "    </tr>\n",
       "    <tr>\n",
       "      <th>1974</th>\n",
       "      <td>704.736696</td>\n",
       "      <td>806.340515</td>\n",
       "      <td>28-03-2018_Spartans_Pilot_Spray_Mix_02</td>\n",
       "      <td>controllerType=0 controllerNumber=1 scan=909</td>\n",
       "      <td>FTMS - p NSI SIM lock ms [685.0000-705.0000]</td>\n",
       "      <td>None</td>\n",
       "    </tr>\n",
       "    <tr>\n",
       "      <th>1981</th>\n",
       "      <td>704.945143</td>\n",
       "      <td>301.630341</td>\n",
       "      <td>28-03-2018_Spartans_Pilot_Spray_Mix_02</td>\n",
       "      <td>controllerType=0 controllerNumber=1 scan=909</td>\n",
       "      <td>FTMS - p NSI SIM lock ms [685.0000-705.0000]</td>\n",
       "      <td>None</td>\n",
       "    </tr>\n",
       "    <tr>\n",
       "      <th>1982</th>\n",
       "      <td>704.959692</td>\n",
       "      <td>2496.296631</td>\n",
       "      <td>28-03-2018_Spartans_Pilot_Spray_Mix_02</td>\n",
       "      <td>controllerType=0 controllerNumber=1 scan=909</td>\n",
       "      <td>FTMS - p NSI SIM lock ms [685.0000-705.0000]</td>\n",
       "      <td>None</td>\n",
       "    </tr>\n",
       "  </tbody>\n",
       "</table>\n",
       "<p>4429738 rows × 6 columns</p>\n",
       "</div>"
      ],
      "text/plain": [
       "              mz         inty                                    stem  \\\n",
       "6     401.261145   206.265427   28-03-2018_Spartans_Pilot_03_Bl_01_01   \n",
       "13    402.205399   270.690460   28-03-2018_Spartans_Pilot_03_Bl_01_01   \n",
       "20    403.226907   159.128479   28-03-2018_Spartans_Pilot_03_Bl_01_01   \n",
       "27    404.311008  2921.005859   28-03-2018_Spartans_Pilot_03_Bl_01_01   \n",
       "35    404.813800  1108.464600   28-03-2018_Spartans_Pilot_03_Bl_01_01   \n",
       "...          ...          ...                                     ...   \n",
       "1960  704.558968   791.470947  28-03-2018_Spartans_Pilot_Spray_Mix_02   \n",
       "1967  704.594656    81.334976  28-03-2018_Spartans_Pilot_Spray_Mix_02   \n",
       "1974  704.736696   806.340515  28-03-2018_Spartans_Pilot_Spray_Mix_02   \n",
       "1981  704.945143   301.630341  28-03-2018_Spartans_Pilot_Spray_Mix_02   \n",
       "1982  704.959692  2496.296631  28-03-2018_Spartans_Pilot_Spray_Mix_02   \n",
       "\n",
       "                                           scan_id  \\\n",
       "6       controllerType=0 controllerNumber=1 scan=1   \n",
       "13      controllerType=0 controllerNumber=1 scan=1   \n",
       "20      controllerType=0 controllerNumber=1 scan=1   \n",
       "27      controllerType=0 controllerNumber=1 scan=1   \n",
       "35      controllerType=0 controllerNumber=1 scan=1   \n",
       "...                                            ...   \n",
       "1960  controllerType=0 controllerNumber=1 scan=909   \n",
       "1967  controllerType=0 controllerNumber=1 scan=909   \n",
       "1974  controllerType=0 controllerNumber=1 scan=909   \n",
       "1981  controllerType=0 controllerNumber=1 scan=909   \n",
       "1982  controllerType=0 controllerNumber=1 scan=909   \n",
       "\n",
       "                                       filter_string precursor_id  \n",
       "6     FTMS + p NSI Full lock ms [400.0000-1000.0000]         None  \n",
       "13    FTMS + p NSI Full lock ms [400.0000-1000.0000]         None  \n",
       "20    FTMS + p NSI Full lock ms [400.0000-1000.0000]         None  \n",
       "27    FTMS + p NSI Full lock ms [400.0000-1000.0000]         None  \n",
       "35    FTMS + p NSI Full lock ms [400.0000-1000.0000]         None  \n",
       "...                                              ...          ...  \n",
       "1960    FTMS - p NSI SIM lock ms [685.0000-705.0000]         None  \n",
       "1967    FTMS - p NSI SIM lock ms [685.0000-705.0000]         None  \n",
       "1974    FTMS - p NSI SIM lock ms [685.0000-705.0000]         None  \n",
       "1981    FTMS - p NSI SIM lock ms [685.0000-705.0000]         None  \n",
       "1982    FTMS - p NSI SIM lock ms [685.0000-705.0000]         None  \n",
       "\n",
       "[4429738 rows x 6 columns]"
      ]
     },
     "execution_count": 10,
     "metadata": {},
     "output_type": "execute_result"
    }
   ],
   "source": [
    "df_ms1 =  df.loc[df.inty>0]\n",
    "df_ms1"
   ]
  },
  {
   "cell_type": "code",
   "execution_count": 12,
   "metadata": {},
   "outputs": [
    {
     "data": {
      "text/plain": [
       "<matplotlib.axes._subplots.AxesSubplot at 0x180a3b37cc8>"
      ]
     },
     "execution_count": 12,
     "metadata": {},
     "output_type": "execute_result"
    },
    {
     "data": {
      "image/png": "[encoded data removed]",
      "text/plain": [
       "<Figure size 432x288 with 1 Axes>"
      ]
     },
     "metadata": {
      "needs_background": "light"
     },
     "output_type": "display_data"
    }
   ],
   "source": [
    "df_ms1.boxplot(column='inty', by='stem', rot=90)\n"
   ]
  },
  {
   "cell_type": "code",
   "execution_count": 16,
   "metadata": {},
   "outputs": [
    {
     "data": {
      "text/plain": [
       "<matplotlib.axes._subplots.AxesSubplot at 0x180aa50bac8>"
      ]
     },
     "execution_count": 16,
     "metadata": {},
     "output_type": "execute_result"
    },
    {
     "data": {
      "image/png": "[encoded data removed]",
      "text/plain": [
       "<Figure size 432x288 with 1 Axes>"
      ]
     },
     "metadata": {
      "needs_background": "light"
     },
     "output_type": "display_data"
    }
   ],
   "source": [
    "mask = df_ms1.inty / df_ms1.groupby('stem')['inty'].transform('max') > 0.9\n",
    "df_ms1.loc[mask].boxplot(column='inty', by='stem', rot=90)"
   ]
  },
  {
   "cell_type": "code",
   "execution_count": 103,
   "metadata": {},
   "outputs": [
    {
     "data": {
      "text/plain": [
       "[('28-03-2018_Spartans_Pilot_Spray_Mix_01', 25746.865853490526),\n",
       " ('28-03-2018_Spartans_Pilot_Spray_Mix_02', 45749.25035818782),\n",
       " ('28-03-2018_Spartans_Pilot_04_Bl_01_02', 46083.25621213808),\n",
       " ('28-03-2018_Spartans_Pilot_03_Bl_01_01', 55678.16457319204),\n",
       " ('28-03-2018_Spartans_Pilot_11_5868_01', 77918.13200426297),\n",
       " ('28-03-2018_Spartans_Pilot_12_5868_02', 119612.9581367402),\n",
       " ('28-03-2018_Spartans_Pilot_07_5475_01', 191687.69783989128),\n",
       " ('28-03-2018_Spartans_Pilot_05_QC_01', 227105.23077515283),\n",
       " ('28-03-2018_Spartans_Pilot_08_5475_02', 232072.0078032469),\n",
       " ('28-03-2018_Spartans_Pilot_06_QC_02', 235427.67112303973),\n",
       " ('28-03-2018_Spartans_Pilot_14_6403_02', 237512.62192144277),\n",
       " ('28-03-2018_Spartans_Pilot_13_6403_01', 245276.69170156022),\n",
       " ('28-03-2018_Spartans_Pilot_09_5832_01', 260447.86828837296),\n",
       " ('28-03-2018_Spartans_Pilot_10_5832_02', 291411.5720917207),\n",
       " ('28-03-2018_Spartans_Pilot_16_6957_02', 335450.1786669713),\n",
       " ('28-03-2018_Spartans_Pilot_15_6957_01', 339157.4221490129)]"
      ]
     },
     "execution_count": 103,
     "metadata": {},
     "output_type": "execute_result"
    }
   ],
   "source": [
    "\n",
    "res = [(s, s_df.groupby('scan_id')['inty'].mean().mean() ) for s, s_df in df_ms1.groupby('stem')] # / s_df.groupby('scan_id')['mz'].count().shape[0]\n",
    "sorted(res, key=lambda x: x[1])"
   ]
  },
  {
   "cell_type": "code",
   "execution_count": 104,
   "metadata": {},
   "outputs": [
    {
     "data": {
      "text/plain": [
       "[('28-03-2018_Spartans_Pilot_Spray_Mix_01', 8409.836006164689),\n",
       " ('28-03-2018_Spartans_Pilot_04_Bl_01_02', 16815.677809005967),\n",
       " ('28-03-2018_Spartans_Pilot_03_Bl_01_01', 19915.781694141588),\n",
       " ('28-03-2018_Spartans_Pilot_11_5868_01', 32614.99834878038),\n",
       " ('28-03-2018_Spartans_Pilot_Spray_Mix_02', 41697.44373199799),\n",
       " ('28-03-2018_Spartans_Pilot_07_5475_01', 42677.25491867875),\n",
       " ('28-03-2018_Spartans_Pilot_14_6403_02', 50873.45105319734),\n",
       " ('28-03-2018_Spartans_Pilot_12_5868_02', 55604.69257399417),\n",
       " ('28-03-2018_Spartans_Pilot_05_QC_01', 61011.53661007676),\n",
       " ('28-03-2018_Spartans_Pilot_10_5832_02', 63672.14352437375),\n",
       " ('28-03-2018_Spartans_Pilot_08_5475_02', 71621.85763648643),\n",
       " ('28-03-2018_Spartans_Pilot_06_QC_02', 74051.26711188546),\n",
       " ('28-03-2018_Spartans_Pilot_13_6403_01', 76705.38638046454),\n",
       " ('28-03-2018_Spartans_Pilot_09_5832_01', 77664.55852303439),\n",
       " ('28-03-2018_Spartans_Pilot_15_6957_01', 106129.78165657056),\n",
       " ('28-03-2018_Spartans_Pilot_16_6957_02', 109416.7138602158)]"
      ]
     },
     "execution_count": 104,
     "metadata": {},
     "output_type": "execute_result"
    },
    {
     "data": {
      "image/png": "[encoded data removed]",
      "text/plain": [
       "<Figure size 432x288 with 1 Axes>"
      ]
     },
     "metadata": {
      "needs_background": "light"
     },
     "output_type": "display_data"
    }
   ],
   "source": [
    "res = [(s, s_df.inty.mean()) for s, s_df in df_ms1.groupby('stem')]\n",
    "pd.DataFrame(res).plot()\n",
    "sorted(res, key=lambda x: x[1])"
   ]
  },
  {
   "cell_type": "code",
   "execution_count": 123,
   "metadata": {},
   "outputs": [],
   "source": [
    "tmp = df_ms1.groupby('stem').get_group('28-03-2018_Spartans_Pilot_11_5868_01') #28-03-2018_Spartans_Pilot_11_5868_01 28-03-2018_Spartans_Pilot_Spray_Mix_02"
   ]
  },
  {
   "cell_type": "code",
   "execution_count": 124,
   "metadata": {},
   "outputs": [
    {
     "data": {
      "text/plain": [
       "5546906089.620483"
      ]
     },
     "execution_count": 124,
     "metadata": {},
     "output_type": "execute_result"
    }
   ],
   "source": [
    "# mask = tmp.inty / tmp.groupby('scan_id')['inty'].transform('max') > 0.1\n",
    "# tmp.loc[mask].inty.sum()"
   ]
  },
  {
   "cell_type": "code",
   "execution_count": null,
   "metadata": {},
   "outputs": [
    {
     "data": {
      "text/html": [
       "<div>\n",
       "<style scoped>\n",
       "    .dataframe tbody tr th:only-of-type {\n",
       "        vertical-align: middle;\n",
       "    }\n",
       "\n",
       "    .dataframe tbody tr th {\n",
       "        vertical-align: top;\n",
       "    }\n",
       "\n",
       "    .dataframe thead th {\n",
       "        text-align: right;\n",
       "    }\n",
       "</style>\n",
       "<table border=\"1\" class=\"dataframe\">\n",
       "  <thead>\n",
       "    <tr style=\"text-align: right;\">\n",
       "      <th></th>\n",
       "      <th>mz</th>\n",
       "      <th>inty</th>\n",
       "      <th>stem</th>\n",
       "      <th>scan_id</th>\n",
       "      <th>filter_string</th>\n",
       "      <th>precursor_id</th>\n",
       "    </tr>\n",
       "  </thead>\n",
       "  <tbody>\n",
       "    <tr>\n",
       "      <th>6</th>\n",
       "      <td>402.398740</td>\n",
       "      <td>11.684825</td>\n",
       "      <td>28-03-2018_Spartans_Pilot_Spray_Mix_01</td>\n",
       "      <td>controllerType=0 controllerNumber=1 scan=1</td>\n",
       "      <td>FTMS + p NSI Full lock ms [400.0000-1000.0000]</td>\n",
       "      <td>None</td>\n",
       "    </tr>\n",
       "    <tr>\n",
       "      <th>13</th>\n",
       "      <td>407.994390</td>\n",
       "      <td>12.718649</td>\n",
       "      <td>28-03-2018_Spartans_Pilot_Spray_Mix_01</td>\n",
       "      <td>controllerType=0 controllerNumber=1 scan=1</td>\n",
       "      <td>FTMS + p NSI Full lock ms [400.0000-1000.0000]</td>\n",
       "      <td>None</td>\n",
       "    </tr>\n",
       "    <tr>\n",
       "      <th>20</th>\n",
       "      <td>419.093632</td>\n",
       "      <td>12.731655</td>\n",
       "      <td>28-03-2018_Spartans_Pilot_Spray_Mix_01</td>\n",
       "      <td>controllerType=0 controllerNumber=1 scan=1</td>\n",
       "      <td>FTMS + p NSI Full lock ms [400.0000-1000.0000]</td>\n",
       "      <td>None</td>\n",
       "    </tr>\n",
       "    <tr>\n",
       "      <th>27</th>\n",
       "      <td>441.533650</td>\n",
       "      <td>12.981566</td>\n",
       "      <td>28-03-2018_Spartans_Pilot_Spray_Mix_01</td>\n",
       "      <td>controllerType=0 controllerNumber=1 scan=1</td>\n",
       "      <td>FTMS + p NSI Full lock ms [400.0000-1000.0000]</td>\n",
       "      <td>None</td>\n",
       "    </tr>\n",
       "    <tr>\n",
       "      <th>34</th>\n",
       "      <td>445.030601</td>\n",
       "      <td>13.943912</td>\n",
       "      <td>28-03-2018_Spartans_Pilot_Spray_Mix_01</td>\n",
       "      <td>controllerType=0 controllerNumber=1 scan=1</td>\n",
       "      <td>FTMS + p NSI Full lock ms [400.0000-1000.0000]</td>\n",
       "      <td>None</td>\n",
       "    </tr>\n",
       "    <tr>\n",
       "      <th>...</th>\n",
       "      <td>...</td>\n",
       "      <td>...</td>\n",
       "      <td>...</td>\n",
       "      <td>...</td>\n",
       "      <td>...</td>\n",
       "      <td>...</td>\n",
       "    </tr>\n",
       "    <tr>\n",
       "      <th>2498</th>\n",
       "      <td>464.345777</td>\n",
       "      <td>151.534271</td>\n",
       "      <td>28-03-2018_Spartans_Pilot_Spray_Mix_01</td>\n",
       "      <td>controllerType=0 controllerNumber=1 scan=810</td>\n",
       "      <td>FTMS - p NSI SIM lock ms [445.0000-465.0000]</td>\n",
       "      <td>None</td>\n",
       "    </tr>\n",
       "    <tr>\n",
       "      <th>2500</th>\n",
       "      <td>464.358827</td>\n",
       "      <td>156.677856</td>\n",
       "      <td>28-03-2018_Spartans_Pilot_Spray_Mix_01</td>\n",
       "      <td>controllerType=0 controllerNumber=1 scan=810</td>\n",
       "      <td>FTMS - p NSI SIM lock ms [445.0000-465.0000]</td>\n",
       "      <td>None</td>\n",
       "    </tr>\n",
       "    <tr>\n",
       "      <th>2507</th>\n",
       "      <td>464.379919</td>\n",
       "      <td>290.989716</td>\n",
       "      <td>28-03-2018_Spartans_Pilot_Spray_Mix_01</td>\n",
       "      <td>controllerType=0 controllerNumber=1 scan=810</td>\n",
       "      <td>FTMS - p NSI SIM lock ms [445.0000-465.0000]</td>\n",
       "      <td>None</td>\n",
       "    </tr>\n",
       "    <tr>\n",
       "      <th>2515</th>\n",
       "      <td>464.849626</td>\n",
       "      <td>339.025299</td>\n",
       "      <td>28-03-2018_Spartans_Pilot_Spray_Mix_01</td>\n",
       "      <td>controllerType=0 controllerNumber=1 scan=810</td>\n",
       "      <td>FTMS - p NSI SIM lock ms [445.0000-465.0000]</td>\n",
       "      <td>None</td>\n",
       "    </tr>\n",
       "    <tr>\n",
       "      <th>2522</th>\n",
       "      <td>464.995380</td>\n",
       "      <td>284.243011</td>\n",
       "      <td>28-03-2018_Spartans_Pilot_Spray_Mix_01</td>\n",
       "      <td>controllerType=0 controllerNumber=1 scan=810</td>\n",
       "      <td>FTMS - p NSI SIM lock ms [445.0000-465.0000]</td>\n",
       "      <td>None</td>\n",
       "    </tr>\n",
       "  </tbody>\n",
       "</table>\n",
       "<p>336833 rows × 6 columns</p>\n",
       "</div>"
      ],
      "text/plain": [
       "              mz        inty                                    stem  \\\n",
       "6     402.398740   11.684825  28-03-2018_Spartans_Pilot_Spray_Mix_01   \n",
       "13    407.994390   12.718649  28-03-2018_Spartans_Pilot_Spray_Mix_01   \n",
       "20    419.093632   12.731655  28-03-2018_Spartans_Pilot_Spray_Mix_01   \n",
       "27    441.533650   12.981566  28-03-2018_Spartans_Pilot_Spray_Mix_01   \n",
       "34    445.030601   13.943912  28-03-2018_Spartans_Pilot_Spray_Mix_01   \n",
       "...          ...         ...                                     ...   \n",
       "2498  464.345777  151.534271  28-03-2018_Spartans_Pilot_Spray_Mix_01   \n",
       "2500  464.358827  156.677856  28-03-2018_Spartans_Pilot_Spray_Mix_01   \n",
       "2507  464.379919  290.989716  28-03-2018_Spartans_Pilot_Spray_Mix_01   \n",
       "2515  464.849626  339.025299  28-03-2018_Spartans_Pilot_Spray_Mix_01   \n",
       "2522  464.995380  284.243011  28-03-2018_Spartans_Pilot_Spray_Mix_01   \n",
       "\n",
       "                                           scan_id  \\\n",
       "6       controllerType=0 controllerNumber=1 scan=1   \n",
       "13      controllerType=0 controllerNumber=1 scan=1   \n",
       "20      controllerType=0 controllerNumber=1 scan=1   \n",
       "27      controllerType=0 controllerNumber=1 scan=1   \n",
       "34      controllerType=0 controllerNumber=1 scan=1   \n",
       "...                                            ...   \n",
       "2498  controllerType=0 controllerNumber=1 scan=810   \n",
       "2500  controllerType=0 controllerNumber=1 scan=810   \n",
       "2507  controllerType=0 controllerNumber=1 scan=810   \n",
       "2515  controllerType=0 controllerNumber=1 scan=810   \n",
       "2522  controllerType=0 controllerNumber=1 scan=810   \n",
       "\n",
       "                                       filter_string precursor_id  \n",
       "6     FTMS + p NSI Full lock ms [400.0000-1000.0000]         None  \n",
       "13    FTMS + p NSI Full lock ms [400.0000-1000.0000]         None  \n",
       "20    FTMS + p NSI Full lock ms [400.0000-1000.0000]         None  \n",
       "27    FTMS + p NSI Full lock ms [400.0000-1000.0000]         None  \n",
       "34    FTMS + p NSI Full lock ms [400.0000-1000.0000]         None  \n",
       "...                                              ...          ...  \n",
       "2498    FTMS - p NSI SIM lock ms [445.0000-465.0000]         None  \n",
       "2500    FTMS - p NSI SIM lock ms [445.0000-465.0000]         None  \n",
       "2507    FTMS - p NSI SIM lock ms [445.0000-465.0000]         None  \n",
       "2515    FTMS - p NSI SIM lock ms [445.0000-465.0000]         None  \n",
       "2522    FTMS - p NSI SIM lock ms [445.0000-465.0000]         None  \n",
       "\n",
       "[336833 rows x 6 columns]"
      ]
     },
     "execution_count": 111,
     "metadata": {},
     "output_type": "execute_result"
    }
   ],
   "source": [
    "tmp.boxplot()\n"
   ]
  },
  {
   "cell_type": "code",
   "execution_count": 18,
   "metadata": {},
   "outputs": [],
   "source": [
    "import streamlit as st"
   ]
  },
  {
   "cell_type": "code",
   "execution_count": 19,
   "metadata": {},
   "outputs": [
    {
     "name": "stderr",
     "output_type": "stream",
     "text": [
      "2022-01-19 15:18:13.532 \n",
      "  \u001b[33m\u001b[1mWarning:\u001b[0m to view this Streamlit app on a browser, run it with the following\n",
      "  command:\n",
      "\n",
      "    streamlit run C:\\Users\\mirandaa\\Anaconda3\\envs\\lx128_p3_dev\\lib\\site-packages\\ipykernel_launcher.py [ARGUMENTS]\n"
     ]
    },
    {
     "data": {
      "text/plain": [
       "DeltaGenerator(_root_container=0, _provided_cursor=None, _parent=None, _block_type=None, _form_data=None)"
      ]
     },
     "execution_count": 19,
     "metadata": {},
     "output_type": "execute_result"
    }
   ],
   "source": [
    "st.title('Set Sample type ')"
   ]
  },
  {
   "cell_type": "code",
   "execution_count": 21,
   "metadata": {},
   "outputs": [
    {
     "name": "stdout",
     "output_type": "stream",
     "text": [
      " Volume in drive D is DATA\n",
      " Volume Serial Number is 62B3-38E3\n",
      "\n",
      " Directory of d:\\fork\\isas_lipidxplorer\n",
      "\n",
      "18.01.2022  16:44    <DIR>          .\n",
      "18.01.2022  16:44    <DIR>          ..\n",
      "11.10.2021  10:55               128 .gitattributes\n",
      "13.10.2021  13:53    <DIR>          .github\n",
      "13.10.2021  13:20               194 .gitignore\n",
      "22.12.2021  15:34    <DIR>          .pytest_cache\n",
      "13.10.2021  14:49    <DIR>          build\n",
      "13.10.2021  14:55             8,636 CHANGELOG\n",
      "13.10.2021  13:53                 0 conftest.py\n",
      "11.10.2021  10:55               770 COPYRIGHT.txt\n",
      "13.10.2021  14:54    <DIR>          dist\n",
      "13.10.2021  14:54       338,892,550 dist.zip\n",
      "13.10.2021  13:53               872 Dockerfile\n",
      "05.11.2021  16:58             4,866 environment.yml\n",
      "13.10.2021  13:53             4,347 files_ui.py\n",
      "21.12.2021  11:27           307,380 find_bad_clusting.ipynb\n",
      "22.12.2021  18:54        16,891,553 find_bad_clustingbenchmark.ipynb\n",
      "13.10.2021  13:53            13,279 generateOptions.py\n",
      "13.10.2021  13:53    <DIR>          gui\n",
      "15.12.2021  16:34    <DIR>          input2Dataframe\n",
      "11.10.2021  10:55               781 Jenkinsfile\n",
      "26.05.2021  13:22               437 LICENSES-third-party.txt\n",
      "13.10.2021  13:53               608 LipidXplorer.py\n",
      "11.10.2021  10:55               546 LipidXplorer.pyw\n",
      "05.11.2021  16:58             2,281 LipidXplorer.spec\n",
      "11.10.2021  10:55             1,151 lpdxImportSettings_benchmark.ini\n",
      "26.07.2021  08:23             2,742 lpdxImportSettings_tutorial.ini\n",
      "13.10.2021  13:53            32,142 lpdxLXMerge.py\n",
      "21.12.2021  11:24               267 lpdxopts.ini\n",
      "13.10.2021  13:53            11,595 lpdxSCC.py\n",
      "22.12.2021  15:34    <DIR>          lx\n",
      "22.12.2021  09:12           909,928 lx1_before_shift_or_recalibrate.pkl\n",
      "21.12.2021  19:44        29,253,841 lx1_bins.pkl\n",
      "21.12.2021  21:44        29,253,841 lx1_bins_v1.pkl\n",
      "13.10.2021  13:53    <DIR>          lx2\n",
      "13.10.2021  13:53            11,116 lximport.py\n",
      "13.10.2021  13:53             1,775 lxquant.py\n",
      "13.10.2021  13:53             9,687 lxrun.py\n",
      "26.05.2021  13:22           608,080 msvcp100.dll\n",
      "26.05.2021  13:22           829,264 msvcr100.dll\n",
      "05.11.2021  16:59    <DIR>          mztab\n",
      "13.10.2021  13:53    <DIR>          new_mfql_parser\n",
      "15.12.2021  17:45    <DIR>          notebooks\n",
      "13.10.2021  13:53            97,367 parsetab.py\n",
      "11.10.2021  10:55               291 PKG-INFO\n",
      "13.10.2021  13:53               529 prop_suppest.py\n",
      "13.10.2021  13:53                68 pytest.ini\n",
      "19.01.2022  14:53           121,205 qc_blank_rep_benchmark.ipynb\n",
      "13.10.2021  13:53             4,239 README.md\n",
      "11.10.2021  10:55           430,044 ReleaseNotes.docx\n",
      "13.10.2021  13:53    <DIR>          resolution_estimation\n",
      "13.10.2021  13:53             3,620 run_from_cl.py\n",
      "13.10.2021  13:53             1,036 setupLX.py\n",
      "21.12.2021  11:27    <DIR>          tests\n",
      "13.10.2021  13:20    <DIR>          test_resources\n",
      "13.12.2021  19:43               596 tmp.py\n",
      "13.10.2021  13:53             2,878 x_masterscan.py\n",
      "13.10.2021  13:53             2,894 x_mfql_run.py\n",
      "13.10.2021  13:53               441 x_options.py\n",
      "14.12.2021  12:44    <DIR>          __pycache__\n",
      "              43 File(s)    417,719,865 bytes\n",
      "              17 Dir(s)  768,333,942,784 bytes free\n"
     ]
    }
   ],
   "source": [
    "! dir  ."
   ]
  },
  {
   "cell_type": "code",
   "execution_count": null,
   "metadata": {},
   "outputs": [],
   "source": []
  }
 ],
 "metadata": {
  "interpreter": {
   "hash": "dd2dc0883e3e52ae9befafd21e38d2af5267660941e4535445d12b41bacc5e12"
  },
  "kernelspec": {
   "display_name": "Python 3.7.5 64-bit ('lx128_p3_dev': conda)",
   "language": "python",
   "name": "python3"
  },
  "language_info": {
   "codemirror_mode": {
    "name": "ipython",
    "version": 3
   },
   "file_extension": ".py",
   "mimetype": "text/x-python",
   "name": "python",
   "nbconvert_exporter": "python",
   "pygments_lexer": "ipython3",
   "version": "3.7.5"
  },
  "orig_nbformat": 4
 },
 "nbformat": 4,
 "nbformat_minor": 2
}
