{
 "nbformat": 4,
 "nbformat_minor": 2,
 "metadata": {
  "language_info": {
   "name": "python",
   "codemirror_mode": {
    "name": "ipython",
    "version": 3
   },
   "version": "3.7.5"
  },
  "orig_nbformat": 2,
  "file_extension": ".py",
  "mimetype": "text/x-python",
  "name": "python",
  "npconvert_exporter": "python",
  "pygments_lexer": "ipython3",
  "version": 3
 },
 "cells": [
  {
   "cell_type": "code",
   "execution_count": 4,
   "metadata": {},
   "outputs": [],
   "source": [
    "'''\n",
    "tool to handle the spectra\n",
    "'''\n",
    "import pandas as pd\n",
    "import numpy as np\n",
    "from collections import namedtuple\n",
    "import logging, os\n",
    "# log = logging.getLogger(os.path.basename(__file__))\n",
    "from pyteomics import mzml, auxiliary\n"
   ]
  },
  {
   "cell_type": "code",
   "execution_count": 8,
   "metadata": {},
   "outputs": [],
   "source": [
    "def mzML2DataFrames(filename): #this is with pytheomics\n",
    "    scans = []\n",
    "    peaks_dfs = []\n",
    "    \n",
    "    with mzml.read(filename) as reader:\n",
    "        for item in reader:\n",
    "            id  = item['id']\n",
    "            idx = item['index']\n",
    "            fs  = item['scanList']['scan'][0]['filter string']vbxbzb #TODO check if there is more than one\n",
    "            time = item['scanList']['scan'][0]['scan start time'] # * 1 to make a unitfloat into a float\n",
    "            msLevel = item['ms level']\n",
    "            positive_scan = True if 'positive scan' in item else False\n",
    "            if not positive_scan: item['negative scan'] # raise exceltion if not positive or negative\n",
    "            p_data = item.get('precursorList',None) #helper\n",
    "            precursor_id = p_data['precursor'][0]['spectrumRef'] if p_data else Nonezsdcasdf#check if more than one\n",
    "            target_mz = p_data['precursor'][0]['isolationWindow']['isolation window target m/z'] if p_data else None\n",
    "            max_i = item['base peak intensity']\n",
    "            tic = item['total ion current']\n",
    "            \n",
    "            #collect the scans data\n",
    "            row = (id,idx,fs,time,msLevel,positive_scan,precursor_id,max_i, tic, target_mz)\n",
    "            scans.append(row)\n",
    "            \n",
    "            #collect the peaks data\n",
    "            i   = item['intensity array']\n",
    "            m   = item['m/z array']\n",
    "            cols = {'m':m, 'i':i}\n",
    "            df = pd.DataFrame(cols)\n",
    "            df['id']=id\n",
    "            df.set_index('id', inplace = True)\n",
    "            peaks_dfs.append(df)\n",
    "            \n",
    "            #for testing\n",
    "            if len(scans) >100: #TODO remove this\n",
    "                print(' remove this ')\n",
    "                break\n",
    "        \n",
    "        scansDF = pd.DataFrame(scans, columns=['id','idx','filter_string','time','msLevel','positive_scan','precursor_id', 'max_i', 'tic','target_mz'])\n",
    "        scansDF.set_index('id', inplace = True)\n",
    "        peaksDF = pd.concat(peaks_dfs)\n",
    "\n",
    "    return scansDF, peaksDF\n"
   ]
  },
  {
   "cell_type": "code",
   "execution_count": 54,
   "metadata": {},
   "outputs": [],
   "source": [
    "class SpectraUtil:\n",
    "    'Util to handle spectra'\n",
    "    \n",
    "    def __init__(self, scansDF, peaksDF, filename = None):\n",
    "        self._original_scansDF = scansDF\n",
    "        self._original__peaksDF = peaksDF\n",
    "        self.scansDF = self._original_scansDF\n",
    "        self.peaksDF = self._original__peaksDF\n",
    "        self._filename = filename\n",
    "\n",
    "    def fromFile(filename):\n",
    "        return SpectraUtil(*mzML2DataFrames(filename), filename)\n",
    "    \n",
    "    #note to help debug maybe use\n",
    "    # @property\n",
    "    # def scansDF(self):\n",
    "    #     return self.scansDF\n",
    "    \n",
    "\n",
    "    def reset(self):\n",
    "        print(f'reseting to original')\n",
    "        self.scansDF = self.self._original_scansDF\n",
    "\n",
    "    def get_reset_copy(self):\n",
    "        print(f'a copy of the original with nothing set... sorry no undo')\n",
    "        return SpectraUtil(self._original_scansDF, self._original__peaksDF, self._filename)\n",
    "    \n",
    "    def get_current_copy(self):\n",
    "        print(f'a copy of the current set... just in case')\n",
    "        return SpectraUtil(self.self.scansDF, self.self.peaksDF, self._filename)\n",
    "\n",
    "    def set_timerange(self,t0,t1):\n",
    "        print(f'time range in seconds: {t0} to {t1}')\n",
    "        self.scansDF = self.scansDF.loc[self.scansDF.time.multiply(60).between(t0,t1)]\n",
    "    def set_mode(self,positive_mode=True):\n",
    "        print(f'set mode to positive : {positive_mode}, false means negative ')\n",
    "        self.scansDF = self.scansDF.loc[self.scansDF.positive_scan == positive_mode]\n",
    "    def set_ms_level(self,level=1):\n",
    "        print(f'set ms level to  : {level}')\n",
    "        self.scansDF = self.scansDF.loc[self.scansDF.msLevel == level]\n",
    "\n",
    "    def set_mass_range(self,m0,m1):\n",
    "        print(f'time mass range from: {m0} to {m1}')\n",
    "        self.peaksDF = self.peaksDF.loc[self.peaksDF.m.between(m0,m1)]\n",
    "    \n",
    "    def make_rel_i(self):\n",
    "        print(f'calculate the relative intensities as: rel_i')\n",
    "        #left_ and right_ index to keep the index\n",
    "        spectraDF = self.peaksDF.merge(self.scansDF.max_i, left_index=True, right_index=True) \n",
    "        self.peaksDF['rel_i'] = spectraDF.i / spectraDF.max_i\n",
    "    \n",
    "    def set_min_i(self, min_i = 0):\n",
    "        print(f'set the minimum intensity to {min_i}')\n",
    "        self.peaksDF = self.peaksDF.loc[self.peaksDF.i > min_i]\n",
    "    \n",
    "    def round_m(self, decimals=4):\n",
    "        print(f'set the precision of m/z to {decimals} decimal places')\n",
    "        self.peaksDF['m'] = self.peaksDF.m.round(decimals)\n",
    "    \n",
    "    def get_fragments(self, scan_index = None):\n",
    "        print(f'Peaks triggered by the scans if scan_index is none, else the ones from the scan_index')\n",
    "        if scan_index == None:\n",
    "            res = self.peaksDF.loc[self.peaksDF.index.isin(self.scansDF.precursor_id)]\n",
    "        else:\n",
    "            res = self.peaksDF.loc[scan_index]\n",
    "        return res\n",
    "    \n",
    "    def get_triggered_scans()\n",
    "\n"
   ]
  },
  {
   "cell_type": "code",
   "execution_count": 55,
   "metadata": {},
   "outputs": [
    {
     "name": "stdout",
     "output_type": "stream",
     "text": "remove this \n"
    }
   ],
   "source": [
    "filename = 'test_resources\\\\small_test\\\\190321_Serum_Lipidextract_368723_01.mzML'\n",
    "spectraUtil = SpectraUtil.fromFile(filename)"
   ]
  },
  {
   "cell_type": "code",
   "execution_count": 61,
   "metadata": {},
   "outputs": [
    {
     "data": {
      "text/html": "<div>\n<style scoped>\n    .dataframe tbody tr th:only-of-type {\n        vertical-align: middle;\n    }\n\n    .dataframe tbody tr th {\n        vertical-align: top;\n    }\n\n    .dataframe thead th {\n        text-align: right;\n    }\n</style>\n<table border=\"1\" class=\"dataframe\">\n  <thead>\n    <tr style=\"text-align: right;\">\n      <th></th>\n      <th>m</th>\n      <th>i</th>\n    </tr>\n    <tr>\n      <th>id</th>\n      <th></th>\n      <th></th>\n    </tr>\n  </thead>\n  <tbody>\n    <tr>\n      <th>controllerType=0 controllerNumber=1 scan=1</th>\n      <td>354.751740</td>\n      <td>158.179474</td>\n    </tr>\n    <tr>\n      <th>controllerType=0 controllerNumber=1 scan=1</th>\n      <td>371.186859</td>\n      <td>162.768585</td>\n    </tr>\n    <tr>\n      <th>controllerType=0 controllerNumber=1 scan=1</th>\n      <td>401.924194</td>\n      <td>193.525879</td>\n    </tr>\n    <tr>\n      <th>controllerType=0 controllerNumber=1 scan=1</th>\n      <td>419.076324</td>\n      <td>161.930161</td>\n    </tr>\n    <tr>\n      <th>controllerType=0 controllerNumber=1 scan=1</th>\n      <td>450.792603</td>\n      <td>193.176483</td>\n    </tr>\n    <tr>\n      <th>...</th>\n      <td>...</td>\n      <td>...</td>\n    </tr>\n    <tr>\n      <th>controllerType=0 controllerNumber=1 scan=101</th>\n      <td>420.265381</td>\n      <td>40343.316406</td>\n    </tr>\n    <tr>\n      <th>controllerType=0 controllerNumber=1 scan=101</th>\n      <td>420.280701</td>\n      <td>50330.796875</td>\n    </tr>\n    <tr>\n      <th>controllerType=0 controllerNumber=1 scan=101</th>\n      <td>420.348145</td>\n      <td>16238.416016</td>\n    </tr>\n    <tr>\n      <th>controllerType=0 controllerNumber=1 scan=101</th>\n      <td>420.363007</td>\n      <td>26733.033203</td>\n    </tr>\n    <tr>\n      <th>controllerType=0 controllerNumber=1 scan=101</th>\n      <td>420.439606</td>\n      <td>10818.132812</td>\n    </tr>\n  </tbody>\n</table>\n<p>56511 rows × 2 columns</p>\n</div>",
      "text/plain": "                                                       m             i\nid                                                                    \ncontrollerType=0 controllerNumber=1 scan=1    354.751740    158.179474\ncontrollerType=0 controllerNumber=1 scan=1    371.186859    162.768585\ncontrollerType=0 controllerNumber=1 scan=1    401.924194    193.525879\ncontrollerType=0 controllerNumber=1 scan=1    419.076324    161.930161\ncontrollerType=0 controllerNumber=1 scan=1    450.792603    193.176483\n...                                                  ...           ...\ncontrollerType=0 controllerNumber=1 scan=101  420.265381  40343.316406\ncontrollerType=0 controllerNumber=1 scan=101  420.280701  50330.796875\ncontrollerType=0 controllerNumber=1 scan=101  420.348145  16238.416016\ncontrollerType=0 controllerNumber=1 scan=101  420.363007  26733.033203\ncontrollerType=0 controllerNumber=1 scan=101  420.439606  10818.132812\n\n[56511 rows x 2 columns]"
     },
     "execution_count": 61,
     "metadata": {},
     "output_type": "execute_result"
    }
   ],
   "source": [
    "\n",
    "spectraUtil.peaksDF.merge(spectraUtil.scansDF.setindex())"
   ]
  },
  {
   "cell_type": "code",
   "execution_count": null,
   "metadata": {},
   "outputs": [],
   "source": []
  }
 ]
}