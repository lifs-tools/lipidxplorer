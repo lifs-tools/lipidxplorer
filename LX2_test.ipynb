{
 "nbformat": 4,
 "nbformat_minor": 2,
 "metadata": {
  "language_info": {
   "name": "python",
   "codemirror_mode": {
    "name": "ipython",
    "version": 3
   },
   "version": "3.7.5"
  },
  "orig_nbformat": 2,
  "file_extension": ".py",
  "mimetype": "text/x-python",
  "name": "python",
  "npconvert_exporter": "python",
  "pygments_lexer": "ipython3",
  "version": 3
 },
 "cells": [
  {
   "cell_type": "code",
   "execution_count": 1,
   "metadata": {},
   "outputs": [],
   "source": [
    "'''\n",
    "tool to handle the spectra\n",
    "'''\n",
    "import pandas as pd\n",
    "import numpy as np\n",
    "from collections import namedtuple\n",
    "import logging, os\n",
    "# log = logging.getLogger(os.path.basename(__file__))\n",
    "from pyteomics import mzml, auxiliary\n"
   ]
  },
  {
   "cell_type": "code",
   "execution_count": 9,
   "metadata": {},
   "outputs": [],
   "source": [
    "def mzML2DataFrames(filename): #this is with pytheomics\n",
    "    scans = []\n",
    "    peaks_dfs = []\n",
    "    \n",
    "    with mzml.read(filename) as reader:\n",
    "        for item in reader:\n",
    "            id  = item['id']\n",
    "            idx = item['index']\n",
    "            fs  = item['scanList']['scan'][0]['filter string']\n",
    "            if item['scanList']['count'] != 1 : raise NotImplementedError('we dont read more than one scan per entry .... yet ')\n",
    "            time = item['scanList']['scan'][0]['scan start time'] # * 1 the dataframe makes a unitfloat into a float\n",
    "            msLevel = item['ms level']\n",
    "            positive_scan = True if 'positive scan' in item else False\n",
    "            if not positive_scan: item['negative scan'] # raise exceltion if not positive or negative\n",
    "            p_data = item.get('precursorList',None) #helper\n",
    "            if p_data and p_data['count'] != 1 : raise NotImplementedError('we dont read more than one scan per entry .... yet ')\n",
    "            precursor_id = p_data['precursor'][0]['spectrumRef'] if p_data else None#check if more than one\n",
    "            target_mz = p_data['precursor'][0]['isolationWindow']['isolation window target m/z'] if p_data else None\n",
    "            max_i = item['base peak intensity']\n",
    "            tic = item['total ion current']\n",
    "            \n",
    "            #collect the scans data\n",
    "            row = (id,idx,fs,time,msLevel,positive_scan,precursor_id,max_i, tic, target_mz)\n",
    "            scans.append(row)\n",
    "            \n",
    "            #collect the peaks data\n",
    "            i   = item['intensity array']\n",
    "            m   = item['m/z array']\n",
    "            cols = {'m':m, 'i':i}\n",
    "            df = pd.DataFrame(cols)\n",
    "            df['id']=id\n",
    "            df.set_index('id', inplace = True)\n",
    "            peaks_dfs.append(df)\n",
    "            \n",
    "            #for testing\n",
    "            if len(scans) >100: #TODO remove this\n",
    "                print(' remove this ')\n",
    "                break\n",
    "        \n",
    "        scansDF = pd.DataFrame(scans, columns=['id','idx','filter_string','time','msLevel','positive_scan','precursor_id', 'max_i', 'tic','target_mz'])\n",
    "        scansDF.set_index('id', inplace = True)\n",
    "        peaksDF = pd.concat(peaks_dfs)\n",
    "\n",
    "    return scansDF, peaksDF\n"
   ]
  },
  {
   "cell_type": "code",
   "execution_count": 10,
   "metadata": {},
   "outputs": [],
   "source": [
    "filename = 'test_resources\\\\small_test\\\\190321_Serum_Lipidextract_368723_01.mzML'"
   ]
  },
  {
   "cell_type": "code",
   "execution_count": 106,
   "metadata": {},
   "outputs": [],
   "source": [
    "class SpectraUtil:\n",
    "    'Util to handle spectra'\n",
    "    \n",
    "    def __init__(self, scansDF, peaksDF, filename = None):\n",
    "        self._original_scansDF = scansDF\n",
    "        self._original__peaksDF = peaksDF\n",
    "        self.scansDF = self._original_scansDF\n",
    "        self.peaksDF = self._original__peaksDF\n",
    "        self._filename = filename\n",
    "\n",
    "    def fromFile(filename):\n",
    "        return SpectraUtil(*mzML2DataFrames(filename), filename)\n",
    "    \n",
    "    #note to help debug maybe use\n",
    "    # @property\n",
    "    # def scansDF(self):\n",
    "    #     return self.scansDF\n",
    "    \n",
    "\n",
    "    def reset(self):\n",
    "        print(f'reseting to original')\n",
    "        self.scansDF = self.self._original_scansDF\n",
    "\n",
    "    def get_reset_copy(self):\n",
    "        print(f'a copy of the original with nothing set... sorry no undo')\n",
    "        return SpectraUtil(self._original_scansDF, self._original__peaksDF, self._filename)\n",
    "    \n",
    "    def get_current_copy(self):\n",
    "        print(f'a copy of the current set... just in case')\n",
    "        return SpectraUtil(self.self.scansDF, self.self.peaksDF, self._filename)\n",
    "\n",
    "    def set_timerange(self,t0,t1):\n",
    "        print(f'time range in seconds: {t0} to {t1}')\n",
    "        self.scansDF = self.scansDF.loc[self.scansDF.time.multiply(60).between(t0,t1)]\n",
    "    def set_mode(self,positive_mode=True):\n",
    "        print(f'set mode to positive : {positive_mode}, (false means negative) ')\n",
    "        self.scansDF = self.scansDF.loc[self.scansDF.positive_scan == positive_mode]\n",
    "    def set_ms_level(self,level=1):\n",
    "        print(f'set ms level to  : {level}')\n",
    "        self.scansDF = self.scansDF.loc[self.scansDF.msLevel == level]\n",
    "\n",
    "    def set_mass_range(self,m0,m1):\n",
    "        print(f'time mass range from: {m0} to {m1}')\n",
    "        self.peaksDF = self.peaksDF.loc[self.peaksDF.m.between(m0,m1)]\n",
    "    \n",
    "    def make_rel_i(self):\n",
    "        print(f'calculate the relative intensities as: rel_i')\n",
    "        #left_ and right_ index to keep the index\n",
    "        spectraDF = self.peaksDF.merge(self.scansDF.max_i, left_index=True, right_index=True) \n",
    "        self.peaksDF['rel_i'] = spectraDF.i / spectraDF.max_i\n",
    "    \n",
    "    def set_min_i(self, min_i = 0):\n",
    "        print(f'set the minimum intensity to {min_i}')\n",
    "        self.peaksDF = self.peaksDF.loc[self.peaksDF.i > min_i]\n",
    "    \n",
    "    def round_m(self, decimals=4):\n",
    "        print(f'set the precision of m/z to {decimals} decimal places')\n",
    "        self.peaksDF['m'] = self.peaksDF.m.round(decimals)\n",
    "    \n",
    "    def get_fragment_scans(self, scan_index):\n",
    "        print(f'scans triggered by the {scan_index}')\n",
    "        return self._original_scansDF.loc[self._original_scansDF.precursor_id == scan_index]\n",
    "    \n",
    "    def get_fragment_peaks(self, scan_index):\n",
    "        print(f'Peaks triggered by the {scan_index} ')\n",
    "        # for scantuple in spectraUtil.scansDF.itertuples():\n",
    "        #   dosomething(spectraUtil.get_fragment_peaks(scantuple.Index))\n",
    "        return self._original__peaksDF.loc[self._original__peaksDF.index.isin(self.get_fragment_scans(scan_index).index)]\n",
    "    \n",
    "    def get_nearest(self, targetsDF, peaksDF = None, on = 'm', tol=0.01):\n",
    "        print(f'find the nearest Peaks to the target_peaks with a tolerance of {tol}')\n",
    "        if peaksDF == None:\n",
    "            peaksDF = self.peaksDF\n",
    "        \n",
    "        s_peaksDF = peaksDF.reset_index().sort_values(on)\n",
    "        s_targetDF = targetsDF.reset_index().sort_values(on)\n",
    "        \n",
    "        tmp_type = peaksDF[on].dtype\n",
    "        s_targetDF[on] = s_targetDF.astype(tmp_type)\n",
    "\n",
    "        return pd.merge_asof(s_peaksDF, s_targetDF, left_on=on, right_on=on ,tolerance=tol ,direction='nearest').dropna()\n",
    "    \n",
    "\n"
   ]
  },
  {
   "cell_type": "code",
   "execution_count": 107,
   "metadata": {},
   "outputs": [
    {
     "name": "stdout",
     "output_type": "stream",
     "text": "remove this \n"
    }
   ],
   "source": [
    "filename = 'test_resources\\\\small_test\\\\190321_Serum_Lipidextract_368723_01.mzML'\n",
    "spectraUtil = SpectraUtil.fromFile(filename)"
   ]
  },
  {
   "cell_type": "code",
   "execution_count": 108,
   "metadata": {},
   "outputs": [
    {
     "name": "stdout",
     "output_type": "stream",
     "text": "set mode to positive : True, (false means negative) \nset ms level to  : 1\n"
    }
   ],
   "source": [
    "tmp_precursor_id = 'controllerType=0 controllerNumber=1 scan=30'\n",
    "spectraUtil.set_mode()\n",
    "spectraUtil.set_ms_level()"
   ]
  },
  {
   "cell_type": "markdown",
   "execution_count": null,
   "metadata": {},
   "outputs": [],
   "source": [
    "## find the masses in the ms 1 and ms2\n",
    "## make an annotation"
   ]
  },
  {
   "cell_type": "code",
   "execution_count": 109,
   "metadata": {},
   "outputs": [],
   "source": [
    "ids = [1,2,3]\n",
    "ms1targets = [1.0,2.0,350.8769]\n",
    "ms2targets = [1,2,181.0859]\n",
    "\n",
    "ms1_TragetsDF = pd.DataFrame({'m':ms1targets, 'ids':ids})\n",
    "ms1_TragetsDF.set_index('ids', inplace = True)\n",
    "ms2_TragetsDF = pd.DataFrame({'m':ms2targets, 'ids':ids})\n",
    "ms2_TragetsDF.set_index('ids', inplace = True)\n"
   ]
  },
  {
   "cell_type": "code",
   "execution_count": 112,
   "metadata": {},
   "outputs": [
    {
     "name": "stdout",
     "output_type": "stream",
     "text": "find the nearest Peaks to the target_peaks with a tolerance of 0.01\n"
    },
    {
     "data": {
      "text/html": "<div>\n<style scoped>\n    .dataframe tbody tr th:only-of-type {\n        vertical-align: middle;\n    }\n\n    .dataframe tbody tr th {\n        vertical-align: top;\n    }\n\n    .dataframe thead th {\n        text-align: right;\n    }\n</style>\n<table border=\"1\" class=\"dataframe\">\n  <thead>\n    <tr style=\"text-align: right;\">\n      <th></th>\n      <th>id</th>\n      <th>m</th>\n      <th>i</th>\n      <th>ids</th>\n    </tr>\n  </thead>\n  <tbody>\n  </tbody>\n</table>\n</div>",
      "text/plain": "Empty DataFrame\nColumns: [id, m, i, ids]\nIndex: []"
     },
     "execution_count": 112,
     "metadata": {},
     "output_type": "execute_result"
    }
   ],
   "source": [
    "spectraUtil.get_nearest(ms2_TragetsDF)"
   ]
  },
  {
   "cell_type": "code",
   "execution_count": null,
   "metadata": {},
   "outputs": [],
   "source": []
  }
 ]
}