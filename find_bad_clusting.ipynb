{
 "cells": [
  {
   "cell_type": "code",
   "execution_count": 1,
   "metadata": {},
   "outputs": [
    {
     "name": "stdout",
     "output_type": "stream",
     "text": [
      "hello\n"
     ]
    }
   ],
   "source": [
    "print('hello')"
   ]
  },
  {
   "cell_type": "code",
   "execution_count": 2,
   "metadata": {},
   "outputs": [],
   "source": [
    "import pickle\n",
    "listClusters = pickle.load(open('for_clust_eval_listClusters.pkl', 'rb'))"
   ]
  },
  {
   "cell_type": "code",
   "execution_count": 3,
   "metadata": {},
   "outputs": [],
   "source": [
    "listPrecurmass = pickle.load(open(r'for_clust_eval_listPrecurmass.pkl', 'rb'))"
   ]
  },
  {
   "cell_type": "code",
   "execution_count": 4,
   "metadata": {},
   "outputs": [
    {
     "data": {
      "text/plain": [
       "350.18438720703125"
      ]
     },
     "execution_count": 4,
     "metadata": {},
     "output_type": "execute_result"
    }
   ],
   "source": [
    "listClusters[0]['12'].mass\n"
   ]
  },
  {
   "cell_type": "code",
   "execution_count": 5,
   "metadata": {},
   "outputs": [
    {
     "data": {
      "text/plain": [
       "{'sample': '12',\n",
       " 'intensity': 29986.41015625,\n",
       " 'intensity_rel': 0.00035503413372489244}"
      ]
     },
     "execution_count": 5,
     "metadata": {},
     "output_type": "execute_result"
    }
   ],
   "source": [
    "listClusters[0]['12'].content"
   ]
  },
  {
   "cell_type": "code",
   "execution_count": 6,
   "metadata": {},
   "outputs": [],
   "source": [
    "res = []\n",
    "for idx, cluster in enumerate(listClusters):\n",
    "    for value in cluster.values():\n",
    "        if value.content:\n",
    "            res.append((idx, value.mass, value.content['intensity']))"
   ]
  },
  {
   "cell_type": "code",
   "execution_count": 7,
   "metadata": {},
   "outputs": [
    {
     "data": {
      "text/plain": [
       "dict_values([350.18438720703125 > sample      : 12     > intensity   : 29986.41015625 > intensity_rel: 0.00035503413372489244, 350.18438720703125 > sample      : 16     > intensity   : 42560.140625 > intensity_rel: 0.00042573236152440493, 350.1844177246094 > sample      : 22     > intensity   : 53601.56640625 > intensity_rel: 0.0005619672203851301, 350.1844482421875 > sample      : 24     > intensity   : 31429.515625 > intensity_rel: 0.00042577560936838906, 350.1844787597656 > sample      : 5      > intensity   : 44411.9609375 > intensity_rel: 0.0006206174539477744, 350.1844787597656 > sample      : 14     > intensity   : 52666.4765625 > intensity_rel: 0.0006631083877214278, 350.18450927734375 > sample      : 19     > intensity   : 43746.19140625 > intensity_rel: 0.000577896372960502, 350.1845397949219 > sample      : 9      > intensity   : 18945.69140625 > intensity_rel: 0.00030420425617765, 350.1845397949219 > sample      : 10     > intensity   : 54642.203125 > intensity_rel: 0.000720525942753832, 350.1845397949219 > sample      : 11     > intensity   : 29267.890625 > intensity_rel: 0.00041829634335769565, 350.1845397949219 > sample      : 20     > intensity   : 31678.11328125 > intensity_rel: 0.00045041224959469015, 350.1845703125 > sample      : 28     > intensity   : 26302.23828125 > intensity_rel: 0.000361066058006627, 350.18463134765625 > sample      : 4      > intensity   : 28295.490234375 > intensity_rel: 0.0004028794472645992, 350.18463134765625 > sample      : 8      > intensity   : 35874.07421875 > intensity_rel: 0.0005507385570653559, 350.18463134765625 > sample      : 17     > intensity   : 48722.4765625 > intensity_rel: 0.0007139207672995075, 350.1846618652344 > sample      : 15     > intensity   : 52317.421875 > intensity_rel: 0.0006060602837627893, 350.1846618652344 > sample      : 27     > intensity   : 25831.421875 > intensity_rel: 0.00042799028078129524, 350.18475341796875 > sample      : 30     > intensity   : 27719.6875 > intensity_rel: 0.0004702401390107949, 350.1847839355469 > sample      : 21     > intensity   : 22026.87109375 > intensity_rel: 0.00033970953829753556, 350.1847839355469 > sample      : 25     > intensity   : 29810.44140625 > intensity_rel: 0.0003596855427984709, 350.18438720703125, 350.18438720703125, 350.18438720703125, 350.18438720703125, 350.18438720703125, 350.18438720703125, 350.18438720703125, 350.18438720703125, 350.18438720703125, 350.18438720703125, 350.18438720703125])"
      ]
     },
     "execution_count": 7,
     "metadata": {},
     "output_type": "execute_result"
    }
   ],
   "source": [
    "listClusters[0].values()"
   ]
  },
  {
   "cell_type": "code",
   "execution_count": 8,
   "metadata": {},
   "outputs": [],
   "source": [
    "import pandas as pd\n",
    "df = pd.DataFrame(res)"
   ]
  },
  {
   "cell_type": "code",
   "execution_count": 9,
   "metadata": {},
   "outputs": [],
   "source": [
    "agg_df = df.groupby(0)[1].agg(['min', 'max','mean'])\n"
   ]
  },
  {
   "cell_type": "code",
   "execution_count": 21,
   "metadata": {},
   "outputs": [],
   "source": [
    "agg_i_df = df.groupby(0)[2].agg(['min', 'max','mean'])\n",
    "agg_i_df['min2avg'] = agg_i_df['mean'] - agg_i_df['min']\n",
    "agg_i_df['avg2max'] =agg_i_df['max'] - agg_i_df['mean']\n",
    "agg_i_df['dist'] =  agg_i_df.min2avg / agg_i_df.avg2max \n",
    "agg_i_df.sort_values('dist', inplace=True)"
   ]
  },
  {
   "cell_type": "code",
   "execution_count": 18,
   "metadata": {},
   "outputs": [
    {
     "data": {
      "text/html": [
       "<div>\n",
       "<style scoped>\n",
       "    .dataframe tbody tr th:only-of-type {\n",
       "        vertical-align: middle;\n",
       "    }\n",
       "\n",
       "    .dataframe tbody tr th {\n",
       "        vertical-align: top;\n",
       "    }\n",
       "\n",
       "    .dataframe thead th {\n",
       "        text-align: right;\n",
       "    }\n",
       "</style>\n",
       "<table border=\"1\" class=\"dataframe\">\n",
       "  <thead>\n",
       "    <tr style=\"text-align: right;\">\n",
       "      <th></th>\n",
       "      <th>min</th>\n",
       "      <th>max</th>\n",
       "      <th>mean</th>\n",
       "      <th>min2avg</th>\n",
       "      <th>avg2max</th>\n",
       "      <th>dist</th>\n",
       "    </tr>\n",
       "    <tr>\n",
       "      <th>0</th>\n",
       "      <th></th>\n",
       "      <th></th>\n",
       "      <th></th>\n",
       "      <th></th>\n",
       "      <th></th>\n",
       "      <th></th>\n",
       "    </tr>\n",
       "  </thead>\n",
       "  <tbody>\n",
       "    <tr>\n",
       "      <th>1293</th>\n",
       "      <td>2.600580e+06</td>\n",
       "      <td>5952660.50</td>\n",
       "      <td>4.586555e+06</td>\n",
       "      <td>1.985975e+06</td>\n",
       "      <td>1.366105e+06</td>\n",
       "      <td>-6.198695e+05</td>\n",
       "    </tr>\n",
       "    <tr>\n",
       "      <th>1423</th>\n",
       "      <td>1.715822e+06</td>\n",
       "      <td>4839977.50</td>\n",
       "      <td>3.519850e+06</td>\n",
       "      <td>1.804028e+06</td>\n",
       "      <td>1.320127e+06</td>\n",
       "      <td>-4.839010e+05</td>\n",
       "    </tr>\n",
       "    <tr>\n",
       "      <th>280</th>\n",
       "      <td>3.849344e+06</td>\n",
       "      <td>7529807.00</td>\n",
       "      <td>5.835091e+06</td>\n",
       "      <td>1.985747e+06</td>\n",
       "      <td>1.694716e+06</td>\n",
       "      <td>-2.910317e+05</td>\n",
       "    </tr>\n",
       "    <tr>\n",
       "      <th>903</th>\n",
       "      <td>4.359572e+06</td>\n",
       "      <td>7672248.50</td>\n",
       "      <td>6.122035e+06</td>\n",
       "      <td>1.762463e+06</td>\n",
       "      <td>1.550213e+06</td>\n",
       "      <td>-2.122495e+05</td>\n",
       "    </tr>\n",
       "    <tr>\n",
       "      <th>1426</th>\n",
       "      <td>9.445522e+05</td>\n",
       "      <td>2930200.75</td>\n",
       "      <td>2.024156e+06</td>\n",
       "      <td>1.079604e+06</td>\n",
       "      <td>9.060443e+05</td>\n",
       "      <td>-1.735600e+05</td>\n",
       "    </tr>\n",
       "    <tr>\n",
       "      <th>...</th>\n",
       "      <td>...</td>\n",
       "      <td>...</td>\n",
       "      <td>...</td>\n",
       "      <td>...</td>\n",
       "      <td>...</td>\n",
       "      <td>...</td>\n",
       "    </tr>\n",
       "    <tr>\n",
       "      <th>954</th>\n",
       "      <td>1.645146e+07</td>\n",
       "      <td>27767956.00</td>\n",
       "      <td>2.052450e+07</td>\n",
       "      <td>4.073031e+06</td>\n",
       "      <td>7.243461e+06</td>\n",
       "      <td>3.170430e+06</td>\n",
       "    </tr>\n",
       "    <tr>\n",
       "      <th>1158</th>\n",
       "      <td>3.441534e+07</td>\n",
       "      <td>62378176.00</td>\n",
       "      <td>4.671945e+07</td>\n",
       "      <td>1.230411e+07</td>\n",
       "      <td>1.565872e+07</td>\n",
       "      <td>3.354608e+06</td>\n",
       "    </tr>\n",
       "    <tr>\n",
       "      <th>265</th>\n",
       "      <td>4.380484e+05</td>\n",
       "      <td>21547626.00</td>\n",
       "      <td>8.448244e+06</td>\n",
       "      <td>8.010195e+06</td>\n",
       "      <td>1.309938e+07</td>\n",
       "      <td>5.089187e+06</td>\n",
       "    </tr>\n",
       "    <tr>\n",
       "      <th>135</th>\n",
       "      <td>4.488322e+05</td>\n",
       "      <td>23606106.00</td>\n",
       "      <td>9.015087e+06</td>\n",
       "      <td>8.566255e+06</td>\n",
       "      <td>1.459102e+07</td>\n",
       "      <td>6.024764e+06</td>\n",
       "    </tr>\n",
       "    <tr>\n",
       "      <th>148</th>\n",
       "      <td>5.894794e+07</td>\n",
       "      <td>99969240.00</td>\n",
       "      <td>7.498949e+07</td>\n",
       "      <td>1.604155e+07</td>\n",
       "      <td>2.497975e+07</td>\n",
       "      <td>8.938190e+06</td>\n",
       "    </tr>\n",
       "  </tbody>\n",
       "</table>\n",
       "<p>1767 rows × 6 columns</p>\n",
       "</div>"
      ],
      "text/plain": [
       "               min          max          mean       min2avg       avg2max  \\\n",
       "0                                                                           \n",
       "1293  2.600580e+06   5952660.50  4.586555e+06  1.985975e+06  1.366105e+06   \n",
       "1423  1.715822e+06   4839977.50  3.519850e+06  1.804028e+06  1.320127e+06   \n",
       "280   3.849344e+06   7529807.00  5.835091e+06  1.985747e+06  1.694716e+06   \n",
       "903   4.359572e+06   7672248.50  6.122035e+06  1.762463e+06  1.550213e+06   \n",
       "1426  9.445522e+05   2930200.75  2.024156e+06  1.079604e+06  9.060443e+05   \n",
       "...            ...          ...           ...           ...           ...   \n",
       "954   1.645146e+07  27767956.00  2.052450e+07  4.073031e+06  7.243461e+06   \n",
       "1158  3.441534e+07  62378176.00  4.671945e+07  1.230411e+07  1.565872e+07   \n",
       "265   4.380484e+05  21547626.00  8.448244e+06  8.010195e+06  1.309938e+07   \n",
       "135   4.488322e+05  23606106.00  9.015087e+06  8.566255e+06  1.459102e+07   \n",
       "148   5.894794e+07  99969240.00  7.498949e+07  1.604155e+07  2.497975e+07   \n",
       "\n",
       "              dist  \n",
       "0                   \n",
       "1293 -6.198695e+05  \n",
       "1423 -4.839010e+05  \n",
       "280  -2.910317e+05  \n",
       "903  -2.122495e+05  \n",
       "1426 -1.735600e+05  \n",
       "...            ...  \n",
       "954   3.170430e+06  \n",
       "1158  3.354608e+06  \n",
       "265   5.089187e+06  \n",
       "135   6.024764e+06  \n",
       "148   8.938190e+06  \n",
       "\n",
       "[1767 rows x 6 columns]"
      ]
     },
     "execution_count": 18,
     "metadata": {},
     "output_type": "execute_result"
    }
   ],
   "source": [
    "agg_i_df\n"
   ]
  },
  {
   "cell_type": "code",
   "execution_count": 10,
   "metadata": {},
   "outputs": [],
   "source": [
    "agg_df['min2avg'] = agg_df['mean'] - agg_df['min']\n",
    "agg_df['avg2max'] =agg_df['max'] - agg_df['mean']"
   ]
  },
  {
   "cell_type": "code",
   "execution_count": 11,
   "metadata": {},
   "outputs": [],
   "source": [
    "agg_df['dist'] = agg_df.avg2max - agg_df.min2avg\n",
    "agg_df.sort_values('dist', ascending = False, inplace=True)"
   ]
  },
  {
   "cell_type": "code",
   "execution_count": 12,
   "metadata": {},
   "outputs": [
    {
     "data": {
      "text/html": [
       "<div>\n",
       "<style scoped>\n",
       "    .dataframe tbody tr th:only-of-type {\n",
       "        vertical-align: middle;\n",
       "    }\n",
       "\n",
       "    .dataframe tbody tr th {\n",
       "        vertical-align: top;\n",
       "    }\n",
       "\n",
       "    .dataframe thead th {\n",
       "        text-align: right;\n",
       "    }\n",
       "</style>\n",
       "<table border=\"1\" class=\"dataframe\">\n",
       "  <thead>\n",
       "    <tr style=\"text-align: right;\">\n",
       "      <th></th>\n",
       "      <th>min</th>\n",
       "      <th>max</th>\n",
       "      <th>mean</th>\n",
       "      <th>min2avg</th>\n",
       "      <th>avg2max</th>\n",
       "      <th>dist</th>\n",
       "    </tr>\n",
       "    <tr>\n",
       "      <th>0</th>\n",
       "      <th></th>\n",
       "      <th></th>\n",
       "      <th></th>\n",
       "      <th></th>\n",
       "      <th></th>\n",
       "      <th></th>\n",
       "    </tr>\n",
       "  </thead>\n",
       "  <tbody>\n",
       "    <tr>\n",
       "      <th>1335</th>\n",
       "      <td>820.521484</td>\n",
       "      <td>820.525391</td>\n",
       "      <td>820.522432</td>\n",
       "      <td>0.000948</td>\n",
       "      <td>0.002959</td>\n",
       "      <td>0.002011</td>\n",
       "    </tr>\n",
       "    <tr>\n",
       "      <th>1681</th>\n",
       "      <td>1000.678833</td>\n",
       "      <td>1000.682312</td>\n",
       "      <td>1000.679629</td>\n",
       "      <td>0.000796</td>\n",
       "      <td>0.002683</td>\n",
       "      <td>0.001888</td>\n",
       "    </tr>\n",
       "    <tr>\n",
       "      <th>975</th>\n",
       "      <td>687.442261</td>\n",
       "      <td>687.445190</td>\n",
       "      <td>687.443023</td>\n",
       "      <td>0.000762</td>\n",
       "      <td>0.002168</td>\n",
       "      <td>0.001406</td>\n",
       "    </tr>\n",
       "    <tr>\n",
       "      <th>1129</th>\n",
       "      <td>749.530396</td>\n",
       "      <td>749.533386</td>\n",
       "      <td>749.531192</td>\n",
       "      <td>0.000796</td>\n",
       "      <td>0.002195</td>\n",
       "      <td>0.001399</td>\n",
       "    </tr>\n",
       "    <tr>\n",
       "      <th>1507</th>\n",
       "      <td>879.703247</td>\n",
       "      <td>879.705933</td>\n",
       "      <td>879.703937</td>\n",
       "      <td>0.000690</td>\n",
       "      <td>0.001996</td>\n",
       "      <td>0.001306</td>\n",
       "    </tr>\n",
       "    <tr>\n",
       "      <th>...</th>\n",
       "      <td>...</td>\n",
       "      <td>...</td>\n",
       "      <td>...</td>\n",
       "      <td>...</td>\n",
       "      <td>...</td>\n",
       "      <td>...</td>\n",
       "    </tr>\n",
       "    <tr>\n",
       "      <th>1623</th>\n",
       "      <td>926.806519</td>\n",
       "      <td>926.809448</td>\n",
       "      <td>926.808633</td>\n",
       "      <td>0.002115</td>\n",
       "      <td>0.000815</td>\n",
       "      <td>-0.001299</td>\n",
       "    </tr>\n",
       "    <tr>\n",
       "      <th>1075</th>\n",
       "      <td>727.572449</td>\n",
       "      <td>727.575684</td>\n",
       "      <td>727.574730</td>\n",
       "      <td>0.002281</td>\n",
       "      <td>0.000954</td>\n",
       "      <td>-0.001328</td>\n",
       "    </tr>\n",
       "    <tr>\n",
       "      <th>1707</th>\n",
       "      <td>1059.915283</td>\n",
       "      <td>1059.918701</td>\n",
       "      <td>1059.917732</td>\n",
       "      <td>0.002449</td>\n",
       "      <td>0.000969</td>\n",
       "      <td>-0.001481</td>\n",
       "    </tr>\n",
       "    <tr>\n",
       "      <th>1339</th>\n",
       "      <td>821.586182</td>\n",
       "      <td>821.590271</td>\n",
       "      <td>821.589028</td>\n",
       "      <td>0.002846</td>\n",
       "      <td>0.001243</td>\n",
       "      <td>-0.001603</td>\n",
       "    </tr>\n",
       "    <tr>\n",
       "      <th>1450</th>\n",
       "      <td>857.709290</td>\n",
       "      <td>857.713318</td>\n",
       "      <td>857.712360</td>\n",
       "      <td>0.003071</td>\n",
       "      <td>0.000958</td>\n",
       "      <td>-0.002113</td>\n",
       "    </tr>\n",
       "  </tbody>\n",
       "</table>\n",
       "<p>1767 rows × 6 columns</p>\n",
       "</div>"
      ],
      "text/plain": [
       "              min          max         mean   min2avg   avg2max      dist\n",
       "0                                                                        \n",
       "1335   820.521484   820.525391   820.522432  0.000948  0.002959  0.002011\n",
       "1681  1000.678833  1000.682312  1000.679629  0.000796  0.002683  0.001888\n",
       "975    687.442261   687.445190   687.443023  0.000762  0.002168  0.001406\n",
       "1129   749.530396   749.533386   749.531192  0.000796  0.002195  0.001399\n",
       "1507   879.703247   879.705933   879.703937  0.000690  0.001996  0.001306\n",
       "...           ...          ...          ...       ...       ...       ...\n",
       "1623   926.806519   926.809448   926.808633  0.002115  0.000815 -0.001299\n",
       "1075   727.572449   727.575684   727.574730  0.002281  0.000954 -0.001328\n",
       "1707  1059.915283  1059.918701  1059.917732  0.002449  0.000969 -0.001481\n",
       "1339   821.586182   821.590271   821.589028  0.002846  0.001243 -0.001603\n",
       "1450   857.709290   857.713318   857.712360  0.003071  0.000958 -0.002113\n",
       "\n",
       "[1767 rows x 6 columns]"
      ]
     },
     "execution_count": 12,
     "metadata": {},
     "output_type": "execute_result"
    }
   ],
   "source": [
    "agg_df"
   ]
  },
  {
   "cell_type": "code",
   "execution_count": null,
   "metadata": {},
   "outputs": [],
   "source": [
    "df_post = pd.DataFrame((e.precurmass, e.intensity) for e in listPrecurmass)"
   ]
  },
  {
   "cell_type": "code",
   "execution_count": 76,
   "metadata": {},
   "outputs": [
    {
     "data": {
      "image/png": "[encoded data removed]",
      "text/plain": [
       "<Figure size 432x288 with 1 Axes>"
      ]
     },
     "metadata": {
      "needs_background": "light"
     },
     "output_type": "display_data"
    },
    {
     "data": {
      "image/png": "[encoded data removed]",
      "text/plain": [
       "<Figure size 432x288 with 1 Axes>"
      ]
     },
     "metadata": {
      "needs_background": "light"
     },
     "output_type": "display_data"
    },
    {
     "data": {
      "image/png": "[encoded data removed]",
      "text/plain": [
       "<Figure size 432x288 with 1 Axes>"
      ]
     },
     "metadata": {
      "needs_background": "light"
     },
     "output_type": "display_data"
    },
    {
     "data": {
      "image/png": "[encoded data removed]",
      "text/plain": [
       "<Figure size 432x288 with 1 Axes>"
      ]
     },
     "metadata": {
      "needs_background": "light"
     },
     "output_type": "display_data"
    },
    {
     "data": {
      "image/png": "[encoded data removed]",
      "text/plain": [
       "<Figure size 432x288 with 1 Axes>"
      ]
     },
     "metadata": {
      "needs_background": "light"
     },
     "output_type": "display_data"
    },
    {
     "data": {
      "image/png": "[encoded data removed]",
      "text/plain": [
       "<Figure size 432x288 with 1 Axes>"
      ]
     },
     "metadata": {
      "needs_background": "light"
     },
     "output_type": "display_data"
    },
    {
     "data": {
      "image/png": "[encoded data removed]",
      "text/plain": [
       "<Figure size 432x288 with 1 Axes>"
      ]
     },
     "metadata": {
      "needs_background": "light"
     },
     "output_type": "display_data"
    },
    {
     "data": {
      "image/png": "[encoded data removed]",
      "text/plain": [
       "<Figure size 432x288 with 1 Axes>"
      ]
     },
     "metadata": {
      "needs_background": "light"
     },
     "output_type": "display_data"
    },
    {
     "data": {
      "image/png": "[encoded data removed]",
      "text/plain": [
       "<Figure size 432x288 with 1 Axes>"
      ]
     },
     "metadata": {
      "needs_background": "light"
     },
     "output_type": "display_data"
    },
    {
     "data": {
      "image/png": "[encoded data removed]",
      "text/plain": [
       "<Figure size 432x288 with 1 Axes>"
      ]
     },
     "metadata": {
      "needs_background": "light"
     },
     "output_type": "display_data"
    }
   ],
   "source": [
    "for target in agg_df.index[:10] :\n",
    "    ax = df.loc[df[0] == target].plot.scatter(x=1,y=2, alpha=0.5, title =agg_df.loc[target]['mean'] )\n",
    "    df_post.loc[[target]].plot.scatter(x=0,y=1, alpha=0.5, ax = ax, color='red')\n",
    "\n"
   ]
  },
  {
   "cell_type": "code",
   "execution_count": 79,
   "metadata": {},
   "outputs": [
    {
     "data": {
      "image/png": "[encoded data removed]",
      "text/plain": [
       "<Figure size 432x288 with 1 Axes>"
      ]
     },
     "metadata": {
      "needs_background": "light"
     },
     "output_type": "display_data"
    },
    {
     "data": {
      "image/png": "[encoded data removed]",
      "text/plain": [
       "<Figure size 432x288 with 1 Axes>"
      ]
     },
     "metadata": {
      "needs_background": "light"
     },
     "output_type": "display_data"
    },
    {
     "data": {
      "image/png": "[encoded data removed]",
      "text/plain": [
       "<Figure size 432x288 with 1 Axes>"
      ]
     },
     "metadata": {
      "needs_background": "light"
     },
     "output_type": "display_data"
    },
    {
     "data": {
      "image/png": "[encoded data removed]",
      "text/plain": [
       "<Figure size 432x288 with 1 Axes>"
      ]
     },
     "metadata": {
      "needs_background": "light"
     },
     "output_type": "display_data"
    },
    {
     "data": {
      "image/png": "[encoded data removed]",
      "text/plain": [
       "<Figure size 432x288 with 1 Axes>"
      ]
     },
     "metadata": {
      "needs_background": "light"
     },
     "output_type": "display_data"
    },
    {
     "data": {
      "image/png": "[encoded data removed]",
      "text/plain": [
       "<Figure size 432x288 with 1 Axes>"
      ]
     },
     "metadata": {
      "needs_background": "light"
     },
     "output_type": "display_data"
    },
    {
     "data": {
      "image/png": "[encoded data removed]",
      "text/plain": [
       "<Figure size 432x288 with 1 Axes>"
      ]
     },
     "metadata": {
      "needs_background": "light"
     },
     "output_type": "display_data"
    },
    {
     "data": {
      "image/png": "[encoded data removed]",
      "text/plain": [
       "<Figure size 432x288 with 1 Axes>"
      ]
     },
     "metadata": {
      "needs_background": "light"
     },
     "output_type": "display_data"
    },
    {
     "data": {
      "image/png": "[encoded data removed]",
      "text/plain": [
       "<Figure size 432x288 with 1 Axes>"
      ]
     },
     "metadata": {
      "needs_background": "light"
     },
     "output_type": "display_data"
    },
    {
     "data": {
      "image/png": "[encoded data removed]",
      "text/plain": [
       "<Figure size 432x288 with 1 Axes>"
      ]
     },
     "metadata": {
      "needs_background": "light"
     },
     "output_type": "display_data"
    }
   ],
   "source": [
    "for target in agg_i_df.index[:10] :\n",
    "    ax = df.loc[df[0] == target].plot.scatter(x=1,y=2, alpha=0.5, title =agg_df.loc[target]['mean'] )\n",
    "    df_post.loc[[target]].plot.scatter(x=0,y=1, alpha=0.5, ax = ax, color='red')\n"
   ]
  },
  {
   "cell_type": "code",
   "execution_count": 78,
   "metadata": {},
   "outputs": [
    {
     "data": {
      "text/html": [
       "<div>\n",
       "<style scoped>\n",
       "    .dataframe tbody tr th:only-of-type {\n",
       "        vertical-align: middle;\n",
       "    }\n",
       "\n",
       "    .dataframe tbody tr th {\n",
       "        vertical-align: top;\n",
       "    }\n",
       "\n",
       "    .dataframe thead th {\n",
       "        text-align: right;\n",
       "    }\n",
       "</style>\n",
       "<table border=\"1\" class=\"dataframe\">\n",
       "  <thead>\n",
       "    <tr style=\"text-align: right;\">\n",
       "      <th></th>\n",
       "      <th>min</th>\n",
       "      <th>max</th>\n",
       "      <th>mean</th>\n",
       "      <th>min2avg</th>\n",
       "      <th>avg2max</th>\n",
       "      <th>dist</th>\n",
       "    </tr>\n",
       "    <tr>\n",
       "      <th>0</th>\n",
       "      <th></th>\n",
       "      <th></th>\n",
       "      <th></th>\n",
       "      <th></th>\n",
       "      <th></th>\n",
       "      <th></th>\n",
       "    </tr>\n",
       "  </thead>\n",
       "  <tbody>\n",
       "    <tr>\n",
       "      <th>466</th>\n",
       "      <td>20383.289062</td>\n",
       "      <td>9.967109e+05</td>\n",
       "      <td>124592.598235</td>\n",
       "      <td>104209.309172</td>\n",
       "      <td>872118.276765</td>\n",
       "      <td>0.119490</td>\n",
       "    </tr>\n",
       "    <tr>\n",
       "      <th>587</th>\n",
       "      <td>19882.458984</td>\n",
       "      <td>1.012552e+06</td>\n",
       "      <td>127717.105339</td>\n",
       "      <td>107834.646354</td>\n",
       "      <td>884834.394661</td>\n",
       "      <td>0.121870</td>\n",
       "    </tr>\n",
       "    <tr>\n",
       "      <th>714</th>\n",
       "      <td>24060.646484</td>\n",
       "      <td>6.175321e+05</td>\n",
       "      <td>98374.490706</td>\n",
       "      <td>74313.844221</td>\n",
       "      <td>519157.571794</td>\n",
       "      <td>0.143143</td>\n",
       "    </tr>\n",
       "    <tr>\n",
       "      <th>830</th>\n",
       "      <td>26851.949219</td>\n",
       "      <td>5.581356e+05</td>\n",
       "      <td>93697.120605</td>\n",
       "      <td>66845.171387</td>\n",
       "      <td>464438.441895</td>\n",
       "      <td>0.143927</td>\n",
       "    </tr>\n",
       "    <tr>\n",
       "      <th>1374</th>\n",
       "      <td>25320.580078</td>\n",
       "      <td>4.396426e+05</td>\n",
       "      <td>79008.643359</td>\n",
       "      <td>53688.063281</td>\n",
       "      <td>360633.950391</td>\n",
       "      <td>0.148871</td>\n",
       "    </tr>\n",
       "    <tr>\n",
       "      <th>...</th>\n",
       "      <td>...</td>\n",
       "      <td>...</td>\n",
       "      <td>...</td>\n",
       "      <td>...</td>\n",
       "      <td>...</td>\n",
       "      <td>...</td>\n",
       "    </tr>\n",
       "    <tr>\n",
       "      <th>339</th>\n",
       "      <td>109773.390625</td>\n",
       "      <td>2.788000e+05</td>\n",
       "      <td>218745.393649</td>\n",
       "      <td>108972.003024</td>\n",
       "      <td>60054.637601</td>\n",
       "      <td>1.814548</td>\n",
       "    </tr>\n",
       "    <tr>\n",
       "      <th>768</th>\n",
       "      <td>291051.406250</td>\n",
       "      <td>5.443806e+05</td>\n",
       "      <td>455487.901210</td>\n",
       "      <td>164436.494960</td>\n",
       "      <td>88892.661290</td>\n",
       "      <td>1.849832</td>\n",
       "    </tr>\n",
       "    <tr>\n",
       "      <th>1220</th>\n",
       "      <td>30382.294922</td>\n",
       "      <td>1.597668e+05</td>\n",
       "      <td>114632.865864</td>\n",
       "      <td>84250.570943</td>\n",
       "      <td>45133.962261</td>\n",
       "      <td>1.866678</td>\n",
       "    </tr>\n",
       "    <tr>\n",
       "      <th>67</th>\n",
       "      <td>46625.144531</td>\n",
       "      <td>1.579832e+05</td>\n",
       "      <td>120103.172253</td>\n",
       "      <td>73478.027722</td>\n",
       "      <td>37879.983997</td>\n",
       "      <td>1.939759</td>\n",
       "    </tr>\n",
       "    <tr>\n",
       "      <th>1646</th>\n",
       "      <td>43258.621094</td>\n",
       "      <td>1.855113e+05</td>\n",
       "      <td>138956.681830</td>\n",
       "      <td>95698.060736</td>\n",
       "      <td>46554.599420</td>\n",
       "      <td>2.055609</td>\n",
       "    </tr>\n",
       "  </tbody>\n",
       "</table>\n",
       "<p>1767 rows × 6 columns</p>\n",
       "</div>"
      ],
      "text/plain": [
       "                min           max           mean        min2avg  \\\n",
       "0                                                                 \n",
       "466    20383.289062  9.967109e+05  124592.598235  104209.309172   \n",
       "587    19882.458984  1.012552e+06  127717.105339  107834.646354   \n",
       "714    24060.646484  6.175321e+05   98374.490706   74313.844221   \n",
       "830    26851.949219  5.581356e+05   93697.120605   66845.171387   \n",
       "1374   25320.580078  4.396426e+05   79008.643359   53688.063281   \n",
       "...             ...           ...            ...            ...   \n",
       "339   109773.390625  2.788000e+05  218745.393649  108972.003024   \n",
       "768   291051.406250  5.443806e+05  455487.901210  164436.494960   \n",
       "1220   30382.294922  1.597668e+05  114632.865864   84250.570943   \n",
       "67     46625.144531  1.579832e+05  120103.172253   73478.027722   \n",
       "1646   43258.621094  1.855113e+05  138956.681830   95698.060736   \n",
       "\n",
       "            avg2max      dist  \n",
       "0                              \n",
       "466   872118.276765  0.119490  \n",
       "587   884834.394661  0.121870  \n",
       "714   519157.571794  0.143143  \n",
       "830   464438.441895  0.143927  \n",
       "1374  360633.950391  0.148871  \n",
       "...             ...       ...  \n",
       "339    60054.637601  1.814548  \n",
       "768    88892.661290  1.849832  \n",
       "1220   45133.962261  1.866678  \n",
       "67     37879.983997  1.939759  \n",
       "1646   46554.599420  2.055609  \n",
       "\n",
       "[1767 rows x 6 columns]"
      ]
     },
     "execution_count": 78,
     "metadata": {},
     "output_type": "execute_result"
    }
   ],
   "source": [
    "agg_i_df"
   ]
  },
  {
   "cell_type": "markdown",
   "metadata": {},
   "source": [
    "# Now one with weighted intensity"
   ]
  },
  {
   "cell_type": "code",
   "execution_count": 114,
   "metadata": {},
   "outputs": [],
   "source": [
    "import pickle\n",
    "dictSpecEntries = pickle.load(open('alignment_3480','rb'))\n",
    "listClusters = pickle.load(open('alignment_3511','rb'))"
   ]
  },
  {
   "cell_type": "code",
   "execution_count": 115,
   "metadata": {},
   "outputs": [
    {
     "data": {
      "text/html": [
       "<div>\n",
       "<style scoped>\n",
       "    .dataframe tbody tr th:only-of-type {\n",
       "        vertical-align: middle;\n",
       "    }\n",
       "\n",
       "    .dataframe tbody tr th {\n",
       "        vertical-align: top;\n",
       "    }\n",
       "\n",
       "    .dataframe thead th {\n",
       "        text-align: right;\n",
       "    }\n",
       "</style>\n",
       "<table border=\"1\" class=\"dataframe\">\n",
       "  <thead>\n",
       "    <tr style=\"text-align: right;\">\n",
       "      <th></th>\n",
       "      <th>mass</th>\n",
       "      <th>inty</th>\n",
       "    </tr>\n",
       "  </thead>\n",
       "  <tbody>\n",
       "    <tr>\n",
       "      <th>0</th>\n",
       "      <td>182.153184</td>\n",
       "      <td>670.195190</td>\n",
       "    </tr>\n",
       "    <tr>\n",
       "      <th>1</th>\n",
       "      <td>184.951112</td>\n",
       "      <td>1704.983765</td>\n",
       "    </tr>\n",
       "    <tr>\n",
       "      <th>2</th>\n",
       "      <td>185.041521</td>\n",
       "      <td>20205.226562</td>\n",
       "    </tr>\n",
       "    <tr>\n",
       "      <th>3</th>\n",
       "      <td>185.960924</td>\n",
       "      <td>875.142944</td>\n",
       "    </tr>\n",
       "    <tr>\n",
       "      <th>4</th>\n",
       "      <td>186.221132</td>\n",
       "      <td>755.729736</td>\n",
       "    </tr>\n",
       "    <tr>\n",
       "      <th>...</th>\n",
       "      <td>...</td>\n",
       "      <td>...</td>\n",
       "    </tr>\n",
       "    <tr>\n",
       "      <th>461</th>\n",
       "      <td>365.265901</td>\n",
       "      <td>28857.085938</td>\n",
       "    </tr>\n",
       "    <tr>\n",
       "      <th>462</th>\n",
       "      <td>365.286348</td>\n",
       "      <td>6797.064453</td>\n",
       "    </tr>\n",
       "    <tr>\n",
       "      <th>463</th>\n",
       "      <td>365.302671</td>\n",
       "      <td>2983.380432</td>\n",
       "    </tr>\n",
       "    <tr>\n",
       "      <th>464</th>\n",
       "      <td>365.319948</td>\n",
       "      <td>5240.211914</td>\n",
       "    </tr>\n",
       "    <tr>\n",
       "      <th>465</th>\n",
       "      <td>365.360200</td>\n",
       "      <td>89522.742188</td>\n",
       "    </tr>\n",
       "  </tbody>\n",
       "</table>\n",
       "<p>466 rows × 2 columns</p>\n",
       "</div>"
      ],
      "text/plain": [
       "           mass          inty\n",
       "0    182.153184    670.195190\n",
       "1    184.951112   1704.983765\n",
       "2    185.041521  20205.226562\n",
       "3    185.960924    875.142944\n",
       "4    186.221132    755.729736\n",
       "..          ...           ...\n",
       "461  365.265901  28857.085938\n",
       "462  365.286348   6797.064453\n",
       "463  365.302671   2983.380432\n",
       "464  365.319948   5240.211914\n",
       "465  365.360200  89522.742188\n",
       "\n",
       "[466 rows x 2 columns]"
      ]
     },
     "execution_count": 115,
     "metadata": {},
     "output_type": "execute_result"
    }
   ],
   "source": [
    "se_df = pd.DataFrame(((se.mass, se.content['intensity']) for se in dictSpecEntries['one']),columns='mass inty'.split())\n",
    "se_df\n"
   ]
  },
  {
   "cell_type": "code",
   "execution_count": 119,
   "metadata": {},
   "outputs": [
    {
     "data": {
      "text/html": [
       "<div>\n",
       "<style scoped>\n",
       "    .dataframe tbody tr th:only-of-type {\n",
       "        vertical-align: middle;\n",
       "    }\n",
       "\n",
       "    .dataframe tbody tr th {\n",
       "        vertical-align: top;\n",
       "    }\n",
       "\n",
       "    .dataframe thead th {\n",
       "        text-align: right;\n",
       "    }\n",
       "</style>\n",
       "<table border=\"1\" class=\"dataframe\">\n",
       "  <thead>\n",
       "    <tr style=\"text-align: right;\">\n",
       "      <th></th>\n",
       "      <th>mass</th>\n",
       "      <th>inty</th>\n",
       "    </tr>\n",
       "  </thead>\n",
       "  <tbody>\n",
       "    <tr>\n",
       "      <th>0</th>\n",
       "      <td>184.951101</td>\n",
       "      <td>1070.219889</td>\n",
       "    </tr>\n",
       "    <tr>\n",
       "      <th>1</th>\n",
       "      <td>185.041483</td>\n",
       "      <td>24860.453125</td>\n",
       "    </tr>\n",
       "    <tr>\n",
       "      <th>2</th>\n",
       "      <td>185.960817</td>\n",
       "      <td>1288.301682</td>\n",
       "    </tr>\n",
       "    <tr>\n",
       "      <th>3</th>\n",
       "      <td>186.220932</td>\n",
       "      <td>1655.929352</td>\n",
       "    </tr>\n",
       "    <tr>\n",
       "      <th>4</th>\n",
       "      <td>186.930396</td>\n",
       "      <td>2807.588715</td>\n",
       "    </tr>\n",
       "    <tr>\n",
       "      <th>...</th>\n",
       "      <td>...</td>\n",
       "      <td>...</td>\n",
       "    </tr>\n",
       "    <tr>\n",
       "      <th>83</th>\n",
       "      <td>365.302671</td>\n",
       "      <td>2983.380432</td>\n",
       "    </tr>\n",
       "    <tr>\n",
       "      <th>84</th>\n",
       "      <td>365.319873</td>\n",
       "      <td>5286.888733</td>\n",
       "    </tr>\n",
       "    <tr>\n",
       "      <th>85</th>\n",
       "      <td>365.360104</td>\n",
       "      <td>92128.189453</td>\n",
       "    </tr>\n",
       "    <tr>\n",
       "      <th>86</th>\n",
       "      <td>365.388294</td>\n",
       "      <td>1804.677083</td>\n",
       "    </tr>\n",
       "    <tr>\n",
       "      <th>87</th>\n",
       "      <td>376.082338</td>\n",
       "      <td>420.699554</td>\n",
       "    </tr>\n",
       "  </tbody>\n",
       "</table>\n",
       "<p>88 rows × 2 columns</p>\n",
       "</div>"
      ],
      "text/plain": [
       "          mass          inty\n",
       "0   184.951101   1070.219889\n",
       "1   185.041483  24860.453125\n",
       "2   185.960817   1288.301682\n",
       "3   186.220932   1655.929352\n",
       "4   186.930396   2807.588715\n",
       "..         ...           ...\n",
       "83  365.302671   2983.380432\n",
       "84  365.319873   5286.888733\n",
       "85  365.360104  92128.189453\n",
       "86  365.388294   1804.677083\n",
       "87  376.082338    420.699554\n",
       "\n",
       "[88 rows x 2 columns]"
      ]
     },
     "execution_count": 119,
     "metadata": {},
     "output_type": "execute_result"
    }
   ],
   "source": [
    "listClusters[0]['one']\n",
    "lc_df = pd.DataFrame(((se['one'].mass, se['one'].content['intensity']) for se in listClusters),columns='mass inty'.split())\n",
    "lc_df"
   ]
  },
  {
   "cell_type": "code",
   "execution_count": 122,
   "metadata": {},
   "outputs": [
    {
     "data": {
      "text/plain": [
       "mass      185.041496\n",
       "inty    25329.225586\n",
       "dtype: float64"
      ]
     },
     "execution_count": 122,
     "metadata": {},
     "output_type": "execute_result"
    }
   ],
   "source": [
    "se_df.loc[se_df.mass.between(185.031483, 185.051483)].mean()"
   ]
  },
  {
   "cell_type": "code",
   "execution_count": 123,
   "metadata": {},
   "outputs": [],
   "source": [
    "#https://www.py4u.net/discuss/245208\n"
   ]
  },
  {
   "cell_type": "code",
   "execution_count": 131,
   "metadata": {},
   "outputs": [],
   "source": [
    "idxs = []\n",
    "for _, row in se_df.iterrows():\n",
    "    idx = abs(lc_df.mass - row.mass).idxmin()\n",
    "    idxs.append(idx)"
   ]
  },
  {
   "cell_type": "code",
   "execution_count": 142,
   "metadata": {},
   "outputs": [],
   "source": [
    "se_df['c_mass'] = lc_df.loc[idxs].mass.to_numpy()\n",
    "se_df['c_inty'] = lc_df.loc[idxs].inty.to_numpy()"
   ]
  },
  {
   "cell_type": "code",
   "execution_count": 145,
   "metadata": {},
   "outputs": [],
   "source": [
    "sel = se_df.groupby('c_mass').agg({'mass':'mean', 'inty':'mean', 'c_inty':'first'})"
   ]
  },
  {
   "cell_type": "code",
   "execution_count": 148,
   "metadata": {},
   "outputs": [
    {
     "data": {
      "text/plain": [
       "307.27126581890894"
      ]
     },
     "execution_count": 148,
     "metadata": {},
     "output_type": "execute_result"
    }
   ],
   "source": [
    "(sel.c_inty / sel.inty).idxmax()\n"
   ]
  },
  {
   "cell_type": "code",
   "execution_count": 151,
   "metadata": {},
   "outputs": [
    {
     "data": {
      "text/plain": [
       "mass       309.449812\n",
       "inty      1706.169467\n",
       "c_inty    4217.266663\n",
       "Name: 307.27126581890894, dtype: float64"
      ]
     },
     "execution_count": 151,
     "metadata": {},
     "output_type": "execute_result"
    }
   ],
   "source": [
    "sel.loc[(sel.c_inty / sel.inty).idxmax()]"
   ]
  },
  {
   "cell_type": "code",
   "execution_count": 172,
   "metadata": {},
   "outputs": [
    {
     "data": {
      "text/html": [
       "<div>\n",
       "<style scoped>\n",
       "    .dataframe tbody tr th:only-of-type {\n",
       "        vertical-align: middle;\n",
       "    }\n",
       "\n",
       "    .dataframe tbody tr th {\n",
       "        vertical-align: top;\n",
       "    }\n",
       "\n",
       "    .dataframe thead th {\n",
       "        text-align: right;\n",
       "    }\n",
       "</style>\n",
       "<table border=\"1\" class=\"dataframe\">\n",
       "  <thead>\n",
       "    <tr style=\"text-align: right;\">\n",
       "      <th></th>\n",
       "      <th>mass</th>\n",
       "      <th>inty</th>\n",
       "      <th>c_mass</th>\n",
       "      <th>c_inty</th>\n",
       "    </tr>\n",
       "  </thead>\n",
       "  <tbody>\n",
       "    <tr>\n",
       "      <th>70</th>\n",
       "      <td>307.052339</td>\n",
       "      <td>551.774597</td>\n",
       "      <td>307.271266</td>\n",
       "      <td>4217.266663</td>\n",
       "    </tr>\n",
       "    <tr>\n",
       "      <th>71</th>\n",
       "      <td>307.271364</td>\n",
       "      <td>5221.920410</td>\n",
       "      <td>307.271266</td>\n",
       "      <td>4217.266663</td>\n",
       "    </tr>\n",
       "    <tr>\n",
       "      <th>72</th>\n",
       "      <td>315.304658</td>\n",
       "      <td>606.268555</td>\n",
       "      <td>307.271266</td>\n",
       "      <td>4217.266663</td>\n",
       "    </tr>\n",
       "    <tr>\n",
       "      <th>185</th>\n",
       "      <td>307.151185</td>\n",
       "      <td>369.599335</td>\n",
       "      <td>307.271266</td>\n",
       "      <td>4217.266663</td>\n",
       "    </tr>\n",
       "    <tr>\n",
       "      <th>186</th>\n",
       "      <td>307.186677</td>\n",
       "      <td>420.627472</td>\n",
       "      <td>307.271266</td>\n",
       "      <td>4217.266663</td>\n",
       "    </tr>\n",
       "    <tr>\n",
       "      <th>187</th>\n",
       "      <td>307.271266</td>\n",
       "      <td>4217.266663</td>\n",
       "      <td>307.271266</td>\n",
       "      <td>4217.266663</td>\n",
       "    </tr>\n",
       "    <tr>\n",
       "      <th>188</th>\n",
       "      <td>308.936098</td>\n",
       "      <td>554.101990</td>\n",
       "      <td>307.271266</td>\n",
       "      <td>4217.266663</td>\n",
       "    </tr>\n",
       "    <tr>\n",
       "      <th>189</th>\n",
       "      <td>312.629640</td>\n",
       "      <td>351.918427</td>\n",
       "      <td>307.271266</td>\n",
       "      <td>4217.266663</td>\n",
       "    </tr>\n",
       "    <tr>\n",
       "      <th>190</th>\n",
       "      <td>318.759950</td>\n",
       "      <td>389.155823</td>\n",
       "      <td>328.894138</td>\n",
       "      <td>1167.747945</td>\n",
       "    </tr>\n",
       "    <tr>\n",
       "      <th>318</th>\n",
       "      <td>307.271181</td>\n",
       "      <td>4162.935059</td>\n",
       "      <td>307.271266</td>\n",
       "      <td>4217.266663</td>\n",
       "    </tr>\n",
       "    <tr>\n",
       "      <th>319</th>\n",
       "      <td>315.094118</td>\n",
       "      <td>371.992554</td>\n",
       "      <td>307.271266</td>\n",
       "      <td>4217.266663</td>\n",
       "    </tr>\n",
       "    <tr>\n",
       "      <th>436</th>\n",
       "      <td>307.271425</td>\n",
       "      <td>3074.117432</td>\n",
       "      <td>307.271266</td>\n",
       "      <td>4217.266663</td>\n",
       "    </tr>\n",
       "    <tr>\n",
       "      <th>437</th>\n",
       "      <td>310.957796</td>\n",
       "      <td>571.511108</td>\n",
       "      <td>307.271266</td>\n",
       "      <td>4217.266663</td>\n",
       "    </tr>\n",
       "  </tbody>\n",
       "</table>\n",
       "</div>"
      ],
      "text/plain": [
       "           mass         inty      c_mass       c_inty\n",
       "70   307.052339   551.774597  307.271266  4217.266663\n",
       "71   307.271364  5221.920410  307.271266  4217.266663\n",
       "72   315.304658   606.268555  307.271266  4217.266663\n",
       "185  307.151185   369.599335  307.271266  4217.266663\n",
       "186  307.186677   420.627472  307.271266  4217.266663\n",
       "187  307.271266  4217.266663  307.271266  4217.266663\n",
       "188  308.936098   554.101990  307.271266  4217.266663\n",
       "189  312.629640   351.918427  307.271266  4217.266663\n",
       "190  318.759950   389.155823  328.894138  1167.747945\n",
       "318  307.271181  4162.935059  307.271266  4217.266663\n",
       "319  315.094118   371.992554  307.271266  4217.266663\n",
       "436  307.271425  3074.117432  307.271266  4217.266663\n",
       "437  310.957796   571.511108  307.271266  4217.266663"
      ]
     },
     "execution_count": 172,
     "metadata": {},
     "output_type": "execute_result"
    }
   ],
   "source": [
    "se_df.query('307 < mass < 320')"
   ]
  },
  {
   "cell_type": "markdown",
   "metadata": {},
   "source": []
  }
 ],
 "metadata": {
  "interpreter": {
   "hash": "dd2dc0883e3e52ae9befafd21e38d2af5267660941e4535445d12b41bacc5e12"
  },
  "kernelspec": {
   "display_name": "Python 3.7.5 64-bit ('lx128_p3_dev': conda)",
   "language": "python",
   "name": "python3"
  },
  "language_info": {
   "codemirror_mode": {
    "name": "ipython",
    "version": 3
   },
   "file_extension": ".py",
   "mimetype": "text/x-python",
   "name": "python",
   "nbconvert_exporter": "python",
   "pygments_lexer": "ipython3",
   "version": "3.7.5"
  },
  "orig_nbformat": 4
 },
 "nbformat": 4,
 "nbformat_minor": 2
}
