{
 "cells": [
  {
   "cell_type": "code",
   "execution_count": null,
   "metadata": {},
   "outputs": [],
   "source": [
    "! dir D:\\fork\\lipidxplorer-evaluation\\190731_benchmark_data_files_infos\\190731_mzML_no_zlib"
   ]
  },
  {
   "cell_type": "code",
   "execution_count": null,
   "metadata": {},
   "outputs": [],
   "source": [
    "from pathlib import Path\n"
   ]
  },
  {
   "cell_type": "code",
   "execution_count": null,
   "metadata": {},
   "outputs": [],
   "source": [
    "from pathlib import Path\n",
    "p = Path(r'D:\\fork\\lipidxplorer-evaluation\\190731_benchmark_data_files_infos\\190731_mzML_no_zlib')\n",
    "mzmls = list(p.glob(\"*.mzml\"))"
   ]
  },
  {
   "cell_type": "code",
   "execution_count": null,
   "metadata": {},
   "outputs": [],
   "source": [
    "mzmls = list(p.glob(\"*.mzml\"))"
   ]
  },
  {
   "cell_type": "code",
   "execution_count": null,
   "metadata": {},
   "outputs": [],
   "source": [
    "mzmls"
   ]
  },
  {
   "cell_type": "code",
   "execution_count": null,
   "metadata": {},
   "outputs": [],
   "source": [
    "from ms_deisotope import MSFileLoader"
   ]
  },
  {
   "cell_type": "code",
   "execution_count": null,
   "metadata": {},
   "outputs": [],
   "source": [
    "import pandas as pd\n",
    "import numpy as np\n",
    "def path2df(path, time_start=0, time_end=float(\"inf\"), ms1_start=0, ms1_end=float(\"inf\"), ms2_start=0, ms2_end=float(\"inf\"), ):\n",
    "    dfs = []\n",
    "    with MSFileLoader(str(path)) as r:\n",
    "        r.get_scan_by_time(time_start / 60)\n",
    "        r.start_from_scan(r.get_scan_by_time(time_start / 60).id)\n",
    "        for b in r:\n",
    "            if not (time_start / 60 < b.precursor.scan_time < time_end / 60):\n",
    "                continue\n",
    "            a = b.precursor.arrays\n",
    "            df = pd.DataFrame({\"mz\": a.mz, \"inty\": a.intensity, 'stem': path.stem, \"scan_id\": b.precursor.scan_id, \"filter_string\":b.precursor.annotations[\"filter string\"], \"precursor_id\":np.nan, 'precursor_mz':np.nan})\n",
    "            df = df[(df.mz.between(ms1_start,ms1_end )) & (df.inty > 0)]\n",
    "            # df[\"scan_id\"] = b.precursor.scan_id\n",
    "            # df[\"filter_string\"] = b.precursor.annotations[\"filter string\"]\n",
    "            # df[\"precursor_id\"] = np.nan\n",
    "            dfs.append(df)\n",
    "            for p in b.products:\n",
    "                if not (time_start / 60 < p.scan_time < time_end /60):\n",
    "                    continue\n",
    "                a = p.arrays\n",
    "                df = pd.DataFrame({\"mz\": a.mz, \"inty\": a.intensity, 'stem': path.stem, \"scan_id\": p.scan_id, \"filter_string\":p.annotations[\"filter string\"], \"precursor_id\":b.precursor.scan_id, 'precursor_mz':p.precursor_information.mz})\n",
    "                df = df[(df.mz.between(ms2_start,ms2_end )) & df.inty > 0]\n",
    "                # df[\"scan_id\"] = p.scan_id  # TODO  make them categoriacal?\n",
    "                # df[\"filter_string\"] = p.annotations[\"filter string\"]\n",
    "                # df[\"precursor_id\"] = b.precursor.scan_id\n",
    "                dfs.append(df)\n",
    "    df = pd.concat(dfs)\n",
    "\n",
    "    return df"
   ]
  },
  {
   "cell_type": "code",
   "execution_count": null,
   "metadata": {},
   "outputs": [],
   "source": [
    "time_range = (33,1080)\n",
    "ms1_mass_range = (360, 1000)\n",
    "ms2_mass_range = (150, 1000)"
   ]
  },
  {
   "cell_type": "code",
   "execution_count": null,
   "metadata": {},
   "outputs": [],
   "source": [
    "spectra_dfs = (path2df(mzml,*time_range, *ms1_mass_range, *ms2_mass_range) for mzml in mzmls)"
   ]
  },
  {
   "cell_type": "code",
   "execution_count": null,
   "metadata": {},
   "outputs": [],
   "source": [
    "d = {\"a\":1,\"b\":2,'c':3}\n",
    "d"
   ]
  },
  {
   "cell_type": "code",
   "execution_count": null,
   "metadata": {},
   "outputs": [],
   "source": [
    "d.setdefault(1)\n",
    "d['f']"
   ]
  },
  {
   "cell_type": "code",
   "execution_count": null,
   "metadata": {},
   "outputs": [],
   "source": [
    "def agg_ms2_spectra_df(df):\n",
    "    ms2_peaks = df.loc[~df.precursor_id.isna()]\n",
    "    ms2_agg_peaks =ms2_peaks.groupby([ms2_peaks.precursor_mz.round(2), ms2_peaks.mz.round(2) ]).agg({'mz':['count','mean'], 'inty':['mean'], 'stem':['first']})\n",
    "    ms2_agg_peaks = ms2_agg_peaks.loc[ms2_agg_peaks.mz['count'] > 1]\n",
    "    ms2_agg_peaks.columns = ['_'.join(col).strip() for col in ms2_agg_peaks.columns.values]\n",
    "    return ms2_agg_peaks"
   ]
  },
  {
   "cell_type": "code",
   "execution_count": null,
   "metadata": {},
   "outputs": [],
   "source": [
    "ms2_df = pd.concat((agg_ms2_spectra_df(df) for df in spectra_dfs ))"
   ]
  },
  {
   "cell_type": "code",
   "execution_count": null,
   "metadata": {},
   "outputs": [],
   "source": [
    "for idx, g_df in ms2_df.groupby(level='precursor_mz'):\n",
    "    for inner_idx, inner_gdf in g_df.groupby(level='mz'):\n",
    "        mass = inner_gdf.mz_mean.mean()\n",
    "        dictIntensity = inner_gdf.set_index('stem_first')['inty_mean'].to_dict()\n",
    "        dictIntensity = defaultdict(lambda: 0,dictIntensity) # to fill with zeroes\n"
   ]
  },
  {
   "cell_type": "code",
   "execution_count": null,
   "metadata": {},
   "outputs": [],
   "source": [
    "def mass_inty_generator_ms2(ms2_df, target):\n",
    "    ms2_slice = ms2_df.loc[ms2_df.index.get_level_values(0) == target] #350.20\n",
    "    for inner_idx, inner_gdf in ms2_slice.groupby(level='mz'):\n",
    "        mass = inner_gdf.mz_mean.mean()\n",
    "        dictIntensity = inner_gdf.set_index('stem_first')['inty_mean'].to_dict()\n",
    "        dictIntensity = defaultdict(lambda: 0, dictIntensity) # to fill with zeroes\n",
    "        yield mass, dictIntensity"
   ]
  },
  {
   "cell_type": "code",
   "execution_count": null,
   "metadata": {},
   "outputs": [],
   "source": [
    "from collections import defaultdict"
   ]
  },
  {
   "cell_type": "code",
   "execution_count": null,
   "metadata": {},
   "outputs": [],
   "source": [
    "[t for t in mass_inty_generator_ms2(ms2_df, 350.20)]"
   ]
  },
  {
   "cell_type": "markdown",
   "metadata": {},
   "source": [
    "----"
   ]
  },
  {
   "cell_type": "code",
   "execution_count": null,
   "metadata": {},
   "outputs": [],
   "source": [
    "def mass_inty_generator(ms1_df):\n",
    "    for idx, df in ms1_df.groupby(ms1_df.index):\n",
    "        msmass = df.mz_mean.mean()\n",
    "        smpl = df.set_index('stem_first')['inty_mean'].to_dict()\n",
    "        smpl = defaultdict(lambda: 0,smpl) # to fill with zeroes\n",
    "        yield msmass, dictIntensity\n",
    "    \n"
   ]
  },
  {
   "cell_type": "code",
   "execution_count": null,
   "metadata": {},
   "outputs": [],
   "source": [
    "gdf_agg = gdf.groupby(gdf.mz.round(2)).agg({'mz':['count','mean'], 'inty':['mean']})\n",
    "gdf_agg = gdf_agg.loc[gdf_agg.mz['count'] > 1]\n",
    "gdf_agg"
   ]
  },
  {
   "cell_type": "code",
   "execution_count": null,
   "metadata": {},
   "outputs": [],
   "source": [
    "df = pd.concat((path2df(mzml,*time_range, *ms1_mass_range, *ms2_mass_range) for mzml in mzmls))\n"
   ]
  },
  {
   "cell_type": "code",
   "execution_count": null,
   "metadata": {},
   "outputs": [],
   "source": [
    "df"
   ]
  },
  {
   "cell_type": "code",
   "execution_count": null,
   "metadata": {},
   "outputs": [],
   "source": [
    "df[~df.precursor_id.isna()]"
   ]
  },
  {
   "cell_type": "code",
   "execution_count": null,
   "metadata": {},
   "outputs": [],
   "source": [
    "for id, gdf in df.groupby('stem'):\n",
    "    break"
   ]
  },
  {
   "cell_type": "code",
   "execution_count": null,
   "metadata": {},
   "outputs": [],
   "source": [
    "# NOTE: LX1 misses some scans, seems and lx2 does have it see \n",
    "gdf[~gdf.precursor_id.isna()].scan_id.unique().shape"
   ]
  },
  {
   "cell_type": "code",
   "execution_count": null,
   "metadata": {},
   "outputs": [],
   "source": [
    "#https://stackoverflow.com/questions/39475968/aligning-pandas-dataframes-that-dont-have-a-common-index?noredirect=1&lq=1\n",
    "# https://stackoverflow.com/questions/62482609/find-nearest-index-in-one-dataframe-to-another\n"
   ]
  },
  {
   "cell_type": "code",
   "execution_count": null,
   "metadata": {},
   "outputs": [],
   "source": [
    "\n",
    "# gdf[gdf.precursor_id.isna()].groupby(gdf[gdf.precursor_id.isna()].mz.round(2)).agg({'mz':['count','mean', 'std'], 'inty':['mean', 'std']})\n",
    "masterscan = \n",
    "masterscandf[df.precursor_id.isna()].groupby(df[df.precursor_id.isna()].mz.round(2)).agg({'mz':['count','mean', 'std'], 'inty':['mean', 'std']}) #.unstack()"
   ]
  },
  {
   "cell_type": "code",
   "execution_count": null,
   "metadata": {},
   "outputs": [],
   "source": [
    "masterscan[masterscan.mz['count'] > 1]"
   ]
  },
  {
   "cell_type": "code",
   "execution_count": null,
   "metadata": {},
   "outputs": [],
   "source": [
    "masterscan_ms2 = df[~df.precursor_id.isna()].groupby(df[~df.precursor_id.isna()].mz.round(2)).agg({'mz':['count','mean', 'std'], 'inty':['mean', 'std']})\n"
   ]
  },
  {
   "cell_type": "code",
   "execution_count": null,
   "metadata": {},
   "outputs": [],
   "source": [
    "( 6*60 ) * 30 =390\n",
    "vs\n"
   ]
  },
  {
   "cell_type": "code",
   "execution_count": null,
   "metadata": {},
   "outputs": [],
   "source": [
    "masterscan_ms2"
   ]
  },
  {
   "cell_type": "code",
   "execution_count": null,
   "metadata": {},
   "outputs": [],
   "source": [
    "masterscan_ms2[masterscan_ms2.mz['count'] > masterscan_ms2.mz['count'].median()]"
   ]
  },
  {
   "cell_type": "code",
   "execution_count": null,
   "metadata": {},
   "outputs": [],
   "source": []
  }
 ],
 "metadata": {
  "interpreter": {
   "hash": "dd2dc0883e3e52ae9befafd21e38d2af5267660941e4535445d12b41bacc5e12"
  },
  "kernelspec": {
   "display_name": "Python 3.7.5 64-bit ('lx128_p3_dev': conda)",
   "language": "python",
   "name": "python3"
  },
  "language_info": {
   "codemirror_mode": {
    "name": "ipython",
    "version": 3
   },
   "file_extension": ".py",
   "mimetype": "text/x-python",
   "name": "python",
   "nbconvert_exporter": "python",
   "pygments_lexer": "ipython3",
   "version": "3.7.5"
  },
  "orig_nbformat": 4
 },
 "nbformat": 4,
 "nbformat_minor": 2
}
