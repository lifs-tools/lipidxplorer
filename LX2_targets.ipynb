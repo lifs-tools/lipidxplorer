{
 "nbformat": 4,
 "nbformat_minor": 2,
 "metadata": {
  "language_info": {
   "name": "python",
   "codemirror_mode": {
    "name": "ipython",
    "version": 3
   },
   "version": "3.7.5"
  },
  "orig_nbformat": 2,
  "file_extension": ".py",
  "mimetype": "text/x-python",
  "name": "python",
  "npconvert_exporter": "python",
  "pygments_lexer": "ipython3",
  "version": 3
 },
 "cells": [
  {
   "cell_type": "markdown",
   "execution_count": null,
   "metadata": {},
   "outputs": [],
   "source": [
    "# generate a target list: see var2df"
   ]
  },
  {
   "cell_type": "code",
   "execution_count": 1,
   "metadata": {},
   "outputs": [],
   "source": [
    "# 'C[30..80] H[40..300] O[10] N[1] P[1]'\n",
    "# 'C[10..40] H[20..100] O[2]'\n",
    "https://www.lfd.uci.edu/~gohlke/molmass/\n",
    "https://pypi.org/project/molmass/\n",
    "https://pyteomics.readthedocs.io/en/latest/mass.html\n",
    "https://github.com/mobiusklein/brainpy\n",
    "\n",
    "https://stackoverflow.com/questions/53699012/performant-cartesian-product-cross-join-with-pandas\n",
    "\n",
    "https://stackoverflow.com/questions/13269890/cartesian-product-in-pandas\n",
    "\n",
    "https://pandas.pydata.org/pandas-docs/stable/reference/api/pandas.Interval.html\n",
    "\n",
    "# https://stackoverflow.com/questions/21316628/make-a-pandas-multiindex-from-a-product-of-iterables\n",
    "# https://stackoverflow.com/questions/44452751/pandas-dataframe-rangeindex\n",
    "# pd.RangeIndex(start=30, stop=80, step=1)\n",
    "\n",
    "np.arange(f,t) vs range , no range was faster by 10%\n",
    "https://pandas.pydata.org/pandas-docs/stable/reference/api/pandas.MultiIndex.from_arrays.html#pandas.MultiIndex.from_arrays"
   ]
  },
  {
   "cell_type": "code",
   "execution_count": 5,
   "metadata": {},
   "outputs": [],
   "source": [
    "import pandas as pd\n",
    "import numpy as np\n",
    "from collections import namedtuple"
   ]
  },
  {
   "cell_type": "code",
   "execution_count": 6,
   "metadata": {},
   "outputs": [],
   "source": [
    "c = np.arange(30,80+1)\n",
    "h = np.arange(40,300+1)\n",
    "o = np.arange(10,10+1)\n",
    "n = np.arange(1,1+1)\n",
    "p = np.arange(1,1+1)\n"
   ]
  },
  {
   "cell_type": "code",
   "execution_count": 10,
   "metadata": {},
   "outputs": [],
   "source": [
    "# %%timeit\n",
    "index  = pd.MultiIndex.from_product([c,h,o,n,p], names = ['c','h','o','n','p'])\n",
    "df = pd.DataFrame(index = index).reset_index()"
   ]
  },
  {
   "cell_type": "markdown",
   "execution_count": 60,
   "metadata": {},
   "outputs": [
    {
     "data": {
      "text/plain": "Index(['c', 'h', 'o', 'n', 'p'], dtype='object')"
     },
     "execution_count": 60,
     "metadata": {},
     "output_type": "execute_result"
    }
   ],
   "source": [
    "# calculate the mass ... efficiently\n",
    "\n",
    "https://towardsdatascience.com/different-ways-to-iterate-over-rows-in-a-pandas-dataframe-performance-comparison-dc0d5dcef8fe\n",
    "https://stackoverflow.com/questions/16476924/how-to-iterate-over-rows-in-a-dataframe-in-pandas\n",
    "https://stackoverflow.com/questions/1422149/what-is-vectorization\n",
    "\n",
    "note the 'at' operator"
   ]
  },
  {
   "cell_type": "code",
   "execution_count": 11,
   "metadata": {},
   "outputs": [
    {
     "name": "stdout",
     "output_type": "stream",
     "text": "c\nh\no\nn\np\n"
    }
   ],
   "source": [
    "mass_of = {\n",
    "\n",
    "}\n",
    "\n",
    "df['mass'] = 0\n",
    "for colName in df:\n",
    "    if colName == 'mass': continue\n",
    "    colName['mass'] += df[colName] * mass_of[colName]\n",
    "    \n"
   ]
  },
  {
   "cell_type": "code",
   "execution_count": 12,
   "metadata": {},
   "outputs": [
    {
     "data": {
      "text/html": "<div>\n<style scoped>\n    .dataframe tbody tr th:only-of-type {\n        vertical-align: middle;\n    }\n\n    .dataframe tbody tr th {\n        vertical-align: top;\n    }\n\n    .dataframe thead th {\n        text-align: right;\n    }\n</style>\n<table border=\"1\" class=\"dataframe\">\n  <thead>\n    <tr style=\"text-align: right;\">\n      <th></th>\n      <th>c</th>\n      <th>h</th>\n      <th>o</th>\n      <th>n</th>\n      <th>p</th>\n      <th>mass</th>\n    </tr>\n  </thead>\n  <tbody>\n    <tr>\n      <th>0</th>\n      <td>30</td>\n      <td>40</td>\n      <td>10</td>\n      <td>1</td>\n      <td>1</td>\n      <td>0</td>\n    </tr>\n    <tr>\n      <th>1</th>\n      <td>30</td>\n      <td>41</td>\n      <td>10</td>\n      <td>1</td>\n      <td>1</td>\n      <td>0</td>\n    </tr>\n    <tr>\n      <th>2</th>\n      <td>30</td>\n      <td>42</td>\n      <td>10</td>\n      <td>1</td>\n      <td>1</td>\n      <td>0</td>\n    </tr>\n    <tr>\n      <th>3</th>\n      <td>30</td>\n      <td>43</td>\n      <td>10</td>\n      <td>1</td>\n      <td>1</td>\n      <td>0</td>\n    </tr>\n    <tr>\n      <th>4</th>\n      <td>30</td>\n      <td>44</td>\n      <td>10</td>\n      <td>1</td>\n      <td>1</td>\n      <td>0</td>\n    </tr>\n    <tr>\n      <th>...</th>\n      <td>...</td>\n      <td>...</td>\n      <td>...</td>\n      <td>...</td>\n      <td>...</td>\n      <td>...</td>\n    </tr>\n    <tr>\n      <th>13306</th>\n      <td>80</td>\n      <td>296</td>\n      <td>10</td>\n      <td>1</td>\n      <td>1</td>\n      <td>0</td>\n    </tr>\n    <tr>\n      <th>13307</th>\n      <td>80</td>\n      <td>297</td>\n      <td>10</td>\n      <td>1</td>\n      <td>1</td>\n      <td>0</td>\n    </tr>\n    <tr>\n      <th>13308</th>\n      <td>80</td>\n      <td>298</td>\n      <td>10</td>\n      <td>1</td>\n      <td>1</td>\n      <td>0</td>\n    </tr>\n    <tr>\n      <th>13309</th>\n      <td>80</td>\n      <td>299</td>\n      <td>10</td>\n      <td>1</td>\n      <td>1</td>\n      <td>0</td>\n    </tr>\n    <tr>\n      <th>13310</th>\n      <td>80</td>\n      <td>300</td>\n      <td>10</td>\n      <td>1</td>\n      <td>1</td>\n      <td>0</td>\n    </tr>\n  </tbody>\n</table>\n<p>13311 rows × 6 columns</p>\n</div>",
      "text/plain": "        c    h   o  n  p  mass\n0      30   40  10  1  1     0\n1      30   41  10  1  1     0\n2      30   42  10  1  1     0\n3      30   43  10  1  1     0\n4      30   44  10  1  1     0\n...    ..  ...  .. .. ..   ...\n13306  80  296  10  1  1     0\n13307  80  297  10  1  1     0\n13308  80  298  10  1  1     0\n13309  80  299  10  1  1     0\n13310  80  300  10  1  1     0\n\n[13311 rows x 6 columns]"
     },
     "execution_count": 12,
     "metadata": {},
     "output_type": "execute_result"
    }
   ],
   "source": [
    "df['mass'] = 0\n",
    "df"
   ]
  },
  {
   "cell_type": "code",
   "execution_count": null,
   "metadata": {},
   "outputs": [],
   "source": []
  }
 ]
}