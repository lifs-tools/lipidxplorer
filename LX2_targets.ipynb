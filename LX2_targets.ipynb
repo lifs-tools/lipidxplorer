{
 "nbformat": 4,
 "nbformat_minor": 2,
 "metadata": {
  "language_info": {
   "name": "python",
   "codemirror_mode": {
    "name": "ipython",
    "version": 3
   },
   "version": "3.7.5"
  },
  "orig_nbformat": 2,
  "file_extension": ".py",
  "mimetype": "text/x-python",
  "name": "python",
  "npconvert_exporter": "python",
  "pygments_lexer": "ipython3",
  "version": 3
 },
 "cells": [
  {
   "cell_type": "markdown",
   "execution_count": null,
   "metadata": {},
   "outputs": [],
   "source": [
    "# generate a target list: see var2df"
   ]
  },
  {
   "cell_type": "code",
   "execution_count": 1,
   "metadata": {},
   "outputs": [],
   "source": [
    "# 'C[30..80] H[40..300] O[10] N[1] P[1]'\n",
    "# 'C[10..40] H[20..100] O[2]'\n",
    "https://www.lfd.uci.edu/~gohlke/molmass/\n",
    "https://pypi.org/project/molmass/\n",
    "https://pyteomics.readthedocs.io/en/latest/mass.html\n",
    "https://github.com/mobiusklein/brainpy\n",
    "\n",
    "https://stackoverflow.com/questions/53699012/performant-cartesian-product-cross-join-with-pandas\n",
    "\n",
    "https://stackoverflow.com/questions/13269890/cartesian-product-in-pandas\n",
    "\n",
    "https://pandas.pydata.org/pandas-docs/stable/reference/api/pandas.Interval.html\n",
    "\n",
    "# https://stackoverflow.com/questions/21316628/make-a-pandas-multiindex-from-a-product-of-iterables\n",
    "# https://stackoverflow.com/questions/44452751/pandas-dataframe-rangeindex\n",
    "# pd.RangeIndex(start=30, stop=80, step=1)\n",
    "\n",
    "np.arange(f,t) vs range , no range was faster by 10%\n",
    "https://pandas.pydata.org/pandas-docs/stable/reference/api/pandas.MultiIndex.from_arrays.html#pandas.MultiIndex.from_arrays"
   ]
  },
  {
   "cell_type": "code",
   "execution_count": 5,
   "metadata": {},
   "outputs": [],
   "source": [
    "import pandas as pd\n",
    "import numpy as np\n",
    "from collections import namedtuple"
   ]
  },
  {
   "cell_type": "code",
   "execution_count": 6,
   "metadata": {},
   "outputs": [],
   "source": [
    "c = np.arange(30,80+1)\n",
    "h = np.arange(40,300+1)\n",
    "o = np.arange(10,10+1)\n",
    "n = np.arange(1,1+1)\n",
    "p = np.arange(1,1+1)\n"
   ]
  },
  {
   "cell_type": "code",
   "execution_count": 10,
   "metadata": {},
   "outputs": [],
   "source": [
    "# %%timeit\n",
    "index  = pd.MultiIndex.from_product([c,h,o,n,p], names = ['c','h','o','n','p'])\n",
    "df = pd.DataFrame(index = index).reset_index()"
   ]
  },
  {
   "cell_type": "markdown",
   "execution_count": 60,
   "metadata": {},
   "outputs": [
    {
     "data": {
      "text/plain": "Index(['c', 'h', 'o', 'n', 'p'], dtype='object')"
     },
     "execution_count": 60,
     "metadata": {},
     "output_type": "execute_result"
    }
   ],
   "source": [
    "# calculate the mass ... efficiently\n",
    "\n",
    "https://towardsdatascience.com/different-ways-to-iterate-over-rows-in-a-pandas-dataframe-performance-comparison-dc0d5dcef8fe\n",
    "https://stackoverflow.com/questions/16476924/how-to-iterate-over-rows-in-a-dataframe-in-pandas\n",
    "https://stackoverflow.com/questions/1422149/what-is-vectorization\n",
    "\n",
    "note the 'at' operator"
   ]
  },
  {
   "cell_type": "code",
   "execution_count": 19,
   "metadata": {},
   "outputs": [],
   "source": [
    "mass_of = {\n",
    "'c' : 12,\n",
    "'h' : 1.0078250321,\n",
    "'n' : 14.0030740052,\n",
    "'p' : 30.97376151,\n",
    "'o' : 15.9949146221,\n",
    "'s' : 31.97207069\n",
    "}\n",
    "\n",
    "df['mass'] = 0\n",
    "for colName in df:\n",
    "    if colName == 'mass': continue\n",
    "    df['mass'] += df[colName] * mass_of[colName]\n",
    "    \n"
   ]
  },
  {
   "cell_type": "code",
   "execution_count": 20,
   "metadata": {},
   "outputs": [
    {
     "data": {
      "text/plain": "0         605.238983\n1         606.246808\n2         607.254633\n3         608.262458\n4         609.270283\n            ...     \n13306    1463.242191\n13307    1464.250016\n13308    1465.257841\n13309    1466.265666\n13310    1467.273491\nName: mass, Length: 13311, dtype: float64"
     },
     "execution_count": 20,
     "metadata": {},
     "output_type": "execute_result"
    }
   ],
   "source": [
    "df['mass']\n"
   ]
  },
  {
   "cell_type": "code",
   "execution_count": null,
   "metadata": {},
   "outputs": [],
   "source": []
  }
 ]
}