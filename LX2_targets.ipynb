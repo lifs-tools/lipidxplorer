{
 "nbformat": 4,
 "nbformat_minor": 2,
 "metadata": {
  "language_info": {
   "name": "python",
   "codemirror_mode": {
    "name": "ipython",
    "version": 3
   },
   "version": "3.7.5"
  },
  "orig_nbformat": 2,
  "file_extension": ".py",
  "mimetype": "text/x-python",
  "name": "python",
  "npconvert_exporter": "python",
  "pygments_lexer": "ipython3",
  "version": 3
 },
 "cells": [
  {
   "cell_type": "markdown",
   "execution_count": null,
   "metadata": {},
   "outputs": [],
   "source": [
    "# generate a target list: see var2df"
   ]
  },
  {
   "cell_type": "markdown",
   "execution_count": 1,
   "metadata": {},
   "outputs": [
    {
     "ename": "SyntaxError",
     "evalue": "invalid syntax (<ipython-input-1-f19fcd859453>, line 3)",
     "output_type": "error",
     "traceback": [
      "\u001b[1;36m  File \u001b[1;32m\"<ipython-input-1-f19fcd859453>\"\u001b[1;36m, line \u001b[1;32m3\u001b[0m\n\u001b[1;33m    https://www.lfd.uci.edu/~gohlke/molmass/\u001b[0m\n\u001b[1;37m           ^\u001b[0m\n\u001b[1;31mSyntaxError\u001b[0m\u001b[1;31m:\u001b[0m invalid syntax\n"
     ]
    }
   ],
   "source": [
    " 'C[30..80] H[40..300] O[10] N[1] P[1]'\n",
    " 'C[10..40] H[20..100] O[2]'\n",
    "https://www.lfd.uci.edu/~gohlke/molmass/\n",
    "https://pypi.org/project/molmass/\n",
    "https://pyteomics.readthedocs.io/en/latest/mass.html\n",
    "https://github.com/mobiusklein/brainpy\n",
    "\n",
    "https://stackoverflow.com/questions/53699012/performant-cartesian-product-cross-join-with-pandas\n",
    "\n",
    "https://stackoverflow.com/questions/13269890/cartesian-product-in-pandas\n",
    "\n",
    "https://pandas.pydata.org/pandas-docs/stable/reference/api/pandas.Interval.html\n",
    "\n",
    "# https://stackoverflow.com/questions/21316628/make-a-pandas-multiindex-from-a-product-of-iterables\n",
    "# https://stackoverflow.com/questions/44452751/pandas-dataframe-rangeindex\n",
    "# pd.RangeIndex(start=30, stop=80, step=1)\n",
    "\n",
    "np.arange(f,t) vs range , no range was faster by 10%\n",
    "https://pandas.pydata.org/pandas-docs/stable/reference/api/pandas.MultiIndex.from_arrays.html#pandas.MultiIndex.from_arrays"
   ]
  },
  {
   "cell_type": "code",
   "execution_count": 8,
   "metadata": {},
   "outputs": [],
   "source": [
    "import pandas as pd\n",
    "import numpy as np\n",
    "from collections import namedtuple"
   ]
  },
  {
   "cell_type": "code",
   "execution_count": 9,
   "metadata": {},
   "outputs": [],
   "source": [
    "class MFQL_util():\n",
    "\n",
    "    mass_of = {\n",
    "        'C' : 12,\n",
    "        'H' : 1.0078250321,\n",
    "        'N' : 14.0030740052,\n",
    "        'P' : 30.97376151,\n",
    "        'O' : 15.9949146221,\n",
    "        'S' : 31.97207069\n",
    "        }\n",
    "    \n",
    "    def __init__(self,elements):\n",
    "        self.elements = elements\n",
    "        self._ranges = {}\n",
    "        self._df = None\n",
    "\n",
    "    def _makeRanges(self):\n",
    "        for name, bounds in elements.items():\n",
    "            self._ranges[name] = np.arange(bounds[0],bounds[1]+1)\n",
    "    \n",
    "    def _makeDF(self):\n",
    "        index  = pd.MultiIndex.from_product(self._ranges.values(), names = self._ranges.keys())\n",
    "        self._df = pd.DataFrame(index = index).reset_index()\n",
    "    \n",
    "    def _cal_M(self):\n",
    "        self._df['m'] = 0\n",
    "        for colName in self._df.columns.intersection(test.mass_of.keys()):\n",
    "            self._df['m'] += self._df[colName] * self.mass_of[colName]\n",
    "\n",
    "    def _cal_dbr(self):\n",
    "        x = self._df.get('Cl',0) + self._df.get('Br', 0) + self._df.get('I',0) + self._df.get('F',0)\n",
    "        self._df['dbr'] = self._df['C'] + 1 - self._df['H']/2 - x/2 + self._df['N']/2\n",
    "\n",
    "    def _cal_chem(self):\n",
    "        #https://stackoverflow.com/questions/52673285/performance-of-pandas-apply-vs-np-vectorize-to-create-new-column-from-existing-c\n",
    "        self._df['chem'] = ''\n",
    "        for colName in self._df.columns.intersection(test.mass_of.keys()):\n",
    "            self._df['chem'] += colName + self._df[colName].apply(str) + ' ' \n",
    "    \n",
    "    \n",
    "\n"
   ]
  },
  {
   "cell_type": "code",
   "execution_count": 10,
   "metadata": {},
   "outputs": [
    {
     "data": {
      "text/html": "<div>\n<style scoped>\n    .dataframe tbody tr th:only-of-type {\n        vertical-align: middle;\n    }\n\n    .dataframe tbody tr th {\n        vertical-align: top;\n    }\n\n    .dataframe thead th {\n        text-align: right;\n    }\n</style>\n<table border=\"1\" class=\"dataframe\">\n  <thead>\n    <tr style=\"text-align: right;\">\n      <th></th>\n      <th>C</th>\n      <th>H</th>\n      <th>O</th>\n      <th>N</th>\n      <th>P</th>\n      <th>m</th>\n      <th>dbr</th>\n      <th>chem</th>\n    </tr>\n  </thead>\n  <tbody>\n    <tr>\n      <th>0</th>\n      <td>30</td>\n      <td>40</td>\n      <td>10</td>\n      <td>1</td>\n      <td>1</td>\n      <td>605.238983</td>\n      <td>11.5</td>\n      <td>C30 H40 O10 N1 P1</td>\n    </tr>\n    <tr>\n      <th>1</th>\n      <td>30</td>\n      <td>41</td>\n      <td>10</td>\n      <td>1</td>\n      <td>1</td>\n      <td>606.246808</td>\n      <td>11.0</td>\n      <td>C30 H41 O10 N1 P1</td>\n    </tr>\n    <tr>\n      <th>2</th>\n      <td>30</td>\n      <td>42</td>\n      <td>10</td>\n      <td>1</td>\n      <td>1</td>\n      <td>607.254633</td>\n      <td>10.5</td>\n      <td>C30 H42 O10 N1 P1</td>\n    </tr>\n    <tr>\n      <th>3</th>\n      <td>30</td>\n      <td>43</td>\n      <td>10</td>\n      <td>1</td>\n      <td>1</td>\n      <td>608.262458</td>\n      <td>10.0</td>\n      <td>C30 H43 O10 N1 P1</td>\n    </tr>\n    <tr>\n      <th>4</th>\n      <td>30</td>\n      <td>44</td>\n      <td>10</td>\n      <td>1</td>\n      <td>1</td>\n      <td>609.270283</td>\n      <td>9.5</td>\n      <td>C30 H44 O10 N1 P1</td>\n    </tr>\n    <tr>\n      <th>...</th>\n      <td>...</td>\n      <td>...</td>\n      <td>...</td>\n      <td>...</td>\n      <td>...</td>\n      <td>...</td>\n      <td>...</td>\n      <td>...</td>\n    </tr>\n    <tr>\n      <th>70726</th>\n      <td>300</td>\n      <td>296</td>\n      <td>10</td>\n      <td>1</td>\n      <td>1</td>\n      <td>4103.242191</td>\n      <td>153.5</td>\n      <td>C300 H296 O10 N1 P1</td>\n    </tr>\n    <tr>\n      <th>70727</th>\n      <td>300</td>\n      <td>297</td>\n      <td>10</td>\n      <td>1</td>\n      <td>1</td>\n      <td>4104.250016</td>\n      <td>153.0</td>\n      <td>C300 H297 O10 N1 P1</td>\n    </tr>\n    <tr>\n      <th>70728</th>\n      <td>300</td>\n      <td>298</td>\n      <td>10</td>\n      <td>1</td>\n      <td>1</td>\n      <td>4105.257841</td>\n      <td>152.5</td>\n      <td>C300 H298 O10 N1 P1</td>\n    </tr>\n    <tr>\n      <th>70729</th>\n      <td>300</td>\n      <td>299</td>\n      <td>10</td>\n      <td>1</td>\n      <td>1</td>\n      <td>4106.265666</td>\n      <td>152.0</td>\n      <td>C300 H299 O10 N1 P1</td>\n    </tr>\n    <tr>\n      <th>70730</th>\n      <td>300</td>\n      <td>300</td>\n      <td>10</td>\n      <td>1</td>\n      <td>1</td>\n      <td>4107.273491</td>\n      <td>151.5</td>\n      <td>C300 H300 O10 N1 P1</td>\n    </tr>\n  </tbody>\n</table>\n<p>70731 rows × 8 columns</p>\n</div>",
      "text/plain": "         C    H   O  N  P            m    dbr                  chem\n0       30   40  10  1  1   605.238983   11.5    C30 H40 O10 N1 P1 \n1       30   41  10  1  1   606.246808   11.0    C30 H41 O10 N1 P1 \n2       30   42  10  1  1   607.254633   10.5    C30 H42 O10 N1 P1 \n3       30   43  10  1  1   608.262458   10.0    C30 H43 O10 N1 P1 \n4       30   44  10  1  1   609.270283    9.5    C30 H44 O10 N1 P1 \n...    ...  ...  .. .. ..          ...    ...                   ...\n70726  300  296  10  1  1  4103.242191  153.5  C300 H296 O10 N1 P1 \n70727  300  297  10  1  1  4104.250016  153.0  C300 H297 O10 N1 P1 \n70728  300  298  10  1  1  4105.257841  152.5  C300 H298 O10 N1 P1 \n70729  300  299  10  1  1  4106.265666  152.0  C300 H299 O10 N1 P1 \n70730  300  300  10  1  1  4107.273491  151.5  C300 H300 O10 N1 P1 \n\n[70731 rows x 8 columns]"
     },
     "execution_count": 10,
     "metadata": {},
     "output_type": "execute_result"
    }
   ],
   "source": [
    "\n",
    "elements = {'C':(30,300),'H':(40,300),'O':(10,10),'N':(1,1),'P':(1,1) }\n",
    "test = MFQL_util(elements)\n",
    "test._makeRanges()\n",
    "test._makeDF()\n",
    "test._cal_M()\n",
    "test._cal_dbr()\n",
    "test._cal_chem()\n",
    "test._df"
   ]
  },
  {
   "cell_type": "markdown",
   "execution_count": 60,
   "metadata": {},
   "outputs": [
    {
     "data": {
      "text/plain": "Index(['c', 'h', 'o', 'n', 'p'], dtype='object')"
     },
     "execution_count": 60,
     "metadata": {},
     "output_type": "execute_result"
    }
   ],
   "source": [
    "# calculate the mass ... efficiently\n",
    "\n",
    "https://towardsdatascience.com/different-ways-to-iterate-over-rows-in-a-pandas-dataframe-performance-comparison-dc0d5dcef8fe\n",
    "https://stackoverflow.com/questions/16476924/how-to-iterate-over-rows-in-a-dataframe-in-pandas\n",
    "https://stackoverflow.com/questions/1422149/what-is-vectorization\n",
    "\n",
    "note the 'at' operator"
   ]
  },
  {
   "cell_type": "markdown",
   "execution_count": null,
   "metadata": {},
   "outputs": [],
   "source": [
    "# applicable functions\n",
    "pr.m / fr.m >= 0.25\n",
    "mark all the entries where this passes"
   ]
  },
  {
   "cell_type": "code",
   "execution_count": 28,
   "metadata": {},
   "outputs": [],
   "source": [
    "#make fake test set\n",
    "pr = test._df.sample(n=10, random_state = 1)\n",
    "fr = test._df.sample(n=3, random_state = 2)"
   ]
  },
  {
   "cell_type": "code",
   "execution_count": 29,
   "metadata": {},
   "outputs": [
    {
     "data": {
      "text/plain": "58029    3356.919761\n25655    1858.841510\n59782    3366.340708\n9824     1217.545763\n49591    2886.246808\n2648      763.536334\n44393    2668.418959\n65910    3768.318837\n33685    2169.364184\n28874    2090.522288\nName: m, dtype: float64"
     },
     "execution_count": 29,
     "metadata": {},
     "output_type": "execute_result"
    }
   ],
   "source": [
    "pr.m"
   ]
  },
  {
   "cell_type": "code",
   "execution_count": 30,
   "metadata": {},
   "outputs": [
    {
     "data": {
      "text/plain": "7535     1170.015265\n60486    3573.764864\n65301    3656.638060\nName: m, dtype: float64"
     },
     "execution_count": 30,
     "metadata": {},
     "output_type": "execute_result"
    }
   ],
   "source": [
    "fr.m"
   ]
  },
  {
   "cell_type": "code",
   "execution_count": 41,
   "metadata": {},
   "outputs": [
    {
     "data": {
      "text/plain": "[(58029, 7535, False),\n (58029, 60486, False),\n (58029, 65301, False),\n (25655, 7535, False),\n (25655, 60486, False),\n (25655, 65301, False),\n (59782, 7535, False),\n (59782, 60486, False),\n (59782, 65301, False),\n (9824, 7535, False),\n (9824, 60486, True),\n (9824, 65301, True),\n (49591, 7535, False),\n (49591, 60486, False),\n (49591, 65301, False),\n (2648, 7535, False),\n (2648, 60486, True),\n (2648, 65301, True),\n (44393, 7535, False),\n (44393, 60486, False),\n (44393, 65301, False),\n (65910, 7535, False),\n (65910, 60486, False),\n (65910, 65301, False),\n (33685, 7535, False),\n (33685, 60486, False),\n (33685, 65301, False),\n (28874, 7535, False),\n (28874, 60486, False),\n (28874, 65301, False)]"
     },
     "execution_count": 41,
     "metadata": {},
     "output_type": "execute_result"
    }
   ],
   "source": [
    "# with comprehension\n",
    "# (f / p for f in fr.m for p in fr.m )\n",
    "[(p_idx, f_idx, f / p >=2 ) for p_idx, p in pr.m.items() for f_idx, f in fr.m.items()]"
   ]
  },
  {
   "cell_type": "markdown",
   "execution_count": null,
   "metadata": {},
   "outputs": [],
   "source": [
    " https://stackoverflow.com/questions/13269890/cartesian-product-in-pandas  \n",
    " https://stackoverflow.com/questions/45426843/cartesian-product-of-a-pandas-dataframe-with-itself  \n",
    " make a dataframe with all the combos and then use .query(string)  \n",
    " https://jakevdp.github.io/PythonDataScienceHandbook/03.12-performance-eval-and-query.html  \n",
    "\n",
    "no has an isclose / allclose to compare if series are similar\n",
    "\n",
    "try with query!!!\n",
    "\n"
   ]
  },
  {
   "cell_type": "code",
   "execution_count": 43,
   "metadata": {},
   "outputs": [
    {
     "data": {
      "text/html": "<div>\n<style scoped>\n    .dataframe tbody tr th:only-of-type {\n        vertical-align: middle;\n    }\n\n    .dataframe tbody tr th {\n        vertical-align: top;\n    }\n\n    .dataframe thead th {\n        text-align: right;\n    }\n</style>\n<table border=\"1\" class=\"dataframe\">\n  <thead>\n    <tr style=\"text-align: right;\">\n      <th></th>\n      <th>C</th>\n      <th>H</th>\n      <th>O</th>\n      <th>N</th>\n      <th>P</th>\n      <th>m</th>\n      <th>dbr</th>\n      <th>chem</th>\n    </tr>\n  </thead>\n  <tbody>\n    <tr>\n      <th>7535</th>\n      <td>58</td>\n      <td>267</td>\n      <td>10</td>\n      <td>1</td>\n      <td>1</td>\n      <td>1170.015265</td>\n      <td>-74.0</td>\n      <td>C58 H267 O10 N1 P1</td>\n    </tr>\n    <tr>\n      <th>60486</th>\n      <td>261</td>\n      <td>235</td>\n      <td>10</td>\n      <td>1</td>\n      <td>1</td>\n      <td>3573.764864</td>\n      <td>145.0</td>\n      <td>C261 H235 O10 N1 P1</td>\n    </tr>\n    <tr>\n      <th>65301</th>\n      <td>280</td>\n      <td>91</td>\n      <td>10</td>\n      <td>1</td>\n      <td>1</td>\n      <td>3656.638060</td>\n      <td>236.0</td>\n      <td>C280 H91 O10 N1 P1</td>\n    </tr>\n  </tbody>\n</table>\n</div>",
      "text/plain": "         C    H   O  N  P            m    dbr                  chem\n7535    58  267  10  1  1  1170.015265  -74.0   C58 H267 O10 N1 P1 \n60486  261  235  10  1  1  3573.764864  145.0  C261 H235 O10 N1 P1 \n65301  280   91  10  1  1  3656.638060  236.0   C280 H91 O10 N1 P1 "
     },
     "execution_count": 43,
     "metadata": {},
     "output_type": "execute_result"
    }
   ],
   "source": [
    "fr"
   ]
  },
  {
   "cell_type": "code",
   "execution_count": 61,
   "metadata": {},
   "outputs": [
    {
     "name": "stdout",
     "output_type": "stream",
     "text": "28 ms ± 2.1 ms per loop (mean ± std. dev. of 7 runs, 10 loops each)\n"
    }
   ],
   "source": [
    "%%timeit\n",
    "pr.loc[:, 'key']=0\n",
    "fr.loc[:, 'key']=0\n",
    "in_df = pr.merge(fr, on='key', suffixes=('_pr','_fr') )\n",
    "in_df.drop('key',1, inplace = True)\n",
    "#do some .rename to clean up"
   ]
  },
  {
   "cell_type": "code",
   "execution_count": 53,
   "metadata": {},
   "outputs": [
    {
     "data": {
      "text/html": "<div>\n<style scoped>\n    .dataframe tbody tr th:only-of-type {\n        vertical-align: middle;\n    }\n\n    .dataframe tbody tr th {\n        vertical-align: top;\n    }\n\n    .dataframe thead th {\n        text-align: right;\n    }\n</style>\n<table border=\"1\" class=\"dataframe\">\n  <thead>\n    <tr style=\"text-align: right;\">\n      <th></th>\n      <th>C_pr</th>\n      <th>H_pr</th>\n      <th>O_pr</th>\n      <th>N_pr</th>\n      <th>P_pr</th>\n      <th>m_pr</th>\n      <th>dbr_pr</th>\n      <th>chem_pr</th>\n      <th>C_fr</th>\n      <th>H_fr</th>\n      <th>O_fr</th>\n      <th>N_fr</th>\n      <th>P_fr</th>\n      <th>m_fr</th>\n      <th>dbr_fr</th>\n      <th>chem_fr</th>\n    </tr>\n  </thead>\n  <tbody>\n    <tr>\n      <th>0</th>\n      <td>252</td>\n      <td>127</td>\n      <td>10</td>\n      <td>1</td>\n      <td>1</td>\n      <td>3356.919761</td>\n      <td>190.0</td>\n      <td>C252 H127 O10 N1 P1</td>\n      <td>58</td>\n      <td>267</td>\n      <td>10</td>\n      <td>1</td>\n      <td>1</td>\n      <td>1170.015265</td>\n      <td>-74.0</td>\n      <td>C58 H267 O10 N1 P1</td>\n    </tr>\n    <tr>\n      <th>6</th>\n      <td>259</td>\n      <td>53</td>\n      <td>10</td>\n      <td>1</td>\n      <td>1</td>\n      <td>3366.340708</td>\n      <td>234.0</td>\n      <td>C259 H53 O10 N1 P1</td>\n      <td>58</td>\n      <td>267</td>\n      <td>10</td>\n      <td>1</td>\n      <td>1</td>\n      <td>1170.015265</td>\n      <td>-74.0</td>\n      <td>C58 H267 O10 N1 P1</td>\n    </tr>\n    <tr>\n      <th>12</th>\n      <td>220</td>\n      <td>41</td>\n      <td>10</td>\n      <td>1</td>\n      <td>1</td>\n      <td>2886.246808</td>\n      <td>201.0</td>\n      <td>C220 H41 O10 N1 P1</td>\n      <td>58</td>\n      <td>267</td>\n      <td>10</td>\n      <td>1</td>\n      <td>1</td>\n      <td>1170.015265</td>\n      <td>-74.0</td>\n      <td>C58 H267 O10 N1 P1</td>\n    </tr>\n    <tr>\n      <th>18</th>\n      <td>200</td>\n      <td>63</td>\n      <td>10</td>\n      <td>1</td>\n      <td>1</td>\n      <td>2668.418959</td>\n      <td>170.0</td>\n      <td>C200 H63 O10 N1 P1</td>\n      <td>58</td>\n      <td>267</td>\n      <td>10</td>\n      <td>1</td>\n      <td>1</td>\n      <td>1170.015265</td>\n      <td>-74.0</td>\n      <td>C58 H267 O10 N1 P1</td>\n    </tr>\n    <tr>\n      <th>21</th>\n      <td>282</td>\n      <td>178</td>\n      <td>10</td>\n      <td>1</td>\n      <td>1</td>\n      <td>3768.318837</td>\n      <td>194.5</td>\n      <td>C282 H178 O10 N1 P1</td>\n      <td>58</td>\n      <td>267</td>\n      <td>10</td>\n      <td>1</td>\n      <td>1</td>\n      <td>1170.015265</td>\n      <td>-74.0</td>\n      <td>C58 H267 O10 N1 P1</td>\n    </tr>\n  </tbody>\n</table>\n</div>",
      "text/plain": "    C_pr  H_pr  O_pr  N_pr  P_pr         m_pr  dbr_pr               chem_pr  \\\n0    252   127    10     1     1  3356.919761   190.0  C252 H127 O10 N1 P1    \n6    259    53    10     1     1  3366.340708   234.0   C259 H53 O10 N1 P1    \n12   220    41    10     1     1  2886.246808   201.0   C220 H41 O10 N1 P1    \n18   200    63    10     1     1  2668.418959   170.0   C200 H63 O10 N1 P1    \n21   282   178    10     1     1  3768.318837   194.5  C282 H178 O10 N1 P1    \n\n    C_fr  H_fr  O_fr  N_fr  P_fr         m_fr  dbr_fr              chem_fr  \n0     58   267    10     1     1  1170.015265   -74.0  C58 H267 O10 N1 P1   \n6     58   267    10     1     1  1170.015265   -74.0  C58 H267 O10 N1 P1   \n12    58   267    10     1     1  1170.015265   -74.0  C58 H267 O10 N1 P1   \n18    58   267    10     1     1  1170.015265   -74.0  C58 H267 O10 N1 P1   \n21    58   267    10     1     1  1170.015265   -74.0  C58 H267 O10 N1 P1   "
     },
     "execution_count": 53,
     "metadata": {},
     "output_type": "execute_result"
    }
   ],
   "source": [
    "in_df.query('m_pr / m_fr >=2')"
   ]
  },
  {
   "cell_type": "code",
   "execution_count": null,
   "metadata": {},
   "outputs": [],
   "source": []
  }
 ]
}