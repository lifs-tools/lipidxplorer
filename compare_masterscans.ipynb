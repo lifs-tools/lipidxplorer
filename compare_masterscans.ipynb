{
 "cells": [
  {
   "cell_type": "markdown",
   "metadata": {},
   "source": [
    "# mastercan to datafreame to compare|"
   ]
  },
  {
   "cell_type": "code",
   "execution_count": null,
   "metadata": {},
   "outputs": [],
   "source": [
    "print('hello')"
   ]
  },
  {
   "cell_type": "code",
   "execution_count": null,
   "metadata": {},
   "outputs": [],
   "source": [
    "! dir D:\\fork\\lipidxplorer-evaluation\\190731_benchmark_data_files_infos\\190731_mzML_no_zlib"
   ]
  },
  {
   "cell_type": "code",
   "execution_count": null,
   "metadata": {},
   "outputs": [],
   "source": [
    "left_sc_path = r'D:\\fork\\lipidxplorer-evaluation\\190731_benchmark_data_files_infos\\190731_mzML_no_zlib\\for_paper_from_df.sc'\n",
    "right_sc_path = r'D:\\fork\\lipidxplorer-evaluation\\190731_benchmark_data_files_infos\\190731_mzML_no_zlib\\190731_mzML_no_zlib_128.sc'\n",
    "import pickle\n",
    "import pandas as pd\n",
    "import numpy as np\n",
    "\n",
    "with open(left_sc_path, 'rb') as fh:\n",
    "    left_scan = pickle.load(fh)\n",
    "\n",
    "left_df = pd.DataFrame((se.dictIntensity for se in left_scan.listSurveyEntry))\n",
    "left_df['precurmass'] = [se.precurmass for se in left_scan.listSurveyEntry]\n",
    "#se.listMSMS[0].mass, se.listMSMS[0].dictIntensity\n",
    "\n",
    "left_df.sort_values('precurmass', inplace=True) # for merge_asof\n",
    "left_df['left_mass'] = left_df['precurmass']\n",
    "\n",
    "with open(right_sc_path, 'rb') as fh:\n",
    "    right_scan = pickle.load(fh)\n",
    "\n",
    "right_df = pd.DataFrame((se.dictIntensity for se in right_scan.listSurveyEntry))\n",
    "right_df['precurmass'] = [se.precurmass for se in right_scan.listSurveyEntry]\n",
    "right_df.sort_values('precurmass', inplace=True) # for merge_asof\n",
    "right_df['right_mass'] = right_df['precurmass']\n",
    "df = pd.merge_asof(left_df, right_df, on='precurmass',tolerance = 0.01 )\n",
    "\n",
    "left_cols = left_df.columns[:-2].to_list()\n",
    "right_cols = right_df.columns[:-2].to_list()\n",
    "\n",
    "df.replace(0, np.NaN, inplace=True)"
   ]
  },
  {
   "cell_type": "code",
   "execution_count": null,
   "metadata": {},
   "outputs": [],
   "source": [
    "\n",
    "df"
   ]
  },
  {
   "cell_type": "code",
   "execution_count": null,
   "metadata": {},
   "outputs": [],
   "source": [
    "df['mean_left'] = df.replace(0, np.NaN).loc[:,left_cols].mean(axis=1)\n",
    "df['sum_left'] = df.replace(0, np.NaN).loc[:,left_cols].sum(axis=1)"
   ]
  },
  {
   "cell_type": "code",
   "execution_count": null,
   "metadata": {},
   "outputs": [],
   "source": [
    "df['mean_right'] = df.replace(0, np.NaN).loc[:,right_cols].mean(axis=1)\n",
    "df['sum_right'] = df.replace(0, np.NaN).loc[:,right_cols].sum(axis=1)"
   ]
  },
  {
   "cell_type": "code",
   "execution_count": null,
   "metadata": {},
   "outputs": [],
   "source": [
    "df['lr_ratio']=df['mean_left']/df['mean_right']\n",
    "df['mass_diff'] = (df['left_mass']-df['right_mass']).abs()"
   ]
  },
  {
   "cell_type": "code",
   "execution_count": null,
   "metadata": {},
   "outputs": [],
   "source": [
    "interesting_columns = 'left_mass right_mass\tmean_left\tsum_left\tmean_right\tsum_right\tlr_ratio\tmass_diff'.split()"
   ]
  },
  {
   "cell_type": "code",
   "execution_count": null,
   "metadata": {},
   "outputs": [],
   "source": [
    "df.iloc[df['lr_ratio'].nlargest().index][interesting_columns]"
   ]
  },
  {
   "cell_type": "code",
   "execution_count": null,
   "metadata": {},
   "outputs": [],
   "source": [
    "df.iloc[df['lr_ratio'].nsmallest().index][interesting_columns]"
   ]
  },
  {
   "cell_type": "code",
   "execution_count": null,
   "metadata": {},
   "outputs": [],
   "source": [
    "df.loc[594]"
   ]
  },
  {
   "cell_type": "code",
   "execution_count": null,
   "metadata": {},
   "outputs": [],
   "source": [
    "df.loc[592:596][interesting_columns]"
   ]
  },
  {
   "cell_type": "markdown",
   "metadata": {},
   "source": [
    "# get the og data"
   ]
  },
  {
   "cell_type": "code",
   "execution_count": null,
   "metadata": {},
   "outputs": [],
   "source": [
    "import pickle\n",
    "with open('spectra_dfs.pkl' ,'rb') as fh:\n",
    "    spectra_dfs = pickle.load(fh)"
   ]
  },
  {
   "cell_type": "code",
   "execution_count": null,
   "metadata": {},
   "outputs": [],
   "source": [
    "from LX2_masterscan import add_group_no\n",
    "df = spectra_dfs[2]\n",
    "ms1_peaks = df.loc[df.precursor_id.isna()]\n",
    "occupancy=0.5\n",
    "add_group_no(ms1_peaks, occupancy, cleanup_cols=False)"
   ]
  },
  {
   "cell_type": "code",
   "execution_count": null,
   "metadata": {},
   "outputs": [],
   "source": [
    "ms1_peaks[ms1_peaks.mz.between(577,579)].to_clipboard()"
   ]
  },
  {
   "cell_type": "code",
   "execution_count": null,
   "metadata": {},
   "outputs": [],
   "source": [
    "ms1_peaks[ms1_peaks.group_no== 6947.0].plot.scatter(x='mz', y='inty')"
   ]
  },
  {
   "cell_type": "code",
   "execution_count": null,
   "metadata": {},
   "outputs": [],
   "source": []
  }
 ],
 "metadata": {
  "interpreter": {
   "hash": "dd2dc0883e3e52ae9befafd21e38d2af5267660941e4535445d12b41bacc5e12"
  },
  "kernelspec": {
   "display_name": "Python 3.7.5 ('lx128_p3_dev')",
   "language": "python",
   "name": "python3"
  },
  "language_info": {
   "codemirror_mode": {
    "name": "ipython",
    "version": 3
   },
   "file_extension": ".py",
   "mimetype": "text/x-python",
   "name": "python",
   "nbconvert_exporter": "python",
   "pygments_lexer": "ipython3",
   "version": "3.7.5"
  },
  "orig_nbformat": 4
 },
 "nbformat": 4,
 "nbformat_minor": 2
}
